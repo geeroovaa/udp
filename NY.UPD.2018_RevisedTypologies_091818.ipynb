{
 "cells": [
  {
   "cell_type": "code",
   "execution_count": 1,
   "metadata": {},
   "outputs": [
    {
     "name": "stdout",
     "output_type": "stream",
     "text": [
      "Populating the interactive namespace from numpy and matplotlib\n"
     ]
    }
   ],
   "source": [
    "import pandas as pd\n",
    "import numpy as np\n",
    "import matplotlib.pylab as pl\n",
    "import seaborn as sns\n",
    "\n",
    "%pylab inline"
   ]
  },
  {
   "cell_type": "markdown",
   "metadata": {},
   "source": [
    "# UDPNY 2018 - _phase #2_\n",
    "# _1.2 edition - 06.21.18_\n",
    "## Map of gentrification for the Greater New York area\n",
    "\n",
    "This notebook is the first phase of the project: applying the [Urban Displacement Project (UDP)](http://www.urbandisplacement.org/) methodology, developed for the Bay Area, to the New York Metropolitan area. \n",
    "\n",
    "This code defines the _**8 displacement typologies**_ and assignes each CT to a typology. \n",
    "\n",
    "- [UDP's methodology / displacement typollogies](http://www.urbandisplacement.org/sites/default/files/images/methdology_summary.pdf)"
   ]
  },
  {
   "cell_type": "code",
   "execution_count": 2,
   "metadata": {},
   "outputs": [],
   "source": [
    "df_empd15 = pd.read_csv('empd15.csv')"
   ]
  },
  {
   "cell_type": "code",
   "execution_count": 3,
   "metadata": {},
   "outputs": [],
   "source": [
    "df_tod = pd.read_csv('TOD.csv')"
   ]
  },
  {
   "cell_type": "code",
   "execution_count": 4,
   "metadata": {},
   "outputs": [],
   "source": [
    "df_aram = pd.read_stata(\"UDP_NYC_Variables.dta\")"
   ]
  },
  {
   "cell_type": "code",
   "execution_count": 5,
   "metadata": {},
   "outputs": [],
   "source": [
    "df_ct_90 = pd.read_csv('09_1990_variables.csv')"
   ]
  },
  {
   "cell_type": "code",
   "execution_count": 6,
   "metadata": {},
   "outputs": [],
   "source": [
    "df_ct_00 = pd.read_csv('09_2000_variables.csv')"
   ]
  },
  {
   "cell_type": "code",
   "execution_count": 7,
   "metadata": {},
   "outputs": [],
   "source": [
    "df_ct_10 = pd.read_csv('09_2010_variables.csv')"
   ]
  },
  {
   "cell_type": "code",
   "execution_count": 8,
   "metadata": {},
   "outputs": [],
   "source": [
    "df_ct_16 = pd.read_csv('09_2016_variables.csv')"
   ]
  },
  {
   "cell_type": "code",
   "execution_count": 9,
   "metadata": {},
   "outputs": [],
   "source": [
    "df_ny_90 = pd.read_csv('36_1990_variables.csv')"
   ]
  },
  {
   "cell_type": "code",
   "execution_count": 10,
   "metadata": {},
   "outputs": [],
   "source": [
    "df_ny_00 = pd.read_csv('36_2000_variables.csv')"
   ]
  },
  {
   "cell_type": "code",
   "execution_count": 11,
   "metadata": {},
   "outputs": [],
   "source": [
    "df_ny_10 = pd.read_csv('36_2010_variables.csv')"
   ]
  },
  {
   "cell_type": "code",
   "execution_count": 12,
   "metadata": {},
   "outputs": [],
   "source": [
    "df_ny_16 = pd.read_csv('36_2016_variables.csv')"
   ]
  },
  {
   "cell_type": "code",
   "execution_count": 13,
   "metadata": {},
   "outputs": [],
   "source": [
    "df_nj_90 = pd.read_csv('34_1990_variables.csv')"
   ]
  },
  {
   "cell_type": "code",
   "execution_count": 14,
   "metadata": {},
   "outputs": [],
   "source": [
    "df_nj_10 = pd.read_csv('34_2010_variables.csv')"
   ]
  },
  {
   "cell_type": "code",
   "execution_count": 15,
   "metadata": {},
   "outputs": [],
   "source": [
    "df_nj_00 = pd.read_csv('34_2000_variables.csv')"
   ]
  },
  {
   "cell_type": "code",
   "execution_count": 16,
   "metadata": {},
   "outputs": [],
   "source": [
    "df_nj_16 = pd.read_csv('34_2016_variables.csv')"
   ]
  },
  {
   "cell_type": "code",
   "execution_count": 17,
   "metadata": {},
   "outputs": [],
   "source": [
    "df_ct = df_ct_90.merge(df_ct_00, on = 'GEOid2')"
   ]
  },
  {
   "cell_type": "code",
   "execution_count": 18,
   "metadata": {},
   "outputs": [],
   "source": [
    "df_ct = df_ct.merge(df_ct_10, on = 'GEOid2')"
   ]
  },
  {
   "cell_type": "code",
   "execution_count": 19,
   "metadata": {},
   "outputs": [],
   "source": [
    "df_ct = df_ct.merge(df_ct_16, on = 'GEOid2')"
   ]
  },
  {
   "cell_type": "code",
   "execution_count": 20,
   "metadata": {},
   "outputs": [],
   "source": [
    "df_ny = df_ny_90.merge(df_ny_00, on = 'GEOid2')"
   ]
  },
  {
   "cell_type": "code",
   "execution_count": 21,
   "metadata": {},
   "outputs": [],
   "source": [
    "df_ny = df_ny.merge(df_ny_10, on = 'GEOid2')"
   ]
  },
  {
   "cell_type": "code",
   "execution_count": 22,
   "metadata": {},
   "outputs": [],
   "source": [
    "df_ny = df_ny.merge(df_ny_16, on = 'GEOid2')"
   ]
  },
  {
   "cell_type": "code",
   "execution_count": 23,
   "metadata": {},
   "outputs": [],
   "source": [
    "df_nj = df_nj_90.merge(df_nj_00, on = 'GEOid2')"
   ]
  },
  {
   "cell_type": "code",
   "execution_count": 24,
   "metadata": {},
   "outputs": [],
   "source": [
    "df_nj = df_nj.merge(df_nj_10, on = 'GEOid2')"
   ]
  },
  {
   "cell_type": "code",
   "execution_count": 25,
   "metadata": {},
   "outputs": [],
   "source": [
    "df_nj = df_nj.merge(df_nj_16, on = 'GEOid2')"
   ]
  },
  {
   "cell_type": "code",
   "execution_count": 26,
   "metadata": {},
   "outputs": [],
   "source": [
    "df_ct['hi_mig_16'] = 0\n",
    "df_ct['vhi_mig_16'] = 0\n",
    "df_ct['hi_mig_16_moe'] = 0\n",
    "df_ct['vhi_mig_16_moe'] = 0\n",
    "df_ct['hi_mig_10'] = 0\n",
    "df_ct['vhi_mig_10'] = 0\n",
    "df_ct['hi_mig_10_moe'] = 0\n",
    "df_ct['vhi_mig_10_moe'] = 0"
   ]
  },
  {
   "cell_type": "code",
   "execution_count": 27,
   "metadata": {},
   "outputs": [],
   "source": [
    "df_ny = df_ny.sort_index(axis=1)\n",
    "df_ct = df_ct.sort_index(axis=1)\n",
    "df_nj = df_nj.sort_index(axis=1)"
   ]
  },
  {
   "cell_type": "code",
   "execution_count": 28,
   "metadata": {},
   "outputs": [],
   "source": [
    "df_ny = df_ny.drop(columns = ['NAME_x', 'NAME_y', 'county_x', 'county_y', 'state_x', 'state_y'])"
   ]
  },
  {
   "cell_type": "code",
   "execution_count": 29,
   "metadata": {},
   "outputs": [],
   "source": [
    "df_ct = df_ct.drop(columns = ['NAME_x', 'NAME_y', 'county_x', 'county_y', 'state_x', 'state_y'])"
   ]
  },
  {
   "cell_type": "code",
   "execution_count": 30,
   "metadata": {},
   "outputs": [],
   "source": [
    "df_nj = df_nj.drop(columns = ['NAME_x', 'NAME_y', 'county_x', 'county_y', 'state_x', 'state_y'])"
   ]
  },
  {
   "cell_type": "code",
   "execution_count": 31,
   "metadata": {},
   "outputs": [],
   "source": [
    "df_ny = df_ny.reset_index().drop(columns='index')\n",
    "df_nj = df_nj.reset_index().drop(columns='index')\n",
    "df_ct = df_ct.reset_index().drop(columns='index')"
   ]
  },
  {
   "cell_type": "code",
   "execution_count": 32,
   "metadata": {},
   "outputs": [],
   "source": [
    "data = pd.concat([df_nj, df_ny, df_ct],axis=0)"
   ]
  },
  {
   "cell_type": "code",
   "execution_count": 33,
   "metadata": {},
   "outputs": [],
   "source": [
    "data = data.reset_index().drop(columns='index')"
   ]
  },
  {
   "cell_type": "code",
   "execution_count": 34,
   "metadata": {},
   "outputs": [],
   "source": [
    "data['TOD'] = data.merge(df_tod, how='inner', left_on='GEOid2',right_on='GEOID').TOD"
   ]
  },
  {
   "cell_type": "code",
   "execution_count": 35,
   "metadata": {},
   "outputs": [],
   "source": [
    "data = data.merge(df_empd15, how='inner', on='GEOid2')"
   ]
  },
  {
   "cell_type": "code",
   "execution_count": 36,
   "metadata": {},
   "outputs": [],
   "source": [
    "data = data.drop('Unnamed: 0',axis=1)"
   ]
  },
  {
   "cell_type": "code",
   "execution_count": 37,
   "metadata": {},
   "outputs": [],
   "source": [
    "df_aram['GEOid2'] = df_aram['GEOid2'].apply(lambda x: int(x))"
   ]
  },
  {
   "cell_type": "code",
   "execution_count": 38,
   "metadata": {},
   "outputs": [],
   "source": [
    "df_compare = df_aram.merge(data, how='inner', on='GEOid2')"
   ]
  },
  {
   "cell_type": "code",
   "execution_count": 39,
   "metadata": {},
   "outputs": [],
   "source": [
    "binsize=50"
   ]
  },
  {
   "cell_type": "code",
   "execution_count": 40,
   "metadata": {},
   "outputs": [],
   "source": [
    "df_compare = df_compare[(df_compare.vli2000!=0)&(df_compare.li2000!=0)&(df_compare.mi2000!=0)&\n",
    "                        (df_compare.hmi2000!=0)&(df_compare.hi2000!=0)&(df_compare.vhi2000!=0)]\n",
    "df_compare = df_compare[(df_compare.vli1990!=0)&(df_compare.li1990!=0)&(df_compare.mi1990!=0)&\n",
    "                        (df_compare.hmi1990!=0)&(df_compare.hi1990!=0)&(df_compare.vhi1990!=0)]\n",
    "df_compare = df_compare[(df_compare.vli2016!=0)&(df_compare.li2016!=0)&(df_compare.mi2016!=0)&\n",
    "                        (df_compare.hmi2016!=0)&(df_compare.hi2016!=0)&(df_compare.vhi2016!=0)]"
   ]
  },
  {
   "cell_type": "code",
   "execution_count": 41,
   "metadata": {},
   "outputs": [
    {
     "data": {
      "text/plain": [
       "(-400, 200)"
      ]
     },
     "execution_count": 41,
     "metadata": {},
     "output_type": "execute_result"
    },
    {
     "data": {
      "image/png": "[encoded data removed]",
      "text/plain": [
       "<Figure size 432x288 with 1 Axes>"
      ]
     },
     "metadata": {},
     "output_type": "display_data"
    }
   ],
   "source": [
    "(((df_compare['vli2000']-df_compare['vli_00']).divide(df_compare['vli2000']))*100).hist(alpha=0.5, bins=binsize)\n",
    "(((df_compare['li2000']-df_compare['li_00']).divide(df_compare['li2000']))*100).hist(alpha=0.5, bins=binsize)\n",
    "(((df_compare['mi2000']-df_compare['mi_00']).divide(df_compare['mi2000']))*100).hist(alpha=0.5, bins=binsize,color='red')\n",
    "(((df_compare['hmi2000']-df_compare['mhi_00']).divide(df_compare['hmi2000']))*100).hist(alpha=0.5, bins=binsize, color='green')\n",
    "(((df_compare['hi2000']-df_compare['hi_00']).divide(df_compare['hi2000']))*100).hist(alpha=0.3, bins=binsize, color='blue')\n",
    "(((df_compare['vhi2000']-df_compare['vhi_00']).divide(df_compare['vhi2000']))*100).hist(alpha=0.5, bins=binsize, color='yellow')\n",
    "pl.xlim([-400,200])"
   ]
  },
  {
   "cell_type": "code",
   "execution_count": 42,
   "metadata": {},
   "outputs": [
    {
     "data": {
      "text/plain": [
       "(-400, 200)"
      ]
     },
     "execution_count": 42,
     "metadata": {},
     "output_type": "execute_result"
    },
    {
     "data": {
      "image/png": "[encoded data removed]",
      "text/plain": [
       "<Figure size 432x288 with 1 Axes>"
      ]
     },
     "metadata": {},
     "output_type": "display_data"
    }
   ],
   "source": [
    "(((df_compare['vli1990']-df_compare['vli_90']).divide(df_compare['vli1990']))*100).hist(alpha=0.5, bins=binsize)\n",
    "(((df_compare['li1990']-df_compare['li_90']).divide(df_compare['li1990']))*100).hist(alpha=0.5,bins=binsize)\n",
    "(((df_compare['mi1990']-df_compare['mi_90']).divide(df_compare['mi1990']))*100).hist(alpha=0.5, bins=400, color='red')\n",
    "(((df_compare['hmi1990']-df_compare['mhi_90']).divide(df_compare['hmi1990']))*100).hist(alpha=0.5, bins=400, color='green')\n",
    "(((df_compare['hi1990']-df_compare['hi_90']).divide(df_compare['hi1990']+0.0001))*100).hist(alpha=0.5, bins=binsize,color='blue')\n",
    "(((df_compare['vhi1990']-df_compare['vhi_90']).divide(df_compare['vhi1990']+0.0001))*100).hist(alpha=0.5, bins=binsize, color='yellow')\n",
    "pl.xlim([-400,200])"
   ]
  },
  {
   "cell_type": "code",
   "execution_count": 43,
   "metadata": {},
   "outputs": [
    {
     "data": {
      "text/plain": [
       "(-400, 200)"
      ]
     },
     "execution_count": 43,
     "metadata": {},
     "output_type": "execute_result"
    },
    {
     "data": {
      "image/png": "[encoded data removed]",
      "text/plain": [
       "<Figure size 432x288 with 1 Axes>"
      ]
     },
     "metadata": {},
     "output_type": "display_data"
    }
   ],
   "source": [
    "(((df_compare['vli2016']-df_compare['vli_16']).divide(df_compare['vli2016']))*100).hist(alpha=0.5,bins=binsize)\n",
    "(((df_compare['li2016']-df_compare['li_16']).divide(df_compare['li2016']))*100).hist(alpha=0.5,bins=binsize)\n",
    "(((df_compare['mi2016']-df_compare['mi_16']).divide(df_compare['mi2016']))*100).hist(alpha=0.5,bins=binsize, color='red')\n",
    "(((df_compare['hmi2016']-df_compare['mhi_16']).divide(df_compare['hmi2016']))*100).hist(alpha=0.5, bins=400, color='green')\n",
    "(((df_compare['hi2016']-df_compare['hi_16']).divide(df_compare['hi2016']+0.0001))*100).hist(alpha=0.5, bins=binsize, color='blue')\n",
    "(((df_compare['vhi2016']-df_compare['vhi_16']).divide(df_compare['vhi2016']+0.0001))*100).hist(alpha=0.5, bins=binsize, color='yellow')\n",
    "pl.xlim([-400,200])"
   ]
  },
  {
   "cell_type": "markdown",
   "metadata": {},
   "source": [
    "## Dropping CT with population less than 500 (2016)"
   ]
  },
  {
   "cell_type": "code",
   "execution_count": 44,
   "metadata": {},
   "outputs": [],
   "source": [
    "data = data[data['pop_16'] > 500]"
   ]
  },
  {
   "cell_type": "markdown",
   "metadata": {},
   "source": [
    "### There are 6070 CT with population larger than 500 in 2016"
   ]
  },
  {
   "cell_type": "code",
   "execution_count": 45,
   "metadata": {},
   "outputs": [
    {
     "data": {
      "text/plain": [
       "6056"
      ]
     },
     "execution_count": 45,
     "metadata": {},
     "output_type": "execute_result"
    }
   ],
   "source": [
    "len(data)"
   ]
  },
  {
   "cell_type": "markdown",
   "metadata": {},
   "source": [
    "## Dropping CT with more than 5 'Null' columns "
   ]
  },
  {
   "cell_type": "code",
   "execution_count": 46,
   "metadata": {
    "scrolled": false
   },
   "outputs": [
    {
     "data": {
      "text/plain": [
       "(6056, 98)"
      ]
     },
     "execution_count": 46,
     "metadata": {},
     "output_type": "execute_result"
    }
   ],
   "source": [
    "data = data[data.isnull().sum(axis=1) <= 5]\n",
    "data.shape"
   ]
  },
  {
   "cell_type": "markdown",
   "metadata": {},
   "source": [
    "----\n",
    "## Calculating coefficient of variation of MOE\n",
    "If any individual variable is missing, then the whole typology is missing.\n",
    "\n",
    "**Tracts with a coefficient of variation > 20% on several key 2015 variables are flagged and determined unreliable:**\n",
    "- Population -- V\n",
    "- Housing units -- V\n",
    "- Median rent -- V\n",
    "- Median home value -- V\n",
    "- Median income\n",
    "- College count\n",
    "- Renter count -- V"
   ]
  },
  {
   "cell_type": "markdown",
   "metadata": {},
   "source": [
    "### Population"
   ]
  },
  {
   "cell_type": "code",
   "execution_count": 47,
   "metadata": {},
   "outputs": [],
   "source": [
    "data = data[(data.pop_16_moe / 1.645 ) / data.pop_16 <= 0.3]"
   ]
  },
  {
   "cell_type": "markdown",
   "metadata": {},
   "source": [
    "### Housing Units"
   ]
  },
  {
   "cell_type": "code",
   "execution_count": 48,
   "metadata": {
    "scrolled": true
   },
   "outputs": [],
   "source": [
    "data = data[(data.hu_16_moe / 1.645 ) / data.hu_16 <= 0.3]"
   ]
  },
  {
   "cell_type": "code",
   "execution_count": 49,
   "metadata": {},
   "outputs": [
    {
     "data": {
      "text/plain": [
       "(6054, 98)"
      ]
     },
     "execution_count": 49,
     "metadata": {},
     "output_type": "execute_result"
    }
   ],
   "source": [
    "data.shape"
   ]
  },
  {
   "cell_type": "markdown",
   "metadata": {},
   "source": [
    "### Renter counts, Median rent, Median home value"
   ]
  },
  {
   "cell_type": "code",
   "execution_count": null,
   "metadata": {},
   "outputs": [],
   "source": []
  },
  {
   "cell_type": "code",
   "execution_count": 50,
   "metadata": {},
   "outputs": [
    {
     "data": {
      "text/plain": [
       "Index(['GEOid2', 'hh_00', 'hh_16', 'hh_16_moe', 'hh_90', 'hi_00', 'hi_16',\n",
       "       'hi_16_moe', 'hi_90', 'hi_mig_10', 'hi_mig_10_moe', 'hi_mig_16',\n",
       "       'hi_mig_16_moe', 'hinc_00', 'hinc_16', 'hinc_16_moe', 'hinc_90',\n",
       "       'hu_00', 'hu_16', 'hu_16_moe', 'hu_90', 'li_00', 'li_16', 'li_16_moe',\n",
       "       'li_90', 'li_mig_10', 'li_mig_10_moe', 'li_mig_16', 'li_mig_16_moe',\n",
       "       'mhi_00', 'mhi_16', 'mhi_16_moe', 'mhi_90', 'mhi_mig_10',\n",
       "       'mhi_mig_10_moe', 'mhi_mig_16', 'mhi_mig_16_moe', 'mhval_00',\n",
       "       'mhval_16', 'mhval_16_moe', 'mhval_90', 'mi_00', 'mi_16', 'mi_16_moe',\n",
       "       'mi_90', 'mi_mig_10', 'mi_mig_10_moe', 'mi_mig_16', 'mi_mig_16_moe',\n",
       "       'mrent_00', 'mrent_16', 'mrent_16_moe', 'mrent_90', 'per_all_li_mig_10',\n",
       "       'per_all_li_mig_16', 'per_col_00', 'per_col_16', 'per_col_16_moe',\n",
       "       'per_col_90', 'per_nonwhite_00', 'per_nonwhite_16',\n",
       "       'per_nonwhite_16_moe', 'per_nonwhite_90', 'per_owners_00',\n",
       "       'per_owners_16', 'per_owners_16_moe', 'per_owners_90', 'per_rent_00',\n",
       "       'per_rent_16', 'per_rent_16_moe', 'per_rent_90', 'per_units_pre50',\n",
       "       'pop_00', 'pop_16', 'pop_16_moe', 'pop_90', 'tract_x', 'tract_x',\n",
       "       'tract_y', 'tract_y', 'vhi_00', 'vhi_16', 'vhi_16_moe', 'vhi_90',\n",
       "       'vhi_mig_10', 'vhi_mig_10_moe', 'vhi_mig_16', 'vhi_mig_16_moe',\n",
       "       'vli_00', 'vli_16', 'vli_16_moe', 'vli_90', 'vli_mig_10',\n",
       "       'vli_mig_10_moe', 'vli_mig_16', 'vli_mig_16_moe', 'TOD', 'empd15'],\n",
       "      dtype='object')"
      ]
     },
     "execution_count": 50,
     "metadata": {},
     "output_type": "execute_result"
    }
   ],
   "source": [
    "data.columns"
   ]
  },
  {
   "cell_type": "code",
   "execution_count": 51,
   "metadata": {},
   "outputs": [],
   "source": [
    "# dividing data to ct with majority of renters vs homeowners\n",
    "datarent = data[data.per_rent_16 > 0.5]\n",
    "dataowner = data[data.per_rent_16 <= 0.5]"
   ]
  },
  {
   "cell_type": "markdown",
   "metadata": {},
   "source": [
    "# Renter count, ownership counts\n",
    "datarent = datarent[(datarent.moe_renter16 / 1.645)  / datarent.rhu16 <= 0.3]\n",
    "dataowner = dataowner[(dataowner.moe_owner16 / 1.645 ) / dataowner.ohu16 <= 0.3]\n",
    "\n",
    "# Median rent, Median home value\n",
    "datarent = datarent[(datarent.moe_mrent16 / 1.645)  / datarent.mrent16 <= 0.3]\n",
    "dataowner = dataowner[(dataowner.moe_mhval16 / 1.645 ) / dataowner.mhval16 <= 0.3]\n",
    "\n",
    "# concatenating two datasets back to 'data'\n",
    "data = [dataowner, datarent]\n",
    "data = pd.concat(data)\n",
    "data.shape"
   ]
  },
  {
   "cell_type": "markdown",
   "metadata": {},
   "source": [
    "### Median income -- no MOE in the data!"
   ]
  },
  {
   "cell_type": "code",
   "execution_count": 52,
   "metadata": {},
   "outputs": [],
   "source": [
    "# ----"
   ]
  },
  {
   "cell_type": "markdown",
   "metadata": {},
   "source": [
    "### Bachelors count"
   ]
  },
  {
   "cell_type": "markdown",
   "metadata": {},
   "source": [
    "data = data[(data.moe_bachelors / 1.645 ) / data.bachelors <= 0.3]\n",
    "data.shape"
   ]
  },
  {
   "cell_type": "markdown",
   "metadata": {},
   "source": [
    "## 4,758 CT were found valid for the analysis -- 8.3% were dropped."
   ]
  },
  {
   "cell_type": "code",
   "execution_count": 53,
   "metadata": {},
   "outputs": [
    {
     "data": {
      "text/plain": [
       "0.08359013867488443"
      ]
     },
     "execution_count": 53,
     "metadata": {},
     "output_type": "execute_result"
    }
   ],
   "source": [
    "(5192-4758) / 5192"
   ]
  },
  {
   "cell_type": "markdown",
   "metadata": {},
   "source": [
    "### College count"
   ]
  },
  {
   "cell_type": "code",
   "execution_count": 54,
   "metadata": {},
   "outputs": [],
   "source": [
    "# bachelors',\n",
    "#  'moe_bachelors',\n",
    "#  'masters',\n",
    "#  'moe_masters',\n",
    "#  'professional',\n",
    "#  'moe_professionals',\n",
    "#  'doctorate',\n",
    "#  'moe_doctorates"
   ]
  },
  {
   "cell_type": "markdown",
   "metadata": {},
   "source": [
    "(((data.moe_doctorates / 1.645 ) / data.doctorate) > 0.2).value_counts()"
   ]
  },
  {
   "cell_type": "markdown",
   "metadata": {},
   "source": [
    "----\n",
    "# _8 Typologies_ to be generated to the displacement map:\n",
    "The typologies are:\n",
    "\n",
    "### Low Income:\n",
    "1. VLI - Highly Vulnerable >> _**an additional layer on top of assigned typologies**_\n",
    "2. LI - Stable (Not Losing Low-Income Households)\n",
    "3. LI - At Risk of Gentrification \n",
    "4. LI - Ongoing Gentrification \n",
    "\n",
    "### Moderate to High Income:\n",
    "5. MHI - Advanced / Completed Gentrification\n",
    "6. MHI - Stable (Not Losing Low-Income Households)\n",
    "7. MHI - At Risk of Exclusion\n",
    "8. MHI - Exclusion "
   ]
  },
  {
   "cell_type": "code",
   "execution_count": 55,
   "metadata": {
    "scrolled": false
   },
   "outputs": [
    {
     "data": {
      "text/plain": [
       "(6054, 98)"
      ]
     },
     "execution_count": 55,
     "metadata": {},
     "output_type": "execute_result"
    }
   ],
   "source": [
    "data.shape"
   ]
  },
  {
   "cell_type": "code",
   "execution_count": 56,
   "metadata": {
    "scrolled": true
   },
   "outputs": [
    {
     "name": "stdout",
     "output_type": "stream",
     "text": [
      "4174.174925668979\n",
      "1864.2354117803561\n"
     ]
    }
   ],
   "source": [
    "print(data['pop_16'].mean())\n",
    "print(data['pop_16'].std())"
   ]
  },
  {
   "cell_type": "markdown",
   "metadata": {},
   "source": [
    "# Create necessary variables:"
   ]
  },
  {
   "cell_type": "markdown",
   "metadata": {},
   "source": [
    "## VLI - Very Low Income tract\n",
    "- vhi2016"
   ]
  },
  {
   "cell_type": "code",
   "execution_count": 57,
   "metadata": {},
   "outputs": [
    {
     "data": {
      "text/plain": [
       "0    0.066628\n",
       "1    0.214115\n",
       "2    0.049244\n",
       "3    0.105358\n",
       "4    0.050739\n",
       "Name: vhi_16, dtype: float64"
      ]
     },
     "execution_count": 57,
     "metadata": {},
     "output_type": "execute_result"
    }
   ],
   "source": [
    "data.vhi_16.head()"
   ]
  },
  {
   "cell_type": "code",
   "execution_count": 58,
   "metadata": {},
   "outputs": [
    {
     "name": "stdout",
     "output_type": "stream",
     "text": [
      "the median of very low income and very low income households at the year 2016 from total households, of all census tracts is: 0.23643951062679655\n"
     ]
    }
   ],
   "source": [
    "# Calculating median for vli and vli % of all hh in tract\n",
    "\n",
    "median_vli = data['vli_16'].median()\n",
    "print(\"the median of very low income and very low income households at the year 2016 from total households, \"  \n",
    "      \"of all census tracts is:\", median_vli)"
   ]
  },
  {
   "cell_type": "code",
   "execution_count": 59,
   "metadata": {},
   "outputs": [
    {
     "data": {
      "text/plain": [
       "0    5616\n",
       "1     438\n",
       "Name: vli_tract16, dtype: int64"
      ]
     },
     "execution_count": 59,
     "metadata": {},
     "output_type": "execute_result"
    }
   ],
   "source": [
    "# VLI tract (2016)\n",
    "\n",
    "data['vli_tract16'] = np.where(data['vli_16'] > 0.5, 1, 0)\n",
    "data['vli_tract16'].value_counts()"
   ]
  },
  {
   "cell_type": "markdown",
   "metadata": {},
   "source": [
    "## Low Income tract\n",
    "- calculate the median % of all tracts\n",
    "- Binary output (0 == low income tract; 1 = not a low income tract)"
   ]
  },
  {
   "cell_type": "code",
   "execution_count": 60,
   "metadata": {},
   "outputs": [
    {
     "data": {
      "text/html": [
       "<div>\n",
       "<style scoped>\n",
       "    .dataframe tbody tr th:only-of-type {\n",
       "        vertical-align: middle;\n",
       "    }\n",
       "\n",
       "    .dataframe tbody tr th {\n",
       "        vertical-align: top;\n",
       "    }\n",
       "\n",
       "    .dataframe thead th {\n",
       "        text-align: right;\n",
       "    }\n",
       "</style>\n",
       "<table border=\"1\" class=\"dataframe\">\n",
       "  <thead>\n",
       "    <tr style=\"text-align: right;\">\n",
       "      <th></th>\n",
       "      <th>per_nonwhite_16_moe</th>\n",
       "      <th>per_nonwhite_90</th>\n",
       "    </tr>\n",
       "  </thead>\n",
       "  <tbody>\n",
       "    <tr>\n",
       "      <th>0</th>\n",
       "      <td>0.208673</td>\n",
       "      <td>0.0</td>\n",
       "    </tr>\n",
       "    <tr>\n",
       "      <th>1</th>\n",
       "      <td>0.102635</td>\n",
       "      <td>0.0</td>\n",
       "    </tr>\n",
       "    <tr>\n",
       "      <th>2</th>\n",
       "      <td>0.172449</td>\n",
       "      <td>0.0</td>\n",
       "    </tr>\n",
       "    <tr>\n",
       "      <th>3</th>\n",
       "      <td>0.173350</td>\n",
       "      <td>0.0</td>\n",
       "    </tr>\n",
       "    <tr>\n",
       "      <th>4</th>\n",
       "      <td>0.238221</td>\n",
       "      <td>0.0</td>\n",
       "    </tr>\n",
       "  </tbody>\n",
       "</table>\n",
       "</div>"
      ],
      "text/plain": [
       "   per_nonwhite_16_moe  per_nonwhite_90\n",
       "0             0.208673              0.0\n",
       "1             0.102635              0.0\n",
       "2             0.172449              0.0\n",
       "3             0.173350              0.0\n",
       "4             0.238221              0.0"
      ]
     },
     "execution_count": 60,
     "metadata": {},
     "output_type": "execute_result"
    }
   ],
   "source": [
    "data.iloc[:,61:63].head()"
   ]
  },
  {
   "cell_type": "code",
   "execution_count": 61,
   "metadata": {},
   "outputs": [
    {
     "data": {
      "text/plain": [
       "Index(['GEOid2', 'hh_00', 'hh_16', 'hh_16_moe', 'hh_90', 'hi_00', 'hi_16',\n",
       "       'hi_16_moe', 'hi_90', 'hi_mig_10', 'hi_mig_10_moe', 'hi_mig_16',\n",
       "       'hi_mig_16_moe', 'hinc_00', 'hinc_16', 'hinc_16_moe', 'hinc_90',\n",
       "       'hu_00', 'hu_16', 'hu_16_moe', 'hu_90', 'li_00', 'li_16', 'li_16_moe',\n",
       "       'li_90', 'li_mig_10', 'li_mig_10_moe', 'li_mig_16', 'li_mig_16_moe',\n",
       "       'mhi_00', 'mhi_16', 'mhi_16_moe', 'mhi_90', 'mhi_mig_10',\n",
       "       'mhi_mig_10_moe', 'mhi_mig_16', 'mhi_mig_16_moe', 'mhval_00',\n",
       "       'mhval_16', 'mhval_16_moe', 'mhval_90', 'mi_00', 'mi_16', 'mi_16_moe',\n",
       "       'mi_90', 'mi_mig_10', 'mi_mig_10_moe', 'mi_mig_16', 'mi_mig_16_moe',\n",
       "       'mrent_00', 'mrent_16', 'mrent_16_moe', 'mrent_90', 'per_all_li_mig_10',\n",
       "       'per_all_li_mig_16', 'per_col_00', 'per_col_16', 'per_col_16_moe',\n",
       "       'per_col_90', 'per_nonwhite_00', 'per_nonwhite_16',\n",
       "       'per_nonwhite_16_moe', 'per_nonwhite_90', 'per_owners_00',\n",
       "       'per_owners_16', 'per_owners_16_moe', 'per_owners_90', 'per_rent_00',\n",
       "       'per_rent_16', 'per_rent_16_moe', 'per_rent_90', 'per_units_pre50',\n",
       "       'pop_00', 'pop_16', 'pop_16_moe', 'pop_90', 'tract_x', 'tract_x',\n",
       "       'tract_y', 'tract_y', 'vhi_00', 'vhi_16', 'vhi_16_moe', 'vhi_90',\n",
       "       'vhi_mig_10', 'vhi_mig_10_moe', 'vhi_mig_16', 'vhi_mig_16_moe',\n",
       "       'vli_00', 'vli_16', 'vli_16_moe', 'vli_90', 'vli_mig_10',\n",
       "       'vli_mig_10_moe', 'vli_mig_16', 'vli_mig_16_moe', 'TOD', 'empd15',\n",
       "       'vli_tract16'],\n",
       "      dtype='object')"
      ]
     },
     "execution_count": 61,
     "metadata": {},
     "output_type": "execute_result"
    }
   ],
   "source": [
    "data.columns"
   ]
  },
  {
   "cell_type": "code",
   "execution_count": 62,
   "metadata": {},
   "outputs": [
    {
     "name": "stdout",
     "output_type": "stream",
     "text": [
      "the median of low income and very low income households at the year 2016 from total households, of all census tracts is: 0.3864030641219126\n"
     ]
    }
   ],
   "source": [
    "# Calculating median for li and vli % of all hh in tract\n",
    "\n",
    "medianli = data['vli_16'].median() + data['li_16'].median()\n",
    "print(\"the median of low income and very low income households at the year 2016 from total households, \"  \n",
    "      \"of all census tracts is:\", medianli)"
   ]
  },
  {
   "cell_type": "code",
   "execution_count": 63,
   "metadata": {},
   "outputs": [
    {
     "data": {
      "text/plain": [
       "0.23643951062679655"
      ]
     },
     "execution_count": 63,
     "metadata": {},
     "output_type": "execute_result"
    }
   ],
   "source": [
    "data['vli_16'].median()"
   ]
  },
  {
   "cell_type": "code",
   "execution_count": 64,
   "metadata": {
    "scrolled": true
   },
   "outputs": [
    {
     "data": {
      "text/html": [
       "<div>\n",
       "<style scoped>\n",
       "    .dataframe tbody tr th:only-of-type {\n",
       "        vertical-align: middle;\n",
       "    }\n",
       "\n",
       "    .dataframe tbody tr th {\n",
       "        vertical-align: top;\n",
       "    }\n",
       "\n",
       "    .dataframe thead th {\n",
       "        text-align: right;\n",
       "    }\n",
       "</style>\n",
       "<table border=\"1\" class=\"dataframe\">\n",
       "  <thead>\n",
       "    <tr style=\"text-align: right;\">\n",
       "      <th></th>\n",
       "      <th>li_tract16</th>\n",
       "    </tr>\n",
       "  </thead>\n",
       "  <tbody>\n",
       "    <tr>\n",
       "      <th>0</th>\n",
       "      <td>1</td>\n",
       "    </tr>\n",
       "    <tr>\n",
       "      <th>1</th>\n",
       "      <td>1</td>\n",
       "    </tr>\n",
       "    <tr>\n",
       "      <th>2</th>\n",
       "      <td>1</td>\n",
       "    </tr>\n",
       "    <tr>\n",
       "      <th>3</th>\n",
       "      <td>1</td>\n",
       "    </tr>\n",
       "    <tr>\n",
       "      <th>4</th>\n",
       "      <td>1</td>\n",
       "    </tr>\n",
       "    <tr>\n",
       "      <th>5</th>\n",
       "      <td>1</td>\n",
       "    </tr>\n",
       "    <tr>\n",
       "      <th>6</th>\n",
       "      <td>1</td>\n",
       "    </tr>\n",
       "    <tr>\n",
       "      <th>7</th>\n",
       "      <td>1</td>\n",
       "    </tr>\n",
       "    <tr>\n",
       "      <th>8</th>\n",
       "      <td>1</td>\n",
       "    </tr>\n",
       "    <tr>\n",
       "      <th>9</th>\n",
       "      <td>1</td>\n",
       "    </tr>\n",
       "  </tbody>\n",
       "</table>\n",
       "</div>"
      ],
      "text/plain": [
       "   li_tract16\n",
       "0           1\n",
       "1           1\n",
       "2           1\n",
       "3           1\n",
       "4           1\n",
       "5           1\n",
       "6           1\n",
       "7           1\n",
       "8           1\n",
       "9           1"
      ]
     },
     "execution_count": 64,
     "metadata": {},
     "output_type": "execute_result"
    }
   ],
   "source": [
    "# 2016\n",
    "\n",
    "data['li_tract16'] = np.where(data['vli_16'] + data['li_16'] > medianli, 1, 0)\n",
    "data.iloc[:,-1:].head(10)"
   ]
  },
  {
   "cell_type": "code",
   "execution_count": 65,
   "metadata": {},
   "outputs": [
    {
     "data": {
      "text/plain": [
       "1    3205\n",
       "0    2849\n",
       "Name: li_tract16, dtype: int64"
      ]
     },
     "execution_count": 65,
     "metadata": {},
     "output_type": "execute_result"
    }
   ],
   "source": [
    "data['li_tract16'].value_counts()"
   ]
  },
  {
   "cell_type": "code",
   "execution_count": 66,
   "metadata": {},
   "outputs": [
    {
     "data": {
      "text/html": [
       "<div>\n",
       "<style scoped>\n",
       "    .dataframe tbody tr th:only-of-type {\n",
       "        vertical-align: middle;\n",
       "    }\n",
       "\n",
       "    .dataframe tbody tr th {\n",
       "        vertical-align: top;\n",
       "    }\n",
       "\n",
       "    .dataframe thead th {\n",
       "        text-align: right;\n",
       "    }\n",
       "</style>\n",
       "<table border=\"1\" class=\"dataframe\">\n",
       "  <thead>\n",
       "    <tr style=\"text-align: right;\">\n",
       "      <th></th>\n",
       "      <th>li_tract16</th>\n",
       "      <th>li_tract00</th>\n",
       "    </tr>\n",
       "  </thead>\n",
       "  <tbody>\n",
       "    <tr>\n",
       "      <th>0</th>\n",
       "      <td>1</td>\n",
       "      <td>1</td>\n",
       "    </tr>\n",
       "    <tr>\n",
       "      <th>1</th>\n",
       "      <td>1</td>\n",
       "      <td>1</td>\n",
       "    </tr>\n",
       "    <tr>\n",
       "      <th>2</th>\n",
       "      <td>1</td>\n",
       "      <td>1</td>\n",
       "    </tr>\n",
       "    <tr>\n",
       "      <th>3</th>\n",
       "      <td>1</td>\n",
       "      <td>1</td>\n",
       "    </tr>\n",
       "    <tr>\n",
       "      <th>4</th>\n",
       "      <td>1</td>\n",
       "      <td>1</td>\n",
       "    </tr>\n",
       "    <tr>\n",
       "      <th>5</th>\n",
       "      <td>1</td>\n",
       "      <td>1</td>\n",
       "    </tr>\n",
       "    <tr>\n",
       "      <th>6</th>\n",
       "      <td>1</td>\n",
       "      <td>1</td>\n",
       "    </tr>\n",
       "    <tr>\n",
       "      <th>7</th>\n",
       "      <td>1</td>\n",
       "      <td>1</td>\n",
       "    </tr>\n",
       "    <tr>\n",
       "      <th>8</th>\n",
       "      <td>1</td>\n",
       "      <td>1</td>\n",
       "    </tr>\n",
       "    <tr>\n",
       "      <th>9</th>\n",
       "      <td>1</td>\n",
       "      <td>1</td>\n",
       "    </tr>\n",
       "  </tbody>\n",
       "</table>\n",
       "</div>"
      ],
      "text/plain": [
       "   li_tract16  li_tract00\n",
       "0           1           1\n",
       "1           1           1\n",
       "2           1           1\n",
       "3           1           1\n",
       "4           1           1\n",
       "5           1           1\n",
       "6           1           1\n",
       "7           1           1\n",
       "8           1           1\n",
       "9           1           1"
      ]
     },
     "execution_count": 66,
     "metadata": {},
     "output_type": "execute_result"
    }
   ],
   "source": [
    "# 2000\n",
    "\n",
    "data['li_tract00'] = np.where(data['vli_00']+data['li_00'] > (data['vli_00'].median() + data['li_00'].median()), 1, 0)\n",
    "data.iloc[:,-2:].head(10)"
   ]
  },
  {
   "cell_type": "code",
   "execution_count": 67,
   "metadata": {},
   "outputs": [
    {
     "data": {
      "text/html": [
       "<div>\n",
       "<style scoped>\n",
       "    .dataframe tbody tr th:only-of-type {\n",
       "        vertical-align: middle;\n",
       "    }\n",
       "\n",
       "    .dataframe tbody tr th {\n",
       "        vertical-align: top;\n",
       "    }\n",
       "\n",
       "    .dataframe thead th {\n",
       "        text-align: right;\n",
       "    }\n",
       "</style>\n",
       "<table border=\"1\" class=\"dataframe\">\n",
       "  <thead>\n",
       "    <tr style=\"text-align: right;\">\n",
       "      <th></th>\n",
       "      <th>li_tract16</th>\n",
       "      <th>li_tract00</th>\n",
       "      <th>li_tract90</th>\n",
       "    </tr>\n",
       "  </thead>\n",
       "  <tbody>\n",
       "    <tr>\n",
       "      <th>0</th>\n",
       "      <td>1</td>\n",
       "      <td>1</td>\n",
       "      <td>1</td>\n",
       "    </tr>\n",
       "    <tr>\n",
       "      <th>1</th>\n",
       "      <td>1</td>\n",
       "      <td>1</td>\n",
       "      <td>0</td>\n",
       "    </tr>\n",
       "    <tr>\n",
       "      <th>2</th>\n",
       "      <td>1</td>\n",
       "      <td>1</td>\n",
       "      <td>1</td>\n",
       "    </tr>\n",
       "    <tr>\n",
       "      <th>3</th>\n",
       "      <td>1</td>\n",
       "      <td>1</td>\n",
       "      <td>1</td>\n",
       "    </tr>\n",
       "    <tr>\n",
       "      <th>4</th>\n",
       "      <td>1</td>\n",
       "      <td>1</td>\n",
       "      <td>1</td>\n",
       "    </tr>\n",
       "    <tr>\n",
       "      <th>5</th>\n",
       "      <td>1</td>\n",
       "      <td>1</td>\n",
       "      <td>1</td>\n",
       "    </tr>\n",
       "    <tr>\n",
       "      <th>6</th>\n",
       "      <td>1</td>\n",
       "      <td>1</td>\n",
       "      <td>1</td>\n",
       "    </tr>\n",
       "    <tr>\n",
       "      <th>7</th>\n",
       "      <td>1</td>\n",
       "      <td>1</td>\n",
       "      <td>1</td>\n",
       "    </tr>\n",
       "    <tr>\n",
       "      <th>8</th>\n",
       "      <td>1</td>\n",
       "      <td>1</td>\n",
       "      <td>1</td>\n",
       "    </tr>\n",
       "    <tr>\n",
       "      <th>9</th>\n",
       "      <td>1</td>\n",
       "      <td>1</td>\n",
       "      <td>1</td>\n",
       "    </tr>\n",
       "  </tbody>\n",
       "</table>\n",
       "</div>"
      ],
      "text/plain": [
       "   li_tract16  li_tract00  li_tract90\n",
       "0           1           1           1\n",
       "1           1           1           0\n",
       "2           1           1           1\n",
       "3           1           1           1\n",
       "4           1           1           1\n",
       "5           1           1           1\n",
       "6           1           1           1\n",
       "7           1           1           1\n",
       "8           1           1           1\n",
       "9           1           1           1"
      ]
     },
     "execution_count": 67,
     "metadata": {},
     "output_type": "execute_result"
    }
   ],
   "source": [
    "# 1990\n",
    "\n",
    "data['li_tract90'] = np.where(data['vli_90']+data['li_90'] > (data['vli_90'].median() + data['li_90'].median()), 1, 0)\n",
    "data.iloc[:,-3:].head(10)"
   ]
  },
  {
   "cell_type": "code",
   "execution_count": 68,
   "metadata": {},
   "outputs": [
    {
     "name": "stdout",
     "output_type": "stream",
     "text": [
      "LI HH 2000:\n",
      " 1    3170\n",
      "0    2884\n",
      "Name: li_tract00, dtype: int64\n",
      "\n",
      "LI HH 1990:\n",
      " 1    3209\n",
      "0    2845\n",
      "Name: li_tract90, dtype: int64\n"
     ]
    }
   ],
   "source": [
    "print('LI HH 2000:\\n', data['li_tract00'].value_counts())\n",
    "print('\\nLI HH 1990:\\n', data['li_tract90'].value_counts())"
   ]
  },
  {
   "cell_type": "markdown",
   "metadata": {},
   "source": [
    "### Define % college educated < regional median "
   ]
  },
  {
   "cell_type": "code",
   "execution_count": 69,
   "metadata": {},
   "outputs": [
    {
     "data": {
      "text/plain": [
       "0.1392909156391836"
      ]
     },
     "execution_count": 69,
     "metadata": {},
     "output_type": "execute_result"
    }
   ],
   "source": [
    "data['per_col_00'].median()"
   ]
  },
  {
   "cell_type": "code",
   "execution_count": 70,
   "metadata": {},
   "outputs": [
    {
     "data": {
      "text/html": [
       "<div>\n",
       "<style scoped>\n",
       "    .dataframe tbody tr th:only-of-type {\n",
       "        vertical-align: middle;\n",
       "    }\n",
       "\n",
       "    .dataframe tbody tr th {\n",
       "        vertical-align: top;\n",
       "    }\n",
       "\n",
       "    .dataframe thead th {\n",
       "        text-align: right;\n",
       "    }\n",
       "</style>\n",
       "<table border=\"1\" class=\"dataframe\">\n",
       "  <thead>\n",
       "    <tr style=\"text-align: right;\">\n",
       "      <th></th>\n",
       "      <th>li_tract00</th>\n",
       "      <th>li_tract90</th>\n",
       "      <th>edulow90</th>\n",
       "      <th>edulow00</th>\n",
       "    </tr>\n",
       "  </thead>\n",
       "  <tbody>\n",
       "    <tr>\n",
       "      <th>0</th>\n",
       "      <td>1</td>\n",
       "      <td>1</td>\n",
       "      <td>1</td>\n",
       "      <td>1</td>\n",
       "    </tr>\n",
       "    <tr>\n",
       "      <th>1</th>\n",
       "      <td>1</td>\n",
       "      <td>0</td>\n",
       "      <td>0</td>\n",
       "      <td>1</td>\n",
       "    </tr>\n",
       "    <tr>\n",
       "      <th>2</th>\n",
       "      <td>1</td>\n",
       "      <td>1</td>\n",
       "      <td>1</td>\n",
       "      <td>1</td>\n",
       "    </tr>\n",
       "    <tr>\n",
       "      <th>3</th>\n",
       "      <td>1</td>\n",
       "      <td>1</td>\n",
       "      <td>1</td>\n",
       "      <td>1</td>\n",
       "    </tr>\n",
       "    <tr>\n",
       "      <th>4</th>\n",
       "      <td>1</td>\n",
       "      <td>1</td>\n",
       "      <td>1</td>\n",
       "      <td>1</td>\n",
       "    </tr>\n",
       "    <tr>\n",
       "      <th>5</th>\n",
       "      <td>1</td>\n",
       "      <td>1</td>\n",
       "      <td>1</td>\n",
       "      <td>1</td>\n",
       "    </tr>\n",
       "    <tr>\n",
       "      <th>6</th>\n",
       "      <td>1</td>\n",
       "      <td>1</td>\n",
       "      <td>1</td>\n",
       "      <td>1</td>\n",
       "    </tr>\n",
       "  </tbody>\n",
       "</table>\n",
       "</div>"
      ],
      "text/plain": [
       "   li_tract00  li_tract90  edulow90  edulow00\n",
       "0           1           1         1         1\n",
       "1           1           0         0         1\n",
       "2           1           1         1         1\n",
       "3           1           1         1         1\n",
       "4           1           1         1         1\n",
       "5           1           1         1         1\n",
       "6           1           1         1         1"
      ]
     },
     "execution_count": 70,
     "metadata": {},
     "output_type": "execute_result"
    }
   ],
   "source": [
    "data['edulow90'] = np.where(data['per_col_90'] < data['per_col_90'].median(), 1, 0)\n",
    "data['edulow00'] = np.where(data['per_col_00'] < data['per_col_00'].median(), 1, 0)\n",
    "data.iloc[:,-4:].head(7)"
   ]
  },
  {
   "cell_type": "markdown",
   "metadata": {},
   "source": [
    "### Define % renters > regional median"
   ]
  },
  {
   "cell_type": "code",
   "execution_count": 71,
   "metadata": {},
   "outputs": [
    {
     "data": {
      "text/plain": [
       "0.3794058649345687"
      ]
     },
     "execution_count": 71,
     "metadata": {},
     "output_type": "execute_result"
    }
   ],
   "source": [
    "data['per_rent_00'].median()"
   ]
  },
  {
   "cell_type": "code",
   "execution_count": 72,
   "metadata": {},
   "outputs": [
    {
     "data": {
      "text/html": [
       "<div>\n",
       "<style scoped>\n",
       "    .dataframe tbody tr th:only-of-type {\n",
       "        vertical-align: middle;\n",
       "    }\n",
       "\n",
       "    .dataframe tbody tr th {\n",
       "        vertical-align: top;\n",
       "    }\n",
       "\n",
       "    .dataframe thead th {\n",
       "        text-align: right;\n",
       "    }\n",
       "</style>\n",
       "<table border=\"1\" class=\"dataframe\">\n",
       "  <thead>\n",
       "    <tr style=\"text-align: right;\">\n",
       "      <th></th>\n",
       "      <th>edulow90</th>\n",
       "      <th>edulow00</th>\n",
       "      <th>renters%90</th>\n",
       "      <th>renters%00</th>\n",
       "      <th>renters%16</th>\n",
       "    </tr>\n",
       "  </thead>\n",
       "  <tbody>\n",
       "    <tr>\n",
       "      <th>0</th>\n",
       "      <td>1</td>\n",
       "      <td>1</td>\n",
       "      <td>1</td>\n",
       "      <td>1</td>\n",
       "      <td>1</td>\n",
       "    </tr>\n",
       "    <tr>\n",
       "      <th>1</th>\n",
       "      <td>0</td>\n",
       "      <td>1</td>\n",
       "      <td>0</td>\n",
       "      <td>1</td>\n",
       "      <td>1</td>\n",
       "    </tr>\n",
       "    <tr>\n",
       "      <th>2</th>\n",
       "      <td>1</td>\n",
       "      <td>1</td>\n",
       "      <td>1</td>\n",
       "      <td>1</td>\n",
       "      <td>1</td>\n",
       "    </tr>\n",
       "    <tr>\n",
       "      <th>3</th>\n",
       "      <td>1</td>\n",
       "      <td>1</td>\n",
       "      <td>1</td>\n",
       "      <td>1</td>\n",
       "      <td>1</td>\n",
       "    </tr>\n",
       "    <tr>\n",
       "      <th>4</th>\n",
       "      <td>1</td>\n",
       "      <td>1</td>\n",
       "      <td>1</td>\n",
       "      <td>1</td>\n",
       "      <td>1</td>\n",
       "    </tr>\n",
       "    <tr>\n",
       "      <th>5</th>\n",
       "      <td>1</td>\n",
       "      <td>1</td>\n",
       "      <td>1</td>\n",
       "      <td>1</td>\n",
       "      <td>1</td>\n",
       "    </tr>\n",
       "    <tr>\n",
       "      <th>6</th>\n",
       "      <td>1</td>\n",
       "      <td>1</td>\n",
       "      <td>1</td>\n",
       "      <td>1</td>\n",
       "      <td>1</td>\n",
       "    </tr>\n",
       "  </tbody>\n",
       "</table>\n",
       "</div>"
      ],
      "text/plain": [
       "   edulow90  edulow00  renters%90  renters%00  renters%16\n",
       "0         1         1           1           1           1\n",
       "1         0         1           0           1           1\n",
       "2         1         1           1           1           1\n",
       "3         1         1           1           1           1\n",
       "4         1         1           1           1           1\n",
       "5         1         1           1           1           1\n",
       "6         1         1           1           1           1"
      ]
     },
     "execution_count": 72,
     "metadata": {},
     "output_type": "execute_result"
    }
   ],
   "source": [
    "data['renters%90'] = np.where(data['per_rent_90'] > data['per_rent_90'].median(), 1, 0)\n",
    "data['renters%00'] = np.where(data['per_rent_00'] > data['per_rent_00'].median(), 1, 0)\n",
    "data['renters%16'] = np.where(data['per_rent_16'] > data['per_rent_16'].median(), 1, 0)\n",
    "\n",
    "data.iloc[:,-5:].head(7)"
   ]
  },
  {
   "cell_type": "markdown",
   "metadata": {},
   "source": [
    "### Define % nonwhite > regional median"
   ]
  },
  {
   "cell_type": "code",
   "execution_count": 73,
   "metadata": {},
   "outputs": [
    {
     "data": {
      "text/plain": [
       "0.1784075199092619"
      ]
     },
     "execution_count": 73,
     "metadata": {},
     "output_type": "execute_result"
    }
   ],
   "source": [
    "data['per_nonwhite_00'].median()"
   ]
  },
  {
   "cell_type": "code",
   "execution_count": 74,
   "metadata": {},
   "outputs": [
    {
     "data": {
      "text/html": [
       "<div>\n",
       "<style scoped>\n",
       "    .dataframe tbody tr th:only-of-type {\n",
       "        vertical-align: middle;\n",
       "    }\n",
       "\n",
       "    .dataframe tbody tr th {\n",
       "        vertical-align: top;\n",
       "    }\n",
       "\n",
       "    .dataframe thead th {\n",
       "        text-align: right;\n",
       "    }\n",
       "</style>\n",
       "<table border=\"1\" class=\"dataframe\">\n",
       "  <thead>\n",
       "    <tr style=\"text-align: right;\">\n",
       "      <th></th>\n",
       "      <th>renters%00</th>\n",
       "      <th>renters%16</th>\n",
       "      <th>nonwhiteHigh90</th>\n",
       "      <th>nonwhiteHigh00</th>\n",
       "      <th>nonwhiteHigh16</th>\n",
       "    </tr>\n",
       "  </thead>\n",
       "  <tbody>\n",
       "    <tr>\n",
       "      <th>0</th>\n",
       "      <td>1</td>\n",
       "      <td>1</td>\n",
       "      <td>0</td>\n",
       "      <td>1</td>\n",
       "      <td>1</td>\n",
       "    </tr>\n",
       "    <tr>\n",
       "      <th>1</th>\n",
       "      <td>1</td>\n",
       "      <td>1</td>\n",
       "      <td>0</td>\n",
       "      <td>1</td>\n",
       "      <td>1</td>\n",
       "    </tr>\n",
       "    <tr>\n",
       "      <th>2</th>\n",
       "      <td>1</td>\n",
       "      <td>1</td>\n",
       "      <td>0</td>\n",
       "      <td>1</td>\n",
       "      <td>1</td>\n",
       "    </tr>\n",
       "    <tr>\n",
       "      <th>3</th>\n",
       "      <td>1</td>\n",
       "      <td>1</td>\n",
       "      <td>0</td>\n",
       "      <td>1</td>\n",
       "      <td>1</td>\n",
       "    </tr>\n",
       "    <tr>\n",
       "      <th>4</th>\n",
       "      <td>1</td>\n",
       "      <td>1</td>\n",
       "      <td>0</td>\n",
       "      <td>1</td>\n",
       "      <td>1</td>\n",
       "    </tr>\n",
       "    <tr>\n",
       "      <th>5</th>\n",
       "      <td>1</td>\n",
       "      <td>1</td>\n",
       "      <td>0</td>\n",
       "      <td>1</td>\n",
       "      <td>1</td>\n",
       "    </tr>\n",
       "    <tr>\n",
       "      <th>6</th>\n",
       "      <td>1</td>\n",
       "      <td>1</td>\n",
       "      <td>0</td>\n",
       "      <td>1</td>\n",
       "      <td>1</td>\n",
       "    </tr>\n",
       "  </tbody>\n",
       "</table>\n",
       "</div>"
      ],
      "text/plain": [
       "   renters%00  renters%16  nonwhiteHigh90  nonwhiteHigh00  nonwhiteHigh16\n",
       "0           1           1               0               1               1\n",
       "1           1           1               0               1               1\n",
       "2           1           1               0               1               1\n",
       "3           1           1               0               1               1\n",
       "4           1           1               0               1               1\n",
       "5           1           1               0               1               1\n",
       "6           1           1               0               1               1"
      ]
     },
     "execution_count": 74,
     "metadata": {},
     "output_type": "execute_result"
    }
   ],
   "source": [
    "data['nonwhiteHigh90'] = np.where(data['per_nonwhite_90'] > data['per_nonwhite_90'].median(), 1, 0)\n",
    "data['nonwhiteHigh00'] = np.where(data['per_nonwhite_00'] > data['per_nonwhite_00'].median(), 1, 0)\n",
    "data['nonwhiteHigh16'] = np.where(data['per_nonwhite_16'] > data['per_nonwhite_16'].median(), 1, 0)\n",
    "data.iloc[:,-5:].head(7)"
   ]
  },
  {
   "cell_type": "markdown",
   "metadata": {},
   "source": [
    "### Define Severe Rent Burden 2016 -- DIDN\"T WORK! CHECK AGAIN"
   ]
  },
  {
   "cell_type": "code",
   "execution_count": 75,
   "metadata": {},
   "outputs": [
    {
     "data": {
      "text/html": [
       "<div>\n",
       "<style scoped>\n",
       "    .dataframe tbody tr th:only-of-type {\n",
       "        vertical-align: middle;\n",
       "    }\n",
       "\n",
       "    .dataframe tbody tr th {\n",
       "        vertical-align: top;\n",
       "    }\n",
       "\n",
       "    .dataframe thead th {\n",
       "        text-align: right;\n",
       "    }\n",
       "</style>\n",
       "<table border=\"1\" class=\"dataframe\">\n",
       "  <thead>\n",
       "    <tr style=\"text-align: right;\">\n",
       "      <th></th>\n",
       "      <th>GEOid2</th>\n",
       "      <th>hh_00</th>\n",
       "      <th>hh_16</th>\n",
       "      <th>hh_16_moe</th>\n",
       "      <th>hh_90</th>\n",
       "      <th>hi_00</th>\n",
       "      <th>hi_16</th>\n",
       "      <th>hi_16_moe</th>\n",
       "      <th>hi_90</th>\n",
       "      <th>hi_mig_10</th>\n",
       "      <th>...</th>\n",
       "      <th>li_tract00</th>\n",
       "      <th>li_tract90</th>\n",
       "      <th>edulow90</th>\n",
       "      <th>edulow00</th>\n",
       "      <th>renters%90</th>\n",
       "      <th>renters%00</th>\n",
       "      <th>renters%16</th>\n",
       "      <th>nonwhiteHigh90</th>\n",
       "      <th>nonwhiteHigh00</th>\n",
       "      <th>nonwhiteHigh16</th>\n",
       "    </tr>\n",
       "  </thead>\n",
       "  <tbody>\n",
       "    <tr>\n",
       "      <th>9</th>\n",
       "      <td>34001001500</td>\n",
       "      <td>905.0</td>\n",
       "      <td>756.0</td>\n",
       "      <td>63.0</td>\n",
       "      <td>1100.0</td>\n",
       "      <td>0.028655</td>\n",
       "      <td>0.015003</td>\n",
       "      <td>0.019253</td>\n",
       "      <td>0.025767</td>\n",
       "      <td>0.015136</td>\n",
       "      <td>...</td>\n",
       "      <td>1</td>\n",
       "      <td>1</td>\n",
       "      <td>1</td>\n",
       "      <td>1</td>\n",
       "      <td>1</td>\n",
       "      <td>1</td>\n",
       "      <td>1</td>\n",
       "      <td>0</td>\n",
       "      <td>1</td>\n",
       "      <td>1</td>\n",
       "    </tr>\n",
       "    <tr>\n",
       "      <th>14</th>\n",
       "      <td>34001010101</td>\n",
       "      <td>1772.0</td>\n",
       "      <td>1447.0</td>\n",
       "      <td>126.0</td>\n",
       "      <td>1459.0</td>\n",
       "      <td>0.133645</td>\n",
       "      <td>0.149099</td>\n",
       "      <td>0.074351</td>\n",
       "      <td>0.193612</td>\n",
       "      <td>0.206348</td>\n",
       "      <td>...</td>\n",
       "      <td>0</td>\n",
       "      <td>0</td>\n",
       "      <td>0</td>\n",
       "      <td>0</td>\n",
       "      <td>0</td>\n",
       "      <td>0</td>\n",
       "      <td>0</td>\n",
       "      <td>0</td>\n",
       "      <td>0</td>\n",
       "      <td>0</td>\n",
       "    </tr>\n",
       "    <tr>\n",
       "      <th>15</th>\n",
       "      <td>34001010102</td>\n",
       "      <td>1211.0</td>\n",
       "      <td>960.0</td>\n",
       "      <td>90.0</td>\n",
       "      <td>1237.0</td>\n",
       "      <td>0.103413</td>\n",
       "      <td>0.104324</td>\n",
       "      <td>0.058704</td>\n",
       "      <td>0.120001</td>\n",
       "      <td>0.192526</td>\n",
       "      <td>...</td>\n",
       "      <td>1</td>\n",
       "      <td>1</td>\n",
       "      <td>0</td>\n",
       "      <td>1</td>\n",
       "      <td>0</td>\n",
       "      <td>0</td>\n",
       "      <td>0</td>\n",
       "      <td>0</td>\n",
       "      <td>0</td>\n",
       "      <td>0</td>\n",
       "    </tr>\n",
       "    <tr>\n",
       "      <th>16</th>\n",
       "      <td>34001010200</td>\n",
       "      <td>2062.0</td>\n",
       "      <td>2260.0</td>\n",
       "      <td>146.0</td>\n",
       "      <td>1942.0</td>\n",
       "      <td>0.164282</td>\n",
       "      <td>0.139873</td>\n",
       "      <td>0.065387</td>\n",
       "      <td>0.189860</td>\n",
       "      <td>0.159608</td>\n",
       "      <td>...</td>\n",
       "      <td>0</td>\n",
       "      <td>0</td>\n",
       "      <td>0</td>\n",
       "      <td>0</td>\n",
       "      <td>0</td>\n",
       "      <td>0</td>\n",
       "      <td>0</td>\n",
       "      <td>0</td>\n",
       "      <td>0</td>\n",
       "      <td>0</td>\n",
       "    </tr>\n",
       "    <tr>\n",
       "      <th>18</th>\n",
       "      <td>34001010401</td>\n",
       "      <td>1751.0</td>\n",
       "      <td>2081.0</td>\n",
       "      <td>155.0</td>\n",
       "      <td>1497.0</td>\n",
       "      <td>0.170828</td>\n",
       "      <td>0.143431</td>\n",
       "      <td>0.080781</td>\n",
       "      <td>0.187272</td>\n",
       "      <td>0.170152</td>\n",
       "      <td>...</td>\n",
       "      <td>0</td>\n",
       "      <td>0</td>\n",
       "      <td>0</td>\n",
       "      <td>1</td>\n",
       "      <td>0</td>\n",
       "      <td>0</td>\n",
       "      <td>0</td>\n",
       "      <td>1</td>\n",
       "      <td>0</td>\n",
       "      <td>0</td>\n",
       "    </tr>\n",
       "  </tbody>\n",
       "</table>\n",
       "<p>5 rows × 110 columns</p>\n",
       "</div>"
      ],
      "text/plain": [
       "         GEOid2   hh_00   hh_16  hh_16_moe   hh_90     hi_00     hi_16  \\\n",
       "9   34001001500   905.0   756.0       63.0  1100.0  0.028655  0.015003   \n",
       "14  34001010101  1772.0  1447.0      126.0  1459.0  0.133645  0.149099   \n",
       "15  34001010102  1211.0   960.0       90.0  1237.0  0.103413  0.104324   \n",
       "16  34001010200  2062.0  2260.0      146.0  1942.0  0.164282  0.139873   \n",
       "18  34001010401  1751.0  2081.0      155.0  1497.0  0.170828  0.143431   \n",
       "\n",
       "    hi_16_moe     hi_90  hi_mig_10       ...        li_tract00  li_tract90  \\\n",
       "9    0.019253  0.025767   0.015136       ...                 1           1   \n",
       "14   0.074351  0.193612   0.206348       ...                 0           0   \n",
       "15   0.058704  0.120001   0.192526       ...                 1           1   \n",
       "16   0.065387  0.189860   0.159608       ...                 0           0   \n",
       "18   0.080781  0.187272   0.170152       ...                 0           0   \n",
       "\n",
       "    edulow90  edulow00  renters%90  renters%00  renters%16  nonwhiteHigh90  \\\n",
       "9          1         1           1           1           1               0   \n",
       "14         0         0           0           0           0               0   \n",
       "15         0         1           0           0           0               0   \n",
       "16         0         0           0           0           0               0   \n",
       "18         0         1           0           0           0               1   \n",
       "\n",
       "    nonwhiteHigh00  nonwhiteHigh16  \n",
       "9                1               1  \n",
       "14               0               0  \n",
       "15               0               0  \n",
       "16               0               0  \n",
       "18               0               0  \n",
       "\n",
       "[5 rows x 110 columns]"
      ]
     },
     "execution_count": 75,
     "metadata": {},
     "output_type": "execute_result"
    }
   ],
   "source": [
    "data[data['mrent_16']/(data['hinc_16']/12)<0.3].head()"
   ]
  },
  {
   "cell_type": "markdown",
   "metadata": {},
   "source": [
    "# Vulnerability 1990 / 2000 // 3 out of 4 of the above for each year\n",
    "- % low income households > regional median\n",
    "- college educated < regional median\n",
    "- renters > regional median\n",
    "- nonwhite > regional median"
   ]
  },
  {
   "cell_type": "code",
   "execution_count": 76,
   "metadata": {},
   "outputs": [],
   "source": [
    "# vulnerable 1990\n",
    "\n",
    "def volnurable90(df):\n",
    "    if df['li_tract90'] == 1 and df['edulow90'] == 1 and df['renters%90'] == 1:\n",
    "        val = 1\n",
    "    elif df['li_tract90'] == 1 and df['edulow90'] == 1 and df['nonwhiteHigh90'] == 1:\n",
    "        val = 1\n",
    "    elif df['li_tract90'] == 1 and df['renters%90'] == 1 and df['nonwhiteHigh90'] == 1:\n",
    "        val = 1\n",
    "    elif df['edulow90'] == 1 and df['renters%90'] == 1 and df['nonwhiteHigh90'] == 1:\n",
    "        val = 1\n",
    "    else:\n",
    "        val = 0\n",
    "    return val"
   ]
  },
  {
   "cell_type": "code",
   "execution_count": 77,
   "metadata": {},
   "outputs": [
    {
     "data": {
      "text/html": [
       "<div>\n",
       "<style scoped>\n",
       "    .dataframe tbody tr th:only-of-type {\n",
       "        vertical-align: middle;\n",
       "    }\n",
       "\n",
       "    .dataframe tbody tr th {\n",
       "        vertical-align: top;\n",
       "    }\n",
       "\n",
       "    .dataframe thead th {\n",
       "        text-align: right;\n",
       "    }\n",
       "</style>\n",
       "<table border=\"1\" class=\"dataframe\">\n",
       "  <thead>\n",
       "    <tr style=\"text-align: right;\">\n",
       "      <th></th>\n",
       "      <th>GEOid2</th>\n",
       "      <th>hh_00</th>\n",
       "      <th>hh_16</th>\n",
       "      <th>hh_16_moe</th>\n",
       "      <th>hh_90</th>\n",
       "      <th>hi_00</th>\n",
       "      <th>hi_16</th>\n",
       "      <th>hi_16_moe</th>\n",
       "      <th>hi_90</th>\n",
       "      <th>hi_mig_10</th>\n",
       "      <th>...</th>\n",
       "      <th>li_tract90</th>\n",
       "      <th>edulow90</th>\n",
       "      <th>edulow00</th>\n",
       "      <th>renters%90</th>\n",
       "      <th>renters%00</th>\n",
       "      <th>renters%16</th>\n",
       "      <th>nonwhiteHigh90</th>\n",
       "      <th>nonwhiteHigh00</th>\n",
       "      <th>nonwhiteHigh16</th>\n",
       "      <th>Volnurable90</th>\n",
       "    </tr>\n",
       "  </thead>\n",
       "  <tbody>\n",
       "    <tr>\n",
       "      <th>10</th>\n",
       "      <td>34001001900</td>\n",
       "      <td>913.0</td>\n",
       "      <td>721.0</td>\n",
       "      <td>81.0</td>\n",
       "      <td>1002.0</td>\n",
       "      <td>0.047908</td>\n",
       "      <td>0.089440</td>\n",
       "      <td>0.070990</td>\n",
       "      <td>0.068767</td>\n",
       "      <td>0.095786</td>\n",
       "      <td>...</td>\n",
       "      <td>1</td>\n",
       "      <td>1</td>\n",
       "      <td>1</td>\n",
       "      <td>1</td>\n",
       "      <td>1</td>\n",
       "      <td>1</td>\n",
       "      <td>0</td>\n",
       "      <td>1</td>\n",
       "      <td>1</td>\n",
       "      <td>1</td>\n",
       "    </tr>\n",
       "    <tr>\n",
       "      <th>11</th>\n",
       "      <td>34001002300</td>\n",
       "      <td>826.0</td>\n",
       "      <td>773.0</td>\n",
       "      <td>85.0</td>\n",
       "      <td>856.0</td>\n",
       "      <td>0.067975</td>\n",
       "      <td>0.060289</td>\n",
       "      <td>0.047136</td>\n",
       "      <td>0.045076</td>\n",
       "      <td>0.022238</td>\n",
       "      <td>...</td>\n",
       "      <td>1</td>\n",
       "      <td>1</td>\n",
       "      <td>1</td>\n",
       "      <td>1</td>\n",
       "      <td>1</td>\n",
       "      <td>1</td>\n",
       "      <td>0</td>\n",
       "      <td>1</td>\n",
       "      <td>1</td>\n",
       "      <td>1</td>\n",
       "    </tr>\n",
       "    <tr>\n",
       "      <th>12</th>\n",
       "      <td>34001002400</td>\n",
       "      <td>1243.0</td>\n",
       "      <td>1193.0</td>\n",
       "      <td>111.0</td>\n",
       "      <td>739.0</td>\n",
       "      <td>0.033088</td>\n",
       "      <td>0.027698</td>\n",
       "      <td>0.024044</td>\n",
       "      <td>0.000000</td>\n",
       "      <td>0.069968</td>\n",
       "      <td>...</td>\n",
       "      <td>1</td>\n",
       "      <td>1</td>\n",
       "      <td>1</td>\n",
       "      <td>1</td>\n",
       "      <td>1</td>\n",
       "      <td>1</td>\n",
       "      <td>0</td>\n",
       "      <td>1</td>\n",
       "      <td>1</td>\n",
       "      <td>1</td>\n",
       "    </tr>\n",
       "    <tr>\n",
       "      <th>13</th>\n",
       "      <td>34001002500</td>\n",
       "      <td>1987.0</td>\n",
       "      <td>1970.0</td>\n",
       "      <td>161.0</td>\n",
       "      <td>725.0</td>\n",
       "      <td>0.052247</td>\n",
       "      <td>0.048731</td>\n",
       "      <td>0.039410</td>\n",
       "      <td>0.013793</td>\n",
       "      <td>0.061518</td>\n",
       "      <td>...</td>\n",
       "      <td>1</td>\n",
       "      <td>1</td>\n",
       "      <td>1</td>\n",
       "      <td>1</td>\n",
       "      <td>1</td>\n",
       "      <td>1</td>\n",
       "      <td>0</td>\n",
       "      <td>1</td>\n",
       "      <td>1</td>\n",
       "      <td>1</td>\n",
       "    </tr>\n",
       "    <tr>\n",
       "      <th>14</th>\n",
       "      <td>34001010101</td>\n",
       "      <td>1772.0</td>\n",
       "      <td>1447.0</td>\n",
       "      <td>126.0</td>\n",
       "      <td>1459.0</td>\n",
       "      <td>0.133645</td>\n",
       "      <td>0.149099</td>\n",
       "      <td>0.074351</td>\n",
       "      <td>0.193612</td>\n",
       "      <td>0.206348</td>\n",
       "      <td>...</td>\n",
       "      <td>0</td>\n",
       "      <td>0</td>\n",
       "      <td>0</td>\n",
       "      <td>0</td>\n",
       "      <td>0</td>\n",
       "      <td>0</td>\n",
       "      <td>0</td>\n",
       "      <td>0</td>\n",
       "      <td>0</td>\n",
       "      <td>0</td>\n",
       "    </tr>\n",
       "    <tr>\n",
       "      <th>15</th>\n",
       "      <td>34001010102</td>\n",
       "      <td>1211.0</td>\n",
       "      <td>960.0</td>\n",
       "      <td>90.0</td>\n",
       "      <td>1237.0</td>\n",
       "      <td>0.103413</td>\n",
       "      <td>0.104324</td>\n",
       "      <td>0.058704</td>\n",
       "      <td>0.120001</td>\n",
       "      <td>0.192526</td>\n",
       "      <td>...</td>\n",
       "      <td>1</td>\n",
       "      <td>0</td>\n",
       "      <td>1</td>\n",
       "      <td>0</td>\n",
       "      <td>0</td>\n",
       "      <td>0</td>\n",
       "      <td>0</td>\n",
       "      <td>0</td>\n",
       "      <td>0</td>\n",
       "      <td>0</td>\n",
       "    </tr>\n",
       "  </tbody>\n",
       "</table>\n",
       "<p>6 rows × 111 columns</p>\n",
       "</div>"
      ],
      "text/plain": [
       "         GEOid2   hh_00   hh_16  hh_16_moe   hh_90     hi_00     hi_16  \\\n",
       "10  34001001900   913.0   721.0       81.0  1002.0  0.047908  0.089440   \n",
       "11  34001002300   826.0   773.0       85.0   856.0  0.067975  0.060289   \n",
       "12  34001002400  1243.0  1193.0      111.0   739.0  0.033088  0.027698   \n",
       "13  34001002500  1987.0  1970.0      161.0   725.0  0.052247  0.048731   \n",
       "14  34001010101  1772.0  1447.0      126.0  1459.0  0.133645  0.149099   \n",
       "15  34001010102  1211.0   960.0       90.0  1237.0  0.103413  0.104324   \n",
       "\n",
       "    hi_16_moe     hi_90  hi_mig_10      ...       li_tract90  edulow90  \\\n",
       "10   0.070990  0.068767   0.095786      ...                1         1   \n",
       "11   0.047136  0.045076   0.022238      ...                1         1   \n",
       "12   0.024044  0.000000   0.069968      ...                1         1   \n",
       "13   0.039410  0.013793   0.061518      ...                1         1   \n",
       "14   0.074351  0.193612   0.206348      ...                0         0   \n",
       "15   0.058704  0.120001   0.192526      ...                1         0   \n",
       "\n",
       "    edulow00  renters%90  renters%00  renters%16  nonwhiteHigh90  \\\n",
       "10         1           1           1           1               0   \n",
       "11         1           1           1           1               0   \n",
       "12         1           1           1           1               0   \n",
       "13         1           1           1           1               0   \n",
       "14         0           0           0           0               0   \n",
       "15         1           0           0           0               0   \n",
       "\n",
       "    nonwhiteHigh00  nonwhiteHigh16  Volnurable90  \n",
       "10               1               1             1  \n",
       "11               1               1             1  \n",
       "12               1               1             1  \n",
       "13               1               1             1  \n",
       "14               0               0             0  \n",
       "15               0               0             0  \n",
       "\n",
       "[6 rows x 111 columns]"
      ]
     },
     "execution_count": 77,
     "metadata": {},
     "output_type": "execute_result"
    }
   ],
   "source": [
    "data['Volnurable90'] = data.apply(volnurable90, axis=1)\n",
    "data[10:16]"
   ]
  },
  {
   "cell_type": "code",
   "execution_count": 78,
   "metadata": {},
   "outputs": [],
   "source": [
    "# Volnurable 2000\n",
    "\n",
    "def volnurable00(df):\n",
    "    if df['li_tract00'] == 1 and df['edulow00'] == 1 and df['renters%00'] == 1:\n",
    "        val = 1\n",
    "    elif df['li_tract00'] == 1 and df['edulow00'] == 1 and df['nonwhiteHigh00'] == 1:\n",
    "        val = 1\n",
    "    elif df['li_tract00'] == 1 and df['renters%00'] == 1 and df['nonwhiteHigh00'] == 1:\n",
    "        val = 1\n",
    "    elif df['edulow00'] == 1 and df['renters%00'] == 1 and df['nonwhiteHigh00'] == 1:\n",
    "        val = 1\n",
    "    else:\n",
    "        val = 0\n",
    "    return val"
   ]
  },
  {
   "cell_type": "code",
   "execution_count": 79,
   "metadata": {},
   "outputs": [
    {
     "data": {
      "text/html": [
       "<div>\n",
       "<style scoped>\n",
       "    .dataframe tbody tr th:only-of-type {\n",
       "        vertical-align: middle;\n",
       "    }\n",
       "\n",
       "    .dataframe tbody tr th {\n",
       "        vertical-align: top;\n",
       "    }\n",
       "\n",
       "    .dataframe thead th {\n",
       "        text-align: right;\n",
       "    }\n",
       "</style>\n",
       "<table border=\"1\" class=\"dataframe\">\n",
       "  <thead>\n",
       "    <tr style=\"text-align: right;\">\n",
       "      <th></th>\n",
       "      <th>GEOid2</th>\n",
       "      <th>hh_00</th>\n",
       "      <th>hh_16</th>\n",
       "      <th>hh_16_moe</th>\n",
       "      <th>hh_90</th>\n",
       "      <th>hi_00</th>\n",
       "      <th>hi_16</th>\n",
       "      <th>hi_16_moe</th>\n",
       "      <th>hi_90</th>\n",
       "      <th>hi_mig_10</th>\n",
       "      <th>...</th>\n",
       "      <th>edulow90</th>\n",
       "      <th>edulow00</th>\n",
       "      <th>renters%90</th>\n",
       "      <th>renters%00</th>\n",
       "      <th>renters%16</th>\n",
       "      <th>nonwhiteHigh90</th>\n",
       "      <th>nonwhiteHigh00</th>\n",
       "      <th>nonwhiteHigh16</th>\n",
       "      <th>Volnurable90</th>\n",
       "      <th>Volnurable00</th>\n",
       "    </tr>\n",
       "  </thead>\n",
       "  <tbody>\n",
       "    <tr>\n",
       "      <th>10</th>\n",
       "      <td>34001001900</td>\n",
       "      <td>913.0</td>\n",
       "      <td>721.0</td>\n",
       "      <td>81.0</td>\n",
       "      <td>1002.0</td>\n",
       "      <td>0.047908</td>\n",
       "      <td>0.089440</td>\n",
       "      <td>0.070990</td>\n",
       "      <td>0.068767</td>\n",
       "      <td>0.095786</td>\n",
       "      <td>...</td>\n",
       "      <td>1</td>\n",
       "      <td>1</td>\n",
       "      <td>1</td>\n",
       "      <td>1</td>\n",
       "      <td>1</td>\n",
       "      <td>0</td>\n",
       "      <td>1</td>\n",
       "      <td>1</td>\n",
       "      <td>1</td>\n",
       "      <td>1</td>\n",
       "    </tr>\n",
       "    <tr>\n",
       "      <th>11</th>\n",
       "      <td>34001002300</td>\n",
       "      <td>826.0</td>\n",
       "      <td>773.0</td>\n",
       "      <td>85.0</td>\n",
       "      <td>856.0</td>\n",
       "      <td>0.067975</td>\n",
       "      <td>0.060289</td>\n",
       "      <td>0.047136</td>\n",
       "      <td>0.045076</td>\n",
       "      <td>0.022238</td>\n",
       "      <td>...</td>\n",
       "      <td>1</td>\n",
       "      <td>1</td>\n",
       "      <td>1</td>\n",
       "      <td>1</td>\n",
       "      <td>1</td>\n",
       "      <td>0</td>\n",
       "      <td>1</td>\n",
       "      <td>1</td>\n",
       "      <td>1</td>\n",
       "      <td>1</td>\n",
       "    </tr>\n",
       "    <tr>\n",
       "      <th>12</th>\n",
       "      <td>34001002400</td>\n",
       "      <td>1243.0</td>\n",
       "      <td>1193.0</td>\n",
       "      <td>111.0</td>\n",
       "      <td>739.0</td>\n",
       "      <td>0.033088</td>\n",
       "      <td>0.027698</td>\n",
       "      <td>0.024044</td>\n",
       "      <td>0.000000</td>\n",
       "      <td>0.069968</td>\n",
       "      <td>...</td>\n",
       "      <td>1</td>\n",
       "      <td>1</td>\n",
       "      <td>1</td>\n",
       "      <td>1</td>\n",
       "      <td>1</td>\n",
       "      <td>0</td>\n",
       "      <td>1</td>\n",
       "      <td>1</td>\n",
       "      <td>1</td>\n",
       "      <td>1</td>\n",
       "    </tr>\n",
       "    <tr>\n",
       "      <th>13</th>\n",
       "      <td>34001002500</td>\n",
       "      <td>1987.0</td>\n",
       "      <td>1970.0</td>\n",
       "      <td>161.0</td>\n",
       "      <td>725.0</td>\n",
       "      <td>0.052247</td>\n",
       "      <td>0.048731</td>\n",
       "      <td>0.039410</td>\n",
       "      <td>0.013793</td>\n",
       "      <td>0.061518</td>\n",
       "      <td>...</td>\n",
       "      <td>1</td>\n",
       "      <td>1</td>\n",
       "      <td>1</td>\n",
       "      <td>1</td>\n",
       "      <td>1</td>\n",
       "      <td>0</td>\n",
       "      <td>1</td>\n",
       "      <td>1</td>\n",
       "      <td>1</td>\n",
       "      <td>1</td>\n",
       "    </tr>\n",
       "    <tr>\n",
       "      <th>14</th>\n",
       "      <td>34001010101</td>\n",
       "      <td>1772.0</td>\n",
       "      <td>1447.0</td>\n",
       "      <td>126.0</td>\n",
       "      <td>1459.0</td>\n",
       "      <td>0.133645</td>\n",
       "      <td>0.149099</td>\n",
       "      <td>0.074351</td>\n",
       "      <td>0.193612</td>\n",
       "      <td>0.206348</td>\n",
       "      <td>...</td>\n",
       "      <td>0</td>\n",
       "      <td>0</td>\n",
       "      <td>0</td>\n",
       "      <td>0</td>\n",
       "      <td>0</td>\n",
       "      <td>0</td>\n",
       "      <td>0</td>\n",
       "      <td>0</td>\n",
       "      <td>0</td>\n",
       "      <td>0</td>\n",
       "    </tr>\n",
       "    <tr>\n",
       "      <th>15</th>\n",
       "      <td>34001010102</td>\n",
       "      <td>1211.0</td>\n",
       "      <td>960.0</td>\n",
       "      <td>90.0</td>\n",
       "      <td>1237.0</td>\n",
       "      <td>0.103413</td>\n",
       "      <td>0.104324</td>\n",
       "      <td>0.058704</td>\n",
       "      <td>0.120001</td>\n",
       "      <td>0.192526</td>\n",
       "      <td>...</td>\n",
       "      <td>0</td>\n",
       "      <td>1</td>\n",
       "      <td>0</td>\n",
       "      <td>0</td>\n",
       "      <td>0</td>\n",
       "      <td>0</td>\n",
       "      <td>0</td>\n",
       "      <td>0</td>\n",
       "      <td>0</td>\n",
       "      <td>0</td>\n",
       "    </tr>\n",
       "  </tbody>\n",
       "</table>\n",
       "<p>6 rows × 112 columns</p>\n",
       "</div>"
      ],
      "text/plain": [
       "         GEOid2   hh_00   hh_16  hh_16_moe   hh_90     hi_00     hi_16  \\\n",
       "10  34001001900   913.0   721.0       81.0  1002.0  0.047908  0.089440   \n",
       "11  34001002300   826.0   773.0       85.0   856.0  0.067975  0.060289   \n",
       "12  34001002400  1243.0  1193.0      111.0   739.0  0.033088  0.027698   \n",
       "13  34001002500  1987.0  1970.0      161.0   725.0  0.052247  0.048731   \n",
       "14  34001010101  1772.0  1447.0      126.0  1459.0  0.133645  0.149099   \n",
       "15  34001010102  1211.0   960.0       90.0  1237.0  0.103413  0.104324   \n",
       "\n",
       "    hi_16_moe     hi_90  hi_mig_10      ...       edulow90  edulow00  \\\n",
       "10   0.070990  0.068767   0.095786      ...              1         1   \n",
       "11   0.047136  0.045076   0.022238      ...              1         1   \n",
       "12   0.024044  0.000000   0.069968      ...              1         1   \n",
       "13   0.039410  0.013793   0.061518      ...              1         1   \n",
       "14   0.074351  0.193612   0.206348      ...              0         0   \n",
       "15   0.058704  0.120001   0.192526      ...              0         1   \n",
       "\n",
       "    renters%90  renters%00  renters%16  nonwhiteHigh90  nonwhiteHigh00  \\\n",
       "10           1           1           1               0               1   \n",
       "11           1           1           1               0               1   \n",
       "12           1           1           1               0               1   \n",
       "13           1           1           1               0               1   \n",
       "14           0           0           0               0               0   \n",
       "15           0           0           0               0               0   \n",
       "\n",
       "    nonwhiteHigh16  Volnurable90  Volnurable00  \n",
       "10               1             1             1  \n",
       "11               1             1             1  \n",
       "12               1             1             1  \n",
       "13               1             1             1  \n",
       "14               0             0             0  \n",
       "15               0             0             0  \n",
       "\n",
       "[6 rows x 112 columns]"
      ]
     },
     "execution_count": 79,
     "metadata": {},
     "output_type": "execute_result"
    }
   ],
   "source": [
    "data['Volnurable00'] = data.apply(volnurable00, axis=1)\n",
    "data[10:16]"
   ]
  },
  {
   "cell_type": "code",
   "execution_count": 80,
   "metadata": {},
   "outputs": [
    {
     "data": {
      "text/plain": [
       "0    4093\n",
       "1    1961\n",
       "Name: Volnurable90, dtype: int64"
      ]
     },
     "execution_count": 80,
     "metadata": {},
     "output_type": "execute_result"
    }
   ],
   "source": [
    "data['Volnurable90'].value_counts()"
   ]
  },
  {
   "cell_type": "code",
   "execution_count": 81,
   "metadata": {},
   "outputs": [
    {
     "data": {
      "text/plain": [
       "0    3546\n",
       "1    2508\n",
       "Name: Volnurable00, dtype: int64"
      ]
     },
     "execution_count": 81,
     "metadata": {},
     "output_type": "execute_result"
    }
   ],
   "source": [
    "data['Volnurable00'].value_counts()"
   ]
  },
  {
   "cell_type": "markdown",
   "metadata": {},
   "source": [
    "### 2123 census tracts were found Volnurable in 1990, while 2159 were found Volnurable in 2000"
   ]
  },
  {
   "cell_type": "markdown",
   "metadata": {},
   "source": [
    "---\n",
    "\n",
    "### Rail station (TOD)"
   ]
  },
  {
   "cell_type": "code",
   "execution_count": 82,
   "metadata": {},
   "outputs": [
    {
     "data": {
      "text/plain": [
       "6054"
      ]
     },
     "execution_count": 82,
     "metadata": {},
     "output_type": "execute_result"
    }
   ],
   "source": [
    "len(data)"
   ]
  },
  {
   "cell_type": "code",
   "execution_count": 83,
   "metadata": {},
   "outputs": [
    {
     "data": {
      "text/plain": [
       "5306"
      ]
     },
     "execution_count": 83,
     "metadata": {},
     "output_type": "execute_result"
    }
   ],
   "source": [
    "len(df_aram)"
   ]
  },
  {
   "cell_type": "code",
   "execution_count": 84,
   "metadata": {},
   "outputs": [
    {
     "data": {
      "text/plain": [
       "4211"
      ]
     },
     "execution_count": 84,
     "metadata": {},
     "output_type": "execute_result"
    }
   ],
   "source": [
    "len(df_compare)"
   ]
  },
  {
   "cell_type": "code",
   "execution_count": 85,
   "metadata": {},
   "outputs": [],
   "source": [
    "ct=[]\n",
    "for i in df_aram.GEOid2:\n",
    "    flag=0\n",
    "    for j in df_compare.GEOid2:\n",
    "        if i == j:\n",
    "            flag=1\n",
    "            ct.append(1)\n",
    "            break\n",
    "    if flag==0:\n",
    "        ct.append(0)"
   ]
  },
  {
   "cell_type": "code",
   "execution_count": 86,
   "metadata": {},
   "outputs": [],
   "source": [
    "df_aram['contained']=ct"
   ]
  },
  {
   "cell_type": "code",
   "execution_count": 87,
   "metadata": {},
   "outputs": [
    {
     "data": {
      "text/plain": [
       "86"
      ]
     },
     "execution_count": 87,
     "metadata": {},
     "output_type": "execute_result"
    }
   ],
   "source": [
    "len(df_aram.columns)"
   ]
  },
  {
   "cell_type": "code",
   "execution_count": 88,
   "metadata": {},
   "outputs": [
    {
     "data": {
      "text/plain": [
       "5306"
      ]
     },
     "execution_count": 88,
     "metadata": {},
     "output_type": "execute_result"
    }
   ],
   "source": [
    "len(df_aram)"
   ]
  },
  {
   "cell_type": "code",
   "execution_count": 89,
   "metadata": {},
   "outputs": [],
   "source": [
    "df_aram = df_aram.dropna(axis = 0, how = 'any')"
   ]
  },
  {
   "cell_type": "code",
   "execution_count": 90,
   "metadata": {},
   "outputs": [
    {
     "data": {
      "text/plain": [
       "4593"
      ]
     },
     "execution_count": 90,
     "metadata": {},
     "output_type": "execute_result"
    }
   ],
   "source": [
    "len(df_aram)"
   ]
  },
  {
   "cell_type": "code",
   "execution_count": 91,
   "metadata": {},
   "outputs": [
    {
     "data": {
      "text/plain": [
       "86"
      ]
     },
     "execution_count": 91,
     "metadata": {},
     "output_type": "execute_result"
    }
   ],
   "source": [
    "len(df_aram.columns)"
   ]
  },
  {
   "cell_type": "code",
   "execution_count": 92,
   "metadata": {},
   "outputs": [
    {
     "data": {
      "text/plain": [
       "735"
      ]
     },
     "execution_count": 92,
     "metadata": {},
     "output_type": "execute_result"
    }
   ],
   "source": [
    "len(data[(data['GEOid2']>8001021600) & (data['GEOid2']<33001020000)])"
   ]
  },
  {
   "cell_type": "code",
   "execution_count": 93,
   "metadata": {},
   "outputs": [
    {
     "data": {
      "text/plain": [
       "421"
      ]
     },
     "execution_count": 93,
     "metadata": {},
     "output_type": "execute_result"
    }
   ],
   "source": [
    "len(df_aram[(df_aram['GEOid2']>8001021600) & (df_aram['GEOid2']<33001020000)])"
   ]
  },
  {
   "cell_type": "code",
   "execution_count": 94,
   "metadata": {},
   "outputs": [
    {
     "data": {
      "text/plain": [
       "2179"
      ]
     },
     "execution_count": 94,
     "metadata": {},
     "output_type": "execute_result"
    }
   ],
   "source": [
    "len(data[(data['GEOid2']>1001021600) & (data['GEOid2']<35001020000)])"
   ]
  },
  {
   "cell_type": "code",
   "execution_count": 95,
   "metadata": {},
   "outputs": [
    {
     "data": {
      "text/plain": [
       "1864"
      ]
     },
     "execution_count": 95,
     "metadata": {},
     "output_type": "execute_result"
    }
   ],
   "source": [
    "len(df_aram[(df_aram['GEOid2']>1001021600) & (df_aram['GEOid2']<35001020000)])"
   ]
  },
  {
   "cell_type": "code",
   "execution_count": 96,
   "metadata": {},
   "outputs": [
    {
     "data": {
      "text/plain": [
       "3875"
      ]
     },
     "execution_count": 96,
     "metadata": {},
     "output_type": "execute_result"
    }
   ],
   "source": [
    "len(data[(data['GEOid2']>35001021600)])"
   ]
  },
  {
   "cell_type": "code",
   "execution_count": 97,
   "metadata": {},
   "outputs": [
    {
     "data": {
      "text/plain": [
       "4593"
      ]
     },
     "execution_count": 97,
     "metadata": {},
     "output_type": "execute_result"
    }
   ],
   "source": [
    "len(df_aram[(df_aram['GEOid2']>3501021600)])"
   ]
  },
  {
   "cell_type": "code",
   "execution_count": 98,
   "metadata": {},
   "outputs": [
    {
     "data": {
      "text/html": [
       "<div>\n",
       "<style scoped>\n",
       "    .dataframe tbody tr th:only-of-type {\n",
       "        vertical-align: middle;\n",
       "    }\n",
       "\n",
       "    .dataframe tbody tr th {\n",
       "        vertical-align: top;\n",
       "    }\n",
       "\n",
       "    .dataframe thead th {\n",
       "        text-align: right;\n",
       "    }\n",
       "</style>\n",
       "<table border=\"1\" class=\"dataframe\">\n",
       "  <thead>\n",
       "    <tr style=\"text-align: right;\">\n",
       "      <th></th>\n",
       "      <th>GEOid2</th>\n",
       "      <th>hh16</th>\n",
       "      <th>moe_hh16</th>\n",
       "      <th>per_col00</th>\n",
       "      <th>per_nonwhite00</th>\n",
       "      <th>per_rent00</th>\n",
       "      <th>vli2000</th>\n",
       "      <th>li2000</th>\n",
       "      <th>mi2000</th>\n",
       "      <th>hmi2000</th>\n",
       "      <th>...</th>\n",
       "      <th>doctorate</th>\n",
       "      <th>moe_doctorates</th>\n",
       "      <th>per_col_16</th>\n",
       "      <th>pop90</th>\n",
       "      <th>per_col90</th>\n",
       "      <th>moe_hu16</th>\n",
       "      <th>hinc16</th>\n",
       "      <th>moe_hinc16</th>\n",
       "      <th>popgrowth</th>\n",
       "      <th>contained</th>\n",
       "    </tr>\n",
       "  </thead>\n",
       "  <tbody>\n",
       "    <tr>\n",
       "      <th>1999</th>\n",
       "      <td>36005001900</td>\n",
       "      <td>962.0</td>\n",
       "      <td>47.0</td>\n",
       "      <td>0.038502</td>\n",
       "      <td>0.952883</td>\n",
       "      <td>0.779582</td>\n",
       "      <td>0.282579</td>\n",
       "      <td>0.191349</td>\n",
       "      <td>0.149400</td>\n",
       "      <td>0.092852</td>\n",
       "      <td>...</td>\n",
       "      <td>3.0</td>\n",
       "      <td>5.0</td>\n",
       "      <td>0.204986</td>\n",
       "      <td>1556.000000</td>\n",
       "      <td>0.031818</td>\n",
       "      <td>37.0</td>\n",
       "      <td>39130.0</td>\n",
       "      <td>3228.0</td>\n",
       "      <td>1069.0</td>\n",
       "      <td>0</td>\n",
       "    </tr>\n",
       "    <tr>\n",
       "      <th>2020</th>\n",
       "      <td>36005005001</td>\n",
       "      <td>1602.0</td>\n",
       "      <td>54.0</td>\n",
       "      <td>0.080584</td>\n",
       "      <td>0.987244</td>\n",
       "      <td>0.910483</td>\n",
       "      <td>0.399515</td>\n",
       "      <td>0.125601</td>\n",
       "      <td>0.078236</td>\n",
       "      <td>0.074425</td>\n",
       "      <td>...</td>\n",
       "      <td>0.0</td>\n",
       "      <td>16.0</td>\n",
       "      <td>0.117764</td>\n",
       "      <td>4634.706543</td>\n",
       "      <td>0.029230</td>\n",
       "      <td>27.0</td>\n",
       "      <td>27283.0</td>\n",
       "      <td>6922.0</td>\n",
       "      <td>310.0</td>\n",
       "      <td>0</td>\n",
       "    </tr>\n",
       "    <tr>\n",
       "      <th>2021</th>\n",
       "      <td>36005005002</td>\n",
       "      <td>1860.0</td>\n",
       "      <td>111.0</td>\n",
       "      <td>0.080584</td>\n",
       "      <td>0.987244</td>\n",
       "      <td>0.910483</td>\n",
       "      <td>0.399515</td>\n",
       "      <td>0.125601</td>\n",
       "      <td>0.078236</td>\n",
       "      <td>0.074425</td>\n",
       "      <td>...</td>\n",
       "      <td>0.0</td>\n",
       "      <td>16.0</td>\n",
       "      <td>0.078227</td>\n",
       "      <td>5584.293457</td>\n",
       "      <td>0.035219</td>\n",
       "      <td>60.0</td>\n",
       "      <td>28010.0</td>\n",
       "      <td>7413.0</td>\n",
       "      <td>-182.0</td>\n",
       "      <td>0</td>\n",
       "    </tr>\n",
       "    <tr>\n",
       "      <th>2031</th>\n",
       "      <td>36005006300</td>\n",
       "      <td>1839.0</td>\n",
       "      <td>101.0</td>\n",
       "      <td>0.067860</td>\n",
       "      <td>0.975408</td>\n",
       "      <td>0.926893</td>\n",
       "      <td>0.357957</td>\n",
       "      <td>0.120214</td>\n",
       "      <td>0.060864</td>\n",
       "      <td>0.072379</td>\n",
       "      <td>...</td>\n",
       "      <td>18.0</td>\n",
       "      <td>20.0</td>\n",
       "      <td>0.246628</td>\n",
       "      <td>5869.471191</td>\n",
       "      <td>0.176553</td>\n",
       "      <td>43.0</td>\n",
       "      <td>31926.0</td>\n",
       "      <td>5031.0</td>\n",
       "      <td>-1524.0</td>\n",
       "      <td>0</td>\n",
       "    </tr>\n",
       "    <tr>\n",
       "      <th>2043</th>\n",
       "      <td>36005007600</td>\n",
       "      <td>1596.0</td>\n",
       "      <td>84.0</td>\n",
       "      <td>0.124872</td>\n",
       "      <td>0.961852</td>\n",
       "      <td>0.798142</td>\n",
       "      <td>0.236354</td>\n",
       "      <td>0.155912</td>\n",
       "      <td>0.088635</td>\n",
       "      <td>0.113711</td>\n",
       "      <td>...</td>\n",
       "      <td>0.0</td>\n",
       "      <td>16.0</td>\n",
       "      <td>0.077768</td>\n",
       "      <td>4284.000000</td>\n",
       "      <td>0.203161</td>\n",
       "      <td>66.0</td>\n",
       "      <td>34778.0</td>\n",
       "      <td>5984.0</td>\n",
       "      <td>111.0</td>\n",
       "      <td>0</td>\n",
       "    </tr>\n",
       "  </tbody>\n",
       "</table>\n",
       "<p>5 rows × 86 columns</p>\n",
       "</div>"
      ],
      "text/plain": [
       "           GEOid2    hh16  moe_hh16  per_col00  per_nonwhite00  per_rent00  \\\n",
       "1999  36005001900   962.0      47.0   0.038502        0.952883    0.779582   \n",
       "2020  36005005001  1602.0      54.0   0.080584        0.987244    0.910483   \n",
       "2021  36005005002  1860.0     111.0   0.080584        0.987244    0.910483   \n",
       "2031  36005006300  1839.0     101.0   0.067860        0.975408    0.926893   \n",
       "2043  36005007600  1596.0      84.0   0.124872        0.961852    0.798142   \n",
       "\n",
       "       vli2000    li2000    mi2000   hmi2000    ...      doctorate  \\\n",
       "1999  0.282579  0.191349  0.149400  0.092852    ...            3.0   \n",
       "2020  0.399515  0.125601  0.078236  0.074425    ...            0.0   \n",
       "2021  0.399515  0.125601  0.078236  0.074425    ...            0.0   \n",
       "2031  0.357957  0.120214  0.060864  0.072379    ...           18.0   \n",
       "2043  0.236354  0.155912  0.088635  0.113711    ...            0.0   \n",
       "\n",
       "      moe_doctorates  per_col_16        pop90  per_col90  moe_hu16   hinc16  \\\n",
       "1999             5.0    0.204986  1556.000000   0.031818      37.0  39130.0   \n",
       "2020            16.0    0.117764  4634.706543   0.029230      27.0  27283.0   \n",
       "2021            16.0    0.078227  5584.293457   0.035219      60.0  28010.0   \n",
       "2031            20.0    0.246628  5869.471191   0.176553      43.0  31926.0   \n",
       "2043            16.0    0.077768  4284.000000   0.203161      66.0  34778.0   \n",
       "\n",
       "      moe_hinc16  popgrowth  contained  \n",
       "1999      3228.0     1069.0          0  \n",
       "2020      6922.0      310.0          0  \n",
       "2021      7413.0     -182.0          0  \n",
       "2031      5031.0    -1524.0          0  \n",
       "2043      5984.0      111.0          0  \n",
       "\n",
       "[5 rows x 86 columns]"
      ]
     },
     "execution_count": 98,
     "metadata": {},
     "output_type": "execute_result"
    }
   ],
   "source": [
    "df_aram[(df_aram['contained']==0)&(df_aram.GEOid2>35103190603)].head()"
   ]
  },
  {
   "cell_type": "code",
   "execution_count": 99,
   "metadata": {},
   "outputs": [
    {
     "data": {
      "text/html": [
       "<div>\n",
       "<style scoped>\n",
       "    .dataframe tbody tr th:only-of-type {\n",
       "        vertical-align: middle;\n",
       "    }\n",
       "\n",
       "    .dataframe tbody tr th {\n",
       "        vertical-align: top;\n",
       "    }\n",
       "\n",
       "    .dataframe thead th {\n",
       "        text-align: right;\n",
       "    }\n",
       "</style>\n",
       "<table border=\"1\" class=\"dataframe\">\n",
       "  <thead>\n",
       "    <tr style=\"text-align: right;\">\n",
       "      <th></th>\n",
       "      <th>GEOid2</th>\n",
       "      <th>hh_00</th>\n",
       "      <th>hh_16</th>\n",
       "      <th>hh_16_moe</th>\n",
       "      <th>hh_90</th>\n",
       "      <th>hi_00</th>\n",
       "      <th>hi_16</th>\n",
       "      <th>hi_16_moe</th>\n",
       "      <th>hi_90</th>\n",
       "      <th>hi_mig_10</th>\n",
       "      <th>...</th>\n",
       "      <th>edulow90</th>\n",
       "      <th>edulow00</th>\n",
       "      <th>renters%90</th>\n",
       "      <th>renters%00</th>\n",
       "      <th>renters%16</th>\n",
       "      <th>nonwhiteHigh90</th>\n",
       "      <th>nonwhiteHigh00</th>\n",
       "      <th>nonwhiteHigh16</th>\n",
       "      <th>Volnurable90</th>\n",
       "      <th>Volnurable00</th>\n",
       "    </tr>\n",
       "  </thead>\n",
       "  <tbody>\n",
       "    <tr>\n",
       "      <th>1519</th>\n",
       "      <td>36005001600</td>\n",
       "      <td>1837.0</td>\n",
       "      <td>1970.0</td>\n",
       "      <td>73.0</td>\n",
       "      <td>1740.0</td>\n",
       "      <td>0.105069</td>\n",
       "      <td>0.128204</td>\n",
       "      <td>0.059109</td>\n",
       "      <td>0.115868</td>\n",
       "      <td>0.067464</td>\n",
       "      <td>...</td>\n",
       "      <td>1</td>\n",
       "      <td>1</td>\n",
       "      <td>1</td>\n",
       "      <td>1</td>\n",
       "      <td>1</td>\n",
       "      <td>0</td>\n",
       "      <td>1</td>\n",
       "      <td>1</td>\n",
       "      <td>0</td>\n",
       "      <td>1</td>\n",
       "    </tr>\n",
       "    <tr>\n",
       "      <th>1520</th>\n",
       "      <td>36005002000</td>\n",
       "      <td>3109.0</td>\n",
       "      <td>3008.0</td>\n",
       "      <td>136.0</td>\n",
       "      <td>2954.0</td>\n",
       "      <td>0.066110</td>\n",
       "      <td>0.041559</td>\n",
       "      <td>0.041727</td>\n",
       "      <td>0.100192</td>\n",
       "      <td>0.034523</td>\n",
       "      <td>...</td>\n",
       "      <td>1</td>\n",
       "      <td>1</td>\n",
       "      <td>1</td>\n",
       "      <td>1</td>\n",
       "      <td>1</td>\n",
       "      <td>0</td>\n",
       "      <td>1</td>\n",
       "      <td>1</td>\n",
       "      <td>1</td>\n",
       "      <td>1</td>\n",
       "    </tr>\n",
       "    <tr>\n",
       "      <th>1521</th>\n",
       "      <td>36005002300</td>\n",
       "      <td>1624.0</td>\n",
       "      <td>1960.0</td>\n",
       "      <td>72.0</td>\n",
       "      <td>1690.0</td>\n",
       "      <td>0.084830</td>\n",
       "      <td>0.041212</td>\n",
       "      <td>0.031476</td>\n",
       "      <td>0.075384</td>\n",
       "      <td>0.035817</td>\n",
       "      <td>...</td>\n",
       "      <td>1</td>\n",
       "      <td>1</td>\n",
       "      <td>1</td>\n",
       "      <td>1</td>\n",
       "      <td>1</td>\n",
       "      <td>0</td>\n",
       "      <td>1</td>\n",
       "      <td>1</td>\n",
       "      <td>1</td>\n",
       "      <td>1</td>\n",
       "    </tr>\n",
       "    <tr>\n",
       "      <th>1522</th>\n",
       "      <td>36005002500</td>\n",
       "      <td>1729.0</td>\n",
       "      <td>1817.0</td>\n",
       "      <td>102.0</td>\n",
       "      <td>1804.0</td>\n",
       "      <td>0.047089</td>\n",
       "      <td>0.056678</td>\n",
       "      <td>0.041296</td>\n",
       "      <td>0.060125</td>\n",
       "      <td>0.055547</td>\n",
       "      <td>...</td>\n",
       "      <td>1</td>\n",
       "      <td>1</td>\n",
       "      <td>1</td>\n",
       "      <td>1</td>\n",
       "      <td>1</td>\n",
       "      <td>0</td>\n",
       "      <td>1</td>\n",
       "      <td>1</td>\n",
       "      <td>1</td>\n",
       "      <td>1</td>\n",
       "    </tr>\n",
       "    <tr>\n",
       "      <th>1523</th>\n",
       "      <td>36005002702</td>\n",
       "      <td>1295.0</td>\n",
       "      <td>1436.0</td>\n",
       "      <td>62.0</td>\n",
       "      <td>1132.0</td>\n",
       "      <td>0.068404</td>\n",
       "      <td>0.050312</td>\n",
       "      <td>0.051769</td>\n",
       "      <td>0.029938</td>\n",
       "      <td>0.030363</td>\n",
       "      <td>...</td>\n",
       "      <td>1</td>\n",
       "      <td>1</td>\n",
       "      <td>1</td>\n",
       "      <td>1</td>\n",
       "      <td>1</td>\n",
       "      <td>0</td>\n",
       "      <td>1</td>\n",
       "      <td>1</td>\n",
       "      <td>1</td>\n",
       "      <td>1</td>\n",
       "    </tr>\n",
       "  </tbody>\n",
       "</table>\n",
       "<p>5 rows × 112 columns</p>\n",
       "</div>"
      ],
      "text/plain": [
       "           GEOid2   hh_00   hh_16  hh_16_moe   hh_90     hi_00     hi_16  \\\n",
       "1519  36005001600  1837.0  1970.0       73.0  1740.0  0.105069  0.128204   \n",
       "1520  36005002000  3109.0  3008.0      136.0  2954.0  0.066110  0.041559   \n",
       "1521  36005002300  1624.0  1960.0       72.0  1690.0  0.084830  0.041212   \n",
       "1522  36005002500  1729.0  1817.0      102.0  1804.0  0.047089  0.056678   \n",
       "1523  36005002702  1295.0  1436.0       62.0  1132.0  0.068404  0.050312   \n",
       "\n",
       "      hi_16_moe     hi_90  hi_mig_10      ...       edulow90  edulow00  \\\n",
       "1519   0.059109  0.115868   0.067464      ...              1         1   \n",
       "1520   0.041727  0.100192   0.034523      ...              1         1   \n",
       "1521   0.031476  0.075384   0.035817      ...              1         1   \n",
       "1522   0.041296  0.060125   0.055547      ...              1         1   \n",
       "1523   0.051769  0.029938   0.030363      ...              1         1   \n",
       "\n",
       "      renters%90  renters%00  renters%16  nonwhiteHigh90  nonwhiteHigh00  \\\n",
       "1519           1           1           1               0               1   \n",
       "1520           1           1           1               0               1   \n",
       "1521           1           1           1               0               1   \n",
       "1522           1           1           1               0               1   \n",
       "1523           1           1           1               0               1   \n",
       "\n",
       "      nonwhiteHigh16  Volnurable90  Volnurable00  \n",
       "1519               1             0             1  \n",
       "1520               1             1             1  \n",
       "1521               1             1             1  \n",
       "1522               1             1             1  \n",
       "1523               1             1             1  \n",
       "\n",
       "[5 rows x 112 columns]"
      ]
     },
     "execution_count": 99,
     "metadata": {},
     "output_type": "execute_result"
    }
   ],
   "source": [
    "data[data.GEOid2>36005001500].head()"
   ]
  },
  {
   "cell_type": "code",
   "execution_count": 100,
   "metadata": {},
   "outputs": [
    {
     "data": {
      "text/html": [
       "<div>\n",
       "<style scoped>\n",
       "    .dataframe tbody tr th:only-of-type {\n",
       "        vertical-align: middle;\n",
       "    }\n",
       "\n",
       "    .dataframe tbody tr th {\n",
       "        vertical-align: top;\n",
       "    }\n",
       "\n",
       "    .dataframe thead th {\n",
       "        text-align: right;\n",
       "    }\n",
       "</style>\n",
       "<table border=\"1\" class=\"dataframe\">\n",
       "  <thead>\n",
       "    <tr style=\"text-align: right;\">\n",
       "      <th></th>\n",
       "      <th>vli_90</th>\n",
       "      <th>li_90</th>\n",
       "      <th>mi_90</th>\n",
       "      <th>mhi_90</th>\n",
       "      <th>hi_90</th>\n",
       "      <th>vhi_90</th>\n",
       "      <th>per_col_90</th>\n",
       "      <th>per_rent_90</th>\n",
       "      <th>per_owners_90</th>\n",
       "      <th>per_nonwhite_90</th>\n",
       "      <th>hh_90</th>\n",
       "      <th>mrent_90</th>\n",
       "      <th>hinc_90</th>\n",
       "      <th>mhval_90</th>\n",
       "      <th>hu_90</th>\n",
       "      <th>pop_90</th>\n",
       "      <th>state</th>\n",
       "      <th>county</th>\n",
       "      <th>tract</th>\n",
       "      <th>GEOid2</th>\n",
       "    </tr>\n",
       "  </thead>\n",
       "  <tbody>\n",
       "    <tr>\n",
       "      <th>86</th>\n",
       "      <td>0.397441</td>\n",
       "      <td>0.146268</td>\n",
       "      <td>0.127801</td>\n",
       "      <td>0.085457</td>\n",
       "      <td>0.100192</td>\n",
       "      <td>0.142840</td>\n",
       "      <td>0.043086</td>\n",
       "      <td>0.869712</td>\n",
       "      <td>0.130288</td>\n",
       "      <td>0.0</td>\n",
       "      <td>2954.0</td>\n",
       "      <td>298.0</td>\n",
       "      <td>14765.0</td>\n",
       "      <td>185400.0</td>\n",
       "      <td>2955.0</td>\n",
       "      <td>9110.0</td>\n",
       "      <td>36</td>\n",
       "      <td>5</td>\n",
       "      <td>2000</td>\n",
       "      <td>36005002000</td>\n",
       "    </tr>\n",
       "    <tr>\n",
       "      <th>87</th>\n",
       "      <td>0.576833</td>\n",
       "      <td>0.104262</td>\n",
       "      <td>0.116869</td>\n",
       "      <td>0.078001</td>\n",
       "      <td>0.075384</td>\n",
       "      <td>0.048651</td>\n",
       "      <td>0.030145</td>\n",
       "      <td>0.990981</td>\n",
       "      <td>0.009019</td>\n",
       "      <td>0.0</td>\n",
       "      <td>1690.0</td>\n",
       "      <td>186.0</td>\n",
       "      <td>7925.0</td>\n",
       "      <td>0.0</td>\n",
       "      <td>1774.0</td>\n",
       "      <td>4577.0</td>\n",
       "      <td>36</td>\n",
       "      <td>5</td>\n",
       "      <td>2300</td>\n",
       "      <td>36005002300</td>\n",
       "    </tr>\n",
       "    <tr>\n",
       "      <th>88</th>\n",
       "      <td>0.589194</td>\n",
       "      <td>0.119006</td>\n",
       "      <td>0.124845</td>\n",
       "      <td>0.065452</td>\n",
       "      <td>0.060125</td>\n",
       "      <td>0.041377</td>\n",
       "      <td>0.020984</td>\n",
       "      <td>0.975524</td>\n",
       "      <td>0.024476</td>\n",
       "      <td>0.0</td>\n",
       "      <td>1804.0</td>\n",
       "      <td>276.0</td>\n",
       "      <td>8246.0</td>\n",
       "      <td>87500.0</td>\n",
       "      <td>1716.0</td>\n",
       "      <td>5572.0</td>\n",
       "      <td>36</td>\n",
       "      <td>5</td>\n",
       "      <td>2500</td>\n",
       "      <td>36005002500</td>\n",
       "    </tr>\n",
       "    <tr>\n",
       "      <th>89</th>\n",
       "      <td>0.572817</td>\n",
       "      <td>0.089893</td>\n",
       "      <td>0.137253</td>\n",
       "      <td>0.047893</td>\n",
       "      <td>0.069228</td>\n",
       "      <td>0.082917</td>\n",
       "      <td>0.022631</td>\n",
       "      <td>1.000000</td>\n",
       "      <td>0.000000</td>\n",
       "      <td>0.0</td>\n",
       "      <td>1001.0</td>\n",
       "      <td>192.0</td>\n",
       "      <td>8128.0</td>\n",
       "      <td>0.0</td>\n",
       "      <td>904.0</td>\n",
       "      <td>3004.0</td>\n",
       "      <td>36</td>\n",
       "      <td>5</td>\n",
       "      <td>2701</td>\n",
       "      <td>36005002701</td>\n",
       "    </tr>\n",
       "    <tr>\n",
       "      <th>90</th>\n",
       "      <td>0.663262</td>\n",
       "      <td>0.120471</td>\n",
       "      <td>0.098431</td>\n",
       "      <td>0.054029</td>\n",
       "      <td>0.029938</td>\n",
       "      <td>0.033869</td>\n",
       "      <td>0.010953</td>\n",
       "      <td>0.979452</td>\n",
       "      <td>0.020548</td>\n",
       "      <td>0.0</td>\n",
       "      <td>1132.0</td>\n",
       "      <td>284.0</td>\n",
       "      <td>7140.0</td>\n",
       "      <td>0.0</td>\n",
       "      <td>1168.0</td>\n",
       "      <td>3930.0</td>\n",
       "      <td>36</td>\n",
       "      <td>5</td>\n",
       "      <td>2702</td>\n",
       "      <td>36005002702</td>\n",
       "    </tr>\n",
       "  </tbody>\n",
       "</table>\n",
       "</div>"
      ],
      "text/plain": [
       "      vli_90     li_90     mi_90    mhi_90     hi_90    vhi_90  per_col_90  \\\n",
       "86  0.397441  0.146268  0.127801  0.085457  0.100192  0.142840    0.043086   \n",
       "87  0.576833  0.104262  0.116869  0.078001  0.075384  0.048651    0.030145   \n",
       "88  0.589194  0.119006  0.124845  0.065452  0.060125  0.041377    0.020984   \n",
       "89  0.572817  0.089893  0.137253  0.047893  0.069228  0.082917    0.022631   \n",
       "90  0.663262  0.120471  0.098431  0.054029  0.029938  0.033869    0.010953   \n",
       "\n",
       "    per_rent_90  per_owners_90  per_nonwhite_90   hh_90  mrent_90  hinc_90  \\\n",
       "86     0.869712       0.130288              0.0  2954.0     298.0  14765.0   \n",
       "87     0.990981       0.009019              0.0  1690.0     186.0   7925.0   \n",
       "88     0.975524       0.024476              0.0  1804.0     276.0   8246.0   \n",
       "89     1.000000       0.000000              0.0  1001.0     192.0   8128.0   \n",
       "90     0.979452       0.020548              0.0  1132.0     284.0   7140.0   \n",
       "\n",
       "    mhval_90   hu_90  pop_90  state  county  tract       GEOid2  \n",
       "86  185400.0  2955.0  9110.0     36       5   2000  36005002000  \n",
       "87       0.0  1774.0  4577.0     36       5   2300  36005002300  \n",
       "88   87500.0  1716.0  5572.0     36       5   2500  36005002500  \n",
       "89       0.0   904.0  3004.0     36       5   2701  36005002701  \n",
       "90       0.0  1168.0  3930.0     36       5   2702  36005002702  "
      ]
     },
     "execution_count": 100,
     "metadata": {},
     "output_type": "execute_result"
    }
   ],
   "source": [
    "df_ny_90[df_ny_90.GEOid2>36005001800].head()"
   ]
  },
  {
   "cell_type": "code",
   "execution_count": 101,
   "metadata": {},
   "outputs": [
    {
     "data": {
      "text/html": [
       "<div>\n",
       "<style scoped>\n",
       "    .dataframe tbody tr th:only-of-type {\n",
       "        vertical-align: middle;\n",
       "    }\n",
       "\n",
       "    .dataframe tbody tr th {\n",
       "        vertical-align: top;\n",
       "    }\n",
       "\n",
       "    .dataframe thead th {\n",
       "        text-align: right;\n",
       "    }\n",
       "</style>\n",
       "<table border=\"1\" class=\"dataframe\">\n",
       "  <thead>\n",
       "    <tr style=\"text-align: right;\">\n",
       "      <th></th>\n",
       "      <th>vli_00</th>\n",
       "      <th>li_00</th>\n",
       "      <th>mi_00</th>\n",
       "      <th>mhi_00</th>\n",
       "      <th>hi_00</th>\n",
       "      <th>vhi_00</th>\n",
       "      <th>per_col_00</th>\n",
       "      <th>per_rent_00</th>\n",
       "      <th>per_owners_00</th>\n",
       "      <th>per_nonwhite_00</th>\n",
       "      <th>...</th>\n",
       "      <th>mrent_00</th>\n",
       "      <th>hinc_00</th>\n",
       "      <th>mhval_00</th>\n",
       "      <th>hu_00</th>\n",
       "      <th>pop_00</th>\n",
       "      <th>NAME</th>\n",
       "      <th>state</th>\n",
       "      <th>county</th>\n",
       "      <th>tract</th>\n",
       "      <th>GEOid2</th>\n",
       "    </tr>\n",
       "  </thead>\n",
       "  <tbody>\n",
       "    <tr>\n",
       "      <th>90</th>\n",
       "      <td>0.290700</td>\n",
       "      <td>0.157385</td>\n",
       "      <td>0.164295</td>\n",
       "      <td>0.093594</td>\n",
       "      <td>0.105069</td>\n",
       "      <td>0.188957</td>\n",
       "      <td>0.081406</td>\n",
       "      <td>0.844655</td>\n",
       "      <td>0.155345</td>\n",
       "      <td>0.667051</td>\n",
       "      <td>...</td>\n",
       "      <td>558.0</td>\n",
       "      <td>24552.0</td>\n",
       "      <td>186800.0</td>\n",
       "      <td>1796.0</td>\n",
       "      <td>5208.0</td>\n",
       "      <td>Census Tract 16</td>\n",
       "      <td>36</td>\n",
       "      <td>5</td>\n",
       "      <td>1600</td>\n",
       "      <td>36005001600</td>\n",
       "    </tr>\n",
       "    <tr>\n",
       "      <th>91</th>\n",
       "      <td>0.360628</td>\n",
       "      <td>0.121842</td>\n",
       "      <td>0.271059</td>\n",
       "      <td>0.063139</td>\n",
       "      <td>0.057960</td>\n",
       "      <td>0.125371</td>\n",
       "      <td>0.044061</td>\n",
       "      <td>0.870849</td>\n",
       "      <td>0.129151</td>\n",
       "      <td>0.741211</td>\n",
       "      <td>...</td>\n",
       "      <td>443.0</td>\n",
       "      <td>21283.0</td>\n",
       "      <td>178100.0</td>\n",
       "      <td>271.0</td>\n",
       "      <td>1024.0</td>\n",
       "      <td>Census Tract 17</td>\n",
       "      <td>36</td>\n",
       "      <td>5</td>\n",
       "      <td>1700</td>\n",
       "      <td>36005001700</td>\n",
       "    </tr>\n",
       "    <tr>\n",
       "      <th>92</th>\n",
       "      <td>0.473237</td>\n",
       "      <td>0.110749</td>\n",
       "      <td>0.147592</td>\n",
       "      <td>0.076283</td>\n",
       "      <td>0.066110</td>\n",
       "      <td>0.126029</td>\n",
       "      <td>0.045770</td>\n",
       "      <td>0.847231</td>\n",
       "      <td>0.152769</td>\n",
       "      <td>0.825074</td>\n",
       "      <td>...</td>\n",
       "      <td>266.0</td>\n",
       "      <td>14691.0</td>\n",
       "      <td>211500.0</td>\n",
       "      <td>3070.0</td>\n",
       "      <td>9101.0</td>\n",
       "      <td>Census Tract 20</td>\n",
       "      <td>36</td>\n",
       "      <td>5</td>\n",
       "      <td>2000</td>\n",
       "      <td>36005002000</td>\n",
       "    </tr>\n",
       "    <tr>\n",
       "      <th>93</th>\n",
       "      <td>0.483123</td>\n",
       "      <td>0.151444</td>\n",
       "      <td>0.132124</td>\n",
       "      <td>0.049700</td>\n",
       "      <td>0.084830</td>\n",
       "      <td>0.098779</td>\n",
       "      <td>0.042387</td>\n",
       "      <td>0.993961</td>\n",
       "      <td>0.006039</td>\n",
       "      <td>0.776771</td>\n",
       "      <td>...</td>\n",
       "      <td>229.0</td>\n",
       "      <td>14112.0</td>\n",
       "      <td>187500.0</td>\n",
       "      <td>1656.0</td>\n",
       "      <td>4305.0</td>\n",
       "      <td>Census Tract 23</td>\n",
       "      <td>36</td>\n",
       "      <td>5</td>\n",
       "      <td>2300</td>\n",
       "      <td>36005002300</td>\n",
       "    </tr>\n",
       "    <tr>\n",
       "      <th>94</th>\n",
       "      <td>0.506997</td>\n",
       "      <td>0.170981</td>\n",
       "      <td>0.141513</td>\n",
       "      <td>0.041535</td>\n",
       "      <td>0.047089</td>\n",
       "      <td>0.091885</td>\n",
       "      <td>0.028959</td>\n",
       "      <td>0.971014</td>\n",
       "      <td>0.028986</td>\n",
       "      <td>0.747700</td>\n",
       "      <td>...</td>\n",
       "      <td>340.0</td>\n",
       "      <td>12221.0</td>\n",
       "      <td>92400.0</td>\n",
       "      <td>1725.0</td>\n",
       "      <td>5109.0</td>\n",
       "      <td>Census Tract 25</td>\n",
       "      <td>36</td>\n",
       "      <td>5</td>\n",
       "      <td>2500</td>\n",
       "      <td>36005002500</td>\n",
       "    </tr>\n",
       "  </tbody>\n",
       "</table>\n",
       "<p>5 rows × 21 columns</p>\n",
       "</div>"
      ],
      "text/plain": [
       "      vli_00     li_00     mi_00    mhi_00     hi_00    vhi_00  per_col_00  \\\n",
       "90  0.290700  0.157385  0.164295  0.093594  0.105069  0.188957    0.081406   \n",
       "91  0.360628  0.121842  0.271059  0.063139  0.057960  0.125371    0.044061   \n",
       "92  0.473237  0.110749  0.147592  0.076283  0.066110  0.126029    0.045770   \n",
       "93  0.483123  0.151444  0.132124  0.049700  0.084830  0.098779    0.042387   \n",
       "94  0.506997  0.170981  0.141513  0.041535  0.047089  0.091885    0.028959   \n",
       "\n",
       "    per_rent_00  per_owners_00  per_nonwhite_00     ...       mrent_00  \\\n",
       "90     0.844655       0.155345         0.667051     ...          558.0   \n",
       "91     0.870849       0.129151         0.741211     ...          443.0   \n",
       "92     0.847231       0.152769         0.825074     ...          266.0   \n",
       "93     0.993961       0.006039         0.776771     ...          229.0   \n",
       "94     0.971014       0.028986         0.747700     ...          340.0   \n",
       "\n",
       "    hinc_00  mhval_00   hu_00  pop_00             NAME state  county  tract  \\\n",
       "90  24552.0  186800.0  1796.0  5208.0  Census Tract 16    36       5   1600   \n",
       "91  21283.0  178100.0   271.0  1024.0  Census Tract 17    36       5   1700   \n",
       "92  14691.0  211500.0  3070.0  9101.0  Census Tract 20    36       5   2000   \n",
       "93  14112.0  187500.0  1656.0  4305.0  Census Tract 23    36       5   2300   \n",
       "94  12221.0   92400.0  1725.0  5109.0  Census Tract 25    36       5   2500   \n",
       "\n",
       "         GEOid2  \n",
       "90  36005001600  \n",
       "91  36005001700  \n",
       "92  36005002000  \n",
       "93  36005002300  \n",
       "94  36005002500  \n",
       "\n",
       "[5 rows x 21 columns]"
      ]
     },
     "execution_count": 101,
     "metadata": {},
     "output_type": "execute_result"
    }
   ],
   "source": [
    "df_ny_00[df_ny_00.GEOid2>36005001500].head()"
   ]
  },
  {
   "cell_type": "code",
   "execution_count": 102,
   "metadata": {},
   "outputs": [
    {
     "data": {
      "text/html": [
       "<div>\n",
       "<style scoped>\n",
       "    .dataframe tbody tr th:only-of-type {\n",
       "        vertical-align: middle;\n",
       "    }\n",
       "\n",
       "    .dataframe tbody tr th {\n",
       "        vertical-align: top;\n",
       "    }\n",
       "\n",
       "    .dataframe thead th {\n",
       "        text-align: right;\n",
       "    }\n",
       "</style>\n",
       "<table border=\"1\" class=\"dataframe\">\n",
       "  <thead>\n",
       "    <tr style=\"text-align: right;\">\n",
       "      <th></th>\n",
       "      <th>vli_mig_10</th>\n",
       "      <th>li_mig_10</th>\n",
       "      <th>mi_mig_10</th>\n",
       "      <th>mhi_mig_10</th>\n",
       "      <th>hi_mig_10</th>\n",
       "      <th>vhi_mig_10</th>\n",
       "      <th>vli_mig_10_moe</th>\n",
       "      <th>li_mig_10_moe</th>\n",
       "      <th>mi_mig_10_moe</th>\n",
       "      <th>mhi_mig_10_moe</th>\n",
       "      <th>hi_mig_10_moe</th>\n",
       "      <th>vhi_mig_10_moe</th>\n",
       "      <th>state</th>\n",
       "      <th>county</th>\n",
       "      <th>tract</th>\n",
       "      <th>per_all_li_mig_10</th>\n",
       "      <th>GEOid2</th>\n",
       "    </tr>\n",
       "  </thead>\n",
       "  <tbody>\n",
       "    <tr>\n",
       "      <th>91</th>\n",
       "      <td>0.476297</td>\n",
       "      <td>0.161810</td>\n",
       "      <td>0.147167</td>\n",
       "      <td>0.086034</td>\n",
       "      <td>0.067464</td>\n",
       "      <td>0.061538</td>\n",
       "      <td>0.142988</td>\n",
       "      <td>0.069746</td>\n",
       "      <td>0.065673</td>\n",
       "      <td>0.040179</td>\n",
       "      <td>0.040380</td>\n",
       "      <td>0.053025</td>\n",
       "      <td>36</td>\n",
       "      <td>5</td>\n",
       "      <td>1600</td>\n",
       "      <td>0.638106</td>\n",
       "      <td>36005001600</td>\n",
       "    </tr>\n",
       "    <tr>\n",
       "      <th>92</th>\n",
       "      <td>0.435911</td>\n",
       "      <td>0.102929</td>\n",
       "      <td>0.150065</td>\n",
       "      <td>0.139682</td>\n",
       "      <td>0.070832</td>\n",
       "      <td>0.100904</td>\n",
       "      <td>0.191555</td>\n",
       "      <td>0.048462</td>\n",
       "      <td>0.061350</td>\n",
       "      <td>0.055164</td>\n",
       "      <td>0.055391</td>\n",
       "      <td>0.057313</td>\n",
       "      <td>36</td>\n",
       "      <td>5</td>\n",
       "      <td>1900</td>\n",
       "      <td>0.538840</td>\n",
       "      <td>36005001900</td>\n",
       "    </tr>\n",
       "    <tr>\n",
       "      <th>93</th>\n",
       "      <td>0.575514</td>\n",
       "      <td>0.182319</td>\n",
       "      <td>0.094793</td>\n",
       "      <td>0.070062</td>\n",
       "      <td>0.034523</td>\n",
       "      <td>0.042949</td>\n",
       "      <td>0.180140</td>\n",
       "      <td>0.075666</td>\n",
       "      <td>0.049459</td>\n",
       "      <td>0.041552</td>\n",
       "      <td>0.041712</td>\n",
       "      <td>0.040521</td>\n",
       "      <td>36</td>\n",
       "      <td>5</td>\n",
       "      <td>2000</td>\n",
       "      <td>0.757832</td>\n",
       "      <td>36005002000</td>\n",
       "    </tr>\n",
       "    <tr>\n",
       "      <th>94</th>\n",
       "      <td>0.579382</td>\n",
       "      <td>0.205637</td>\n",
       "      <td>0.124125</td>\n",
       "      <td>0.035103</td>\n",
       "      <td>0.035817</td>\n",
       "      <td>0.020098</td>\n",
       "      <td>0.206160</td>\n",
       "      <td>0.067056</td>\n",
       "      <td>0.054980</td>\n",
       "      <td>0.025173</td>\n",
       "      <td>0.025217</td>\n",
       "      <td>0.021590</td>\n",
       "      <td>36</td>\n",
       "      <td>5</td>\n",
       "      <td>2300</td>\n",
       "      <td>0.785020</td>\n",
       "      <td>36005002300</td>\n",
       "    </tr>\n",
       "    <tr>\n",
       "      <th>95</th>\n",
       "      <td>0.000000</td>\n",
       "      <td>0.000000</td>\n",
       "      <td>0.090416</td>\n",
       "      <td>0.246319</td>\n",
       "      <td>0.399790</td>\n",
       "      <td>0.265306</td>\n",
       "      <td>0.000000</td>\n",
       "      <td>0.000000</td>\n",
       "      <td>0.257939</td>\n",
       "      <td>0.702703</td>\n",
       "      <td>0.707900</td>\n",
       "      <td>0.766764</td>\n",
       "      <td>36</td>\n",
       "      <td>5</td>\n",
       "      <td>2400</td>\n",
       "      <td>0.000000</td>\n",
       "      <td>36005002400</td>\n",
       "    </tr>\n",
       "  </tbody>\n",
       "</table>\n",
       "</div>"
      ],
      "text/plain": [
       "    vli_mig_10  li_mig_10  mi_mig_10  mhi_mig_10  hi_mig_10  vhi_mig_10  \\\n",
       "91    0.476297   0.161810   0.147167    0.086034   0.067464    0.061538   \n",
       "92    0.435911   0.102929   0.150065    0.139682   0.070832    0.100904   \n",
       "93    0.575514   0.182319   0.094793    0.070062   0.034523    0.042949   \n",
       "94    0.579382   0.205637   0.124125    0.035103   0.035817    0.020098   \n",
       "95    0.000000   0.000000   0.090416    0.246319   0.399790    0.265306   \n",
       "\n",
       "    vli_mig_10_moe  li_mig_10_moe  mi_mig_10_moe  mhi_mig_10_moe  \\\n",
       "91        0.142988       0.069746       0.065673        0.040179   \n",
       "92        0.191555       0.048462       0.061350        0.055164   \n",
       "93        0.180140       0.075666       0.049459        0.041552   \n",
       "94        0.206160       0.067056       0.054980        0.025173   \n",
       "95        0.000000       0.000000       0.257939        0.702703   \n",
       "\n",
       "    hi_mig_10_moe  vhi_mig_10_moe  state  county  tract  per_all_li_mig_10  \\\n",
       "91       0.040380        0.053025     36       5   1600           0.638106   \n",
       "92       0.055391        0.057313     36       5   1900           0.538840   \n",
       "93       0.041712        0.040521     36       5   2000           0.757832   \n",
       "94       0.025217        0.021590     36       5   2300           0.785020   \n",
       "95       0.707900        0.766764     36       5   2400           0.000000   \n",
       "\n",
       "         GEOid2  \n",
       "91  36005001600  \n",
       "92  36005001900  \n",
       "93  36005002000  \n",
       "94  36005002300  \n",
       "95  36005002400  "
      ]
     },
     "execution_count": 102,
     "metadata": {},
     "output_type": "execute_result"
    }
   ],
   "source": [
    "df_ny_10[df_ny_10.GEOid2>36005001500].head()"
   ]
  },
  {
   "cell_type": "code",
   "execution_count": 103,
   "metadata": {},
   "outputs": [
    {
     "data": {
      "text/html": [
       "<div>\n",
       "<style scoped>\n",
       "    .dataframe tbody tr th:only-of-type {\n",
       "        vertical-align: middle;\n",
       "    }\n",
       "\n",
       "    .dataframe tbody tr th {\n",
       "        vertical-align: top;\n",
       "    }\n",
       "\n",
       "    .dataframe thead th {\n",
       "        text-align: right;\n",
       "    }\n",
       "</style>\n",
       "<table border=\"1\" class=\"dataframe\">\n",
       "  <thead>\n",
       "    <tr style=\"text-align: right;\">\n",
       "      <th></th>\n",
       "      <th>vli_16</th>\n",
       "      <th>li_16</th>\n",
       "      <th>mi_16</th>\n",
       "      <th>mhi_16</th>\n",
       "      <th>hi_16</th>\n",
       "      <th>vhi_16</th>\n",
       "      <th>vli_mig_16</th>\n",
       "      <th>li_mig_16</th>\n",
       "      <th>mi_mig_16</th>\n",
       "      <th>mhi_mig_16</th>\n",
       "      <th>...</th>\n",
       "      <th>state</th>\n",
       "      <th>county</th>\n",
       "      <th>tract</th>\n",
       "      <th>hh_16_moe</th>\n",
       "      <th>mrent_16_moe</th>\n",
       "      <th>hinc_16_moe</th>\n",
       "      <th>mhval_16_moe</th>\n",
       "      <th>hu_16_moe</th>\n",
       "      <th>pop_16_moe</th>\n",
       "      <th>GEOid2</th>\n",
       "    </tr>\n",
       "  </thead>\n",
       "  <tbody>\n",
       "    <tr>\n",
       "      <th>88</th>\n",
       "      <td>0.303323</td>\n",
       "      <td>0.104233</td>\n",
       "      <td>0.201761</td>\n",
       "      <td>0.094281</td>\n",
       "      <td>0.128204</td>\n",
       "      <td>0.168198</td>\n",
       "      <td>0.476297</td>\n",
       "      <td>0.161810</td>\n",
       "      <td>0.147167</td>\n",
       "      <td>0.086034</td>\n",
       "      <td>...</td>\n",
       "      <td>36</td>\n",
       "      <td>5</td>\n",
       "      <td>1600</td>\n",
       "      <td>73.0</td>\n",
       "      <td>54.0</td>\n",
       "      <td>3554.0</td>\n",
       "      <td>24228.0</td>\n",
       "      <td>73.0</td>\n",
       "      <td>600.0</td>\n",
       "      <td>36005001600</td>\n",
       "    </tr>\n",
       "    <tr>\n",
       "      <th>89</th>\n",
       "      <td>0.253424</td>\n",
       "      <td>0.052650</td>\n",
       "      <td>0.196232</td>\n",
       "      <td>0.129688</td>\n",
       "      <td>0.102852</td>\n",
       "      <td>0.265155</td>\n",
       "      <td>0.435911</td>\n",
       "      <td>0.102929</td>\n",
       "      <td>0.150065</td>\n",
       "      <td>0.139682</td>\n",
       "      <td>...</td>\n",
       "      <td>36</td>\n",
       "      <td>5</td>\n",
       "      <td>1900</td>\n",
       "      <td>47.0</td>\n",
       "      <td>64.0</td>\n",
       "      <td>3228.0</td>\n",
       "      <td>40684.0</td>\n",
       "      <td>47.0</td>\n",
       "      <td>310.0</td>\n",
       "      <td>36005001900</td>\n",
       "    </tr>\n",
       "    <tr>\n",
       "      <th>90</th>\n",
       "      <td>0.463980</td>\n",
       "      <td>0.172038</td>\n",
       "      <td>0.157253</td>\n",
       "      <td>0.040911</td>\n",
       "      <td>0.041559</td>\n",
       "      <td>0.124259</td>\n",
       "      <td>0.575514</td>\n",
       "      <td>0.182319</td>\n",
       "      <td>0.094793</td>\n",
       "      <td>0.070062</td>\n",
       "      <td>...</td>\n",
       "      <td>36</td>\n",
       "      <td>5</td>\n",
       "      <td>2000</td>\n",
       "      <td>136.0</td>\n",
       "      <td>132.0</td>\n",
       "      <td>4611.0</td>\n",
       "      <td>26993.0</td>\n",
       "      <td>136.0</td>\n",
       "      <td>912.0</td>\n",
       "      <td>36005002000</td>\n",
       "    </tr>\n",
       "    <tr>\n",
       "      <th>91</th>\n",
       "      <td>0.492423</td>\n",
       "      <td>0.225821</td>\n",
       "      <td>0.106572</td>\n",
       "      <td>0.052592</td>\n",
       "      <td>0.041212</td>\n",
       "      <td>0.081381</td>\n",
       "      <td>0.579382</td>\n",
       "      <td>0.205637</td>\n",
       "      <td>0.124125</td>\n",
       "      <td>0.035103</td>\n",
       "      <td>...</td>\n",
       "      <td>36</td>\n",
       "      <td>5</td>\n",
       "      <td>2300</td>\n",
       "      <td>72.0</td>\n",
       "      <td>46.0</td>\n",
       "      <td>2328.0</td>\n",
       "      <td>-222222222.0</td>\n",
       "      <td>72.0</td>\n",
       "      <td>434.0</td>\n",
       "      <td>36005002300</td>\n",
       "    </tr>\n",
       "    <tr>\n",
       "      <th>92</th>\n",
       "      <td>0.409848</td>\n",
       "      <td>0.183600</td>\n",
       "      <td>0.147668</td>\n",
       "      <td>0.041393</td>\n",
       "      <td>0.056678</td>\n",
       "      <td>0.160814</td>\n",
       "      <td>0.490615</td>\n",
       "      <td>0.247891</td>\n",
       "      <td>0.115124</td>\n",
       "      <td>0.061570</td>\n",
       "      <td>...</td>\n",
       "      <td>36</td>\n",
       "      <td>5</td>\n",
       "      <td>2500</td>\n",
       "      <td>102.0</td>\n",
       "      <td>138.0</td>\n",
       "      <td>7282.0</td>\n",
       "      <td>129523.0</td>\n",
       "      <td>102.0</td>\n",
       "      <td>498.0</td>\n",
       "      <td>36005002500</td>\n",
       "    </tr>\n",
       "  </tbody>\n",
       "</table>\n",
       "<p>5 rows × 51 columns</p>\n",
       "</div>"
      ],
      "text/plain": [
       "      vli_16     li_16     mi_16    mhi_16     hi_16    vhi_16  vli_mig_16  \\\n",
       "88  0.303323  0.104233  0.201761  0.094281  0.128204  0.168198    0.476297   \n",
       "89  0.253424  0.052650  0.196232  0.129688  0.102852  0.265155    0.435911   \n",
       "90  0.463980  0.172038  0.157253  0.040911  0.041559  0.124259    0.575514   \n",
       "91  0.492423  0.225821  0.106572  0.052592  0.041212  0.081381    0.579382   \n",
       "92  0.409848  0.183600  0.147668  0.041393  0.056678  0.160814    0.490615   \n",
       "\n",
       "    li_mig_16  mi_mig_16  mhi_mig_16     ...       state  county  tract  \\\n",
       "88   0.161810   0.147167    0.086034     ...          36       5   1600   \n",
       "89   0.102929   0.150065    0.139682     ...          36       5   1900   \n",
       "90   0.182319   0.094793    0.070062     ...          36       5   2000   \n",
       "91   0.205637   0.124125    0.035103     ...          36       5   2300   \n",
       "92   0.247891   0.115124    0.061570     ...          36       5   2500   \n",
       "\n",
       "    hh_16_moe  mrent_16_moe  hinc_16_moe  mhval_16_moe  hu_16_moe  pop_16_moe  \\\n",
       "88       73.0          54.0       3554.0       24228.0       73.0       600.0   \n",
       "89       47.0          64.0       3228.0       40684.0       47.0       310.0   \n",
       "90      136.0         132.0       4611.0       26993.0      136.0       912.0   \n",
       "91       72.0          46.0       2328.0  -222222222.0       72.0       434.0   \n",
       "92      102.0         138.0       7282.0      129523.0      102.0       498.0   \n",
       "\n",
       "         GEOid2  \n",
       "88  36005001600  \n",
       "89  36005001900  \n",
       "90  36005002000  \n",
       "91  36005002300  \n",
       "92  36005002500  \n",
       "\n",
       "[5 rows x 51 columns]"
      ]
     },
     "execution_count": 103,
     "metadata": {},
     "output_type": "execute_result"
    }
   ],
   "source": [
    "df_ny_16[df_ny_16.GEOid2>36005001500].head()"
   ]
  },
  {
   "cell_type": "code",
   "execution_count": 104,
   "metadata": {},
   "outputs": [
    {
     "data": {
      "text/html": [
       "<div>\n",
       "<style scoped>\n",
       "    .dataframe tbody tr th:only-of-type {\n",
       "        vertical-align: middle;\n",
       "    }\n",
       "\n",
       "    .dataframe tbody tr th {\n",
       "        vertical-align: top;\n",
       "    }\n",
       "\n",
       "    .dataframe thead th {\n",
       "        text-align: right;\n",
       "    }\n",
       "</style>\n",
       "<table border=\"1\" class=\"dataframe\">\n",
       "  <thead>\n",
       "    <tr style=\"text-align: right;\">\n",
       "      <th></th>\n",
       "      <th>vli_00</th>\n",
       "      <th>li_00</th>\n",
       "      <th>mi_00</th>\n",
       "      <th>mhi_00</th>\n",
       "      <th>hi_00</th>\n",
       "      <th>vhi_00</th>\n",
       "      <th>per_col_00</th>\n",
       "      <th>per_rent_00</th>\n",
       "      <th>per_owners_00</th>\n",
       "      <th>per_nonwhite_00</th>\n",
       "      <th>...</th>\n",
       "      <th>mrent_00</th>\n",
       "      <th>hinc_00</th>\n",
       "      <th>mhval_00</th>\n",
       "      <th>hu_00</th>\n",
       "      <th>pop_00</th>\n",
       "      <th>NAME</th>\n",
       "      <th>state</th>\n",
       "      <th>county</th>\n",
       "      <th>tract</th>\n",
       "      <th>GEOid2</th>\n",
       "    </tr>\n",
       "  </thead>\n",
       "  <tbody>\n",
       "    <tr>\n",
       "      <th>32</th>\n",
       "      <td>0.226723</td>\n",
       "      <td>0.239451</td>\n",
       "      <td>0.249839</td>\n",
       "      <td>0.104110</td>\n",
       "      <td>0.079595</td>\n",
       "      <td>0.100281</td>\n",
       "      <td>0.197674</td>\n",
       "      <td>0.342237</td>\n",
       "      <td>0.657763</td>\n",
       "      <td>0.266729</td>\n",
       "      <td>...</td>\n",
       "      <td>1143.0</td>\n",
       "      <td>58819.0</td>\n",
       "      <td>190700.0</td>\n",
       "      <td>1797.0</td>\n",
       "      <td>4274.0</td>\n",
       "      <td>Census Tract 218.01</td>\n",
       "      <td>9</td>\n",
       "      <td>1</td>\n",
       "      <td>21801</td>\n",
       "      <td>9001021801</td>\n",
       "    </tr>\n",
       "    <tr>\n",
       "      <th>33</th>\n",
       "      <td>0.371370</td>\n",
       "      <td>0.189639</td>\n",
       "      <td>0.169789</td>\n",
       "      <td>0.094886</td>\n",
       "      <td>0.093223</td>\n",
       "      <td>0.081092</td>\n",
       "      <td>0.112683</td>\n",
       "      <td>0.428430</td>\n",
       "      <td>0.571570</td>\n",
       "      <td>0.472708</td>\n",
       "      <td>...</td>\n",
       "      <td>886.0</td>\n",
       "      <td>45761.0</td>\n",
       "      <td>170700.0</td>\n",
       "      <td>2019.0</td>\n",
       "      <td>5606.0</td>\n",
       "      <td>Census Tract 218.02</td>\n",
       "      <td>9</td>\n",
       "      <td>1</td>\n",
       "      <td>21802</td>\n",
       "      <td>9001021802</td>\n",
       "    </tr>\n",
       "    <tr>\n",
       "      <th>34</th>\n",
       "      <td>0.182285</td>\n",
       "      <td>0.223408</td>\n",
       "      <td>0.263268</td>\n",
       "      <td>0.116357</td>\n",
       "      <td>0.109528</td>\n",
       "      <td>0.105154</td>\n",
       "      <td>0.246146</td>\n",
       "      <td>0.412865</td>\n",
       "      <td>0.587135</td>\n",
       "      <td>0.157875</td>\n",
       "      <td>...</td>\n",
       "      <td>1131.0</td>\n",
       "      <td>64468.0</td>\n",
       "      <td>247800.0</td>\n",
       "      <td>2192.0</td>\n",
       "      <td>5346.0</td>\n",
       "      <td>Census Tract 219</td>\n",
       "      <td>9</td>\n",
       "      <td>1</td>\n",
       "      <td>21900</td>\n",
       "      <td>9001021900</td>\n",
       "    </tr>\n",
       "    <tr>\n",
       "      <th>35</th>\n",
       "      <td>0.314983</td>\n",
       "      <td>0.255260</td>\n",
       "      <td>0.228574</td>\n",
       "      <td>0.109583</td>\n",
       "      <td>0.050523</td>\n",
       "      <td>0.041076</td>\n",
       "      <td>0.137610</td>\n",
       "      <td>0.489939</td>\n",
       "      <td>0.510061</td>\n",
       "      <td>0.375712</td>\n",
       "      <td>...</td>\n",
       "      <td>955.0</td>\n",
       "      <td>49704.0</td>\n",
       "      <td>140800.0</td>\n",
       "      <td>1143.0</td>\n",
       "      <td>2808.0</td>\n",
       "      <td>Census Tract 220</td>\n",
       "      <td>9</td>\n",
       "      <td>1</td>\n",
       "      <td>22000</td>\n",
       "      <td>9001022000</td>\n",
       "    </tr>\n",
       "    <tr>\n",
       "      <th>36</th>\n",
       "      <td>0.340826</td>\n",
       "      <td>0.161349</td>\n",
       "      <td>0.222889</td>\n",
       "      <td>0.100633</td>\n",
       "      <td>0.084686</td>\n",
       "      <td>0.089616</td>\n",
       "      <td>0.152619</td>\n",
       "      <td>0.636364</td>\n",
       "      <td>0.363636</td>\n",
       "      <td>0.370082</td>\n",
       "      <td>...</td>\n",
       "      <td>979.0</td>\n",
       "      <td>56224.0</td>\n",
       "      <td>244400.0</td>\n",
       "      <td>2541.0</td>\n",
       "      <td>6939.0</td>\n",
       "      <td>Census Tract 221</td>\n",
       "      <td>9</td>\n",
       "      <td>1</td>\n",
       "      <td>22100</td>\n",
       "      <td>9001022100</td>\n",
       "    </tr>\n",
       "  </tbody>\n",
       "</table>\n",
       "<p>5 rows × 21 columns</p>\n",
       "</div>"
      ],
      "text/plain": [
       "      vli_00     li_00     mi_00    mhi_00     hi_00    vhi_00  per_col_00  \\\n",
       "32  0.226723  0.239451  0.249839  0.104110  0.079595  0.100281    0.197674   \n",
       "33  0.371370  0.189639  0.169789  0.094886  0.093223  0.081092    0.112683   \n",
       "34  0.182285  0.223408  0.263268  0.116357  0.109528  0.105154    0.246146   \n",
       "35  0.314983  0.255260  0.228574  0.109583  0.050523  0.041076    0.137610   \n",
       "36  0.340826  0.161349  0.222889  0.100633  0.084686  0.089616    0.152619   \n",
       "\n",
       "    per_rent_00  per_owners_00  per_nonwhite_00     ...      mrent_00  \\\n",
       "32     0.342237       0.657763         0.266729     ...        1143.0   \n",
       "33     0.428430       0.571570         0.472708     ...         886.0   \n",
       "34     0.412865       0.587135         0.157875     ...        1131.0   \n",
       "35     0.489939       0.510061         0.375712     ...         955.0   \n",
       "36     0.636364       0.363636         0.370082     ...         979.0   \n",
       "\n",
       "    hinc_00  mhval_00   hu_00  pop_00                 NAME state  county  \\\n",
       "32  58819.0  190700.0  1797.0  4274.0  Census Tract 218.01     9       1   \n",
       "33  45761.0  170700.0  2019.0  5606.0  Census Tract 218.02     9       1   \n",
       "34  64468.0  247800.0  2192.0  5346.0     Census Tract 219     9       1   \n",
       "35  49704.0  140800.0  1143.0  2808.0     Census Tract 220     9       1   \n",
       "36  56224.0  244400.0  2541.0  6939.0     Census Tract 221     9       1   \n",
       "\n",
       "    tract      GEOid2  \n",
       "32  21801  9001021801  \n",
       "33  21802  9001021802  \n",
       "34  21900  9001021900  \n",
       "35  22000  9001022000  \n",
       "36  22100  9001022100  \n",
       "\n",
       "[5 rows x 21 columns]"
      ]
     },
     "execution_count": 104,
     "metadata": {},
     "output_type": "execute_result"
    }
   ],
   "source": [
    "df_ct_00[(df_ct_00['GEOid2']>9001021700) & (df_ct_00['GEOid2']<10001020000)].head()"
   ]
  },
  {
   "cell_type": "code",
   "execution_count": 105,
   "metadata": {},
   "outputs": [
    {
     "data": {
      "text/html": [
       "<div>\n",
       "<style scoped>\n",
       "    .dataframe tbody tr th:only-of-type {\n",
       "        vertical-align: middle;\n",
       "    }\n",
       "\n",
       "    .dataframe tbody tr th {\n",
       "        vertical-align: top;\n",
       "    }\n",
       "\n",
       "    .dataframe thead th {\n",
       "        text-align: right;\n",
       "    }\n",
       "</style>\n",
       "<table border=\"1\" class=\"dataframe\">\n",
       "  <thead>\n",
       "    <tr style=\"text-align: right;\">\n",
       "      <th></th>\n",
       "      <th>vli_90</th>\n",
       "      <th>li_90</th>\n",
       "      <th>mi_90</th>\n",
       "      <th>mhi_90</th>\n",
       "      <th>hi_90</th>\n",
       "      <th>vhi_90</th>\n",
       "      <th>per_col_90</th>\n",
       "      <th>per_rent_90</th>\n",
       "      <th>per_owners_90</th>\n",
       "      <th>per_nonwhite_90</th>\n",
       "      <th>hh_90</th>\n",
       "      <th>mrent_90</th>\n",
       "      <th>hinc_90</th>\n",
       "      <th>mhval_90</th>\n",
       "      <th>hu_90</th>\n",
       "      <th>pop_90</th>\n",
       "      <th>state</th>\n",
       "      <th>county</th>\n",
       "      <th>tract</th>\n",
       "      <th>GEOid2</th>\n",
       "    </tr>\n",
       "  </thead>\n",
       "  <tbody>\n",
       "    <tr>\n",
       "      <th>31</th>\n",
       "      <td>0.302130</td>\n",
       "      <td>0.210461</td>\n",
       "      <td>0.270668</td>\n",
       "      <td>0.106353</td>\n",
       "      <td>0.049491</td>\n",
       "      <td>0.060897</td>\n",
       "      <td>0.249105</td>\n",
       "      <td>0.718930</td>\n",
       "      <td>0.281070</td>\n",
       "      <td>0.0</td>\n",
       "      <td>2404.0</td>\n",
       "      <td>765.0</td>\n",
       "      <td>40753.0</td>\n",
       "      <td>232400.0</td>\n",
       "      <td>2430.0</td>\n",
       "      <td>4589.0</td>\n",
       "      <td>9</td>\n",
       "      <td>1</td>\n",
       "      <td>21700</td>\n",
       "      <td>9001021700</td>\n",
       "    </tr>\n",
       "    <tr>\n",
       "      <th>32</th>\n",
       "      <td>0.227955</td>\n",
       "      <td>0.221095</td>\n",
       "      <td>0.229505</td>\n",
       "      <td>0.118859</td>\n",
       "      <td>0.107582</td>\n",
       "      <td>0.095004</td>\n",
       "      <td>0.201259</td>\n",
       "      <td>0.366089</td>\n",
       "      <td>0.633911</td>\n",
       "      <td>0.0</td>\n",
       "      <td>3638.0</td>\n",
       "      <td>846.0</td>\n",
       "      <td>47247.0</td>\n",
       "      <td>213800.0</td>\n",
       "      <td>3633.0</td>\n",
       "      <td>9188.0</td>\n",
       "      <td>9</td>\n",
       "      <td>1</td>\n",
       "      <td>21800</td>\n",
       "      <td>9001021800</td>\n",
       "    </tr>\n",
       "    <tr>\n",
       "      <th>33</th>\n",
       "      <td>0.225688</td>\n",
       "      <td>0.218659</td>\n",
       "      <td>0.223330</td>\n",
       "      <td>0.122183</td>\n",
       "      <td>0.106200</td>\n",
       "      <td>0.103939</td>\n",
       "      <td>0.213493</td>\n",
       "      <td>0.378537</td>\n",
       "      <td>0.621463</td>\n",
       "      <td>0.0</td>\n",
       "      <td>2019.0</td>\n",
       "      <td>936.0</td>\n",
       "      <td>45823.0</td>\n",
       "      <td>233100.0</td>\n",
       "      <td>2050.0</td>\n",
       "      <td>4951.0</td>\n",
       "      <td>9</td>\n",
       "      <td>1</td>\n",
       "      <td>21900</td>\n",
       "      <td>9001021900</td>\n",
       "    </tr>\n",
       "    <tr>\n",
       "      <th>34</th>\n",
       "      <td>0.318185</td>\n",
       "      <td>0.259479</td>\n",
       "      <td>0.226878</td>\n",
       "      <td>0.077105</td>\n",
       "      <td>0.083014</td>\n",
       "      <td>0.035339</td>\n",
       "      <td>0.126333</td>\n",
       "      <td>0.502279</td>\n",
       "      <td>0.497721</td>\n",
       "      <td>0.0</td>\n",
       "      <td>1107.0</td>\n",
       "      <td>747.0</td>\n",
       "      <td>36370.0</td>\n",
       "      <td>169900.0</td>\n",
       "      <td>1097.0</td>\n",
       "      <td>2767.0</td>\n",
       "      <td>9</td>\n",
       "      <td>1</td>\n",
       "      <td>22000</td>\n",
       "      <td>9001022000</td>\n",
       "    </tr>\n",
       "    <tr>\n",
       "      <th>35</th>\n",
       "      <td>0.334426</td>\n",
       "      <td>0.202030</td>\n",
       "      <td>0.173376</td>\n",
       "      <td>0.102310</td>\n",
       "      <td>0.105551</td>\n",
       "      <td>0.082306</td>\n",
       "      <td>0.134402</td>\n",
       "      <td>0.633820</td>\n",
       "      <td>0.366180</td>\n",
       "      <td>0.0</td>\n",
       "      <td>2344.0</td>\n",
       "      <td>769.0</td>\n",
       "      <td>39853.0</td>\n",
       "      <td>218300.0</td>\n",
       "      <td>2395.0</td>\n",
       "      <td>5724.0</td>\n",
       "      <td>9</td>\n",
       "      <td>1</td>\n",
       "      <td>22100</td>\n",
       "      <td>9001022100</td>\n",
       "    </tr>\n",
       "  </tbody>\n",
       "</table>\n",
       "</div>"
      ],
      "text/plain": [
       "      vli_90     li_90     mi_90    mhi_90     hi_90    vhi_90  per_col_90  \\\n",
       "31  0.302130  0.210461  0.270668  0.106353  0.049491  0.060897    0.249105   \n",
       "32  0.227955  0.221095  0.229505  0.118859  0.107582  0.095004    0.201259   \n",
       "33  0.225688  0.218659  0.223330  0.122183  0.106200  0.103939    0.213493   \n",
       "34  0.318185  0.259479  0.226878  0.077105  0.083014  0.035339    0.126333   \n",
       "35  0.334426  0.202030  0.173376  0.102310  0.105551  0.082306    0.134402   \n",
       "\n",
       "    per_rent_90  per_owners_90  per_nonwhite_90   hh_90  mrent_90  hinc_90  \\\n",
       "31     0.718930       0.281070              0.0  2404.0     765.0  40753.0   \n",
       "32     0.366089       0.633911              0.0  3638.0     846.0  47247.0   \n",
       "33     0.378537       0.621463              0.0  2019.0     936.0  45823.0   \n",
       "34     0.502279       0.497721              0.0  1107.0     747.0  36370.0   \n",
       "35     0.633820       0.366180              0.0  2344.0     769.0  39853.0   \n",
       "\n",
       "    mhval_90   hu_90  pop_90  state  county  tract      GEOid2  \n",
       "31  232400.0  2430.0  4589.0      9       1  21700  9001021700  \n",
       "32  213800.0  3633.0  9188.0      9       1  21800  9001021800  \n",
       "33  233100.0  2050.0  4951.0      9       1  21900  9001021900  \n",
       "34  169900.0  1097.0  2767.0      9       1  22000  9001022000  \n",
       "35  218300.0  2395.0  5724.0      9       1  22100  9001022100  "
      ]
     },
     "execution_count": 105,
     "metadata": {},
     "output_type": "execute_result"
    }
   ],
   "source": [
    "df_ct_90[(df_ct_90['GEOid2']>9001021600) & (df_ct_90['GEOid2']<10001020000)].head()"
   ]
  },
  {
   "cell_type": "code",
   "execution_count": 106,
   "metadata": {},
   "outputs": [
    {
     "data": {
      "text/html": [
       "<div>\n",
       "<style scoped>\n",
       "    .dataframe tbody tr th:only-of-type {\n",
       "        vertical-align: middle;\n",
       "    }\n",
       "\n",
       "    .dataframe tbody tr th {\n",
       "        vertical-align: top;\n",
       "    }\n",
       "\n",
       "    .dataframe thead th {\n",
       "        text-align: right;\n",
       "    }\n",
       "</style>\n",
       "<table border=\"1\" class=\"dataframe\">\n",
       "  <thead>\n",
       "    <tr style=\"text-align: right;\">\n",
       "      <th></th>\n",
       "      <th>vli_00</th>\n",
       "      <th>li_00</th>\n",
       "      <th>mi_00</th>\n",
       "      <th>mhi_00</th>\n",
       "      <th>hi_00</th>\n",
       "      <th>vhi_00</th>\n",
       "      <th>per_col_00</th>\n",
       "      <th>per_rent_00</th>\n",
       "      <th>per_owners_00</th>\n",
       "      <th>per_nonwhite_00</th>\n",
       "      <th>...</th>\n",
       "      <th>mrent_00</th>\n",
       "      <th>hinc_00</th>\n",
       "      <th>mhval_00</th>\n",
       "      <th>hu_00</th>\n",
       "      <th>pop_00</th>\n",
       "      <th>NAME</th>\n",
       "      <th>state</th>\n",
       "      <th>county</th>\n",
       "      <th>tract</th>\n",
       "      <th>GEOid2</th>\n",
       "    </tr>\n",
       "  </thead>\n",
       "  <tbody>\n",
       "    <tr>\n",
       "      <th>31</th>\n",
       "      <td>0.367914</td>\n",
       "      <td>0.196199</td>\n",
       "      <td>0.161833</td>\n",
       "      <td>0.102796</td>\n",
       "      <td>0.100635</td>\n",
       "      <td>0.070623</td>\n",
       "      <td>0.243469</td>\n",
       "      <td>0.756468</td>\n",
       "      <td>0.243532</td>\n",
       "      <td>0.416430</td>\n",
       "      <td>...</td>\n",
       "      <td>1061.0</td>\n",
       "      <td>47311.0</td>\n",
       "      <td>141000.0</td>\n",
       "      <td>3092.0</td>\n",
       "      <td>5977.0</td>\n",
       "      <td>Census Tract 217</td>\n",
       "      <td>9</td>\n",
       "      <td>1</td>\n",
       "      <td>21700</td>\n",
       "      <td>9001021700</td>\n",
       "    </tr>\n",
       "    <tr>\n",
       "      <th>32</th>\n",
       "      <td>0.226723</td>\n",
       "      <td>0.239451</td>\n",
       "      <td>0.249839</td>\n",
       "      <td>0.104110</td>\n",
       "      <td>0.079595</td>\n",
       "      <td>0.100281</td>\n",
       "      <td>0.197674</td>\n",
       "      <td>0.342237</td>\n",
       "      <td>0.657763</td>\n",
       "      <td>0.266729</td>\n",
       "      <td>...</td>\n",
       "      <td>1143.0</td>\n",
       "      <td>58819.0</td>\n",
       "      <td>190700.0</td>\n",
       "      <td>1797.0</td>\n",
       "      <td>4274.0</td>\n",
       "      <td>Census Tract 218.01</td>\n",
       "      <td>9</td>\n",
       "      <td>1</td>\n",
       "      <td>21801</td>\n",
       "      <td>9001021801</td>\n",
       "    </tr>\n",
       "    <tr>\n",
       "      <th>33</th>\n",
       "      <td>0.371370</td>\n",
       "      <td>0.189639</td>\n",
       "      <td>0.169789</td>\n",
       "      <td>0.094886</td>\n",
       "      <td>0.093223</td>\n",
       "      <td>0.081092</td>\n",
       "      <td>0.112683</td>\n",
       "      <td>0.428430</td>\n",
       "      <td>0.571570</td>\n",
       "      <td>0.472708</td>\n",
       "      <td>...</td>\n",
       "      <td>886.0</td>\n",
       "      <td>45761.0</td>\n",
       "      <td>170700.0</td>\n",
       "      <td>2019.0</td>\n",
       "      <td>5606.0</td>\n",
       "      <td>Census Tract 218.02</td>\n",
       "      <td>9</td>\n",
       "      <td>1</td>\n",
       "      <td>21802</td>\n",
       "      <td>9001021802</td>\n",
       "    </tr>\n",
       "    <tr>\n",
       "      <th>34</th>\n",
       "      <td>0.182285</td>\n",
       "      <td>0.223408</td>\n",
       "      <td>0.263268</td>\n",
       "      <td>0.116357</td>\n",
       "      <td>0.109528</td>\n",
       "      <td>0.105154</td>\n",
       "      <td>0.246146</td>\n",
       "      <td>0.412865</td>\n",
       "      <td>0.587135</td>\n",
       "      <td>0.157875</td>\n",
       "      <td>...</td>\n",
       "      <td>1131.0</td>\n",
       "      <td>64468.0</td>\n",
       "      <td>247800.0</td>\n",
       "      <td>2192.0</td>\n",
       "      <td>5346.0</td>\n",
       "      <td>Census Tract 219</td>\n",
       "      <td>9</td>\n",
       "      <td>1</td>\n",
       "      <td>21900</td>\n",
       "      <td>9001021900</td>\n",
       "    </tr>\n",
       "    <tr>\n",
       "      <th>35</th>\n",
       "      <td>0.314983</td>\n",
       "      <td>0.255260</td>\n",
       "      <td>0.228574</td>\n",
       "      <td>0.109583</td>\n",
       "      <td>0.050523</td>\n",
       "      <td>0.041076</td>\n",
       "      <td>0.137610</td>\n",
       "      <td>0.489939</td>\n",
       "      <td>0.510061</td>\n",
       "      <td>0.375712</td>\n",
       "      <td>...</td>\n",
       "      <td>955.0</td>\n",
       "      <td>49704.0</td>\n",
       "      <td>140800.0</td>\n",
       "      <td>1143.0</td>\n",
       "      <td>2808.0</td>\n",
       "      <td>Census Tract 220</td>\n",
       "      <td>9</td>\n",
       "      <td>1</td>\n",
       "      <td>22000</td>\n",
       "      <td>9001022000</td>\n",
       "    </tr>\n",
       "  </tbody>\n",
       "</table>\n",
       "<p>5 rows × 21 columns</p>\n",
       "</div>"
      ],
      "text/plain": [
       "      vli_00     li_00     mi_00    mhi_00     hi_00    vhi_00  per_col_00  \\\n",
       "31  0.367914  0.196199  0.161833  0.102796  0.100635  0.070623    0.243469   \n",
       "32  0.226723  0.239451  0.249839  0.104110  0.079595  0.100281    0.197674   \n",
       "33  0.371370  0.189639  0.169789  0.094886  0.093223  0.081092    0.112683   \n",
       "34  0.182285  0.223408  0.263268  0.116357  0.109528  0.105154    0.246146   \n",
       "35  0.314983  0.255260  0.228574  0.109583  0.050523  0.041076    0.137610   \n",
       "\n",
       "    per_rent_00  per_owners_00  per_nonwhite_00     ...      mrent_00  \\\n",
       "31     0.756468       0.243532         0.416430     ...        1061.0   \n",
       "32     0.342237       0.657763         0.266729     ...        1143.0   \n",
       "33     0.428430       0.571570         0.472708     ...         886.0   \n",
       "34     0.412865       0.587135         0.157875     ...        1131.0   \n",
       "35     0.489939       0.510061         0.375712     ...         955.0   \n",
       "\n",
       "    hinc_00  mhval_00   hu_00  pop_00                 NAME state  county  \\\n",
       "31  47311.0  141000.0  3092.0  5977.0     Census Tract 217     9       1   \n",
       "32  58819.0  190700.0  1797.0  4274.0  Census Tract 218.01     9       1   \n",
       "33  45761.0  170700.0  2019.0  5606.0  Census Tract 218.02     9       1   \n",
       "34  64468.0  247800.0  2192.0  5346.0     Census Tract 219     9       1   \n",
       "35  49704.0  140800.0  1143.0  2808.0     Census Tract 220     9       1   \n",
       "\n",
       "    tract      GEOid2  \n",
       "31  21700  9001021700  \n",
       "32  21801  9001021801  \n",
       "33  21802  9001021802  \n",
       "34  21900  9001021900  \n",
       "35  22000  9001022000  \n",
       "\n",
       "[5 rows x 21 columns]"
      ]
     },
     "execution_count": 106,
     "metadata": {},
     "output_type": "execute_result"
    }
   ],
   "source": [
    "df_ct_00[(df_ct_00['GEOid2']>9001021600) & (df_ct_00['GEOid2']<10001020000)].head()"
   ]
  },
  {
   "cell_type": "code",
   "execution_count": 107,
   "metadata": {
    "scrolled": true
   },
   "outputs": [
    {
     "data": {
      "text/html": [
       "<div>\n",
       "<style scoped>\n",
       "    .dataframe tbody tr th:only-of-type {\n",
       "        vertical-align: middle;\n",
       "    }\n",
       "\n",
       "    .dataframe tbody tr th {\n",
       "        vertical-align: top;\n",
       "    }\n",
       "\n",
       "    .dataframe thead th {\n",
       "        text-align: right;\n",
       "    }\n",
       "</style>\n",
       "<table border=\"1\" class=\"dataframe\">\n",
       "  <thead>\n",
       "    <tr style=\"text-align: right;\">\n",
       "      <th></th>\n",
       "      <th>vli_mig_10</th>\n",
       "      <th>li_mig_10</th>\n",
       "      <th>mi_mig_10</th>\n",
       "      <th>mhi_mig_10</th>\n",
       "      <th>vli_mig_10_moe</th>\n",
       "      <th>li_mig_10_moe</th>\n",
       "      <th>mi_mig_10_moe</th>\n",
       "      <th>mhi_mig_10_moe</th>\n",
       "      <th>state</th>\n",
       "      <th>county</th>\n",
       "      <th>tract</th>\n",
       "      <th>per_all_li_mig_10</th>\n",
       "      <th>GEOid2</th>\n",
       "    </tr>\n",
       "  </thead>\n",
       "  <tbody>\n",
       "    <tr>\n",
       "      <th>31</th>\n",
       "      <td>0.465414</td>\n",
       "      <td>0.237172</td>\n",
       "      <td>0.297414</td>\n",
       "      <td>0.0</td>\n",
       "      <td>0.199384</td>\n",
       "      <td>0.113825</td>\n",
       "      <td>0.080145</td>\n",
       "      <td>0.0</td>\n",
       "      <td>9</td>\n",
       "      <td>1</td>\n",
       "      <td>21700</td>\n",
       "      <td>0.702586</td>\n",
       "      <td>9001021700</td>\n",
       "    </tr>\n",
       "    <tr>\n",
       "      <th>32</th>\n",
       "      <td>0.598134</td>\n",
       "      <td>0.186500</td>\n",
       "      <td>0.215366</td>\n",
       "      <td>0.0</td>\n",
       "      <td>0.256312</td>\n",
       "      <td>0.096303</td>\n",
       "      <td>0.063256</td>\n",
       "      <td>0.0</td>\n",
       "      <td>9</td>\n",
       "      <td>1</td>\n",
       "      <td>21801</td>\n",
       "      <td>0.784634</td>\n",
       "      <td>9001021801</td>\n",
       "    </tr>\n",
       "    <tr>\n",
       "      <th>33</th>\n",
       "      <td>0.681031</td>\n",
       "      <td>0.143699</td>\n",
       "      <td>0.175270</td>\n",
       "      <td>0.0</td>\n",
       "      <td>0.248909</td>\n",
       "      <td>0.062165</td>\n",
       "      <td>0.060820</td>\n",
       "      <td>0.0</td>\n",
       "      <td>9</td>\n",
       "      <td>1</td>\n",
       "      <td>21802</td>\n",
       "      <td>0.824730</td>\n",
       "      <td>9001021802</td>\n",
       "    </tr>\n",
       "    <tr>\n",
       "      <th>34</th>\n",
       "      <td>0.711597</td>\n",
       "      <td>0.157939</td>\n",
       "      <td>0.130464</td>\n",
       "      <td>0.0</td>\n",
       "      <td>0.298746</td>\n",
       "      <td>0.099617</td>\n",
       "      <td>0.056260</td>\n",
       "      <td>0.0</td>\n",
       "      <td>9</td>\n",
       "      <td>1</td>\n",
       "      <td>21900</td>\n",
       "      <td>0.869536</td>\n",
       "      <td>9001021900</td>\n",
       "    </tr>\n",
       "    <tr>\n",
       "      <th>35</th>\n",
       "      <td>0.749774</td>\n",
       "      <td>0.137523</td>\n",
       "      <td>0.112703</td>\n",
       "      <td>0.0</td>\n",
       "      <td>0.359140</td>\n",
       "      <td>0.085314</td>\n",
       "      <td>0.066272</td>\n",
       "      <td>0.0</td>\n",
       "      <td>9</td>\n",
       "      <td>1</td>\n",
       "      <td>22000</td>\n",
       "      <td>0.887297</td>\n",
       "      <td>9001022000</td>\n",
       "    </tr>\n",
       "  </tbody>\n",
       "</table>\n",
       "</div>"
      ],
      "text/plain": [
       "    vli_mig_10  li_mig_10  mi_mig_10  mhi_mig_10  vli_mig_10_moe  \\\n",
       "31    0.465414   0.237172   0.297414         0.0        0.199384   \n",
       "32    0.598134   0.186500   0.215366         0.0        0.256312   \n",
       "33    0.681031   0.143699   0.175270         0.0        0.248909   \n",
       "34    0.711597   0.157939   0.130464         0.0        0.298746   \n",
       "35    0.749774   0.137523   0.112703         0.0        0.359140   \n",
       "\n",
       "    li_mig_10_moe  mi_mig_10_moe  mhi_mig_10_moe  state  county  tract  \\\n",
       "31       0.113825       0.080145             0.0      9       1  21700   \n",
       "32       0.096303       0.063256             0.0      9       1  21801   \n",
       "33       0.062165       0.060820             0.0      9       1  21802   \n",
       "34       0.099617       0.056260             0.0      9       1  21900   \n",
       "35       0.085314       0.066272             0.0      9       1  22000   \n",
       "\n",
       "    per_all_li_mig_10      GEOid2  \n",
       "31           0.702586  9001021700  \n",
       "32           0.784634  9001021801  \n",
       "33           0.824730  9001021802  \n",
       "34           0.869536  9001021900  \n",
       "35           0.887297  9001022000  "
      ]
     },
     "execution_count": 107,
     "metadata": {},
     "output_type": "execute_result"
    }
   ],
   "source": [
    "df_ct_10[(df_ct_10['GEOid2']>9001021600) & (df_ct_10['GEOid2']<10001020000)].head()"
   ]
  },
  {
   "cell_type": "code",
   "execution_count": 108,
   "metadata": {},
   "outputs": [
    {
     "data": {
      "text/html": [
       "<div>\n",
       "<style scoped>\n",
       "    .dataframe tbody tr th:only-of-type {\n",
       "        vertical-align: middle;\n",
       "    }\n",
       "\n",
       "    .dataframe tbody tr th {\n",
       "        vertical-align: top;\n",
       "    }\n",
       "\n",
       "    .dataframe thead th {\n",
       "        text-align: right;\n",
       "    }\n",
       "</style>\n",
       "<table border=\"1\" class=\"dataframe\">\n",
       "  <thead>\n",
       "    <tr style=\"text-align: right;\">\n",
       "      <th></th>\n",
       "      <th>vli_16</th>\n",
       "      <th>li_16</th>\n",
       "      <th>mi_16</th>\n",
       "      <th>mhi_16</th>\n",
       "      <th>hi_16</th>\n",
       "      <th>vhi_16</th>\n",
       "      <th>vli_mig_16</th>\n",
       "      <th>li_mig_16</th>\n",
       "      <th>mi_mig_16</th>\n",
       "      <th>mhi_mig_16</th>\n",
       "      <th>...</th>\n",
       "      <th>state</th>\n",
       "      <th>county</th>\n",
       "      <th>tract</th>\n",
       "      <th>hh_16_moe</th>\n",
       "      <th>mrent_16_moe</th>\n",
       "      <th>hinc_16_moe</th>\n",
       "      <th>mhval_16_moe</th>\n",
       "      <th>hu_16_moe</th>\n",
       "      <th>pop_16_moe</th>\n",
       "      <th>GEOid2</th>\n",
       "    </tr>\n",
       "  </thead>\n",
       "  <tbody>\n",
       "    <tr>\n",
       "      <th>31</th>\n",
       "      <td>0.299932</td>\n",
       "      <td>0.171984</td>\n",
       "      <td>0.175893</td>\n",
       "      <td>0.110733</td>\n",
       "      <td>0.129729</td>\n",
       "      <td>0.111730</td>\n",
       "      <td>0.465414</td>\n",
       "      <td>0.237172</td>\n",
       "      <td>0.297414</td>\n",
       "      <td>0.0</td>\n",
       "      <td>...</td>\n",
       "      <td>9</td>\n",
       "      <td>1</td>\n",
       "      <td>21700</td>\n",
       "      <td>210.0</td>\n",
       "      <td>235.0</td>\n",
       "      <td>13223.0</td>\n",
       "      <td>46146.0</td>\n",
       "      <td>210.0</td>\n",
       "      <td>630.0</td>\n",
       "      <td>9001021700</td>\n",
       "    </tr>\n",
       "    <tr>\n",
       "      <th>32</th>\n",
       "      <td>0.365044</td>\n",
       "      <td>0.191842</td>\n",
       "      <td>0.189652</td>\n",
       "      <td>0.067070</td>\n",
       "      <td>0.057251</td>\n",
       "      <td>0.129141</td>\n",
       "      <td>0.598134</td>\n",
       "      <td>0.186500</td>\n",
       "      <td>0.215366</td>\n",
       "      <td>0.0</td>\n",
       "      <td>...</td>\n",
       "      <td>9</td>\n",
       "      <td>1</td>\n",
       "      <td>21801</td>\n",
       "      <td>100.0</td>\n",
       "      <td>114.0</td>\n",
       "      <td>11714.0</td>\n",
       "      <td>19921.0</td>\n",
       "      <td>100.0</td>\n",
       "      <td>395.0</td>\n",
       "      <td>9001021801</td>\n",
       "    </tr>\n",
       "    <tr>\n",
       "      <th>33</th>\n",
       "      <td>0.470141</td>\n",
       "      <td>0.175839</td>\n",
       "      <td>0.137747</td>\n",
       "      <td>0.078631</td>\n",
       "      <td>0.046039</td>\n",
       "      <td>0.091603</td>\n",
       "      <td>0.681031</td>\n",
       "      <td>0.143699</td>\n",
       "      <td>0.175270</td>\n",
       "      <td>0.0</td>\n",
       "      <td>...</td>\n",
       "      <td>9</td>\n",
       "      <td>1</td>\n",
       "      <td>21802</td>\n",
       "      <td>108.0</td>\n",
       "      <td>229.0</td>\n",
       "      <td>11973.0</td>\n",
       "      <td>26016.0</td>\n",
       "      <td>108.0</td>\n",
       "      <td>417.0</td>\n",
       "      <td>9001021802</td>\n",
       "    </tr>\n",
       "    <tr>\n",
       "      <th>34</th>\n",
       "      <td>0.400049</td>\n",
       "      <td>0.240065</td>\n",
       "      <td>0.141233</td>\n",
       "      <td>0.067471</td>\n",
       "      <td>0.080999</td>\n",
       "      <td>0.070183</td>\n",
       "      <td>0.711597</td>\n",
       "      <td>0.157939</td>\n",
       "      <td>0.130464</td>\n",
       "      <td>0.0</td>\n",
       "      <td>...</td>\n",
       "      <td>9</td>\n",
       "      <td>1</td>\n",
       "      <td>21900</td>\n",
       "      <td>105.0</td>\n",
       "      <td>277.0</td>\n",
       "      <td>8185.0</td>\n",
       "      <td>44938.0</td>\n",
       "      <td>105.0</td>\n",
       "      <td>740.0</td>\n",
       "      <td>9001021900</td>\n",
       "    </tr>\n",
       "    <tr>\n",
       "      <th>35</th>\n",
       "      <td>0.444695</td>\n",
       "      <td>0.180830</td>\n",
       "      <td>0.199771</td>\n",
       "      <td>0.050394</td>\n",
       "      <td>0.082411</td>\n",
       "      <td>0.041899</td>\n",
       "      <td>0.749774</td>\n",
       "      <td>0.137523</td>\n",
       "      <td>0.112703</td>\n",
       "      <td>0.0</td>\n",
       "      <td>...</td>\n",
       "      <td>9</td>\n",
       "      <td>1</td>\n",
       "      <td>22000</td>\n",
       "      <td>78.0</td>\n",
       "      <td>129.0</td>\n",
       "      <td>9641.0</td>\n",
       "      <td>69656.0</td>\n",
       "      <td>78.0</td>\n",
       "      <td>370.0</td>\n",
       "      <td>9001022000</td>\n",
       "    </tr>\n",
       "  </tbody>\n",
       "</table>\n",
       "<p>5 rows × 47 columns</p>\n",
       "</div>"
      ],
      "text/plain": [
       "      vli_16     li_16     mi_16    mhi_16     hi_16    vhi_16  vli_mig_16  \\\n",
       "31  0.299932  0.171984  0.175893  0.110733  0.129729  0.111730    0.465414   \n",
       "32  0.365044  0.191842  0.189652  0.067070  0.057251  0.129141    0.598134   \n",
       "33  0.470141  0.175839  0.137747  0.078631  0.046039  0.091603    0.681031   \n",
       "34  0.400049  0.240065  0.141233  0.067471  0.080999  0.070183    0.711597   \n",
       "35  0.444695  0.180830  0.199771  0.050394  0.082411  0.041899    0.749774   \n",
       "\n",
       "    li_mig_16  mi_mig_16  mhi_mig_16     ...      state  county  tract  \\\n",
       "31   0.237172   0.297414         0.0     ...          9       1  21700   \n",
       "32   0.186500   0.215366         0.0     ...          9       1  21801   \n",
       "33   0.143699   0.175270         0.0     ...          9       1  21802   \n",
       "34   0.157939   0.130464         0.0     ...          9       1  21900   \n",
       "35   0.137523   0.112703         0.0     ...          9       1  22000   \n",
       "\n",
       "    hh_16_moe  mrent_16_moe  hinc_16_moe  mhval_16_moe  hu_16_moe  pop_16_moe  \\\n",
       "31      210.0         235.0      13223.0       46146.0      210.0       630.0   \n",
       "32      100.0         114.0      11714.0       19921.0      100.0       395.0   \n",
       "33      108.0         229.0      11973.0       26016.0      108.0       417.0   \n",
       "34      105.0         277.0       8185.0       44938.0      105.0       740.0   \n",
       "35       78.0         129.0       9641.0       69656.0       78.0       370.0   \n",
       "\n",
       "        GEOid2  \n",
       "31  9001021700  \n",
       "32  9001021801  \n",
       "33  9001021802  \n",
       "34  9001021900  \n",
       "35  9001022000  \n",
       "\n",
       "[5 rows x 47 columns]"
      ]
     },
     "execution_count": 108,
     "metadata": {},
     "output_type": "execute_result"
    }
   ],
   "source": [
    "df_ct_16[(df_ct_16['GEOid2']>9001021600) & (df_ct_16['GEOid2']<10001020000)].head()"
   ]
  },
  {
   "cell_type": "code",
   "execution_count": 109,
   "metadata": {},
   "outputs": [
    {
     "data": {
      "text/plain": [
       "True"
      ]
     },
     "execution_count": 109,
     "metadata": {},
     "output_type": "execute_result"
    }
   ],
   "source": [
    "df_compare.GEOid2[0]==df_aram.GEOid2[0]"
   ]
  },
  {
   "cell_type": "markdown",
   "metadata": {},
   "source": [
    "data['TOD'].value_counts()"
   ]
  },
  {
   "cell_type": "markdown",
   "metadata": {},
   "source": [
    "## Define % of units in pre-1950 buildings > regional median"
   ]
  },
  {
   "cell_type": "code",
   "execution_count": 110,
   "metadata": {},
   "outputs": [
    {
     "data": {
      "text/html": [
       "<div>\n",
       "<style scoped>\n",
       "    .dataframe tbody tr th:only-of-type {\n",
       "        vertical-align: middle;\n",
       "    }\n",
       "\n",
       "    .dataframe tbody tr th {\n",
       "        vertical-align: top;\n",
       "    }\n",
       "\n",
       "    .dataframe thead th {\n",
       "        text-align: right;\n",
       "    }\n",
       "</style>\n",
       "<table border=\"1\" class=\"dataframe\">\n",
       "  <thead>\n",
       "    <tr style=\"text-align: right;\">\n",
       "      <th></th>\n",
       "      <th>Volnurable90</th>\n",
       "      <th>Volnurable00</th>\n",
       "      <th>units_pre50_High</th>\n",
       "    </tr>\n",
       "  </thead>\n",
       "  <tbody>\n",
       "    <tr>\n",
       "      <th>0</th>\n",
       "      <td>1</td>\n",
       "      <td>1</td>\n",
       "      <td>1</td>\n",
       "    </tr>\n",
       "    <tr>\n",
       "      <th>1</th>\n",
       "      <td>0</td>\n",
       "      <td>1</td>\n",
       "      <td>1</td>\n",
       "    </tr>\n",
       "    <tr>\n",
       "      <th>2</th>\n",
       "      <td>1</td>\n",
       "      <td>1</td>\n",
       "      <td>1</td>\n",
       "    </tr>\n",
       "    <tr>\n",
       "      <th>3</th>\n",
       "      <td>1</td>\n",
       "      <td>1</td>\n",
       "      <td>1</td>\n",
       "    </tr>\n",
       "    <tr>\n",
       "      <th>4</th>\n",
       "      <td>1</td>\n",
       "      <td>1</td>\n",
       "      <td>1</td>\n",
       "    </tr>\n",
       "    <tr>\n",
       "      <th>5</th>\n",
       "      <td>1</td>\n",
       "      <td>1</td>\n",
       "      <td>1</td>\n",
       "    </tr>\n",
       "    <tr>\n",
       "      <th>6</th>\n",
       "      <td>1</td>\n",
       "      <td>1</td>\n",
       "      <td>0</td>\n",
       "    </tr>\n",
       "  </tbody>\n",
       "</table>\n",
       "</div>"
      ],
      "text/plain": [
       "   Volnurable90  Volnurable00  units_pre50_High\n",
       "0             1             1                 1\n",
       "1             0             1                 1\n",
       "2             1             1                 1\n",
       "3             1             1                 1\n",
       "4             1             1                 1\n",
       "5             1             1                 1\n",
       "6             1             1                 0"
      ]
     },
     "execution_count": 110,
     "metadata": {},
     "output_type": "execute_result"
    }
   ],
   "source": [
    "data['units_pre50_High'] = np.where(data['per_units_pre50'] > data['per_units_pre50'].median(), 1, 0)\n",
    "data.iloc[:,-3:].head(7)"
   ]
  },
  {
   "cell_type": "markdown",
   "metadata": {},
   "source": [
    "## Define Employment density (2015) > regional median"
   ]
  },
  {
   "cell_type": "code",
   "execution_count": 111,
   "metadata": {},
   "outputs": [
    {
     "data": {
      "text/html": [
       "<div>\n",
       "<style scoped>\n",
       "    .dataframe tbody tr th:only-of-type {\n",
       "        vertical-align: middle;\n",
       "    }\n",
       "\n",
       "    .dataframe tbody tr th {\n",
       "        vertical-align: top;\n",
       "    }\n",
       "\n",
       "    .dataframe thead th {\n",
       "        text-align: right;\n",
       "    }\n",
       "</style>\n",
       "<table border=\"1\" class=\"dataframe\">\n",
       "  <thead>\n",
       "    <tr style=\"text-align: right;\">\n",
       "      <th></th>\n",
       "      <th>Volnurable00</th>\n",
       "      <th>units_pre50_High</th>\n",
       "      <th>empdens14_High</th>\n",
       "    </tr>\n",
       "  </thead>\n",
       "  <tbody>\n",
       "    <tr>\n",
       "      <th>0</th>\n",
       "      <td>1</td>\n",
       "      <td>1</td>\n",
       "      <td>0</td>\n",
       "    </tr>\n",
       "    <tr>\n",
       "      <th>1</th>\n",
       "      <td>1</td>\n",
       "      <td>1</td>\n",
       "      <td>0</td>\n",
       "    </tr>\n",
       "    <tr>\n",
       "      <th>2</th>\n",
       "      <td>1</td>\n",
       "      <td>1</td>\n",
       "      <td>0</td>\n",
       "    </tr>\n",
       "    <tr>\n",
       "      <th>3</th>\n",
       "      <td>1</td>\n",
       "      <td>1</td>\n",
       "      <td>1</td>\n",
       "    </tr>\n",
       "    <tr>\n",
       "      <th>4</th>\n",
       "      <td>1</td>\n",
       "      <td>1</td>\n",
       "      <td>0</td>\n",
       "    </tr>\n",
       "    <tr>\n",
       "      <th>5</th>\n",
       "      <td>1</td>\n",
       "      <td>1</td>\n",
       "      <td>0</td>\n",
       "    </tr>\n",
       "    <tr>\n",
       "      <th>6</th>\n",
       "      <td>1</td>\n",
       "      <td>0</td>\n",
       "      <td>1</td>\n",
       "    </tr>\n",
       "  </tbody>\n",
       "</table>\n",
       "</div>"
      ],
      "text/plain": [
       "   Volnurable00  units_pre50_High  empdens14_High\n",
       "0             1                 1               0\n",
       "1             1                 1               0\n",
       "2             1                 1               0\n",
       "3             1                 1               1\n",
       "4             1                 1               0\n",
       "5             1                 1               0\n",
       "6             1                 0               1"
      ]
     },
     "execution_count": 111,
     "metadata": {},
     "output_type": "execute_result"
    }
   ],
   "source": [
    "data['empdens14_High'] = np.where(data['empd15'] > data['empd15'].median(), 1, 0)\n",
    "data.iloc[:,-3:].head(7)"
   ]
  },
  {
   "cell_type": "markdown",
   "metadata": {},
   "source": [
    "## Define rent change 00-16 and home value change 00-16 > regional median"
   ]
  },
  {
   "cell_type": "code",
   "execution_count": 112,
   "metadata": {},
   "outputs": [],
   "source": [
    "data['mrent90_00'] = data['mrent_00'] - data['mrent_90']"
   ]
  },
  {
   "cell_type": "code",
   "execution_count": 113,
   "metadata": {},
   "outputs": [],
   "source": [
    "data['mrent00_16'] = data['mrent_16'] - data['mrent_00']"
   ]
  },
  {
   "cell_type": "code",
   "execution_count": 114,
   "metadata": {},
   "outputs": [],
   "source": [
    "data['mhval90_00'] = data['mhval_00'] - data['mhval_90']"
   ]
  },
  {
   "cell_type": "code",
   "execution_count": 115,
   "metadata": {},
   "outputs": [],
   "source": [
    "data['mhval00_16'] = data['mhval_16'] - data['mhval_00']"
   ]
  },
  {
   "cell_type": "code",
   "execution_count": 116,
   "metadata": {},
   "outputs": [
    {
     "data": {
      "text/html": [
       "<div>\n",
       "<style scoped>\n",
       "    .dataframe tbody tr th:only-of-type {\n",
       "        vertical-align: middle;\n",
       "    }\n",
       "\n",
       "    .dataframe tbody tr th {\n",
       "        vertical-align: top;\n",
       "    }\n",
       "\n",
       "    .dataframe thead th {\n",
       "        text-align: right;\n",
       "    }\n",
       "</style>\n",
       "<table border=\"1\" class=\"dataframe\">\n",
       "  <thead>\n",
       "    <tr style=\"text-align: right;\">\n",
       "      <th></th>\n",
       "      <th>mhval00_16</th>\n",
       "      <th>rentchange_High90</th>\n",
       "      <th>rhomeValchange_High90</th>\n",
       "      <th>rentchange_High00</th>\n",
       "      <th>rhomeValchange_High00</th>\n",
       "    </tr>\n",
       "  </thead>\n",
       "  <tbody>\n",
       "    <tr>\n",
       "      <th>0</th>\n",
       "      <td>95300.0</td>\n",
       "      <td>0</td>\n",
       "      <td>0</td>\n",
       "      <td>0</td>\n",
       "      <td>0</td>\n",
       "    </tr>\n",
       "    <tr>\n",
       "      <th>1</th>\n",
       "      <td>104500.0</td>\n",
       "      <td>0</td>\n",
       "      <td>0</td>\n",
       "      <td>0</td>\n",
       "      <td>0</td>\n",
       "    </tr>\n",
       "    <tr>\n",
       "      <th>2</th>\n",
       "      <td>81000.0</td>\n",
       "      <td>1</td>\n",
       "      <td>1</td>\n",
       "      <td>0</td>\n",
       "      <td>0</td>\n",
       "    </tr>\n",
       "    <tr>\n",
       "      <th>3</th>\n",
       "      <td>76200.0</td>\n",
       "      <td>0</td>\n",
       "      <td>0</td>\n",
       "      <td>0</td>\n",
       "      <td>0</td>\n",
       "    </tr>\n",
       "    <tr>\n",
       "      <th>4</th>\n",
       "      <td>80400.0</td>\n",
       "      <td>0</td>\n",
       "      <td>0</td>\n",
       "      <td>0</td>\n",
       "      <td>0</td>\n",
       "    </tr>\n",
       "    <tr>\n",
       "      <th>5</th>\n",
       "      <td>166200.0</td>\n",
       "      <td>0</td>\n",
       "      <td>0</td>\n",
       "      <td>0</td>\n",
       "      <td>1</td>\n",
       "    </tr>\n",
       "    <tr>\n",
       "      <th>6</th>\n",
       "      <td>89900.0</td>\n",
       "      <td>1</td>\n",
       "      <td>1</td>\n",
       "      <td>0</td>\n",
       "      <td>0</td>\n",
       "    </tr>\n",
       "  </tbody>\n",
       "</table>\n",
       "</div>"
      ],
      "text/plain": [
       "   mhval00_16  rentchange_High90  rhomeValchange_High90  rentchange_High00  \\\n",
       "0     95300.0                  0                      0                  0   \n",
       "1    104500.0                  0                      0                  0   \n",
       "2     81000.0                  1                      1                  0   \n",
       "3     76200.0                  0                      0                  0   \n",
       "4     80400.0                  0                      0                  0   \n",
       "5    166200.0                  0                      0                  0   \n",
       "6     89900.0                  1                      1                  0   \n",
       "\n",
       "   rhomeValchange_High00  \n",
       "0                      0  \n",
       "1                      0  \n",
       "2                      0  \n",
       "3                      0  \n",
       "4                      0  \n",
       "5                      1  \n",
       "6                      0  "
      ]
     },
     "execution_count": 116,
     "metadata": {},
     "output_type": "execute_result"
    }
   ],
   "source": [
    "# 1990 base\n",
    "data['rentchange_High90'] = np.where(data['mrent90_00'] > data['mrent90_00'].median(), 1, 0)\n",
    "data['rhomeValchange_High90'] = np.where(data['mhval90_00'] > data['mhval90_00'].median(), 1, 0)\n",
    "\n",
    "# 2000 base\n",
    "data['rentchange_High00'] = np.where(data['mrent00_16'] > data['mrent00_16'].median(), 1, 0)\n",
    "data['rhomeValchange_High00'] = np.where(data['mhval00_16'] > data['mhval00_16'].median(), 1, 0)\n",
    "\n",
    "data.iloc[:,-5:].head(7)"
   ]
  },
  {
   "cell_type": "markdown",
   "metadata": {},
   "source": [
    "## Define \"Hot Market\"\n",
    "one out of two options of changing market (rent / home value)"
   ]
  },
  {
   "cell_type": "code",
   "execution_count": 117,
   "metadata": {},
   "outputs": [],
   "source": [
    "def hotmarket90(df):\n",
    "    if df['rentchange_High90'] == 1 or df['rhomeValchange_High90'] == 1 and df['rentchange_High90'] == 1:\n",
    "        val = 1\n",
    "    else:\n",
    "        val = 0\n",
    "    return val"
   ]
  },
  {
   "cell_type": "code",
   "execution_count": 118,
   "metadata": {},
   "outputs": [],
   "source": [
    "def hotmarket00(df):\n",
    "    if df['rentchange_High00'] == 1 or df['rhomeValchange_High00'] == 1 and df['rentchange_High00'] == 1:\n",
    "        val = 1\n",
    "    else:\n",
    "        val = 0\n",
    "    return val"
   ]
  },
  {
   "cell_type": "code",
   "execution_count": 119,
   "metadata": {},
   "outputs": [
    {
     "data": {
      "text/html": [
       "<div>\n",
       "<style scoped>\n",
       "    .dataframe tbody tr th:only-of-type {\n",
       "        vertical-align: middle;\n",
       "    }\n",
       "\n",
       "    .dataframe tbody tr th {\n",
       "        vertical-align: top;\n",
       "    }\n",
       "\n",
       "    .dataframe thead th {\n",
       "        text-align: right;\n",
       "    }\n",
       "</style>\n",
       "<table border=\"1\" class=\"dataframe\">\n",
       "  <thead>\n",
       "    <tr style=\"text-align: right;\">\n",
       "      <th></th>\n",
       "      <th>rentchange_High90</th>\n",
       "      <th>rhomeValchange_High90</th>\n",
       "      <th>rentchange_High00</th>\n",
       "      <th>rhomeValchange_High00</th>\n",
       "      <th>hotmarket90</th>\n",
       "      <th>hotmarket00</th>\n",
       "    </tr>\n",
       "  </thead>\n",
       "  <tbody>\n",
       "    <tr>\n",
       "      <th>0</th>\n",
       "      <td>0</td>\n",
       "      <td>0</td>\n",
       "      <td>0</td>\n",
       "      <td>0</td>\n",
       "      <td>0</td>\n",
       "      <td>0</td>\n",
       "    </tr>\n",
       "    <tr>\n",
       "      <th>1</th>\n",
       "      <td>0</td>\n",
       "      <td>0</td>\n",
       "      <td>0</td>\n",
       "      <td>0</td>\n",
       "      <td>0</td>\n",
       "      <td>0</td>\n",
       "    </tr>\n",
       "    <tr>\n",
       "      <th>2</th>\n",
       "      <td>1</td>\n",
       "      <td>1</td>\n",
       "      <td>0</td>\n",
       "      <td>0</td>\n",
       "      <td>1</td>\n",
       "      <td>0</td>\n",
       "    </tr>\n",
       "    <tr>\n",
       "      <th>3</th>\n",
       "      <td>0</td>\n",
       "      <td>0</td>\n",
       "      <td>0</td>\n",
       "      <td>0</td>\n",
       "      <td>0</td>\n",
       "      <td>0</td>\n",
       "    </tr>\n",
       "    <tr>\n",
       "      <th>4</th>\n",
       "      <td>0</td>\n",
       "      <td>0</td>\n",
       "      <td>0</td>\n",
       "      <td>0</td>\n",
       "      <td>0</td>\n",
       "      <td>0</td>\n",
       "    </tr>\n",
       "    <tr>\n",
       "      <th>5</th>\n",
       "      <td>0</td>\n",
       "      <td>0</td>\n",
       "      <td>0</td>\n",
       "      <td>1</td>\n",
       "      <td>0</td>\n",
       "      <td>0</td>\n",
       "    </tr>\n",
       "    <tr>\n",
       "      <th>6</th>\n",
       "      <td>1</td>\n",
       "      <td>1</td>\n",
       "      <td>0</td>\n",
       "      <td>0</td>\n",
       "      <td>1</td>\n",
       "      <td>0</td>\n",
       "    </tr>\n",
       "  </tbody>\n",
       "</table>\n",
       "</div>"
      ],
      "text/plain": [
       "   rentchange_High90  rhomeValchange_High90  rentchange_High00  \\\n",
       "0                  0                      0                  0   \n",
       "1                  0                      0                  0   \n",
       "2                  1                      1                  0   \n",
       "3                  0                      0                  0   \n",
       "4                  0                      0                  0   \n",
       "5                  0                      0                  0   \n",
       "6                  1                      1                  0   \n",
       "\n",
       "   rhomeValchange_High00  hotmarket90  hotmarket00  \n",
       "0                      0            0            0  \n",
       "1                      0            0            0  \n",
       "2                      0            1            0  \n",
       "3                      0            0            0  \n",
       "4                      0            0            0  \n",
       "5                      1            0            0  \n",
       "6                      0            1            0  "
      ]
     },
     "execution_count": 119,
     "metadata": {},
     "output_type": "execute_result"
    }
   ],
   "source": [
    "data['hotmarket90'] = data.apply(hotmarket90, axis=1)\n",
    "data['hotmarket00'] = data.apply(hotmarket00, axis=1)\n",
    "data.iloc[:,-6:].head(7)"
   ]
  },
  {
   "cell_type": "markdown",
   "metadata": {},
   "source": [
    "## Define risk0\n",
    "2 out of the 4 of the following is true in 2016 (select only one 'hot market' from the 2 'hot market' option)\n",
    "- Has rail station in tract\n",
    "- % of units in pre-1950 buildings > regional median\n",
    "- Employment density (2014)> regional median\n",
    "- “Hot market”"
   ]
  },
  {
   "cell_type": "code",
   "execution_count": 120,
   "metadata": {},
   "outputs": [],
   "source": [
    "# risk 1990\n",
    "\n",
    "def risk90(df):\n",
    "    if df['TOD'] == 1 and df['units_pre50_High'] == 1 and df['empdens14_High'] == 1:\n",
    "        val = 1\n",
    "    elif df['TOD'] == 1 and df['units_pre50_High'] == 1 and df['hotmarket90'] == 1:\n",
    "        val = 1\n",
    "    elif df['TOD'] == 1 and df['empdens14_High'] == 1 and df['hotmarket90'] == 1:\n",
    "        val = 1\n",
    "    elif df['units_pre50_High'] == 1 and df['empdens14_High'] == 1 and df['hotmarket90'] == 1:\n",
    "        val = 1\n",
    "    else:\n",
    "        val = 0\n",
    "    return val"
   ]
  },
  {
   "cell_type": "code",
   "execution_count": 121,
   "metadata": {},
   "outputs": [],
   "source": [
    "# risk 2000\n",
    "\n",
    "def risk00(df):\n",
    "    if df['TOD'] == 1 and df['units_pre50_High'] == 1 and df['empdens14_High'] == 1:\n",
    "        val = 1\n",
    "    elif df['TOD'] == 1 and df['units_pre50_High'] == 1 and df['hotmarket00'] == 1:\n",
    "        val = 1\n",
    "    elif df['TOD'] == 1 and df['empdens14_High'] == 1 and df['hotmarket00'] == 1:\n",
    "        val = 1\n",
    "    elif df['units_pre50_High'] == 1 and df['empdens14_High'] == 1 and df['hotmarket00'] == 1:\n",
    "        val = 1\n",
    "    else:\n",
    "        val = 0\n",
    "    return val"
   ]
  },
  {
   "cell_type": "code",
   "execution_count": 122,
   "metadata": {},
   "outputs": [
    {
     "data": {
      "text/plain": [
       "0       0.0\n",
       "3       0.0\n",
       "5       0.0\n",
       "6       0.0\n",
       "7       1.0\n",
       "8       0.0\n",
       "9       1.0\n",
       "10      0.0\n",
       "11      1.0\n",
       "14      0.0\n",
       "15      0.0\n",
       "18      0.0\n",
       "19      0.0\n",
       "20      0.0\n",
       "21      0.0\n",
       "22      0.0\n",
       "23      0.0\n",
       "24      1.0\n",
       "25      1.0\n",
       "26      0.0\n",
       "27      0.0\n",
       "28      0.0\n",
       "29      0.0\n",
       "30      0.0\n",
       "31      0.0\n",
       "32      0.0\n",
       "33      1.0\n",
       "34      0.0\n",
       "35      0.0\n",
       "36      1.0\n",
       "       ... \n",
       "5270    0.0\n",
       "5271    0.0\n",
       "5272    0.0\n",
       "5273    0.0\n",
       "5274    1.0\n",
       "5275    0.0\n",
       "5276    1.0\n",
       "5277    0.0\n",
       "5278    0.0\n",
       "5279    0.0\n",
       "5280    0.0\n",
       "5281    0.0\n",
       "5282    1.0\n",
       "5283    0.0\n",
       "5284    0.0\n",
       "5285    0.0\n",
       "5286    0.0\n",
       "5287    0.0\n",
       "5288    0.0\n",
       "5289    0.0\n",
       "5290    0.0\n",
       "5291    0.0\n",
       "5292    0.0\n",
       "5293    0.0\n",
       "5295    0.0\n",
       "5296    0.0\n",
       "5297    0.0\n",
       "5298    0.0\n",
       "5299    0.0\n",
       "5300    1.0\n",
       "Name: TOD, Length: 4593, dtype: float64"
      ]
     },
     "execution_count": 122,
     "metadata": {},
     "output_type": "execute_result"
    }
   ],
   "source": [
    "df_aram['TOD']"
   ]
  },
  {
   "cell_type": "code",
   "execution_count": 123,
   "metadata": {},
   "outputs": [
    {
     "data": {
      "text/plain": [
       "0    4577\n",
       "1    1477\n",
       "Name: risk90, dtype: int64"
      ]
     },
     "execution_count": 123,
     "metadata": {},
     "output_type": "execute_result"
    }
   ],
   "source": [
    "data['risk90'] = data.apply(risk90, axis=1)\n",
    "data['risk90'].value_counts()"
   ]
  },
  {
   "cell_type": "code",
   "execution_count": 124,
   "metadata": {},
   "outputs": [
    {
     "data": {
      "text/plain": [
       "0    4586\n",
       "1    1468\n",
       "Name: risk00, dtype: int64"
      ]
     },
     "execution_count": 124,
     "metadata": {},
     "output_type": "execute_result"
    }
   ],
   "source": [
    "data['risk00'] = data.apply(risk00, axis=1)\n",
    "data['risk00'].value_counts()"
   ]
  },
  {
   "cell_type": "code",
   "execution_count": 125,
   "metadata": {},
   "outputs": [
    {
     "data": {
      "text/plain": [
       "(3205, 126)"
      ]
     },
     "execution_count": 125,
     "metadata": {},
     "output_type": "execute_result"
    }
   ],
   "source": [
    "# create a df with only low income tracts\n",
    "\n",
    "df_LI = data[data['li_tract16'] == 1]\n",
    "df_LI.shape"
   ]
  },
  {
   "cell_type": "markdown",
   "metadata": {},
   "source": [
    "### There are 2760 LI tracts in the NY region in 2016"
   ]
  },
  {
   "cell_type": "markdown",
   "metadata": {},
   "source": [
    "## recalculating popgrowth 90-00; 00-16"
   ]
  },
  {
   "cell_type": "code",
   "execution_count": 126,
   "metadata": {},
   "outputs": [
    {
     "data": {
      "text/html": [
       "<div>\n",
       "<style scoped>\n",
       "    .dataframe tbody tr th:only-of-type {\n",
       "        vertical-align: middle;\n",
       "    }\n",
       "\n",
       "    .dataframe tbody tr th {\n",
       "        vertical-align: top;\n",
       "    }\n",
       "\n",
       "    .dataframe thead th {\n",
       "        text-align: right;\n",
       "    }\n",
       "</style>\n",
       "<table border=\"1\" class=\"dataframe\">\n",
       "  <thead>\n",
       "    <tr style=\"text-align: right;\">\n",
       "      <th></th>\n",
       "      <th>risk00</th>\n",
       "      <th>popgrowth90-00</th>\n",
       "      <th>popgrowth00-16</th>\n",
       "    </tr>\n",
       "  </thead>\n",
       "  <tbody>\n",
       "    <tr>\n",
       "      <th>0</th>\n",
       "      <td>0</td>\n",
       "      <td>231.0</td>\n",
       "      <td>141.0</td>\n",
       "    </tr>\n",
       "    <tr>\n",
       "      <th>1</th>\n",
       "      <td>0</td>\n",
       "      <td>628.0</td>\n",
       "      <td>-165.0</td>\n",
       "    </tr>\n",
       "    <tr>\n",
       "      <th>2</th>\n",
       "      <td>0</td>\n",
       "      <td>842.0</td>\n",
       "      <td>789.0</td>\n",
       "    </tr>\n",
       "  </tbody>\n",
       "</table>\n",
       "</div>"
      ],
      "text/plain": [
       "   risk00  popgrowth90-00  popgrowth00-16\n",
       "0       0           231.0           141.0\n",
       "1       0           628.0          -165.0\n",
       "2       0           842.0           789.0"
      ]
     },
     "execution_count": 126,
     "metadata": {},
     "output_type": "execute_result"
    }
   ],
   "source": [
    "# recalculating popgrowth 90-00; 00-16\n",
    "data['popgrowth90-00'] = data['pop_00'] - data['pop_90']\n",
    "data['popgrowth00-16'] = data['pop_16'] - data['pop_00']\n",
    "\n",
    "data.iloc[:,-3:].head(3)"
   ]
  },
  {
   "cell_type": "markdown",
   "metadata": {},
   "source": [
    "## Define Population stable or growing 1990-2000; 2000-2016  ( >= 0 )"
   ]
  },
  {
   "cell_type": "code",
   "execution_count": 127,
   "metadata": {},
   "outputs": [
    {
     "data": {
      "text/html": [
       "<div>\n",
       "<style scoped>\n",
       "    .dataframe tbody tr th:only-of-type {\n",
       "        vertical-align: middle;\n",
       "    }\n",
       "\n",
       "    .dataframe tbody tr th {\n",
       "        vertical-align: top;\n",
       "    }\n",
       "\n",
       "    .dataframe thead th {\n",
       "        text-align: right;\n",
       "    }\n",
       "</style>\n",
       "<table border=\"1\" class=\"dataframe\">\n",
       "  <thead>\n",
       "    <tr style=\"text-align: right;\">\n",
       "      <th></th>\n",
       "      <th>popgrowth90-00</th>\n",
       "      <th>popgrowth00-16</th>\n",
       "      <th>pgrowth90-00_High</th>\n",
       "      <th>pgrowth00-16_High</th>\n",
       "    </tr>\n",
       "  </thead>\n",
       "  <tbody>\n",
       "    <tr>\n",
       "      <th>0</th>\n",
       "      <td>231.0</td>\n",
       "      <td>141.0</td>\n",
       "      <td>1</td>\n",
       "      <td>1</td>\n",
       "    </tr>\n",
       "    <tr>\n",
       "      <th>1</th>\n",
       "      <td>628.0</td>\n",
       "      <td>-165.0</td>\n",
       "      <td>1</td>\n",
       "      <td>0</td>\n",
       "    </tr>\n",
       "    <tr>\n",
       "      <th>2</th>\n",
       "      <td>842.0</td>\n",
       "      <td>789.0</td>\n",
       "      <td>1</td>\n",
       "      <td>1</td>\n",
       "    </tr>\n",
       "    <tr>\n",
       "      <th>3</th>\n",
       "      <td>788.0</td>\n",
       "      <td>-197.0</td>\n",
       "      <td>1</td>\n",
       "      <td>0</td>\n",
       "    </tr>\n",
       "    <tr>\n",
       "      <th>4</th>\n",
       "      <td>565.0</td>\n",
       "      <td>440.0</td>\n",
       "      <td>1</td>\n",
       "      <td>1</td>\n",
       "    </tr>\n",
       "  </tbody>\n",
       "</table>\n",
       "</div>"
      ],
      "text/plain": [
       "   popgrowth90-00  popgrowth00-16  pgrowth90-00_High  pgrowth00-16_High\n",
       "0           231.0           141.0                  1                  1\n",
       "1           628.0          -165.0                  1                  0\n",
       "2           842.0           789.0                  1                  1\n",
       "3           788.0          -197.0                  1                  0\n",
       "4           565.0           440.0                  1                  1"
      ]
     },
     "execution_count": 127,
     "metadata": {},
     "output_type": "execute_result"
    }
   ],
   "source": [
    "data['pgrowth90-00_High'] = np.where(data['popgrowth90-00'] >= 0, 1, 0)\n",
    "data['pgrowth00-16_High'] = np.where(data['popgrowth00-16'] >= 0, 1, 0)\n",
    "data.iloc[:,-4:].head()"
   ]
  },
  {
   "cell_type": "markdown",
   "metadata": {},
   "source": [
    "## Define Loss of LI households 1990-2000; 2000-2016 (absolute loss)\n",
    "- ch_all_li_count90_00 < 0\n",
    "- ch_all_li_count00_16 < 0"
   ]
  },
  {
   "cell_type": "code",
   "execution_count": 128,
   "metadata": {},
   "outputs": [],
   "source": [
    "data['ch_all_li_count90_00'] = data['vli_00'] + data['li_00'] - data['vli_90'] - data['li_90']"
   ]
  },
  {
   "cell_type": "code",
   "execution_count": 129,
   "metadata": {},
   "outputs": [],
   "source": [
    "data['ch_all_li_count00_16'] = data['vli_16'] + data['li_16'] - data['vli_00'] - data['li_00']"
   ]
  },
  {
   "cell_type": "code",
   "execution_count": 130,
   "metadata": {},
   "outputs": [
    {
     "data": {
      "text/html": [
       "<div>\n",
       "<style scoped>\n",
       "    .dataframe tbody tr th:only-of-type {\n",
       "        vertical-align: middle;\n",
       "    }\n",
       "\n",
       "    .dataframe tbody tr th {\n",
       "        vertical-align: top;\n",
       "    }\n",
       "\n",
       "    .dataframe thead th {\n",
       "        text-align: right;\n",
       "    }\n",
       "</style>\n",
       "<table border=\"1\" class=\"dataframe\">\n",
       "  <thead>\n",
       "    <tr style=\"text-align: right;\">\n",
       "      <th></th>\n",
       "      <th>ch_all_li_count00_16</th>\n",
       "      <th>lossLI90-00</th>\n",
       "      <th>lossLI00-16</th>\n",
       "    </tr>\n",
       "  </thead>\n",
       "  <tbody>\n",
       "    <tr>\n",
       "      <th>0</th>\n",
       "      <td>0.072775</td>\n",
       "      <td>0</td>\n",
       "      <td>0</td>\n",
       "    </tr>\n",
       "    <tr>\n",
       "      <th>1</th>\n",
       "      <td>0.089685</td>\n",
       "      <td>0</td>\n",
       "      <td>0</td>\n",
       "    </tr>\n",
       "    <tr>\n",
       "      <th>2</th>\n",
       "      <td>0.119947</td>\n",
       "      <td>1</td>\n",
       "      <td>0</td>\n",
       "    </tr>\n",
       "    <tr>\n",
       "      <th>3</th>\n",
       "      <td>0.185062</td>\n",
       "      <td>1</td>\n",
       "      <td>0</td>\n",
       "    </tr>\n",
       "    <tr>\n",
       "      <th>4</th>\n",
       "      <td>0.160070</td>\n",
       "      <td>1</td>\n",
       "      <td>0</td>\n",
       "    </tr>\n",
       "  </tbody>\n",
       "</table>\n",
       "</div>"
      ],
      "text/plain": [
       "   ch_all_li_count00_16  lossLI90-00  lossLI00-16\n",
       "0              0.072775            0            0\n",
       "1              0.089685            0            0\n",
       "2              0.119947            1            0\n",
       "3              0.185062            1            0\n",
       "4              0.160070            1            0"
      ]
     },
     "execution_count": 130,
     "metadata": {},
     "output_type": "execute_result"
    }
   ],
   "source": [
    "data['lossLI90-00'] = np.where(data['ch_all_li_count90_00'] < 0, 1, 0)\n",
    "data['lossLI00-16'] = np.where(data['ch_all_li_count00_16'] < 0, 1, 0)\n",
    "\n",
    "data.iloc[:,-3:].head()"
   ]
  },
  {
   "cell_type": "markdown",
   "metadata": {},
   "source": [
    "## Define LI migration rate in 2015 < in 2009\n",
    "\n",
    "per_limove09 > per_limove16"
   ]
  },
  {
   "cell_type": "code",
   "execution_count": 131,
   "metadata": {},
   "outputs": [
    {
     "data": {
      "text/plain": [
       "array(['GEOid2', 'TOD', 'ag25up', 'all_li_count00', 'all_li_count16',\n",
       "       'all_li_count90', 'bachelors', 'ch_all_li_count00_16',\n",
       "       'ch_all_li_count90_00', 'co_med_indinc16', 'contained',\n",
       "       'denominator', 'doctorate', 'empd15', 'hh00', 'hh16', 'hi1990',\n",
       "       'hi2000', 'hi2016', 'hinc16', 'hmi1990', 'hmi2000', 'hmi2016',\n",
       "       'hu16', 'li1990', 'li2000', 'li2016', 'masters', 'mhval00',\n",
       "       'mhval00_16', 'mhval16', 'mhval90', 'mhval90_00', 'mi1990',\n",
       "       'mi2000', 'mi2016', 'moe_bachelors', 'moe_doctorates', 'moe_hh16',\n",
       "       'moe_hinc16', 'moe_hu16', 'moe_masters', 'moe_mhval16',\n",
       "       'moe_mrent16', 'moe_owner16', 'moe_pop16', 'moe_professionals',\n",
       "       'moe_renter16', 'moveinincd16', 'mrent00', 'mrent00_16', 'mrent16',\n",
       "       'mrent90', 'mrent90_00', 'ohu00', 'ohu16', 'ohu90', 'per_all_li00',\n",
       "       'per_all_li16', 'per_all_li90', 'per_col00', 'per_col90',\n",
       "       'per_col_16', 'per_limove09', 'per_limove16', 'per_nonwhite00',\n",
       "       'per_nonwhite16', 'per_nonwhite90', 'per_rent00', 'per_rent16',\n",
       "       'per_rent90', 'per_units_pre50', 'pop00', 'pop16', 'pop90',\n",
       "       'popgrowth', 'professional', 'rhu16', 'rou00', 'rou90', 'vhi1990',\n",
       "       'vhi2000', 'vhi2016', 'vli1990', 'vli2000', 'vli2016'],\n",
       "      dtype=object)"
      ]
     },
     "execution_count": 131,
     "metadata": {},
     "output_type": "execute_result"
    }
   ],
   "source": [
    "np.sort(df_aram.columns)"
   ]
  },
  {
   "cell_type": "code",
   "execution_count": 132,
   "metadata": {},
   "outputs": [
    {
     "data": {
      "text/html": [
       "<div>\n",
       "<style scoped>\n",
       "    .dataframe tbody tr th:only-of-type {\n",
       "        vertical-align: middle;\n",
       "    }\n",
       "\n",
       "    .dataframe tbody tr th {\n",
       "        vertical-align: top;\n",
       "    }\n",
       "\n",
       "    .dataframe thead th {\n",
       "        text-align: right;\n",
       "    }\n",
       "</style>\n",
       "<table border=\"1\" class=\"dataframe\">\n",
       "  <thead>\n",
       "    <tr style=\"text-align: right;\">\n",
       "      <th></th>\n",
       "      <th>lossLI90-00</th>\n",
       "      <th>lossLI00-16</th>\n",
       "      <th>moveinLI_decrease00</th>\n",
       "    </tr>\n",
       "  </thead>\n",
       "  <tbody>\n",
       "    <tr>\n",
       "      <th>0</th>\n",
       "      <td>0</td>\n",
       "      <td>0</td>\n",
       "      <td>0</td>\n",
       "    </tr>\n",
       "    <tr>\n",
       "      <th>1</th>\n",
       "      <td>0</td>\n",
       "      <td>0</td>\n",
       "      <td>0</td>\n",
       "    </tr>\n",
       "    <tr>\n",
       "      <th>2</th>\n",
       "      <td>1</td>\n",
       "      <td>0</td>\n",
       "      <td>0</td>\n",
       "    </tr>\n",
       "    <tr>\n",
       "      <th>3</th>\n",
       "      <td>1</td>\n",
       "      <td>0</td>\n",
       "      <td>0</td>\n",
       "    </tr>\n",
       "    <tr>\n",
       "      <th>4</th>\n",
       "      <td>1</td>\n",
       "      <td>0</td>\n",
       "      <td>0</td>\n",
       "    </tr>\n",
       "  </tbody>\n",
       "</table>\n",
       "</div>"
      ],
      "text/plain": [
       "   lossLI90-00  lossLI00-16  moveinLI_decrease00\n",
       "0            0            0                    0\n",
       "1            0            0                    0\n",
       "2            1            0                    0\n",
       "3            1            0                    0\n",
       "4            1            0                    0"
      ]
     },
     "execution_count": 132,
     "metadata": {},
     "output_type": "execute_result"
    }
   ],
   "source": [
    "data['moveinLI_decrease00'] = np.where(data['per_all_li_mig_16'] < data['per_all_li_mig_10'], 1, 0)\n",
    "data.iloc[:,-3:].head()"
   ]
  },
  {
   "cell_type": "markdown",
   "metadata": {},
   "source": [
    "## Change in college educators % 90-00, 00-16"
   ]
  },
  {
   "cell_type": "code",
   "execution_count": 133,
   "metadata": {},
   "outputs": [
    {
     "data": {
      "text/html": [
       "<div>\n",
       "<style scoped>\n",
       "    .dataframe tbody tr th:only-of-type {\n",
       "        vertical-align: middle;\n",
       "    }\n",
       "\n",
       "    .dataframe tbody tr th {\n",
       "        vertical-align: top;\n",
       "    }\n",
       "\n",
       "    .dataframe thead th {\n",
       "        text-align: right;\n",
       "    }\n",
       "</style>\n",
       "<table border=\"1\" class=\"dataframe\">\n",
       "  <thead>\n",
       "    <tr style=\"text-align: right;\">\n",
       "      <th></th>\n",
       "      <th>moveinLI_decrease00</th>\n",
       "      <th>edu_change90-00</th>\n",
       "      <th>edu_change00-16</th>\n",
       "    </tr>\n",
       "  </thead>\n",
       "  <tbody>\n",
       "    <tr>\n",
       "      <th>0</th>\n",
       "      <td>0</td>\n",
       "      <td>0.025183</td>\n",
       "      <td>0.501151</td>\n",
       "    </tr>\n",
       "    <tr>\n",
       "      <th>1</th>\n",
       "      <td>0</td>\n",
       "      <td>-0.081431</td>\n",
       "      <td>0.630765</td>\n",
       "    </tr>\n",
       "    <tr>\n",
       "      <th>2</th>\n",
       "      <td>0</td>\n",
       "      <td>0.044678</td>\n",
       "      <td>0.530168</td>\n",
       "    </tr>\n",
       "    <tr>\n",
       "      <th>3</th>\n",
       "      <td>0</td>\n",
       "      <td>0.050213</td>\n",
       "      <td>0.614020</td>\n",
       "    </tr>\n",
       "    <tr>\n",
       "      <th>4</th>\n",
       "      <td>0</td>\n",
       "      <td>-0.003440</td>\n",
       "      <td>0.535628</td>\n",
       "    </tr>\n",
       "  </tbody>\n",
       "</table>\n",
       "</div>"
      ],
      "text/plain": [
       "   moveinLI_decrease00  edu_change90-00  edu_change00-16\n",
       "0                    0         0.025183         0.501151\n",
       "1                    0        -0.081431         0.630765\n",
       "2                    0         0.044678         0.530168\n",
       "3                    0         0.050213         0.614020\n",
       "4                    0        -0.003440         0.535628"
      ]
     },
     "execution_count": 133,
     "metadata": {},
     "output_type": "execute_result"
    }
   ],
   "source": [
    "data['edu_change90-00'] = data['per_col_00'] - data['per_col_90']\n",
    "data['edu_change00-16'] = data['per_col_16'] - data['per_col_00']\n",
    "\n",
    "data.iloc[:,-3:].head()"
   ]
  },
  {
   "cell_type": "markdown",
   "metadata": {},
   "source": [
    "## Define Educated growth > region median"
   ]
  },
  {
   "cell_type": "code",
   "execution_count": 134,
   "metadata": {},
   "outputs": [
    {
     "data": {
      "text/html": [
       "<div>\n",
       "<style scoped>\n",
       "    .dataframe tbody tr th:only-of-type {\n",
       "        vertical-align: middle;\n",
       "    }\n",
       "\n",
       "    .dataframe tbody tr th {\n",
       "        vertical-align: top;\n",
       "    }\n",
       "\n",
       "    .dataframe thead th {\n",
       "        text-align: right;\n",
       "    }\n",
       "</style>\n",
       "<table border=\"1\" class=\"dataframe\">\n",
       "  <thead>\n",
       "    <tr style=\"text-align: right;\">\n",
       "      <th></th>\n",
       "      <th>edu_change00-16</th>\n",
       "      <th>edugrowth_High90</th>\n",
       "      <th>edugrowth_High00</th>\n",
       "    </tr>\n",
       "  </thead>\n",
       "  <tbody>\n",
       "    <tr>\n",
       "      <th>0</th>\n",
       "      <td>0.501151</td>\n",
       "      <td>1</td>\n",
       "      <td>0</td>\n",
       "    </tr>\n",
       "    <tr>\n",
       "      <th>1</th>\n",
       "      <td>0.630765</td>\n",
       "      <td>0</td>\n",
       "      <td>1</td>\n",
       "    </tr>\n",
       "    <tr>\n",
       "      <th>2</th>\n",
       "      <td>0.530168</td>\n",
       "      <td>1</td>\n",
       "      <td>0</td>\n",
       "    </tr>\n",
       "    <tr>\n",
       "      <th>3</th>\n",
       "      <td>0.614020</td>\n",
       "      <td>1</td>\n",
       "      <td>1</td>\n",
       "    </tr>\n",
       "    <tr>\n",
       "      <th>4</th>\n",
       "      <td>0.535628</td>\n",
       "      <td>0</td>\n",
       "      <td>0</td>\n",
       "    </tr>\n",
       "  </tbody>\n",
       "</table>\n",
       "</div>"
      ],
      "text/plain": [
       "   edu_change00-16  edugrowth_High90  edugrowth_High00\n",
       "0         0.501151                 1                 0\n",
       "1         0.630765                 0                 1\n",
       "2         0.530168                 1                 0\n",
       "3         0.614020                 1                 1\n",
       "4         0.535628                 0                 0"
      ]
     },
     "execution_count": 134,
     "metadata": {},
     "output_type": "execute_result"
    }
   ],
   "source": [
    "data['edugrowth_High90'] = np.where(data['edu_change90-00'] > data['edu_change90-00'].median(), 1, 0)\n",
    "data['edugrowth_High00'] = np.where(data['edu_change00-16'] > data['edu_change00-16'].median(), 1, 0)\n",
    "\n",
    "data.iloc[:,-3:].head()"
   ]
  },
  {
   "cell_type": "markdown",
   "metadata": {
    "collapsed": true
   },
   "source": [
    "## Define Growth in real median household income (percent change) > regional median (90 and 00)"
   ]
  },
  {
   "cell_type": "code",
   "execution_count": 135,
   "metadata": {},
   "outputs": [
    {
     "data": {
      "text/plain": [
       "array(['GEOid2', 'TOD', 'Volnurable00', 'Volnurable90',\n",
       "       'ch_all_li_count00_16', 'ch_all_li_count90_00', 'edu_change00-16',\n",
       "       'edu_change90-00', 'edugrowth_High00', 'edugrowth_High90',\n",
       "       'edulow00', 'edulow90', 'empd15', 'empdens14_High', 'hh_00',\n",
       "       'hh_16', 'hh_16_moe', 'hh_90', 'hi_00', 'hi_16', 'hi_16_moe',\n",
       "       'hi_90', 'hi_mig_10', 'hi_mig_10_moe', 'hi_mig_16',\n",
       "       'hi_mig_16_moe', 'hinc_00', 'hinc_16', 'hinc_16_moe', 'hinc_90',\n",
       "       'hotmarket00', 'hotmarket90', 'hu_00', 'hu_16', 'hu_16_moe',\n",
       "       'hu_90', 'li_00', 'li_16', 'li_16_moe', 'li_90', 'li_mig_10',\n",
       "       'li_mig_10_moe', 'li_mig_16', 'li_mig_16_moe', 'li_tract00',\n",
       "       'li_tract16', 'li_tract90', 'lossLI00-16', 'lossLI90-00', 'mhi_00',\n",
       "       'mhi_16', 'mhi_16_moe', 'mhi_90', 'mhi_mig_10', 'mhi_mig_10_moe',\n",
       "       'mhi_mig_16', 'mhi_mig_16_moe', 'mhval00_16', 'mhval90_00',\n",
       "       'mhval_00', 'mhval_16', 'mhval_16_moe', 'mhval_90', 'mi_00',\n",
       "       'mi_16', 'mi_16_moe', 'mi_90', 'mi_mig_10', 'mi_mig_10_moe',\n",
       "       'mi_mig_16', 'mi_mig_16_moe', 'moveinLI_decrease00', 'mrent00_16',\n",
       "       'mrent90_00', 'mrent_00', 'mrent_16', 'mrent_16_moe', 'mrent_90',\n",
       "       'nonwhiteHigh00', 'nonwhiteHigh16', 'nonwhiteHigh90',\n",
       "       'per_all_li_mig_10', 'per_all_li_mig_16', 'per_col_00',\n",
       "       'per_col_16', 'per_col_16_moe', 'per_col_90', 'per_nonwhite_00',\n",
       "       'per_nonwhite_16', 'per_nonwhite_16_moe', 'per_nonwhite_90',\n",
       "       'per_owners_00', 'per_owners_16', 'per_owners_16_moe',\n",
       "       'per_owners_90', 'per_rent_00', 'per_rent_16', 'per_rent_16_moe',\n",
       "       'per_rent_90', 'per_units_pre50', 'pgrowth00-16_High',\n",
       "       'pgrowth90-00_High', 'pop_00', 'pop_16', 'pop_16_moe', 'pop_90',\n",
       "       'popgrowth00-16', 'popgrowth90-00', 'rentchange_High00',\n",
       "       'rentchange_High90', 'renters%00', 'renters%16', 'renters%90',\n",
       "       'rhomeValchange_High00', 'rhomeValchange_High90', 'risk00',\n",
       "       'risk90', 'tract_x', 'tract_x', 'tract_y', 'tract_y',\n",
       "       'units_pre50_High', 'vhi_00', 'vhi_16', 'vhi_16_moe', 'vhi_90',\n",
       "       'vhi_mig_10', 'vhi_mig_10_moe', 'vhi_mig_16', 'vhi_mig_16_moe',\n",
       "       'vli_00', 'vli_16', 'vli_16_moe', 'vli_90', 'vli_mig_10',\n",
       "       'vli_mig_10_moe', 'vli_mig_16', 'vli_mig_16_moe', 'vli_tract16'],\n",
       "      dtype='<U21')"
      ]
     },
     "execution_count": 135,
     "metadata": {},
     "output_type": "execute_result"
    }
   ],
   "source": [
    "np.sort(list(data.columns))"
   ]
  },
  {
   "cell_type": "code",
   "execution_count": 136,
   "metadata": {},
   "outputs": [],
   "source": [
    "data['pct_ch_hinc90_00'] = data['hinc_00'] - data['hinc_90']"
   ]
  },
  {
   "cell_type": "code",
   "execution_count": 137,
   "metadata": {},
   "outputs": [],
   "source": [
    "data['pct_ch_hinc00_16'] = data['hinc_16'] - data['hinc_00']"
   ]
  },
  {
   "cell_type": "code",
   "execution_count": 138,
   "metadata": {},
   "outputs": [
    {
     "data": {
      "text/html": [
       "<div>\n",
       "<style scoped>\n",
       "    .dataframe tbody tr th:only-of-type {\n",
       "        vertical-align: middle;\n",
       "    }\n",
       "\n",
       "    .dataframe tbody tr th {\n",
       "        vertical-align: top;\n",
       "    }\n",
       "\n",
       "    .dataframe thead th {\n",
       "        text-align: right;\n",
       "    }\n",
       "</style>\n",
       "<table border=\"1\" class=\"dataframe\">\n",
       "  <thead>\n",
       "    <tr style=\"text-align: right;\">\n",
       "      <th></th>\n",
       "      <th>pct_ch_hinc90_00</th>\n",
       "      <th>pct_ch_hinc00_16</th>\n",
       "      <th>hhIncomeGrowthHigh90</th>\n",
       "      <th>hhIncomeGrowthHigh00</th>\n",
       "    </tr>\n",
       "  </thead>\n",
       "  <tbody>\n",
       "    <tr>\n",
       "      <th>0</th>\n",
       "      <td>225.0</td>\n",
       "      <td>3029.0</td>\n",
       "      <td>0</td>\n",
       "      <td>0</td>\n",
       "    </tr>\n",
       "    <tr>\n",
       "      <th>1</th>\n",
       "      <td>3538.0</td>\n",
       "      <td>3118.0</td>\n",
       "      <td>0</td>\n",
       "      <td>0</td>\n",
       "    </tr>\n",
       "    <tr>\n",
       "      <th>2</th>\n",
       "      <td>12997.0</td>\n",
       "      <td>-288.0</td>\n",
       "      <td>1</td>\n",
       "      <td>0</td>\n",
       "    </tr>\n",
       "    <tr>\n",
       "      <th>3</th>\n",
       "      <td>10050.0</td>\n",
       "      <td>-10801.0</td>\n",
       "      <td>0</td>\n",
       "      <td>0</td>\n",
       "    </tr>\n",
       "    <tr>\n",
       "      <th>4</th>\n",
       "      <td>10685.0</td>\n",
       "      <td>-1982.0</td>\n",
       "      <td>0</td>\n",
       "      <td>0</td>\n",
       "    </tr>\n",
       "  </tbody>\n",
       "</table>\n",
       "</div>"
      ],
      "text/plain": [
       "   pct_ch_hinc90_00  pct_ch_hinc00_16  hhIncomeGrowthHigh90  \\\n",
       "0             225.0            3029.0                     0   \n",
       "1            3538.0            3118.0                     0   \n",
       "2           12997.0            -288.0                     1   \n",
       "3           10050.0          -10801.0                     0   \n",
       "4           10685.0           -1982.0                     0   \n",
       "\n",
       "   hhIncomeGrowthHigh00  \n",
       "0                     0  \n",
       "1                     0  \n",
       "2                     0  \n",
       "3                     0  \n",
       "4                     0  "
      ]
     },
     "execution_count": 138,
     "metadata": {},
     "output_type": "execute_result"
    }
   ],
   "source": [
    "data['hhIncomeGrowthHigh90'] = np.where(data['pct_ch_hinc90_00'] > data['pct_ch_hinc90_00'].median(), 1, 0)\n",
    "data['hhIncomeGrowthHigh00'] = np.where(data['pct_ch_hinc00_16'] > data['pct_ch_hinc00_16'].median(), 1, 0)\n",
    "\n",
    "data.iloc[:,-4:].head()"
   ]
  },
  {
   "cell_type": "markdown",
   "metadata": {},
   "source": [
    "## Define  Demographic change 90-00, 00-16 (2 out of 3 factors)"
   ]
  },
  {
   "cell_type": "code",
   "execution_count": 139,
   "metadata": {},
   "outputs": [],
   "source": [
    "# Demographic change 90-00\n",
    "\n",
    "def Dchange90(df):\n",
    "    if df['edugrowth_High90'] == 1 and df['hhIncomeGrowthHigh90'] == 1:\n",
    "        val = 1\n",
    "    elif df['edugrowth_High90'] == 1 and df['lossLI90-00'] == 1:\n",
    "        val = 1\n",
    "    elif df['hhIncomeGrowthHigh90'] == 1 and df['lossLI90-00'] == 1:\n",
    "        val = 1\n",
    "    else:\n",
    "        val = 0\n",
    "    return val"
   ]
  },
  {
   "cell_type": "code",
   "execution_count": 140,
   "metadata": {},
   "outputs": [],
   "source": [
    "# Demographic change 00-16\n",
    "\n",
    "def Dchange00(df):\n",
    "    if df['edugrowth_High00'] == 1 and df['hhIncomeGrowthHigh00'] == 1:\n",
    "        val = 1\n",
    "    elif df['edugrowth_High00'] == 1 and df['lossLI00-16'] == 1:\n",
    "        val = 1\n",
    "    elif df['hhIncomeGrowthHigh00'] == 1 and df['lossLI00-16'] == 1:\n",
    "        val = 1\n",
    "    else:\n",
    "        val = 0\n",
    "    return val"
   ]
  },
  {
   "cell_type": "code",
   "execution_count": 141,
   "metadata": {},
   "outputs": [
    {
     "data": {
      "text/html": [
       "<div>\n",
       "<style scoped>\n",
       "    .dataframe tbody tr th:only-of-type {\n",
       "        vertical-align: middle;\n",
       "    }\n",
       "\n",
       "    .dataframe tbody tr th {\n",
       "        vertical-align: top;\n",
       "    }\n",
       "\n",
       "    .dataframe thead th {\n",
       "        text-align: right;\n",
       "    }\n",
       "</style>\n",
       "<table border=\"1\" class=\"dataframe\">\n",
       "  <thead>\n",
       "    <tr style=\"text-align: right;\">\n",
       "      <th></th>\n",
       "      <th>hhIncomeGrowthHigh00</th>\n",
       "      <th>Dchange90</th>\n",
       "      <th>Dchange00</th>\n",
       "    </tr>\n",
       "  </thead>\n",
       "  <tbody>\n",
       "    <tr>\n",
       "      <th>0</th>\n",
       "      <td>0</td>\n",
       "      <td>0</td>\n",
       "      <td>0</td>\n",
       "    </tr>\n",
       "    <tr>\n",
       "      <th>1</th>\n",
       "      <td>0</td>\n",
       "      <td>0</td>\n",
       "      <td>0</td>\n",
       "    </tr>\n",
       "    <tr>\n",
       "      <th>2</th>\n",
       "      <td>0</td>\n",
       "      <td>1</td>\n",
       "      <td>0</td>\n",
       "    </tr>\n",
       "    <tr>\n",
       "      <th>3</th>\n",
       "      <td>0</td>\n",
       "      <td>1</td>\n",
       "      <td>0</td>\n",
       "    </tr>\n",
       "    <tr>\n",
       "      <th>4</th>\n",
       "      <td>0</td>\n",
       "      <td>0</td>\n",
       "      <td>0</td>\n",
       "    </tr>\n",
       "  </tbody>\n",
       "</table>\n",
       "</div>"
      ],
      "text/plain": [
       "   hhIncomeGrowthHigh00  Dchange90  Dchange00\n",
       "0                     0          0          0\n",
       "1                     0          0          0\n",
       "2                     0          1          0\n",
       "3                     0          1          0\n",
       "4                     0          0          0"
      ]
     },
     "execution_count": 141,
     "metadata": {},
     "output_type": "execute_result"
    }
   ],
   "source": [
    "data['Dchange90'] = data.apply(Dchange90, axis=1)\n",
    "data['Dchange00'] = data.apply(Dchange00, axis=1)\n",
    "\n",
    "data.iloc[:,-3:].head()"
   ]
  },
  {
   "cell_type": "markdown",
   "metadata": {},
   "source": [
    "# Gentrified 90 + Gentrified 00"
   ]
  },
  {
   "cell_type": "code",
   "execution_count": 142,
   "metadata": {},
   "outputs": [
    {
     "data": {
      "text/html": [
       "<div>\n",
       "<style scoped>\n",
       "    .dataframe tbody tr th:only-of-type {\n",
       "        vertical-align: middle;\n",
       "    }\n",
       "\n",
       "    .dataframe tbody tr th {\n",
       "        vertical-align: top;\n",
       "    }\n",
       "\n",
       "    .dataframe thead th {\n",
       "        text-align: right;\n",
       "    }\n",
       "</style>\n",
       "<table border=\"1\" class=\"dataframe\">\n",
       "  <thead>\n",
       "    <tr style=\"text-align: right;\">\n",
       "      <th></th>\n",
       "      <th>Dchange00</th>\n",
       "      <th>Gentrified90</th>\n",
       "      <th>Gentrified00</th>\n",
       "    </tr>\n",
       "  </thead>\n",
       "  <tbody>\n",
       "    <tr>\n",
       "      <th>10</th>\n",
       "      <td>0</td>\n",
       "      <td>0</td>\n",
       "      <td>0</td>\n",
       "    </tr>\n",
       "    <tr>\n",
       "      <th>11</th>\n",
       "      <td>0</td>\n",
       "      <td>0</td>\n",
       "      <td>0</td>\n",
       "    </tr>\n",
       "    <tr>\n",
       "      <th>12</th>\n",
       "      <td>0</td>\n",
       "      <td>0</td>\n",
       "      <td>0</td>\n",
       "    </tr>\n",
       "    <tr>\n",
       "      <th>13</th>\n",
       "      <td>0</td>\n",
       "      <td>1</td>\n",
       "      <td>0</td>\n",
       "    </tr>\n",
       "    <tr>\n",
       "      <th>14</th>\n",
       "      <td>1</td>\n",
       "      <td>0</td>\n",
       "      <td>0</td>\n",
       "    </tr>\n",
       "    <tr>\n",
       "      <th>15</th>\n",
       "      <td>1</td>\n",
       "      <td>0</td>\n",
       "      <td>0</td>\n",
       "    </tr>\n",
       "  </tbody>\n",
       "</table>\n",
       "</div>"
      ],
      "text/plain": [
       "    Dchange00  Gentrified90  Gentrified00\n",
       "10          0             0             0\n",
       "11          0             0             0\n",
       "12          0             0             0\n",
       "13          0             1             0\n",
       "14          1             0             0\n",
       "15          1             0             0"
      ]
     },
     "execution_count": 142,
     "metadata": {},
     "output_type": "execute_result"
    }
   ],
   "source": [
    "data['Gentrified90'] = np.where((data['Volnurable90'] == 1) & (data['Dchange90'] == 1) &\n",
    "                                (data['hotmarket90'] == 1), 1, 0)\n",
    "data['Gentrified00'] = np.where((data['Volnurable00'] == 1) & (data['Dchange00'] == 1) &\n",
    "                                (data['hotmarket00'] == 1) & (data['moveinLI_decrease00'] == 1), 1, 0)\n",
    "\n",
    "data.iloc[10:16,-3:]"
   ]
  },
  {
   "cell_type": "code",
   "execution_count": 143,
   "metadata": {},
   "outputs": [
    {
     "data": {
      "text/plain": [
       "Index(['edulow00', 'renters%90', 'renters%00', 'renters%16', 'nonwhiteHigh90',\n",
       "       'nonwhiteHigh00', 'nonwhiteHigh16', 'Volnurable90', 'Volnurable00',\n",
       "       'units_pre50_High', 'empdens14_High', 'mrent90_00', 'mrent00_16',\n",
       "       'mhval90_00', 'mhval00_16', 'rentchange_High90',\n",
       "       'rhomeValchange_High90', 'rentchange_High00', 'rhomeValchange_High00',\n",
       "       'hotmarket90', 'hotmarket00', 'risk90', 'risk00', 'popgrowth90-00',\n",
       "       'popgrowth00-16', 'pgrowth90-00_High', 'pgrowth00-16_High',\n",
       "       'ch_all_li_count90_00', 'ch_all_li_count00_16', 'lossLI90-00',\n",
       "       'lossLI00-16', 'moveinLI_decrease00', 'edu_change90-00',\n",
       "       'edu_change00-16', 'edugrowth_High90', 'edugrowth_High00',\n",
       "       'pct_ch_hinc90_00', 'pct_ch_hinc00_16', 'hhIncomeGrowthHigh90',\n",
       "       'hhIncomeGrowthHigh00', 'Dchange90', 'Dchange00', 'Gentrified90',\n",
       "       'Gentrified00'],\n",
       "      dtype='object')"
      ]
     },
     "execution_count": 143,
     "metadata": {},
     "output_type": "execute_result"
    }
   ],
   "source": [
    "data.iloc[:,-44:].columns"
   ]
  },
  {
   "cell_type": "markdown",
   "metadata": {},
   "source": [
    "---\n",
    "\n",
    "# Assign typologies to census tracts\n",
    "\n",
    "----\n",
    "# 1. _VLI - Highly Vulnerable_"
   ]
  },
  {
   "cell_type": "code",
   "execution_count": 144,
   "metadata": {},
   "outputs": [
    {
     "data": {
      "text/plain": [
       "0    5622\n",
       "1     432\n",
       "Name: VLI, dtype: int64"
      ]
     },
     "execution_count": 144,
     "metadata": {},
     "output_type": "execute_result"
    }
   ],
   "source": [
    "data['VLI'] = np.where((data['vli_tract16'] == 1) & (data['renters%16'] == 1), 1, 0) \n",
    "data['VLI'].value_counts()"
   ]
  },
  {
   "cell_type": "markdown",
   "metadata": {},
   "source": [
    "# _5. MHI - Advanced / Completed Gentrification_\n",
    "    - Pop in 2000>500\n",
    "    - Moderate to High Income Tract in 2015\n",
    "    - Gentrified in in 1990-2000 or 2000-2015 (Defined in Appendix)"
   ]
  },
  {
   "cell_type": "code",
   "execution_count": 145,
   "metadata": {},
   "outputs": [],
   "source": [
    "# Advanced Gentrification (Moderate to High Income)\n",
    "\n",
    "def AdvancedGen(df):\n",
    "    if df['li_tract16'] == 0 and df['Gentrified90'] == 1 and df['VLI'] == 0:\n",
    "        val = 1\n",
    "    elif df['li_tract16'] == 0 and df['Gentrified00'] == 1 and df['VLI'] == 0:\n",
    "        val = 1\n",
    "    else:\n",
    "        val = 0\n",
    "    return val"
   ]
  },
  {
   "cell_type": "code",
   "execution_count": 146,
   "metadata": {},
   "outputs": [
    {
     "data": {
      "text/plain": [
       "0    5959\n",
       "1      95\n",
       "Name: AdvancedGen, dtype: int64"
      ]
     },
     "execution_count": 146,
     "metadata": {},
     "output_type": "execute_result"
    }
   ],
   "source": [
    "data['AdvancedGen'] = data.apply(AdvancedGen, axis=1)\n",
    "data['AdvancedGen'].value_counts()"
   ]
  },
  {
   "cell_type": "markdown",
   "metadata": {},
   "source": [
    "# _4. LI - Ongoing Gentrification_\n",
    "\n",
    "    - Pop in 2000 > 500\n",
    "    - Low Income Tract in 2016\n",
    "    - Vulnerable in 2000 (Defined in Appendix)\n",
    "    - Population stable or growing 2000-2016\n",
    "    - Loss of LI households 2000-2016 (absolute loss)\n",
    "    - Either:\n",
    "        o “Hot market” (Defined in Appendix)\n",
    "        o LI migration rate (percent of all migration to tract that was LI)\n",
    "    in 2016 < in 2009\n",
    "    - Gentrified in 1990-2000 or 2000-2016 (Defined in Appendix)"
   ]
  },
  {
   "cell_type": "code",
   "execution_count": 147,
   "metadata": {},
   "outputs": [],
   "source": [
    "# Displacement of LowIncome Households/Ongoing Gentrification (Low Income)\n",
    "\n",
    "def OngoingGenLI(df):\n",
    "    # gentrified in 90, LI tract in 2015\n",
    "    if df['li_tract16'] == 1 and df['Gentrified90'] == 1 and df['AdvancedGen'] == 0:\n",
    "        val = 1\n",
    "    # gentrified in 00, LI tract in 2015\n",
    "    elif df['li_tract16'] == 1 and df['Gentrified00'] == 1 and df['AdvancedGen'] == 0:\n",
    "        val = 1\n",
    "    # LI tract in 2016; Vulnerable in 2000; pop growth; Loss of LI households; hot market in 90\n",
    "    elif df['li_tract16'] == 1 and df['Volnurable00'] == 1 and df['popgrowth00-16'] == 1\\\n",
    "        and df['lossLI00-16'] == 1  and df['hotmarket90'] == 1 and df['AdvancedGen'] == 0:\n",
    "        val = 1\n",
    "    # LI tract in 2016; Vulnerable in 2000; pop growth; Loss of LI households; hot market in 00\n",
    "    elif df['li_tract16'] == 1 and df['Volnurable00'] == 1 and df['popgrowth00-16'] == 1\\\n",
    "        and df['lossLI00-16'] == 1 and df['hotmarket00'] == 1 and df['AdvancedGen'] == 0:\n",
    "        val = 1\n",
    "    #     # LI tract in 2016; Vulnerable in 2000; pop growth; Loss of LI households; LI migration rate\n",
    "    elif df['li_tract16'] == 1 and df['Volnurable00'] == 1 and df['popgrowth00-16'] == 1\\\n",
    "        and df['lossLI00-16'] == 1 and df['moveinLI_decrease00'] == 1 and df['AdvancedGen'] == 0:\n",
    "        val = 1\n",
    "    else:\n",
    "        val = 0\n",
    "    return val"
   ]
  },
  {
   "cell_type": "code",
   "execution_count": 148,
   "metadata": {},
   "outputs": [
    {
     "data": {
      "text/plain": [
       "0    5805\n",
       "1     249\n",
       "Name: OngoingGenLI, dtype: int64"
      ]
     },
     "execution_count": 148,
     "metadata": {},
     "output_type": "execute_result"
    }
   ],
   "source": [
    "data['OngoingGenLI'] = data.apply(OngoingGenLI, axis=1)\n",
    "data['OngoingGenLI'].value_counts()"
   ]
  },
  {
   "cell_type": "markdown",
   "metadata": {
    "collapsed": true
   },
   "source": [
    "# _3. LI - At Risk of Gentrification _\n",
    "    - Volnurable in 2000 (3 out of 4 variables)\n",
    "    - Not currently undergoing displacement or ongoing gentrification\n",
    "    - 2 out of the 4 of the following is true in 2015( select only one 'hot market' from the 2 'hot market' option)\n",
    "    - Not currently undergoing displacement or ongoing gentrification"
   ]
  },
  {
   "cell_type": "code",
   "execution_count": 149,
   "metadata": {},
   "outputs": [
    {
     "data": {
      "text/plain": [
       "0    5485\n",
       "1     569\n",
       "Name: AtRiskGen, dtype: int64"
      ]
     },
     "execution_count": 149,
     "metadata": {},
     "output_type": "execute_result"
    }
   ],
   "source": [
    "data['AtRiskGen'] = np.where((data['li_tract16'] == 1) & (data['Volnurable00'] == 1) &\n",
    "                            (data['risk00'] == 1) & (data['OngoingGenLI'] == 0), 1, 0)\n",
    "\n",
    "data['AtRiskGen'].value_counts()"
   ]
  },
  {
   "cell_type": "markdown",
   "metadata": {},
   "source": [
    "# 2. _LI - Stable (Not losing LI hh)_\n",
    "   -  _'pop00'_ (>500)\n",
    "   - Low Income tract in 2015\n",
    "   - Not classified as At Risk of, Ongoing, or Advanced Gentrification"
   ]
  },
  {
   "cell_type": "code",
   "execution_count": 150,
   "metadata": {},
   "outputs": [
    {
     "data": {
      "text/plain": [
       "0    3667\n",
       "1    2387\n",
       "Name: NotloseLI, dtype: int64"
      ]
     },
     "execution_count": 150,
     "metadata": {},
     "output_type": "execute_result"
    }
   ],
   "source": [
    "data['NotloseLI'] = np.where((data['li_tract16'] == 1) & (data['AtRiskGen'] == 0) &\n",
    "                             (data['OngoingGenLI'] == 0) & (data['AdvancedGen'] == 0), 1, 0)\n",
    "\n",
    "data['NotloseLI'].value_counts()"
   ]
  },
  {
   "cell_type": "markdown",
   "metadata": {
    "collapsed": true
   },
   "source": [
    "---"
   ]
  },
  {
   "cell_type": "markdown",
   "metadata": {},
   "source": [
    "# _8. MHI - Exclusion_\n",
    "    - Pop in 2000 > 500\n",
    "    - Moderate to High Income Tract in 2015\n",
    "    - <20% LI in 2000 \n",
    "    - % LI in 2016 < % LI in 2000\n",
    "    - LI migration < regional median in 2015"
   ]
  },
  {
   "cell_type": "code",
   "execution_count": 151,
   "metadata": {},
   "outputs": [
    {
     "data": {
      "text/html": [
       "<div>\n",
       "<style scoped>\n",
       "    .dataframe tbody tr th:only-of-type {\n",
       "        vertical-align: middle;\n",
       "    }\n",
       "\n",
       "    .dataframe tbody tr th {\n",
       "        vertical-align: top;\n",
       "    }\n",
       "\n",
       "    .dataframe thead th {\n",
       "        text-align: right;\n",
       "    }\n",
       "</style>\n",
       "<table border=\"1\" class=\"dataframe\">\n",
       "  <thead>\n",
       "    <tr style=\"text-align: right;\">\n",
       "      <th></th>\n",
       "      <th>LI&lt;20%</th>\n",
       "      <th>%LIdecrease</th>\n",
       "      <th>migLI_low</th>\n",
       "    </tr>\n",
       "  </thead>\n",
       "  <tbody>\n",
       "    <tr>\n",
       "      <th>0</th>\n",
       "      <td>0</td>\n",
       "      <td>1</td>\n",
       "      <td>0</td>\n",
       "    </tr>\n",
       "    <tr>\n",
       "      <th>1</th>\n",
       "      <td>0</td>\n",
       "      <td>0</td>\n",
       "      <td>0</td>\n",
       "    </tr>\n",
       "    <tr>\n",
       "      <th>2</th>\n",
       "      <td>0</td>\n",
       "      <td>1</td>\n",
       "      <td>0</td>\n",
       "    </tr>\n",
       "    <tr>\n",
       "      <th>3</th>\n",
       "      <td>0</td>\n",
       "      <td>1</td>\n",
       "      <td>0</td>\n",
       "    </tr>\n",
       "  </tbody>\n",
       "</table>\n",
       "</div>"
      ],
      "text/plain": [
       "   LI<20%  %LIdecrease  migLI_low\n",
       "0       0            1          0\n",
       "1       0            0          0\n",
       "2       0            1          0\n",
       "3       0            1          0"
      ]
     },
     "execution_count": 151,
     "metadata": {},
     "output_type": "execute_result"
    }
   ],
   "source": [
    "data['LI<20%'] = np.where(data['li_16']+data['vli_16'] < 0.2, 1, 0)\n",
    "data['%LIdecrease'] = np.where(data['li_16'] < data['li_00'], 1, 0)\n",
    "data['migLI_low'] = np.where(data['per_all_li_mig_16'] < data['per_all_li_mig_10'].median(), 1, 0)\n",
    "\n",
    "data.iloc[:,-3:].head(4)"
   ]
  },
  {
   "cell_type": "code",
   "execution_count": 152,
   "metadata": {},
   "outputs": [],
   "source": [
    "# Advanced Exclusion\n",
    "\n",
    "def Exclusion(df):\n",
    "    if df['li_tract16'] == 0 and df['LI<20%'] == 1 and df['%LIdecrease'] == 1 and df['migLI_low'] == 1:\n",
    "        val = 1\n",
    "    else:\n",
    "        val = 0\n",
    "    return val"
   ]
  },
  {
   "cell_type": "code",
   "execution_count": 153,
   "metadata": {},
   "outputs": [
    {
     "data": {
      "text/plain": [
       "0    5777\n",
       "1     277\n",
       "Name: Exclusion, dtype: int64"
      ]
     },
     "execution_count": 153,
     "metadata": {},
     "output_type": "execute_result"
    }
   ],
   "source": [
    "data['Exclusion'] = data.apply(Exclusion, axis=1)\n",
    "data['Exclusion'].value_counts()"
   ]
  },
  {
   "cell_type": "markdown",
   "metadata": {},
   "source": [
    "# _7. MHI - At Risk of Exclusion_\n",
    "\n",
    "    - Pop in 2000 > 500\n",
    "    - Moderate to High Income Tract in 2015\n",
    "    - 2 out of the 4 of the following is true in 2015:\n",
    "        o Has rail station in tract\n",
    "        o % of units in prewar buildings (1950) > regional median\n",
    "        o Employment density> regional median\n",
    "        o “Hot market” (options defined below table)\n",
    "    - Not currently undergoing exclusion – none of the below classifications are met"
   ]
  },
  {
   "cell_type": "code",
   "execution_count": 154,
   "metadata": {},
   "outputs": [
    {
     "data": {
      "text/plain": [
       "0    5486\n",
       "1     568\n",
       "Name: AtRiskExc, dtype: int64"
      ]
     },
     "execution_count": 154,
     "metadata": {},
     "output_type": "execute_result"
    }
   ],
   "source": [
    "data['AtRiskExc'] = np.where((data['li_tract16'] == 0) & (data['risk00'] == 1) &\n",
    "                            (data['Exclusion'] == 0), 1, 0)\n",
    "\n",
    "data['AtRiskExc'].value_counts()"
   ]
  },
  {
   "cell_type": "markdown",
   "metadata": {},
   "source": [
    "# _6. MHI - Stable (Not Losing Low-Income Households)_\n",
    "    - Pop in 2000>500\n",
    "    - Moderate to High Income Tract in 2015\n",
    "    - Not classified as At Risk of, Ongoing, or Advanced Exclusion"
   ]
  },
  {
   "cell_type": "code",
   "execution_count": 155,
   "metadata": {},
   "outputs": [
    {
     "data": {
      "text/plain": [
       "0    4050\n",
       "1    2004\n",
       "Name: NotloseHigh, dtype: int64"
      ]
     },
     "execution_count": 155,
     "metadata": {},
     "output_type": "execute_result"
    }
   ],
   "source": [
    "data['NotloseHigh'] = np.where((data['li_tract16'] == 0) & (data['AtRiskExc'] == 0) &\n",
    "                            (data['Exclusion'] == 0), 1, 0)\n",
    "\n",
    "data['NotloseHigh'].value_counts()"
   ]
  },
  {
   "cell_type": "markdown",
   "metadata": {},
   "source": [
    "#  << TYPOLOGY >>"
   ]
  },
  {
   "cell_type": "code",
   "execution_count": 156,
   "metadata": {},
   "outputs": [],
   "source": [
    "# Advanced Gentrification (Moderate to High Income)\n",
    "\n",
    "def Typology(df):\n",
    "    if df['VLI'] == 1:\n",
    "        val = 'VLI - Highly Vulnerable for Displacement'\n",
    "    elif df['AdvancedGen'] == 1:\n",
    "        val = 'MHI - Advanced Gentrification'\n",
    "    elif df['Exclusion'] == 1:\n",
    "        val = 'MHI - Exclusion' \n",
    "    elif df['AtRiskExc'] == 1:\n",
    "        val = 'MHI - At Risk of Exclusion'\n",
    "    elif df['NotloseHigh'] == 1:\n",
    "        val = 'MHI - Stable, Not Losing Low Income Households'\n",
    "    elif df['OngoingGenLI'] == 1:\n",
    "        val = 'LI - Ongoing Gentrification and/or Displacement'\n",
    "    elif df['AtRiskGen'] == 1:\n",
    "        val = 'LI - At Risk of Gentrification and/or Displacement'\n",
    "    elif df['NotloseLI'] == 1:\n",
    "        val = 'LI - Stable, Not Losing Low Income Households'\n",
    "    else:\n",
    "        val = 0\n",
    "    return val"
   ]
  },
  {
   "cell_type": "code",
   "execution_count": 157,
   "metadata": {},
   "outputs": [
    {
     "data": {
      "text/plain": [
       "LI - Stable, Not Losing Low Income Households         2041\n",
       "MHI - Stable, Not Losing Low Income Households        1963\n",
       "MHI - At Risk of Exclusion                             519\n",
       "LI - At Risk of Gentrification and/or Displacement     502\n",
       "VLI - Highly Vulnerable for Displacement               432\n",
       "MHI - Exclusion                                        272\n",
       "LI - Ongoing Gentrification and/or Displacement        230\n",
       "MHI - Advanced Gentrification                           95\n",
       "Name: Typology, dtype: int64"
      ]
     },
     "execution_count": 157,
     "metadata": {},
     "output_type": "execute_result"
    }
   ],
   "source": [
    "data['Typology'] = data.apply(Typology, axis=1)\n",
    "data['Typology'].value_counts()"
   ]
  },
  {
   "cell_type": "code",
   "execution_count": 158,
   "metadata": {},
   "outputs": [
    {
     "data": {
      "text/plain": [
       "6054"
      ]
     },
     "execution_count": 158,
     "metadata": {},
     "output_type": "execute_result"
    }
   ],
   "source": [
    "len(pd.DataFrame(data['Typology']))#.value_counts()))"
   ]
  },
  {
   "cell_type": "code",
   "execution_count": 159,
   "metadata": {},
   "outputs": [
    {
     "data": {
      "text/html": [
       "<div>\n",
       "<style scoped>\n",
       "    .dataframe tbody tr th:only-of-type {\n",
       "        vertical-align: middle;\n",
       "    }\n",
       "\n",
       "    .dataframe tbody tr th {\n",
       "        vertical-align: top;\n",
       "    }\n",
       "\n",
       "    .dataframe thead th {\n",
       "        text-align: right;\n",
       "    }\n",
       "</style>\n",
       "<table border=\"1\" class=\"dataframe\">\n",
       "  <thead>\n",
       "    <tr style=\"text-align: right;\">\n",
       "      <th></th>\n",
       "      <th>tractCounts</th>\n",
       "      <th>Typology%</th>\n",
       "    </tr>\n",
       "  </thead>\n",
       "  <tbody>\n",
       "    <tr>\n",
       "      <th>LI - Stable, Not Losing Low Income Households</th>\n",
       "      <td>2041</td>\n",
       "      <td>33.713247</td>\n",
       "    </tr>\n",
       "    <tr>\n",
       "      <th>MHI - Stable, Not Losing Low Income Households</th>\n",
       "      <td>1963</td>\n",
       "      <td>32.424843</td>\n",
       "    </tr>\n",
       "    <tr>\n",
       "      <th>MHI - At Risk of Exclusion</th>\n",
       "      <td>519</td>\n",
       "      <td>8.572844</td>\n",
       "    </tr>\n",
       "    <tr>\n",
       "      <th>LI - At Risk of Gentrification and/or Displacement</th>\n",
       "      <td>502</td>\n",
       "      <td>8.292038</td>\n",
       "    </tr>\n",
       "    <tr>\n",
       "      <th>VLI - Highly Vulnerable for Displacement</th>\n",
       "      <td>432</td>\n",
       "      <td>7.135778</td>\n",
       "    </tr>\n",
       "    <tr>\n",
       "      <th>MHI - Exclusion</th>\n",
       "      <td>272</td>\n",
       "      <td>4.492897</td>\n",
       "    </tr>\n",
       "    <tr>\n",
       "      <th>LI - Ongoing Gentrification and/or Displacement</th>\n",
       "      <td>230</td>\n",
       "      <td>3.799141</td>\n",
       "    </tr>\n",
       "    <tr>\n",
       "      <th>MHI - Advanced Gentrification</th>\n",
       "      <td>95</td>\n",
       "      <td>1.569210</td>\n",
       "    </tr>\n",
       "  </tbody>\n",
       "</table>\n",
       "</div>"
      ],
      "text/plain": [
       "                                                    tractCounts  Typology%\n",
       "LI - Stable, Not Losing Low Income Households              2041  33.713247\n",
       "MHI - Stable, Not Losing Low Income Households             1963  32.424843\n",
       "MHI - At Risk of Exclusion                                  519   8.572844\n",
       "LI - At Risk of Gentrification and/or Displacement          502   8.292038\n",
       "VLI - Highly Vulnerable for Displacement                    432   7.135778\n",
       "MHI - Exclusion                                             272   4.492897\n",
       "LI - Ongoing Gentrification and/or Displacement             230   3.799141\n",
       "MHI - Advanced Gentrification                                95   1.569210"
      ]
     },
     "execution_count": 159,
     "metadata": {},
     "output_type": "execute_result"
    }
   ],
   "source": [
    "resultsTyp = pd.DataFrame(data['Typology'].value_counts())\n",
    "resultsTyp.columns = ['tractCounts']\n",
    "resultsTyp['Typology%'] = resultsTyp['tractCounts'] / resultsTyp['tractCounts'].sum() *100\n",
    "\n",
    "resultsTyp"
   ]
  },
  {
   "cell_type": "code",
   "execution_count": 160,
   "metadata": {},
   "outputs": [
    {
     "data": {
      "text/plain": [
       "tractCounts      int64\n",
       "Typology%      float64\n",
       "dtype: object"
      ]
     },
     "execution_count": 160,
     "metadata": {},
     "output_type": "execute_result"
    }
   ],
   "source": [
    "resultsTyp.dtypes"
   ]
  },
  {
   "cell_type": "code",
   "execution_count": 161,
   "metadata": {},
   "outputs": [
    {
     "data": {
      "text/plain": [
       "(6054, 159)"
      ]
     },
     "execution_count": 161,
     "metadata": {},
     "output_type": "execute_result"
    }
   ],
   "source": [
    "data.shape"
   ]
  },
  {
   "cell_type": "code",
   "execution_count": 162,
   "metadata": {
    "scrolled": false
   },
   "outputs": [
    {
     "data": {
      "text/html": [
       "<div>\n",
       "<style scoped>\n",
       "    .dataframe tbody tr th:only-of-type {\n",
       "        vertical-align: middle;\n",
       "    }\n",
       "\n",
       "    .dataframe tbody tr th {\n",
       "        vertical-align: top;\n",
       "    }\n",
       "\n",
       "    .dataframe thead th {\n",
       "        text-align: right;\n",
       "    }\n",
       "</style>\n",
       "<table border=\"1\" class=\"dataframe\">\n",
       "  <thead>\n",
       "    <tr style=\"text-align: right;\">\n",
       "      <th></th>\n",
       "      <th>GEOid2</th>\n",
       "      <th>Typology</th>\n",
       "    </tr>\n",
       "  </thead>\n",
       "  <tbody>\n",
       "    <tr>\n",
       "      <th>0</th>\n",
       "      <td>34001000100</td>\n",
       "      <td>LI - Stable, Not Losing Low Income Households</td>\n",
       "    </tr>\n",
       "    <tr>\n",
       "      <th>1</th>\n",
       "      <td>34001000200</td>\n",
       "      <td>LI - Stable, Not Losing Low Income Households</td>\n",
       "    </tr>\n",
       "    <tr>\n",
       "      <th>2</th>\n",
       "      <td>34001000300</td>\n",
       "      <td>LI - Ongoing Gentrification and/or Displacement</td>\n",
       "    </tr>\n",
       "    <tr>\n",
       "      <th>3</th>\n",
       "      <td>34001000400</td>\n",
       "      <td>VLI - Highly Vulnerable for Displacement</td>\n",
       "    </tr>\n",
       "    <tr>\n",
       "      <th>4</th>\n",
       "      <td>34001000500</td>\n",
       "      <td>LI - Stable, Not Losing Low Income Households</td>\n",
       "    </tr>\n",
       "    <tr>\n",
       "      <th>5</th>\n",
       "      <td>34001001100</td>\n",
       "      <td>VLI - Highly Vulnerable for Displacement</td>\n",
       "    </tr>\n",
       "    <tr>\n",
       "      <th>6</th>\n",
       "      <td>34001001200</td>\n",
       "      <td>VLI - Highly Vulnerable for Displacement</td>\n",
       "    </tr>\n",
       "    <tr>\n",
       "      <th>7</th>\n",
       "      <td>34001001300</td>\n",
       "      <td>LI - Stable, Not Losing Low Income Households</td>\n",
       "    </tr>\n",
       "    <tr>\n",
       "      <th>8</th>\n",
       "      <td>34001001400</td>\n",
       "      <td>VLI - Highly Vulnerable for Displacement</td>\n",
       "    </tr>\n",
       "    <tr>\n",
       "      <th>9</th>\n",
       "      <td>34001001500</td>\n",
       "      <td>VLI - Highly Vulnerable for Displacement</td>\n",
       "    </tr>\n",
       "    <tr>\n",
       "      <th>10</th>\n",
       "      <td>34001001900</td>\n",
       "      <td>LI - Stable, Not Losing Low Income Households</td>\n",
       "    </tr>\n",
       "    <tr>\n",
       "      <th>11</th>\n",
       "      <td>34001002300</td>\n",
       "      <td>LI - Stable, Not Losing Low Income Households</td>\n",
       "    </tr>\n",
       "    <tr>\n",
       "      <th>12</th>\n",
       "      <td>34001002400</td>\n",
       "      <td>VLI - Highly Vulnerable for Displacement</td>\n",
       "    </tr>\n",
       "    <tr>\n",
       "      <th>13</th>\n",
       "      <td>34001002500</td>\n",
       "      <td>VLI - Highly Vulnerable for Displacement</td>\n",
       "    </tr>\n",
       "    <tr>\n",
       "      <th>14</th>\n",
       "      <td>34001010101</td>\n",
       "      <td>MHI - Stable, Not Losing Low Income Households</td>\n",
       "    </tr>\n",
       "    <tr>\n",
       "      <th>15</th>\n",
       "      <td>34001010102</td>\n",
       "      <td>LI - Stable, Not Losing Low Income Households</td>\n",
       "    </tr>\n",
       "    <tr>\n",
       "      <th>16</th>\n",
       "      <td>34001010200</td>\n",
       "      <td>MHI - Stable, Not Losing Low Income Households</td>\n",
       "    </tr>\n",
       "    <tr>\n",
       "      <th>17</th>\n",
       "      <td>34001010300</td>\n",
       "      <td>LI - Stable, Not Losing Low Income Households</td>\n",
       "    </tr>\n",
       "    <tr>\n",
       "      <th>18</th>\n",
       "      <td>34001010401</td>\n",
       "      <td>MHI - Stable, Not Losing Low Income Households</td>\n",
       "    </tr>\n",
       "    <tr>\n",
       "      <th>19</th>\n",
       "      <td>34001010403</td>\n",
       "      <td>MHI - Stable, Not Losing Low Income Households</td>\n",
       "    </tr>\n",
       "    <tr>\n",
       "      <th>20</th>\n",
       "      <td>34001010501</td>\n",
       "      <td>MHI - Stable, Not Losing Low Income Households</td>\n",
       "    </tr>\n",
       "    <tr>\n",
       "      <th>21</th>\n",
       "      <td>34001010503</td>\n",
       "      <td>LI - Stable, Not Losing Low Income Households</td>\n",
       "    </tr>\n",
       "    <tr>\n",
       "      <th>22</th>\n",
       "      <td>34001010600</td>\n",
       "      <td>LI - Stable, Not Losing Low Income Households</td>\n",
       "    </tr>\n",
       "    <tr>\n",
       "      <th>23</th>\n",
       "      <td>34001010700</td>\n",
       "      <td>MHI - Stable, Not Losing Low Income Households</td>\n",
       "    </tr>\n",
       "    <tr>\n",
       "      <th>24</th>\n",
       "      <td>34001010800</td>\n",
       "      <td>LI - Stable, Not Losing Low Income Households</td>\n",
       "    </tr>\n",
       "    <tr>\n",
       "      <th>25</th>\n",
       "      <td>34001010900</td>\n",
       "      <td>MHI - Stable, Not Losing Low Income Households</td>\n",
       "    </tr>\n",
       "    <tr>\n",
       "      <th>26</th>\n",
       "      <td>34001011000</td>\n",
       "      <td>MHI - Stable, Not Losing Low Income Households</td>\n",
       "    </tr>\n",
       "    <tr>\n",
       "      <th>27</th>\n",
       "      <td>34001011100</td>\n",
       "      <td>LI - Stable, Not Losing Low Income Households</td>\n",
       "    </tr>\n",
       "    <tr>\n",
       "      <th>28</th>\n",
       "      <td>34001011201</td>\n",
       "      <td>MHI - Stable, Not Losing Low Income Households</td>\n",
       "    </tr>\n",
       "    <tr>\n",
       "      <th>29</th>\n",
       "      <td>34001011202</td>\n",
       "      <td>MHI - Advanced Gentrification</td>\n",
       "    </tr>\n",
       "    <tr>\n",
       "      <th>...</th>\n",
       "      <td>...</td>\n",
       "      <td>...</td>\n",
       "    </tr>\n",
       "    <tr>\n",
       "      <th>6024</th>\n",
       "      <td>9013850200</td>\n",
       "      <td>MHI - Stable, Not Losing Low Income Households</td>\n",
       "    </tr>\n",
       "    <tr>\n",
       "      <th>6025</th>\n",
       "      <td>9013860100</td>\n",
       "      <td>MHI - Stable, Not Losing Low Income Households</td>\n",
       "    </tr>\n",
       "    <tr>\n",
       "      <th>6026</th>\n",
       "      <td>9013881100</td>\n",
       "      <td>MHI - Stable, Not Losing Low Income Households</td>\n",
       "    </tr>\n",
       "    <tr>\n",
       "      <th>6027</th>\n",
       "      <td>9013881200</td>\n",
       "      <td>VLI - Highly Vulnerable for Displacement</td>\n",
       "    </tr>\n",
       "    <tr>\n",
       "      <th>6028</th>\n",
       "      <td>9013881300</td>\n",
       "      <td>LI - Stable, Not Losing Low Income Households</td>\n",
       "    </tr>\n",
       "    <tr>\n",
       "      <th>6029</th>\n",
       "      <td>9013881500</td>\n",
       "      <td>LI - Stable, Not Losing Low Income Households</td>\n",
       "    </tr>\n",
       "    <tr>\n",
       "      <th>6030</th>\n",
       "      <td>9013890100</td>\n",
       "      <td>LI - Stable, Not Losing Low Income Households</td>\n",
       "    </tr>\n",
       "    <tr>\n",
       "      <th>6031</th>\n",
       "      <td>9015800300</td>\n",
       "      <td>VLI - Highly Vulnerable for Displacement</td>\n",
       "    </tr>\n",
       "    <tr>\n",
       "      <th>6032</th>\n",
       "      <td>9015800400</td>\n",
       "      <td>LI - Stable, Not Losing Low Income Households</td>\n",
       "    </tr>\n",
       "    <tr>\n",
       "      <th>6033</th>\n",
       "      <td>9015800500</td>\n",
       "      <td>LI - Stable, Not Losing Low Income Households</td>\n",
       "    </tr>\n",
       "    <tr>\n",
       "      <th>6034</th>\n",
       "      <td>9015815000</td>\n",
       "      <td>MHI - Stable, Not Losing Low Income Households</td>\n",
       "    </tr>\n",
       "    <tr>\n",
       "      <th>6035</th>\n",
       "      <td>9015820000</td>\n",
       "      <td>MHI - Stable, Not Losing Low Income Households</td>\n",
       "    </tr>\n",
       "    <tr>\n",
       "      <th>6036</th>\n",
       "      <td>9015825000</td>\n",
       "      <td>MHI - Stable, Not Losing Low Income Households</td>\n",
       "    </tr>\n",
       "    <tr>\n",
       "      <th>6037</th>\n",
       "      <td>9015830100</td>\n",
       "      <td>MHI - Stable, Not Losing Low Income Households</td>\n",
       "    </tr>\n",
       "    <tr>\n",
       "      <th>6038</th>\n",
       "      <td>9015900100</td>\n",
       "      <td>MHI - Stable, Not Losing Low Income Households</td>\n",
       "    </tr>\n",
       "    <tr>\n",
       "      <th>6039</th>\n",
       "      <td>9015900200</td>\n",
       "      <td>LI - Stable, Not Losing Low Income Households</td>\n",
       "    </tr>\n",
       "    <tr>\n",
       "      <th>6040</th>\n",
       "      <td>9015901100</td>\n",
       "      <td>MHI - Stable, Not Losing Low Income Households</td>\n",
       "    </tr>\n",
       "    <tr>\n",
       "      <th>6041</th>\n",
       "      <td>9015902200</td>\n",
       "      <td>MHI - Stable, Not Losing Low Income Households</td>\n",
       "    </tr>\n",
       "    <tr>\n",
       "      <th>6042</th>\n",
       "      <td>9015902500</td>\n",
       "      <td>MHI - Stable, Not Losing Low Income Households</td>\n",
       "    </tr>\n",
       "    <tr>\n",
       "      <th>6043</th>\n",
       "      <td>9015903100</td>\n",
       "      <td>LI - Stable, Not Losing Low Income Households</td>\n",
       "    </tr>\n",
       "    <tr>\n",
       "      <th>6044</th>\n",
       "      <td>9015903200</td>\n",
       "      <td>MHI - Stable, Not Losing Low Income Households</td>\n",
       "    </tr>\n",
       "    <tr>\n",
       "      <th>6045</th>\n",
       "      <td>9015904100</td>\n",
       "      <td>LI - Stable, Not Losing Low Income Households</td>\n",
       "    </tr>\n",
       "    <tr>\n",
       "      <th>6046</th>\n",
       "      <td>9015904400</td>\n",
       "      <td>LI - Stable, Not Losing Low Income Households</td>\n",
       "    </tr>\n",
       "    <tr>\n",
       "      <th>6047</th>\n",
       "      <td>9015904500</td>\n",
       "      <td>LI - Stable, Not Losing Low Income Households</td>\n",
       "    </tr>\n",
       "    <tr>\n",
       "      <th>6048</th>\n",
       "      <td>9015905100</td>\n",
       "      <td>MHI - Stable, Not Losing Low Income Households</td>\n",
       "    </tr>\n",
       "    <tr>\n",
       "      <th>6049</th>\n",
       "      <td>9015906100</td>\n",
       "      <td>MHI - Stable, Not Losing Low Income Households</td>\n",
       "    </tr>\n",
       "    <tr>\n",
       "      <th>6050</th>\n",
       "      <td>9015907100</td>\n",
       "      <td>MHI - Stable, Not Losing Low Income Households</td>\n",
       "    </tr>\n",
       "    <tr>\n",
       "      <th>6051</th>\n",
       "      <td>9015907200</td>\n",
       "      <td>LI - Stable, Not Losing Low Income Households</td>\n",
       "    </tr>\n",
       "    <tr>\n",
       "      <th>6052</th>\n",
       "      <td>9015907300</td>\n",
       "      <td>LI - Stable, Not Losing Low Income Households</td>\n",
       "    </tr>\n",
       "    <tr>\n",
       "      <th>6053</th>\n",
       "      <td>9015908100</td>\n",
       "      <td>MHI - Stable, Not Losing Low Income Households</td>\n",
       "    </tr>\n",
       "  </tbody>\n",
       "</table>\n",
       "<p>6054 rows × 2 columns</p>\n",
       "</div>"
      ],
      "text/plain": [
       "           GEOid2                                         Typology\n",
       "0     34001000100    LI - Stable, Not Losing Low Income Households\n",
       "1     34001000200    LI - Stable, Not Losing Low Income Households\n",
       "2     34001000300  LI - Ongoing Gentrification and/or Displacement\n",
       "3     34001000400         VLI - Highly Vulnerable for Displacement\n",
       "4     34001000500    LI - Stable, Not Losing Low Income Households\n",
       "5     34001001100         VLI - Highly Vulnerable for Displacement\n",
       "6     34001001200         VLI - Highly Vulnerable for Displacement\n",
       "7     34001001300    LI - Stable, Not Losing Low Income Households\n",
       "8     34001001400         VLI - Highly Vulnerable for Displacement\n",
       "9     34001001500         VLI - Highly Vulnerable for Displacement\n",
       "10    34001001900    LI - Stable, Not Losing Low Income Households\n",
       "11    34001002300    LI - Stable, Not Losing Low Income Households\n",
       "12    34001002400         VLI - Highly Vulnerable for Displacement\n",
       "13    34001002500         VLI - Highly Vulnerable for Displacement\n",
       "14    34001010101   MHI - Stable, Not Losing Low Income Households\n",
       "15    34001010102    LI - Stable, Not Losing Low Income Households\n",
       "16    34001010200   MHI - Stable, Not Losing Low Income Households\n",
       "17    34001010300    LI - Stable, Not Losing Low Income Households\n",
       "18    34001010401   MHI - Stable, Not Losing Low Income Households\n",
       "19    34001010403   MHI - Stable, Not Losing Low Income Households\n",
       "20    34001010501   MHI - Stable, Not Losing Low Income Households\n",
       "21    34001010503    LI - Stable, Not Losing Low Income Households\n",
       "22    34001010600    LI - Stable, Not Losing Low Income Households\n",
       "23    34001010700   MHI - Stable, Not Losing Low Income Households\n",
       "24    34001010800    LI - Stable, Not Losing Low Income Households\n",
       "25    34001010900   MHI - Stable, Not Losing Low Income Households\n",
       "26    34001011000   MHI - Stable, Not Losing Low Income Households\n",
       "27    34001011100    LI - Stable, Not Losing Low Income Households\n",
       "28    34001011201   MHI - Stable, Not Losing Low Income Households\n",
       "29    34001011202                    MHI - Advanced Gentrification\n",
       "...           ...                                              ...\n",
       "6024   9013850200   MHI - Stable, Not Losing Low Income Households\n",
       "6025   9013860100   MHI - Stable, Not Losing Low Income Households\n",
       "6026   9013881100   MHI - Stable, Not Losing Low Income Households\n",
       "6027   9013881200         VLI - Highly Vulnerable for Displacement\n",
       "6028   9013881300    LI - Stable, Not Losing Low Income Households\n",
       "6029   9013881500    LI - Stable, Not Losing Low Income Households\n",
       "6030   9013890100    LI - Stable, Not Losing Low Income Households\n",
       "6031   9015800300         VLI - Highly Vulnerable for Displacement\n",
       "6032   9015800400    LI - Stable, Not Losing Low Income Households\n",
       "6033   9015800500    LI - Stable, Not Losing Low Income Households\n",
       "6034   9015815000   MHI - Stable, Not Losing Low Income Households\n",
       "6035   9015820000   MHI - Stable, Not Losing Low Income Households\n",
       "6036   9015825000   MHI - Stable, Not Losing Low Income Households\n",
       "6037   9015830100   MHI - Stable, Not Losing Low Income Households\n",
       "6038   9015900100   MHI - Stable, Not Losing Low Income Households\n",
       "6039   9015900200    LI - Stable, Not Losing Low Income Households\n",
       "6040   9015901100   MHI - Stable, Not Losing Low Income Households\n",
       "6041   9015902200   MHI - Stable, Not Losing Low Income Households\n",
       "6042   9015902500   MHI - Stable, Not Losing Low Income Households\n",
       "6043   9015903100    LI - Stable, Not Losing Low Income Households\n",
       "6044   9015903200   MHI - Stable, Not Losing Low Income Households\n",
       "6045   9015904100    LI - Stable, Not Losing Low Income Households\n",
       "6046   9015904400    LI - Stable, Not Losing Low Income Households\n",
       "6047   9015904500    LI - Stable, Not Losing Low Income Households\n",
       "6048   9015905100   MHI - Stable, Not Losing Low Income Households\n",
       "6049   9015906100   MHI - Stable, Not Losing Low Income Households\n",
       "6050   9015907100   MHI - Stable, Not Losing Low Income Households\n",
       "6051   9015907200    LI - Stable, Not Losing Low Income Households\n",
       "6052   9015907300    LI - Stable, Not Losing Low Income Households\n",
       "6053   9015908100   MHI - Stable, Not Losing Low Income Households\n",
       "\n",
       "[6054 rows x 2 columns]"
      ]
     },
     "execution_count": 162,
     "metadata": {},
     "output_type": "execute_result"
    }
   ],
   "source": [
    "data[['GEOid2', 'Typology']].set_index('GEOid2').reset_index()"
   ]
  },
  {
   "cell_type": "code",
   "execution_count": 163,
   "metadata": {},
   "outputs": [],
   "source": [
    "data[['GEOid2', 'Typology']].set_index('GEOid2').to_csv('UDPNY_revisedTypologies2.csv')"
   ]
  },
  {
   "cell_type": "code",
   "execution_count": 164,
   "metadata": {},
   "outputs": [
    {
     "data": {
      "text/plain": [
       "([<matplotlib.patches.Wedge at 0x1a1d725278>,\n",
       "  <matplotlib.patches.Wedge at 0x1a1d7259b0>,\n",
       "  <matplotlib.patches.Wedge at 0x1a1d725470>,\n",
       "  <matplotlib.patches.Wedge at 0x1a1d7300b8>,\n",
       "  <matplotlib.patches.Wedge at 0x1a1d7307f0>,\n",
       "  <matplotlib.patches.Wedge at 0x1a1d730fd0>,\n",
       "  <matplotlib.patches.Wedge at 0x1a1d7d12b0>,\n",
       "  <matplotlib.patches.Wedge at 0x1a1d7d1400>],\n",
       " [Text(0.538591,0.959124,''),\n",
       "  Text(-1.09999,0.0051373,''),\n",
       "  Text(-0.311897,-1.05486,''),\n",
       "  Text(0.263972,-1.06786,''),\n",
       "  Text(0.73111,-0.821875,''),\n",
       "  Text(0.97648,-0.506446,''),\n",
       "  Text(1.07398,-0.237851,''),\n",
       "  Text(1.09866,-0.054206,'')])"
      ]
     },
     "execution_count": 164,
     "metadata": {},
     "output_type": "execute_result"
    },
    {
     "data": {
      "image/png": "[encoded data removed]",
      "text/plain": [
       "<Figure size 432x288 with 1 Axes>"
      ]
     },
     "metadata": {},
     "output_type": "display_data"
    }
   ],
   "source": [
    "pl.pie(resultsTyp.iloc[:,1])"
   ]
  },
  {
   "cell_type": "code",
   "execution_count": 165,
   "metadata": {},
   "outputs": [
    {
     "data": {
      "text/plain": [
       "0       0.0\n",
       "3       0.0\n",
       "5       0.0\n",
       "6       0.0\n",
       "7       1.0\n",
       "8       0.0\n",
       "9       1.0\n",
       "10      0.0\n",
       "11      1.0\n",
       "14      0.0\n",
       "15      0.0\n",
       "18      0.0\n",
       "19      0.0\n",
       "20      0.0\n",
       "21      0.0\n",
       "22      0.0\n",
       "23      0.0\n",
       "24      1.0\n",
       "25      1.0\n",
       "26      0.0\n",
       "27      0.0\n",
       "28      0.0\n",
       "29      0.0\n",
       "30      0.0\n",
       "31      0.0\n",
       "32      0.0\n",
       "33      1.0\n",
       "34      0.0\n",
       "35      0.0\n",
       "36      1.0\n",
       "       ... \n",
       "5270    0.0\n",
       "5271    0.0\n",
       "5272    0.0\n",
       "5273    0.0\n",
       "5274    1.0\n",
       "5275    0.0\n",
       "5276    1.0\n",
       "5277    0.0\n",
       "5278    0.0\n",
       "5279    0.0\n",
       "5280    0.0\n",
       "5281    0.0\n",
       "5282    1.0\n",
       "5283    0.0\n",
       "5284    0.0\n",
       "5285    0.0\n",
       "5286    0.0\n",
       "5287    0.0\n",
       "5288    0.0\n",
       "5289    0.0\n",
       "5290    0.0\n",
       "5291    0.0\n",
       "5292    0.0\n",
       "5293    0.0\n",
       "5295    0.0\n",
       "5296    0.0\n",
       "5297    0.0\n",
       "5298    0.0\n",
       "5299    0.0\n",
       "5300    1.0\n",
       "Name: TOD, Length: 4593, dtype: float64"
      ]
     },
     "execution_count": 165,
     "metadata": {},
     "output_type": "execute_result"
    }
   ],
   "source": [
    "df_aram.TOD"
   ]
  },
  {
   "cell_type": "code",
   "execution_count": null,
   "metadata": {},
   "outputs": [],
   "source": []
  }
 ],
 "metadata": {
  "kernelspec": {
   "display_name": "Python 3",
   "language": "python",
   "name": "python3"
  },
  "language_info": {
   "codemirror_mode": {
    "name": "ipython",
    "version": 3
   },
   "file_extension": ".py",
   "mimetype": "text/x-python",
   "name": "python",
   "nbconvert_exporter": "python",
   "pygments_lexer": "ipython3",
   "version": "3.6.5"
  }
 },
 "nbformat": 4,
 "nbformat_minor": 2
}

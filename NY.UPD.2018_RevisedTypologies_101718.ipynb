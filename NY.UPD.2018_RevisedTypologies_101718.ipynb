{
 "cells": [
  {
   "cell_type": "code",
   "execution_count": 1,
   "metadata": {},
   "outputs": [
    {
     "name": "stdout",
     "output_type": "stream",
     "text": [
      "Populating the interactive namespace from numpy and matplotlib\n"
     ]
    }
   ],
   "source": [
    "import pandas as pd\n",
    "import numpy as np\n",
    "import matplotlib.pylab as pl\n",
    "import seaborn as sns\n",
    "\n",
    "%pylab inline"
   ]
  },
  {
   "cell_type": "markdown",
   "metadata": {},
   "source": [
    "# UDPNY 2018 - _phase #2_\n",
    "# _1.2 edition - 06.21.18_\n",
    "## Map of gentrification for the Greater New York area\n",
    "\n",
    "This notebook is the first phase of the project: applying the [Urban Displacement Project (UDP)](http://www.urbandisplacement.org/) methodology, developed for the Bay Area, to the New York Metropolitan area. \n",
    "\n",
    "This code defines the _**8 displacement typologies**_ and assignes each CT to a typology. \n",
    "\n",
    "- [UDP's methodology / displacement typollogies](http://www.urbandisplacement.org/sites/default/files/images/methdology_summary.pdf)"
   ]
  },
  {
   "cell_type": "code",
   "execution_count": 2,
   "metadata": {},
   "outputs": [],
   "source": [
    "df_empd02 = pd.read_csv('empd02.csv')"
   ]
  },
  {
   "cell_type": "code",
   "execution_count": 3,
   "metadata": {},
   "outputs": [],
   "source": [
    "df_empd15 = pd.read_csv('empd15.csv')"
   ]
  },
  {
   "cell_type": "code",
   "execution_count": 4,
   "metadata": {},
   "outputs": [],
   "source": [
    "df_tod = pd.read_csv('TOD.csv')"
   ]
  },
  {
   "cell_type": "code",
   "execution_count": 5,
   "metadata": {},
   "outputs": [],
   "source": [
    "df_aram = pd.read_stata(\"UDP_NYC_Variables.dta\")"
   ]
  },
  {
   "cell_type": "code",
   "execution_count": 6,
   "metadata": {},
   "outputs": [],
   "source": [
    "df_ct_90 = pd.read_csv('09_1990_variables.csv')"
   ]
  },
  {
   "cell_type": "code",
   "execution_count": 7,
   "metadata": {},
   "outputs": [],
   "source": [
    "df_ct_00 = pd.read_csv('09_2000_variables.csv')"
   ]
  },
  {
   "cell_type": "code",
   "execution_count": 8,
   "metadata": {},
   "outputs": [],
   "source": [
    "df_ct_10 = pd.read_csv('09_2010_variables.csv')"
   ]
  },
  {
   "cell_type": "code",
   "execution_count": 9,
   "metadata": {},
   "outputs": [],
   "source": [
    "df_ct_16 = pd.read_csv('09_2016_variables.csv')"
   ]
  },
  {
   "cell_type": "code",
   "execution_count": 10,
   "metadata": {},
   "outputs": [],
   "source": [
    "df_ny_90 = pd.read_csv('36_1990_variables_crosswalk.csv')"
   ]
  },
  {
   "cell_type": "code",
   "execution_count": 11,
   "metadata": {},
   "outputs": [],
   "source": [
    "df_ny_00 = pd.read_csv('36_2000_variables_crosswalk.csv')"
   ]
  },
  {
   "cell_type": "code",
   "execution_count": 12,
   "metadata": {},
   "outputs": [],
   "source": [
    "df_ny_10 = pd.read_csv('36_2010_variables.csv')"
   ]
  },
  {
   "cell_type": "code",
   "execution_count": 13,
   "metadata": {},
   "outputs": [],
   "source": [
    "df_ny_16 = pd.read_csv('36_2016_variables.csv')"
   ]
  },
  {
   "cell_type": "code",
   "execution_count": 14,
   "metadata": {},
   "outputs": [],
   "source": [
    "df_nj_90 = pd.read_csv('34_1990_variables_crosswalk.csv')"
   ]
  },
  {
   "cell_type": "code",
   "execution_count": 15,
   "metadata": {},
   "outputs": [],
   "source": [
    "df_nj_10 = pd.read_csv('34_2010_variables.csv')"
   ]
  },
  {
   "cell_type": "code",
   "execution_count": 16,
   "metadata": {},
   "outputs": [],
   "source": [
    "df_nj_00 = pd.read_csv('34_2000_variables_crosswalk.csv')"
   ]
  },
  {
   "cell_type": "code",
   "execution_count": 17,
   "metadata": {},
   "outputs": [],
   "source": [
    "df_nj_16 = pd.read_csv('34_2016_variables.csv')"
   ]
  },
  {
   "cell_type": "markdown",
   "metadata": {},
   "source": [
    "#### Merging data sets"
   ]
  },
  {
   "cell_type": "code",
   "execution_count": 18,
   "metadata": {},
   "outputs": [],
   "source": [
    "df_ct_90 = df_ct_90.set_index('GEOid2')\n",
    "df_ct_00 = df_ct_00.set_index('GEOid2')\n",
    "df_ct_10 = df_ct_10.set_index('GEOid2')\n",
    "df_ct_16 = df_ct_16.set_index('GEOid2')"
   ]
  },
  {
   "cell_type": "code",
   "execution_count": 19,
   "metadata": {},
   "outputs": [],
   "source": [
    "df_nj_90 = df_nj_90.set_index('GEOid2')\n",
    "df_nj_00 = df_nj_00.set_index('GEOid2')\n",
    "df_nj_10 = df_nj_10.set_index('GEOid2')\n",
    "df_nj_16 = df_nj_16.set_index('GEOid2')"
   ]
  },
  {
   "cell_type": "code",
   "execution_count": 20,
   "metadata": {},
   "outputs": [],
   "source": [
    "df_ny_90 = df_ny_90.set_index('GEOid2')\n",
    "df_ny_00 = df_ny_00.set_index('GEOid2')\n",
    "df_ny_10 = df_ny_10.set_index('GEOid2')\n",
    "df_ny_16 = df_ny_16.set_index('GEOid2')"
   ]
  },
  {
   "cell_type": "code",
   "execution_count": 21,
   "metadata": {},
   "outputs": [],
   "source": [
    "df_ct_90 = df_ct_90.drop(columns=['state','county','tract'])\n",
    "df_ct_00 = df_ct_00.drop(columns=['state','county','tract'])\n",
    "df_ct_10 = df_ct_10.drop(columns=['state','county','tract'])"
   ]
  },
  {
   "cell_type": "code",
   "execution_count": 22,
   "metadata": {},
   "outputs": [],
   "source": [
    "#df_nj_90 = df_nj_90.drop(columns=['state','county','tract'])\n",
    "#df_nj_00 = df_nj_00.drop(columns=['state','county','tract'])\n",
    "df_nj_10 = df_nj_10.drop(columns=['state','county','tract'])"
   ]
  },
  {
   "cell_type": "code",
   "execution_count": 23,
   "metadata": {},
   "outputs": [],
   "source": [
    "#df_ny_90 = df_ny_90.drop(columns=['state','county','tract'])\n",
    "#df_ny_00 = df_ny_00.drop(columns=['state','county','tract'])\n",
    "df_ny_10 = df_ny_10.drop(columns=['state','county','tract'])"
   ]
  },
  {
   "cell_type": "code",
   "execution_count": 24,
   "metadata": {},
   "outputs": [],
   "source": [
    "df_ct = df_ct_90.merge(df_ct_00, on = 'GEOid2')"
   ]
  },
  {
   "cell_type": "code",
   "execution_count": 25,
   "metadata": {},
   "outputs": [],
   "source": [
    "df_ct = df_ct.merge(df_ct_10, on = 'GEOid2')"
   ]
  },
  {
   "cell_type": "code",
   "execution_count": 26,
   "metadata": {},
   "outputs": [],
   "source": [
    "df_ct = df_ct.merge(df_ct_16, on = 'GEOid2')"
   ]
  },
  {
   "cell_type": "code",
   "execution_count": 27,
   "metadata": {},
   "outputs": [],
   "source": [
    "df_ny = df_ny_90.merge(df_ny_00, on = 'GEOid2')"
   ]
  },
  {
   "cell_type": "code",
   "execution_count": 28,
   "metadata": {},
   "outputs": [],
   "source": [
    "df_ny = df_ny.merge(df_ny_10, on = 'GEOid2')"
   ]
  },
  {
   "cell_type": "code",
   "execution_count": 29,
   "metadata": {},
   "outputs": [],
   "source": [
    "df_ny = df_ny.merge(df_ny_16, on = 'GEOid2')"
   ]
  },
  {
   "cell_type": "code",
   "execution_count": 30,
   "metadata": {},
   "outputs": [],
   "source": [
    "df_nj = df_nj_90.merge(df_nj_00, on = 'GEOid2')"
   ]
  },
  {
   "cell_type": "code",
   "execution_count": 31,
   "metadata": {},
   "outputs": [],
   "source": [
    "df_nj = df_nj.merge(df_nj_10, on = 'GEOid2')"
   ]
  },
  {
   "cell_type": "code",
   "execution_count": 32,
   "metadata": {},
   "outputs": [],
   "source": [
    "df_nj = df_nj.merge(df_nj_16, on = 'GEOid2')"
   ]
  },
  {
   "cell_type": "code",
   "execution_count": 33,
   "metadata": {},
   "outputs": [],
   "source": [
    "df_ct['hi_mig_16'] = 0\n",
    "df_ct['vhi_mig_16'] = 0\n",
    "df_ct['hi_mig_16_moe'] = 0\n",
    "df_ct['vhi_mig_16_moe'] = 0\n",
    "df_ct['hi_mig_10'] = 0\n",
    "df_ct['vhi_mig_10'] = 0\n",
    "df_ct['hi_mig_10_moe'] = 0\n",
    "df_ct['vhi_mig_10_moe'] = 0"
   ]
  },
  {
   "cell_type": "code",
   "execution_count": 34,
   "metadata": {},
   "outputs": [],
   "source": [
    "df_ny = df_ny.sort_index(axis=1)\n",
    "df_ct = df_ct.sort_index(axis=1)\n",
    "df_nj = df_nj.sort_index(axis=1)"
   ]
  },
  {
   "cell_type": "code",
   "execution_count": 35,
   "metadata": {},
   "outputs": [
    {
     "data": {
      "text/plain": [
       "136"
      ]
     },
     "execution_count": 35,
     "metadata": {},
     "output_type": "execute_result"
    }
   ],
   "source": [
    "len(df_ny.columns)"
   ]
  },
  {
   "cell_type": "code",
   "execution_count": 36,
   "metadata": {},
   "outputs": [
    {
     "data": {
      "text/plain": [
       "136"
      ]
     },
     "execution_count": 36,
     "metadata": {},
     "output_type": "execute_result"
    }
   ],
   "source": [
    "len(df_ct.columns)"
   ]
  },
  {
   "cell_type": "code",
   "execution_count": 37,
   "metadata": {},
   "outputs": [
    {
     "data": {
      "text/plain": [
       "136"
      ]
     },
     "execution_count": 37,
     "metadata": {},
     "output_type": "execute_result"
    }
   ],
   "source": [
    "len(df_nj.columns)"
   ]
  },
  {
   "cell_type": "code",
   "execution_count": 38,
   "metadata": {},
   "outputs": [],
   "source": [
    "data = pd.concat([df_nj, df_ny, df_ct], axis=0)"
   ]
  },
  {
   "cell_type": "markdown",
   "metadata": {},
   "source": [
    "#### Adding downtown dummy variable"
   ]
  },
  {
   "cell_type": "code",
   "execution_count": 39,
   "metadata": {},
   "outputs": [],
   "source": [
    "downtown = [5, 47, 59, 81, 85, 119, 13, 17, 31, 39, 1, 9]"
   ]
  },
  {
   "cell_type": "code",
   "execution_count": 40,
   "metadata": {},
   "outputs": [],
   "source": [
    "data['downtown'] = data.county.apply(lambda x: x in downtown)"
   ]
  },
  {
   "cell_type": "code",
   "execution_count": 41,
   "metadata": {},
   "outputs": [],
   "source": [
    "df_tod = df_tod.set_index('GEOID')"
   ]
  },
  {
   "cell_type": "code",
   "execution_count": 42,
   "metadata": {},
   "outputs": [],
   "source": [
    "df_aram = df_aram.set_index('GEOid2')"
   ]
  },
  {
   "cell_type": "code",
   "execution_count": 43,
   "metadata": {},
   "outputs": [],
   "source": [
    "df_aram=df_aram.reset_index()"
   ]
  },
  {
   "cell_type": "code",
   "execution_count": 44,
   "metadata": {},
   "outputs": [],
   "source": [
    "df_aram['GEOid2'] = df_aram['GEOid2'].apply(lambda x: int(x))"
   ]
  },
  {
   "cell_type": "code",
   "execution_count": 45,
   "metadata": {},
   "outputs": [],
   "source": [
    "data_compare = data.reset_index()"
   ]
  },
  {
   "cell_type": "code",
   "execution_count": 46,
   "metadata": {},
   "outputs": [],
   "source": [
    "df_compare = df_aram.merge(data_compare, left_on = 'GEOid2', right_on = 'GEOid2')"
   ]
  },
  {
   "cell_type": "code",
   "execution_count": 47,
   "metadata": {},
   "outputs": [
    {
     "data": {
      "text/plain": [
       "5306"
      ]
     },
     "execution_count": 47,
     "metadata": {},
     "output_type": "execute_result"
    }
   ],
   "source": [
    "len(df_aram)"
   ]
  },
  {
   "cell_type": "code",
   "execution_count": 48,
   "metadata": {},
   "outputs": [],
   "source": [
    "binsize=50"
   ]
  },
  {
   "cell_type": "code",
   "execution_count": 49,
   "metadata": {},
   "outputs": [],
   "source": [
    "df_compare = df_compare[(df_compare.vli2000!=0)&(df_compare.li2000!=0)&(df_compare.mi2000!=0)&\n",
    "                        (df_compare.hmi2000!=0)&(df_compare.hi2000!=0)&(df_compare.vhi2000!=0)]\n",
    "df_compare = df_compare[(df_compare.vli1990!=0)&(df_compare.li1990!=0)&(df_compare.mi1990!=0)&\n",
    "                        (df_compare.hmi1990!=0)&(df_compare.hi1990!=0)&(df_compare.vhi1990!=0)]\n",
    "df_compare = df_compare[(df_compare.vli2016!=0)&(df_compare.li2016!=0)&(df_compare.mi2016!=0)&\n",
    "                        (df_compare.hmi2016!=0)&(df_compare.hi2016!=0)&(df_compare.vhi2016!=0)]"
   ]
  },
  {
   "cell_type": "code",
   "execution_count": 50,
   "metadata": {},
   "outputs": [
    {
     "data": {
      "text/plain": [
       "(-400, 200)"
      ]
     },
     "execution_count": 50,
     "metadata": {},
     "output_type": "execute_result"
    },
    {
     "data": {
      "image/png": "[encoded data removed]",
      "text/plain": [
       "<Figure size 432x288 with 1 Axes>"
      ]
     },
     "metadata": {},
     "output_type": "display_data"
    }
   ],
   "source": [
    "(((df_compare['vli2000']-df_compare['vli_00']).divide(df_compare['vli2000']))*100).hist(alpha=0.5, bins=binsize)\n",
    "(((df_compare['li2000']-df_compare['li_00']).divide(df_compare['li2000']))*100).hist(alpha=0.5, bins=binsize)\n",
    "(((df_compare['mi2000']-df_compare['mi_00']).divide(df_compare['mi2000']))*100).hist(alpha=0.5, bins=binsize,color='red')\n",
    "(((df_compare['hmi2000']-df_compare['mhi_00']).divide(df_compare['hmi2000']))*100).hist(alpha=0.5, bins=binsize, color='green')\n",
    "(((df_compare['hi2000']-df_compare['hi_00']).divide(df_compare['hi2000']))*100).hist(alpha=0.3, bins=binsize, color='blue')\n",
    "(((df_compare['vhi2000']-df_compare['vhi_00']).divide(df_compare['vhi2000']))*100).hist(alpha=0.5, bins=binsize, color='yellow')\n",
    "pl.xlim([-400,200])"
   ]
  },
  {
   "cell_type": "code",
   "execution_count": 159,
   "metadata": {},
   "outputs": [
    {
     "data": {
      "text/plain": [
       "(-1900, 200)"
      ]
     },
     "execution_count": 159,
     "metadata": {},
     "output_type": "execute_result"
    },
    {
     "data": {
      "image/png": "[encoded data removed]",
      "text/plain": [
       "<Figure size 432x288 with 1 Axes>"
      ]
     },
     "metadata": {},
     "output_type": "display_data"
    }
   ],
   "source": [
    "(((df_compare['vli1990']-df_compare['vli_90']).divide(df_compare['vli1990']))*100).hist(alpha=0.5, bins=binsize)\n",
    "(((df_compare['li1990']-df_compare['li_90']).divide(df_compare['li1990']))*100).hist(alpha=0,bins=binsize)\n",
    "(((df_compare['mi1990']-df_compare['mi_90']).divide(df_compare['mi1990']))*100).hist(alpha=0, bins=binsize, color='red')\n",
    "(((df_compare['hmi1990']-df_compare['mhi_90']).divide(df_compare['hmi1990']))*100).hist(alpha=0.5, bins=binsize, color='green')\n",
    "(((df_compare['hi1990']-df_compare['hi_90']).divide(df_compare['hi1990']+0.0001))*100).hist(alpha=0, bins=binsize,color='blue')\n",
    "(((df_compare['vhi1990']-df_compare['vhi_90']).divide(df_compare['vhi1990']+0.0001))*100).hist(alpha=0, bins=binsize, color='yellow')\n",
    "pl.xlim([-1900,200])"
   ]
  },
  {
   "cell_type": "code",
   "execution_count": 52,
   "metadata": {},
   "outputs": [
    {
     "data": {
      "text/plain": [
       "(-400, 200)"
      ]
     },
     "execution_count": 52,
     "metadata": {},
     "output_type": "execute_result"
    },
    {
     "data": {
      "image/png": "[encoded data removed]",
      "text/plain": [
       "<Figure size 432x288 with 1 Axes>"
      ]
     },
     "metadata": {},
     "output_type": "display_data"
    }
   ],
   "source": [
    "(((df_compare['vli2016']-df_compare['vli_16']).divide(df_compare['vli2016']))*100).hist(alpha=0.5,bins=binsize)\n",
    "(((df_compare['li2016']-df_compare['li_16']).divide(df_compare['li2016']))*100).hist(alpha=0.5,bins=binsize)\n",
    "(((df_compare['mi2016']-df_compare['mi_16']).divide(df_compare['mi2016']))*100).hist(alpha=0.5,bins=binsize, color='red')\n",
    "(((df_compare['hmi2016']-df_compare['mhi_16']).divide(df_compare['hmi2016']))*100).hist(alpha=0.5, bins=400, color='green')\n",
    "(((df_compare['hi2016']-df_compare['hi_16']).divide(df_compare['hi2016']+0.0001))*100).hist(alpha=0.5, bins=binsize, color='blue')\n",
    "(((df_compare['vhi2016']-df_compare['vhi_16']).divide(df_compare['vhi2016']+0.0001))*100).hist(alpha=0.5, bins=binsize, color='yellow')\n",
    "pl.xlim([-400,200])"
   ]
  },
  {
   "cell_type": "code",
   "execution_count": null,
   "metadata": {},
   "outputs": [],
   "source": [
    "df_compare['vli_90'].hist(alpha=0.5,color='red')\n",
    "df_compare['mi1990'].hist(alpha=0.5)"
   ]
  },
  {
   "cell_type": "code",
   "execution_count": 161,
   "metadata": {},
   "outputs": [
    {
     "data": {
      "text/plain": [
       "<matplotlib.axes._subplots.AxesSubplot at 0x110ec00b8>"
      ]
     },
     "execution_count": 161,
     "metadata": {},
     "output_type": "execute_result"
    },
    {
     "data": {
      "image/png": "[encoded data removed]",
      "text/plain": [
       "<Figure size 432x288 with 1 Axes>"
      ]
     },
     "metadata": {},
     "output_type": "display_data"
    }
   ],
   "source": [
    "df_compare['li_90'].hist(alpha=0.5,color='red')\n",
    "df_compare['li1990'].hist(alpha=0.5)"
   ]
  },
  {
   "cell_type": "code",
   "execution_count": 53,
   "metadata": {},
   "outputs": [
    {
     "data": {
      "text/plain": [
       "<matplotlib.axes._subplots.AxesSubplot at 0x1a206aada0>"
      ]
     },
     "execution_count": 53,
     "metadata": {},
     "output_type": "execute_result"
    },
    {
     "data": {
      "image/png": "[encoded data removed]",
      "text/plain": [
       "<Figure size 432x288 with 1 Axes>"
      ]
     },
     "metadata": {},
     "output_type": "display_data"
    }
   ],
   "source": [
    "df_compare['mi_90'].hist(alpha=0.5,color='red')\n",
    "df_compare['mi1990'].hist(alpha=0.5)"
   ]
  },
  {
   "cell_type": "code",
   "execution_count": 54,
   "metadata": {},
   "outputs": [
    {
     "data": {
      "text/plain": [
       "<matplotlib.axes._subplots.AxesSubplot at 0x1a205d7da0>"
      ]
     },
     "execution_count": 54,
     "metadata": {},
     "output_type": "execute_result"
    },
    {
     "data": {
      "image/png": "[encoded data removed]",
      "text/plain": [
       "<Figure size 432x288 with 1 Axes>"
      ]
     },
     "metadata": {},
     "output_type": "display_data"
    }
   ],
   "source": [
    "df_compare['mhi_90'].hist(alpha=0.5,color='red')\n",
    "df_compare['hmi1990'].hist(alpha=0.5)"
   ]
  },
  {
   "cell_type": "code",
   "execution_count": null,
   "metadata": {},
   "outputs": [],
   "source": []
  },
  {
   "cell_type": "code",
   "execution_count": null,
   "metadata": {},
   "outputs": [],
   "source": []
  },
  {
   "cell_type": "code",
   "execution_count": null,
   "metadata": {},
   "outputs": [],
   "source": []
  },
  {
   "cell_type": "code",
   "execution_count": 55,
   "metadata": {},
   "outputs": [],
   "source": [
    "df_empd15 = df_empd15.set_index('GEOid2')\n",
    "df_empd02 = df_empd02.set_index('GEOid2')"
   ]
  },
  {
   "cell_type": "code",
   "execution_count": 56,
   "metadata": {},
   "outputs": [],
   "source": [
    "data = data.merge(df_empd15, left_index = True, right_index = True)\n",
    "data = data.merge(df_empd02, left_index = True, right_index = True)"
   ]
  },
  {
   "cell_type": "code",
   "execution_count": 57,
   "metadata": {},
   "outputs": [],
   "source": [
    "data = data.merge(df_tod[['TOD','TOD_pre_00','TOD_00_10','TOD_10']],left_index=True, right_index=True)"
   ]
  },
  {
   "cell_type": "code",
   "execution_count": 58,
   "metadata": {},
   "outputs": [],
   "source": [
    "data = data.drop(columns=['Unnamed: 0_x','Unnamed: 0_y'])"
   ]
  },
  {
   "cell_type": "markdown",
   "metadata": {},
   "source": [
    "## Dropping CT with population less than 500 (2016)"
   ]
  },
  {
   "cell_type": "code",
   "execution_count": 59,
   "metadata": {},
   "outputs": [],
   "source": [
    "data = data[data['pop_16'] > 500]"
   ]
  },
  {
   "cell_type": "markdown",
   "metadata": {},
   "source": [
    "### There are 6070 CT with population larger than 500 in 2016"
   ]
  },
  {
   "cell_type": "code",
   "execution_count": 60,
   "metadata": {},
   "outputs": [
    {
     "data": {
      "text/plain": [
       "4533"
      ]
     },
     "execution_count": 60,
     "metadata": {},
     "output_type": "execute_result"
    }
   ],
   "source": [
    "len(data)"
   ]
  },
  {
   "cell_type": "markdown",
   "metadata": {},
   "source": [
    "## Dropping CT with more than 5 'Null' columns "
   ]
  },
  {
   "cell_type": "code",
   "execution_count": 61,
   "metadata": {
    "scrolled": false
   },
   "outputs": [
    {
     "data": {
      "text/plain": [
       "(4533, 143)"
      ]
     },
     "execution_count": 61,
     "metadata": {},
     "output_type": "execute_result"
    }
   ],
   "source": [
    "data = data[data.isnull().sum(axis=1) <= 5]\n",
    "data.shape"
   ]
  },
  {
   "cell_type": "markdown",
   "metadata": {},
   "source": [
    "----\n",
    "## Calculating coefficient of variation of MOE\n",
    "If any individual variable is missing, then the whole typology is missing.\n",
    "\n",
    "**Tracts with a coefficient of variation > 20% on several key 2015 variables are flagged and determined unreliable:**\n",
    "- Population -- V\n",
    "- Housing units -- V\n",
    "- Median rent -- V\n",
    "- Median home value -- V\n",
    "- Median income\n",
    "- College count\n",
    "- Renter count -- V"
   ]
  },
  {
   "cell_type": "markdown",
   "metadata": {},
   "source": [
    "### Population"
   ]
  },
  {
   "cell_type": "code",
   "execution_count": 62,
   "metadata": {},
   "outputs": [],
   "source": [
    "data = data[(data.pop_16_moe / 1.645 ) / data.pop_16 <= 0.3]"
   ]
  },
  {
   "cell_type": "markdown",
   "metadata": {},
   "source": [
    "### Housing Units"
   ]
  },
  {
   "cell_type": "code",
   "execution_count": 63,
   "metadata": {
    "scrolled": true
   },
   "outputs": [],
   "source": [
    "data = data[(data.hu_16_moe / 1.645 ) / data.hu_16 <= 0.3]"
   ]
  },
  {
   "cell_type": "code",
   "execution_count": 64,
   "metadata": {},
   "outputs": [
    {
     "data": {
      "text/plain": [
       "(4531, 143)"
      ]
     },
     "execution_count": 64,
     "metadata": {},
     "output_type": "execute_result"
    }
   ],
   "source": [
    "data.shape"
   ]
  },
  {
   "cell_type": "markdown",
   "metadata": {},
   "source": [
    "### Renter counts, Median rent, Median home value"
   ]
  },
  {
   "cell_type": "code",
   "execution_count": null,
   "metadata": {},
   "outputs": [],
   "source": []
  },
  {
   "cell_type": "code",
   "execution_count": 65,
   "metadata": {},
   "outputs": [
    {
     "data": {
      "text/plain": [
       "Index(['NAME', 'county', 'hh_00', 'hh_16', 'hh_16_moe', 'hh_90', 'hi_00',\n",
       "       'hi_16', 'hi_16_moe', 'hi_90',\n",
       "       ...\n",
       "       'vli_mig_10_moe', 'vli_mig_16', 'vli_mig_16_moe', 'downtown', 'empd15',\n",
       "       'empd02', 'TOD', 'TOD_pre_00', 'TOD_00_10', 'TOD_10'],\n",
       "      dtype='object', length=143)"
      ]
     },
     "execution_count": 65,
     "metadata": {},
     "output_type": "execute_result"
    }
   ],
   "source": [
    "data.columns"
   ]
  },
  {
   "cell_type": "code",
   "execution_count": 66,
   "metadata": {},
   "outputs": [],
   "source": [
    "# dividing data to ct with majority of renters vs homeowners\n",
    "datarent = data[data.per_rent_16 > 0.5]\n",
    "dataowner = data[data.per_rent_16 <= 0.5]"
   ]
  },
  {
   "cell_type": "markdown",
   "metadata": {},
   "source": [
    "# Renter count, ownership counts\n",
    "datarent = datarent[(datarent.moe_renter16 / 1.645)  / datarent.rhu16 <= 0.3]\n",
    "dataowner = dataowner[(dataowner.moe_owner16 / 1.645 ) / dataowner.ohu16 <= 0.3]\n",
    "\n",
    "# Median rent, Median home value\n",
    "datarent = datarent[(datarent.moe_mrent16 / 1.645)  / datarent.mrent16 <= 0.3]\n",
    "dataowner = dataowner[(dataowner.moe_mhval16 / 1.645 ) / dataowner.mhval16 <= 0.3]\n",
    "\n",
    "# concatenating two datasets back to 'data'\n",
    "data = [dataowner, datarent]\n",
    "data = pd.concat(data)\n",
    "data.shape"
   ]
  },
  {
   "cell_type": "markdown",
   "metadata": {},
   "source": [
    "### Median income -- no MOE in the data!"
   ]
  },
  {
   "cell_type": "code",
   "execution_count": 67,
   "metadata": {},
   "outputs": [],
   "source": [
    "# ----"
   ]
  },
  {
   "cell_type": "markdown",
   "metadata": {},
   "source": [
    "### Bachelors count"
   ]
  },
  {
   "cell_type": "markdown",
   "metadata": {},
   "source": [
    "data = data[(data.moe_bachelors / 1.645 ) / data.bachelors <= 0.3]\n",
    "data.shape"
   ]
  },
  {
   "cell_type": "markdown",
   "metadata": {},
   "source": [
    "## 4,758 CT were found valid for the analysis -- 8.3% were dropped."
   ]
  },
  {
   "cell_type": "code",
   "execution_count": 68,
   "metadata": {},
   "outputs": [
    {
     "data": {
      "text/plain": [
       "0.08359013867488443"
      ]
     },
     "execution_count": 68,
     "metadata": {},
     "output_type": "execute_result"
    }
   ],
   "source": [
    "(5192-4758) / 5192"
   ]
  },
  {
   "cell_type": "markdown",
   "metadata": {},
   "source": [
    "### College count"
   ]
  },
  {
   "cell_type": "code",
   "execution_count": 69,
   "metadata": {},
   "outputs": [],
   "source": [
    "# bachelors',\n",
    "#  'moe_bachelors',\n",
    "#  'masters',\n",
    "#  'moe_masters',\n",
    "#  'professional',\n",
    "#  'moe_professionals',\n",
    "#  'doctorate',\n",
    "#  'moe_doctorates"
   ]
  },
  {
   "cell_type": "markdown",
   "metadata": {},
   "source": [
    "(((data.moe_doctorates / 1.645 ) / data.doctorate) > 0.2).value_counts()"
   ]
  },
  {
   "cell_type": "markdown",
   "metadata": {},
   "source": [
    "----\n",
    "# _8 Typologies_ to be generated to the displacement map:\n",
    "The typologies are:\n",
    "\n",
    "### Low Income:\n",
    "1. VLI - Highly Vulnerable >> _**an additional layer on top of assigned typologies**_\n",
    "2. LI - Stable (Not Losing Low-Income Households)\n",
    "3. LI - At Risk of Gentrification \n",
    "4. LI - Ongoing Gentrification \n",
    "\n",
    "### Moderate to High Income:\n",
    "5. MHI - Advanced / Completed Gentrification\n",
    "6. MHI - Stable (Not Losing Low-Income Households)\n",
    "7. MHI - At Risk of Exclusion\n",
    "8. MHI - Exclusion "
   ]
  },
  {
   "cell_type": "code",
   "execution_count": 70,
   "metadata": {
    "scrolled": false
   },
   "outputs": [
    {
     "data": {
      "text/plain": [
       "(4531, 143)"
      ]
     },
     "execution_count": 70,
     "metadata": {},
     "output_type": "execute_result"
    }
   ],
   "source": [
    "data.shape"
   ]
  },
  {
   "cell_type": "code",
   "execution_count": 71,
   "metadata": {
    "scrolled": true
   },
   "outputs": [
    {
     "name": "stdout",
     "output_type": "stream",
     "text": [
      "4272.650187596557\n",
      "1862.5089900102955\n"
     ]
    }
   ],
   "source": [
    "print(data['pop_16'].mean())\n",
    "print(data['pop_16'].std())"
   ]
  },
  {
   "cell_type": "markdown",
   "metadata": {},
   "source": [
    "# Create necessary variables:"
   ]
  },
  {
   "cell_type": "markdown",
   "metadata": {},
   "source": [
    "## VLI - Very Low Income tract\n",
    "- vhi2016"
   ]
  },
  {
   "cell_type": "code",
   "execution_count": 72,
   "metadata": {},
   "outputs": [
    {
     "data": {
      "text/plain": [
       "34001000100    0.066628\n",
       "34001000200    0.214115\n",
       "34001000300    0.049244\n",
       "34001000500    0.050739\n",
       "34001001500    0.018519\n",
       "Name: vhi_16, dtype: float64"
      ]
     },
     "execution_count": 72,
     "metadata": {},
     "output_type": "execute_result"
    }
   ],
   "source": [
    "data.vhi_16.head()"
   ]
  },
  {
   "cell_type": "code",
   "execution_count": 73,
   "metadata": {},
   "outputs": [
    {
     "name": "stdout",
     "output_type": "stream",
     "text": [
      "the median of very low income and very low income households at the year 2016 from total households, of all census tracts is: 0.23824982091690544\n"
     ]
    }
   ],
   "source": [
    "# Calculating median for vli and vli % of all hh in tract\n",
    "\n",
    "median_vli = data['vli_16'].median()\n",
    "print(\"the median of very low income and very low income households at the year 2016 from total households, \"  \n",
    "      \"of all census tracts is:\", median_vli)"
   ]
  },
  {
   "cell_type": "code",
   "execution_count": 74,
   "metadata": {},
   "outputs": [
    {
     "data": {
      "text/plain": [
       "0    4228\n",
       "1     303\n",
       "Name: vli_tract16, dtype: int64"
      ]
     },
     "execution_count": 74,
     "metadata": {},
     "output_type": "execute_result"
    }
   ],
   "source": [
    "# VLI tract (2016)\n",
    "\n",
    "data['vli_tract16'] = np.where(data['vli_16'] > 0.5, 1, 0)\n",
    "data['vli_tract16'].value_counts()"
   ]
  },
  {
   "cell_type": "markdown",
   "metadata": {},
   "source": [
    "## Low Income tract\n",
    "- calculate the median % of all tracts\n",
    "- Binary output (0 == low income tract; 1 = not a low income tract)"
   ]
  },
  {
   "cell_type": "code",
   "execution_count": 75,
   "metadata": {},
   "outputs": [
    {
     "data": {
      "text/html": [
       "<div>\n",
       "<style scoped>\n",
       "    .dataframe tbody tr th:only-of-type {\n",
       "        vertical-align: middle;\n",
       "    }\n",
       "\n",
       "    .dataframe tbody tr th {\n",
       "        vertical-align: top;\n",
       "    }\n",
       "\n",
       "    .dataframe thead th {\n",
       "        text-align: right;\n",
       "    }\n",
       "</style>\n",
       "<table border=\"1\" class=\"dataframe\">\n",
       "  <thead>\n",
       "    <tr style=\"text-align: right;\">\n",
       "      <th></th>\n",
       "      <th>per_black_16</th>\n",
       "      <th>per_black_16_moe</th>\n",
       "    </tr>\n",
       "  </thead>\n",
       "  <tbody>\n",
       "    <tr>\n",
       "      <th>34001000100</th>\n",
       "      <td>0.224279</td>\n",
       "      <td>0.070206</td>\n",
       "    </tr>\n",
       "    <tr>\n",
       "      <th>34001000200</th>\n",
       "      <td>0.092007</td>\n",
       "      <td>0.080447</td>\n",
       "    </tr>\n",
       "    <tr>\n",
       "      <th>34001000300</th>\n",
       "      <td>0.084710</td>\n",
       "      <td>0.075630</td>\n",
       "    </tr>\n",
       "    <tr>\n",
       "      <th>34001000500</th>\n",
       "      <td>0.041408</td>\n",
       "      <td>0.035412</td>\n",
       "    </tr>\n",
       "    <tr>\n",
       "      <th>34001001500</th>\n",
       "      <td>0.778217</td>\n",
       "      <td>0.286812</td>\n",
       "    </tr>\n",
       "  </tbody>\n",
       "</table>\n",
       "</div>"
      ],
      "text/plain": [
       "             per_black_16  per_black_16_moe\n",
       "34001000100      0.224279          0.070206\n",
       "34001000200      0.092007          0.080447\n",
       "34001000300      0.084710          0.075630\n",
       "34001000500      0.041408          0.035412\n",
       "34001001500      0.778217          0.286812"
      ]
     },
     "execution_count": 75,
     "metadata": {},
     "output_type": "execute_result"
    }
   ],
   "source": [
    "data.iloc[:,61:63].head()"
   ]
  },
  {
   "cell_type": "code",
   "execution_count": 76,
   "metadata": {},
   "outputs": [
    {
     "data": {
      "text/plain": [
       "Index(['NAME', 'county', 'hh_00', 'hh_16', 'hh_16_moe', 'hh_90', 'hi_00',\n",
       "       'hi_16', 'hi_16_moe', 'hi_90',\n",
       "       ...\n",
       "       'vli_mig_16', 'vli_mig_16_moe', 'downtown', 'empd15', 'empd02', 'TOD',\n",
       "       'TOD_pre_00', 'TOD_00_10', 'TOD_10', 'vli_tract16'],\n",
       "      dtype='object', length=144)"
      ]
     },
     "execution_count": 76,
     "metadata": {},
     "output_type": "execute_result"
    }
   ],
   "source": [
    "data.columns"
   ]
  },
  {
   "cell_type": "code",
   "execution_count": 77,
   "metadata": {},
   "outputs": [
    {
     "name": "stdout",
     "output_type": "stream",
     "text": [
      "the median of low income and very low income households at the year 2016 from total households, of all census tracts is: 0.38791513871784555\n"
     ]
    }
   ],
   "source": [
    "# Calculating median for li and vli % of all hh in tract\n",
    "\n",
    "medianli = data['vli_16'].median() + data['li_16'].median()\n",
    "print(\"the median of low income and very low income households at the year 2016 from total households, \"  \n",
    "      \"of all census tracts is:\", medianli)"
   ]
  },
  {
   "cell_type": "code",
   "execution_count": 78,
   "metadata": {},
   "outputs": [
    {
     "data": {
      "text/plain": [
       "0.23824982091690544"
      ]
     },
     "execution_count": 78,
     "metadata": {},
     "output_type": "execute_result"
    }
   ],
   "source": [
    "data['vli_16'].median()"
   ]
  },
  {
   "cell_type": "code",
   "execution_count": 79,
   "metadata": {
    "scrolled": true
   },
   "outputs": [
    {
     "data": {
      "text/html": [
       "<div>\n",
       "<style scoped>\n",
       "    .dataframe tbody tr th:only-of-type {\n",
       "        vertical-align: middle;\n",
       "    }\n",
       "\n",
       "    .dataframe tbody tr th {\n",
       "        vertical-align: top;\n",
       "    }\n",
       "\n",
       "    .dataframe thead th {\n",
       "        text-align: right;\n",
       "    }\n",
       "</style>\n",
       "<table border=\"1\" class=\"dataframe\">\n",
       "  <thead>\n",
       "    <tr style=\"text-align: right;\">\n",
       "      <th></th>\n",
       "      <th>li_tract16</th>\n",
       "    </tr>\n",
       "  </thead>\n",
       "  <tbody>\n",
       "    <tr>\n",
       "      <th>34001000100</th>\n",
       "      <td>1</td>\n",
       "    </tr>\n",
       "    <tr>\n",
       "      <th>34001000200</th>\n",
       "      <td>1</td>\n",
       "    </tr>\n",
       "    <tr>\n",
       "      <th>34001000300</th>\n",
       "      <td>1</td>\n",
       "    </tr>\n",
       "    <tr>\n",
       "      <th>34001000500</th>\n",
       "      <td>1</td>\n",
       "    </tr>\n",
       "    <tr>\n",
       "      <th>34001001500</th>\n",
       "      <td>1</td>\n",
       "    </tr>\n",
       "    <tr>\n",
       "      <th>34001001900</th>\n",
       "      <td>1</td>\n",
       "    </tr>\n",
       "    <tr>\n",
       "      <th>34001010101</th>\n",
       "      <td>0</td>\n",
       "    </tr>\n",
       "    <tr>\n",
       "      <th>34001010102</th>\n",
       "      <td>1</td>\n",
       "    </tr>\n",
       "    <tr>\n",
       "      <th>34001010200</th>\n",
       "      <td>0</td>\n",
       "    </tr>\n",
       "    <tr>\n",
       "      <th>34001010300</th>\n",
       "      <td>1</td>\n",
       "    </tr>\n",
       "  </tbody>\n",
       "</table>\n",
       "</div>"
      ],
      "text/plain": [
       "             li_tract16\n",
       "34001000100           1\n",
       "34001000200           1\n",
       "34001000300           1\n",
       "34001000500           1\n",
       "34001001500           1\n",
       "34001001900           1\n",
       "34001010101           0\n",
       "34001010102           1\n",
       "34001010200           0\n",
       "34001010300           1"
      ]
     },
     "execution_count": 79,
     "metadata": {},
     "output_type": "execute_result"
    }
   ],
   "source": [
    "# 2016\n",
    "\n",
    "data['li_tract16'] = np.where(data['vli_16'] + data['li_16'] > medianli, 1, 0)\n",
    "data.iloc[:,-1:].head(10)"
   ]
  },
  {
   "cell_type": "code",
   "execution_count": 80,
   "metadata": {},
   "outputs": [
    {
     "data": {
      "text/plain": [
       "1    2410\n",
       "0    2121\n",
       "Name: li_tract16, dtype: int64"
      ]
     },
     "execution_count": 80,
     "metadata": {},
     "output_type": "execute_result"
    }
   ],
   "source": [
    "data['li_tract16'].value_counts()"
   ]
  },
  {
   "cell_type": "code",
   "execution_count": 81,
   "metadata": {},
   "outputs": [
    {
     "data": {
      "text/html": [
       "<div>\n",
       "<style scoped>\n",
       "    .dataframe tbody tr th:only-of-type {\n",
       "        vertical-align: middle;\n",
       "    }\n",
       "\n",
       "    .dataframe tbody tr th {\n",
       "        vertical-align: top;\n",
       "    }\n",
       "\n",
       "    .dataframe thead th {\n",
       "        text-align: right;\n",
       "    }\n",
       "</style>\n",
       "<table border=\"1\" class=\"dataframe\">\n",
       "  <thead>\n",
       "    <tr style=\"text-align: right;\">\n",
       "      <th></th>\n",
       "      <th>li_tract16</th>\n",
       "      <th>li_tract00</th>\n",
       "    </tr>\n",
       "  </thead>\n",
       "  <tbody>\n",
       "    <tr>\n",
       "      <th>34001000100</th>\n",
       "      <td>1</td>\n",
       "      <td>1</td>\n",
       "    </tr>\n",
       "    <tr>\n",
       "      <th>34001000200</th>\n",
       "      <td>1</td>\n",
       "      <td>1</td>\n",
       "    </tr>\n",
       "    <tr>\n",
       "      <th>34001000300</th>\n",
       "      <td>1</td>\n",
       "      <td>1</td>\n",
       "    </tr>\n",
       "    <tr>\n",
       "      <th>34001000500</th>\n",
       "      <td>1</td>\n",
       "      <td>1</td>\n",
       "    </tr>\n",
       "    <tr>\n",
       "      <th>34001001500</th>\n",
       "      <td>1</td>\n",
       "      <td>1</td>\n",
       "    </tr>\n",
       "    <tr>\n",
       "      <th>34001001900</th>\n",
       "      <td>1</td>\n",
       "      <td>1</td>\n",
       "    </tr>\n",
       "    <tr>\n",
       "      <th>34001010101</th>\n",
       "      <td>0</td>\n",
       "      <td>0</td>\n",
       "    </tr>\n",
       "    <tr>\n",
       "      <th>34001010102</th>\n",
       "      <td>1</td>\n",
       "      <td>1</td>\n",
       "    </tr>\n",
       "    <tr>\n",
       "      <th>34001010200</th>\n",
       "      <td>0</td>\n",
       "      <td>0</td>\n",
       "    </tr>\n",
       "    <tr>\n",
       "      <th>34001010300</th>\n",
       "      <td>1</td>\n",
       "      <td>0</td>\n",
       "    </tr>\n",
       "  </tbody>\n",
       "</table>\n",
       "</div>"
      ],
      "text/plain": [
       "             li_tract16  li_tract00\n",
       "34001000100           1           1\n",
       "34001000200           1           1\n",
       "34001000300           1           1\n",
       "34001000500           1           1\n",
       "34001001500           1           1\n",
       "34001001900           1           1\n",
       "34001010101           0           0\n",
       "34001010102           1           1\n",
       "34001010200           0           0\n",
       "34001010300           1           0"
      ]
     },
     "execution_count": 81,
     "metadata": {},
     "output_type": "execute_result"
    }
   ],
   "source": [
    "# 2000\n",
    "\n",
    "data['li_tract00'] = np.where(data['vli_00']+data['li_00'] > (data['vli_00'].median() + data['li_00'].median()), 1, 0)\n",
    "data.iloc[:,-2:].head(10)"
   ]
  },
  {
   "cell_type": "code",
   "execution_count": 82,
   "metadata": {},
   "outputs": [
    {
     "data": {
      "text/html": [
       "<div>\n",
       "<style scoped>\n",
       "    .dataframe tbody tr th:only-of-type {\n",
       "        vertical-align: middle;\n",
       "    }\n",
       "\n",
       "    .dataframe tbody tr th {\n",
       "        vertical-align: top;\n",
       "    }\n",
       "\n",
       "    .dataframe thead th {\n",
       "        text-align: right;\n",
       "    }\n",
       "</style>\n",
       "<table border=\"1\" class=\"dataframe\">\n",
       "  <thead>\n",
       "    <tr style=\"text-align: right;\">\n",
       "      <th></th>\n",
       "      <th>li_tract16</th>\n",
       "      <th>li_tract00</th>\n",
       "      <th>li_tract90</th>\n",
       "    </tr>\n",
       "  </thead>\n",
       "  <tbody>\n",
       "    <tr>\n",
       "      <th>34001000100</th>\n",
       "      <td>1</td>\n",
       "      <td>1</td>\n",
       "      <td>1</td>\n",
       "    </tr>\n",
       "    <tr>\n",
       "      <th>34001000200</th>\n",
       "      <td>1</td>\n",
       "      <td>1</td>\n",
       "      <td>0</td>\n",
       "    </tr>\n",
       "    <tr>\n",
       "      <th>34001000300</th>\n",
       "      <td>1</td>\n",
       "      <td>1</td>\n",
       "      <td>1</td>\n",
       "    </tr>\n",
       "    <tr>\n",
       "      <th>34001000500</th>\n",
       "      <td>1</td>\n",
       "      <td>1</td>\n",
       "      <td>1</td>\n",
       "    </tr>\n",
       "    <tr>\n",
       "      <th>34001001500</th>\n",
       "      <td>1</td>\n",
       "      <td>1</td>\n",
       "      <td>1</td>\n",
       "    </tr>\n",
       "    <tr>\n",
       "      <th>34001001900</th>\n",
       "      <td>1</td>\n",
       "      <td>1</td>\n",
       "      <td>1</td>\n",
       "    </tr>\n",
       "    <tr>\n",
       "      <th>34001010101</th>\n",
       "      <td>0</td>\n",
       "      <td>0</td>\n",
       "      <td>0</td>\n",
       "    </tr>\n",
       "    <tr>\n",
       "      <th>34001010102</th>\n",
       "      <td>1</td>\n",
       "      <td>1</td>\n",
       "      <td>1</td>\n",
       "    </tr>\n",
       "    <tr>\n",
       "      <th>34001010200</th>\n",
       "      <td>0</td>\n",
       "      <td>0</td>\n",
       "      <td>0</td>\n",
       "    </tr>\n",
       "    <tr>\n",
       "      <th>34001010300</th>\n",
       "      <td>1</td>\n",
       "      <td>0</td>\n",
       "      <td>0</td>\n",
       "    </tr>\n",
       "  </tbody>\n",
       "</table>\n",
       "</div>"
      ],
      "text/plain": [
       "             li_tract16  li_tract00  li_tract90\n",
       "34001000100           1           1           1\n",
       "34001000200           1           1           0\n",
       "34001000300           1           1           1\n",
       "34001000500           1           1           1\n",
       "34001001500           1           1           1\n",
       "34001001900           1           1           1\n",
       "34001010101           0           0           0\n",
       "34001010102           1           1           1\n",
       "34001010200           0           0           0\n",
       "34001010300           1           0           0"
      ]
     },
     "execution_count": 82,
     "metadata": {},
     "output_type": "execute_result"
    }
   ],
   "source": [
    "# 1990\n",
    "\n",
    "data['li_tract90'] = np.where(data['vli_90']+data['li_90'] > (data['vli_90'].median() + data['li_90'].median()), 1, 0)\n",
    "data.iloc[:,-3:].head(10)"
   ]
  },
  {
   "cell_type": "code",
   "execution_count": 83,
   "metadata": {},
   "outputs": [
    {
     "name": "stdout",
     "output_type": "stream",
     "text": [
      "LI HH 2000:\n",
      " 1    2341\n",
      "0    2190\n",
      "Name: li_tract00, dtype: int64\n",
      "\n",
      "LI HH 1990:\n",
      " 1    2396\n",
      "0    2135\n",
      "Name: li_tract90, dtype: int64\n"
     ]
    }
   ],
   "source": [
    "print('LI HH 2000:\\n', data['li_tract00'].value_counts())\n",
    "print('\\nLI HH 1990:\\n', data['li_tract90'].value_counts())"
   ]
  },
  {
   "cell_type": "markdown",
   "metadata": {},
   "source": [
    "### Define % college educated < regional median "
   ]
  },
  {
   "cell_type": "code",
   "execution_count": 84,
   "metadata": {},
   "outputs": [
    {
     "data": {
      "text/plain": [
       "0.1450708269891789"
      ]
     },
     "execution_count": 84,
     "metadata": {},
     "output_type": "execute_result"
    }
   ],
   "source": [
    "data['per_col_00'].median()"
   ]
  },
  {
   "cell_type": "code",
   "execution_count": 85,
   "metadata": {},
   "outputs": [
    {
     "data": {
      "text/html": [
       "<div>\n",
       "<style scoped>\n",
       "    .dataframe tbody tr th:only-of-type {\n",
       "        vertical-align: middle;\n",
       "    }\n",
       "\n",
       "    .dataframe tbody tr th {\n",
       "        vertical-align: top;\n",
       "    }\n",
       "\n",
       "    .dataframe thead th {\n",
       "        text-align: right;\n",
       "    }\n",
       "</style>\n",
       "<table border=\"1\" class=\"dataframe\">\n",
       "  <thead>\n",
       "    <tr style=\"text-align: right;\">\n",
       "      <th></th>\n",
       "      <th>li_tract00</th>\n",
       "      <th>li_tract90</th>\n",
       "      <th>edulow90</th>\n",
       "      <th>edulow00</th>\n",
       "    </tr>\n",
       "  </thead>\n",
       "  <tbody>\n",
       "    <tr>\n",
       "      <th>34001000100</th>\n",
       "      <td>1</td>\n",
       "      <td>1</td>\n",
       "      <td>1</td>\n",
       "      <td>1</td>\n",
       "    </tr>\n",
       "    <tr>\n",
       "      <th>34001000200</th>\n",
       "      <td>1</td>\n",
       "      <td>0</td>\n",
       "      <td>0</td>\n",
       "      <td>1</td>\n",
       "    </tr>\n",
       "    <tr>\n",
       "      <th>34001000300</th>\n",
       "      <td>1</td>\n",
       "      <td>1</td>\n",
       "      <td>1</td>\n",
       "      <td>1</td>\n",
       "    </tr>\n",
       "    <tr>\n",
       "      <th>34001000500</th>\n",
       "      <td>1</td>\n",
       "      <td>1</td>\n",
       "      <td>1</td>\n",
       "      <td>1</td>\n",
       "    </tr>\n",
       "    <tr>\n",
       "      <th>34001001500</th>\n",
       "      <td>1</td>\n",
       "      <td>1</td>\n",
       "      <td>1</td>\n",
       "      <td>1</td>\n",
       "    </tr>\n",
       "    <tr>\n",
       "      <th>34001001900</th>\n",
       "      <td>1</td>\n",
       "      <td>1</td>\n",
       "      <td>1</td>\n",
       "      <td>1</td>\n",
       "    </tr>\n",
       "    <tr>\n",
       "      <th>34001010101</th>\n",
       "      <td>0</td>\n",
       "      <td>0</td>\n",
       "      <td>0</td>\n",
       "      <td>0</td>\n",
       "    </tr>\n",
       "  </tbody>\n",
       "</table>\n",
       "</div>"
      ],
      "text/plain": [
       "             li_tract00  li_tract90  edulow90  edulow00\n",
       "34001000100           1           1         1         1\n",
       "34001000200           1           0         0         1\n",
       "34001000300           1           1         1         1\n",
       "34001000500           1           1         1         1\n",
       "34001001500           1           1         1         1\n",
       "34001001900           1           1         1         1\n",
       "34001010101           0           0         0         0"
      ]
     },
     "execution_count": 85,
     "metadata": {},
     "output_type": "execute_result"
    }
   ],
   "source": [
    "data['edulow90'] = np.where(data['per_col_90'] < data['per_col_90'].median(), 1, 0)\n",
    "data['edulow00'] = np.where(data['per_col_00'] < data['per_col_00'].median(), 1, 0)\n",
    "data.iloc[:,-4:].head(7)"
   ]
  },
  {
   "cell_type": "markdown",
   "metadata": {},
   "source": [
    "### Define % renters > regional median"
   ]
  },
  {
   "cell_type": "code",
   "execution_count": 86,
   "metadata": {},
   "outputs": [
    {
     "data": {
      "text/plain": [
       "0.4101221640488657"
      ]
     },
     "execution_count": 86,
     "metadata": {},
     "output_type": "execute_result"
    }
   ],
   "source": [
    "data['per_rent_00'].median()"
   ]
  },
  {
   "cell_type": "code",
   "execution_count": 87,
   "metadata": {},
   "outputs": [
    {
     "data": {
      "text/html": [
       "<div>\n",
       "<style scoped>\n",
       "    .dataframe tbody tr th:only-of-type {\n",
       "        vertical-align: middle;\n",
       "    }\n",
       "\n",
       "    .dataframe tbody tr th {\n",
       "        vertical-align: top;\n",
       "    }\n",
       "\n",
       "    .dataframe thead th {\n",
       "        text-align: right;\n",
       "    }\n",
       "</style>\n",
       "<table border=\"1\" class=\"dataframe\">\n",
       "  <thead>\n",
       "    <tr style=\"text-align: right;\">\n",
       "      <th></th>\n",
       "      <th>edulow90</th>\n",
       "      <th>edulow00</th>\n",
       "      <th>renters%90</th>\n",
       "      <th>renters%00</th>\n",
       "      <th>renters%16</th>\n",
       "    </tr>\n",
       "  </thead>\n",
       "  <tbody>\n",
       "    <tr>\n",
       "      <th>34001000100</th>\n",
       "      <td>1</td>\n",
       "      <td>1</td>\n",
       "      <td>1</td>\n",
       "      <td>1</td>\n",
       "      <td>1</td>\n",
       "    </tr>\n",
       "    <tr>\n",
       "      <th>34001000200</th>\n",
       "      <td>0</td>\n",
       "      <td>1</td>\n",
       "      <td>0</td>\n",
       "      <td>1</td>\n",
       "      <td>1</td>\n",
       "    </tr>\n",
       "    <tr>\n",
       "      <th>34001000300</th>\n",
       "      <td>1</td>\n",
       "      <td>1</td>\n",
       "      <td>1</td>\n",
       "      <td>1</td>\n",
       "      <td>1</td>\n",
       "    </tr>\n",
       "    <tr>\n",
       "      <th>34001000500</th>\n",
       "      <td>1</td>\n",
       "      <td>1</td>\n",
       "      <td>1</td>\n",
       "      <td>1</td>\n",
       "      <td>1</td>\n",
       "    </tr>\n",
       "    <tr>\n",
       "      <th>34001001500</th>\n",
       "      <td>1</td>\n",
       "      <td>1</td>\n",
       "      <td>1</td>\n",
       "      <td>1</td>\n",
       "      <td>1</td>\n",
       "    </tr>\n",
       "    <tr>\n",
       "      <th>34001001900</th>\n",
       "      <td>1</td>\n",
       "      <td>1</td>\n",
       "      <td>1</td>\n",
       "      <td>1</td>\n",
       "      <td>1</td>\n",
       "    </tr>\n",
       "    <tr>\n",
       "      <th>34001010101</th>\n",
       "      <td>0</td>\n",
       "      <td>0</td>\n",
       "      <td>0</td>\n",
       "      <td>0</td>\n",
       "      <td>0</td>\n",
       "    </tr>\n",
       "  </tbody>\n",
       "</table>\n",
       "</div>"
      ],
      "text/plain": [
       "             edulow90  edulow00  renters%90  renters%00  renters%16\n",
       "34001000100         1         1           1           1           1\n",
       "34001000200         0         1           0           1           1\n",
       "34001000300         1         1           1           1           1\n",
       "34001000500         1         1           1           1           1\n",
       "34001001500         1         1           1           1           1\n",
       "34001001900         1         1           1           1           1\n",
       "34001010101         0         0           0           0           0"
      ]
     },
     "execution_count": 87,
     "metadata": {},
     "output_type": "execute_result"
    }
   ],
   "source": [
    "data['renters%90'] = np.where(data['per_rent_90'] > data['per_rent_90'].median(), 1, 0)\n",
    "data['renters%00'] = np.where(data['per_rent_00'] > data['per_rent_00'].median(), 1, 0)\n",
    "data['renters%16'] = np.where(data['per_rent_16'] > data['per_rent_16'].median(), 1, 0)\n",
    "\n",
    "data.iloc[:,-5:].head(7)"
   ]
  },
  {
   "cell_type": "markdown",
   "metadata": {},
   "source": [
    "### Define % nonwhite > regional median"
   ]
  },
  {
   "cell_type": "code",
   "execution_count": 88,
   "metadata": {},
   "outputs": [
    {
     "data": {
      "text/plain": [
       "0.20487232169063696"
      ]
     },
     "execution_count": 88,
     "metadata": {},
     "output_type": "execute_result"
    }
   ],
   "source": [
    "data['per_nonwhite_00'].median()"
   ]
  },
  {
   "cell_type": "code",
   "execution_count": 89,
   "metadata": {},
   "outputs": [
    {
     "data": {
      "text/html": [
       "<div>\n",
       "<style scoped>\n",
       "    .dataframe tbody tr th:only-of-type {\n",
       "        vertical-align: middle;\n",
       "    }\n",
       "\n",
       "    .dataframe tbody tr th {\n",
       "        vertical-align: top;\n",
       "    }\n",
       "\n",
       "    .dataframe thead th {\n",
       "        text-align: right;\n",
       "    }\n",
       "</style>\n",
       "<table border=\"1\" class=\"dataframe\">\n",
       "  <thead>\n",
       "    <tr style=\"text-align: right;\">\n",
       "      <th></th>\n",
       "      <th>renters%00</th>\n",
       "      <th>renters%16</th>\n",
       "      <th>nonwhiteHigh90</th>\n",
       "      <th>nonwhiteHigh00</th>\n",
       "      <th>nonwhiteHigh16</th>\n",
       "    </tr>\n",
       "  </thead>\n",
       "  <tbody>\n",
       "    <tr>\n",
       "      <th>34001000100</th>\n",
       "      <td>1</td>\n",
       "      <td>1</td>\n",
       "      <td>0</td>\n",
       "      <td>1</td>\n",
       "      <td>0</td>\n",
       "    </tr>\n",
       "    <tr>\n",
       "      <th>34001000200</th>\n",
       "      <td>1</td>\n",
       "      <td>1</td>\n",
       "      <td>0</td>\n",
       "      <td>1</td>\n",
       "      <td>0</td>\n",
       "    </tr>\n",
       "    <tr>\n",
       "      <th>34001000300</th>\n",
       "      <td>1</td>\n",
       "      <td>1</td>\n",
       "      <td>0</td>\n",
       "      <td>1</td>\n",
       "      <td>0</td>\n",
       "    </tr>\n",
       "    <tr>\n",
       "      <th>34001000500</th>\n",
       "      <td>1</td>\n",
       "      <td>1</td>\n",
       "      <td>0</td>\n",
       "      <td>1</td>\n",
       "      <td>0</td>\n",
       "    </tr>\n",
       "    <tr>\n",
       "      <th>34001001500</th>\n",
       "      <td>1</td>\n",
       "      <td>1</td>\n",
       "      <td>0</td>\n",
       "      <td>1</td>\n",
       "      <td>0</td>\n",
       "    </tr>\n",
       "    <tr>\n",
       "      <th>34001001900</th>\n",
       "      <td>1</td>\n",
       "      <td>1</td>\n",
       "      <td>0</td>\n",
       "      <td>1</td>\n",
       "      <td>0</td>\n",
       "    </tr>\n",
       "    <tr>\n",
       "      <th>34001010101</th>\n",
       "      <td>0</td>\n",
       "      <td>0</td>\n",
       "      <td>0</td>\n",
       "      <td>0</td>\n",
       "      <td>0</td>\n",
       "    </tr>\n",
       "  </tbody>\n",
       "</table>\n",
       "</div>"
      ],
      "text/plain": [
       "             renters%00  renters%16  nonwhiteHigh90  nonwhiteHigh00  \\\n",
       "34001000100           1           1               0               1   \n",
       "34001000200           1           1               0               1   \n",
       "34001000300           1           1               0               1   \n",
       "34001000500           1           1               0               1   \n",
       "34001001500           1           1               0               1   \n",
       "34001001900           1           1               0               1   \n",
       "34001010101           0           0               0               0   \n",
       "\n",
       "             nonwhiteHigh16  \n",
       "34001000100               0  \n",
       "34001000200               0  \n",
       "34001000300               0  \n",
       "34001000500               0  \n",
       "34001001500               0  \n",
       "34001001900               0  \n",
       "34001010101               0  "
      ]
     },
     "execution_count": 89,
     "metadata": {},
     "output_type": "execute_result"
    }
   ],
   "source": [
    "data['nonwhiteHigh90'] = np.where(data['per_nonwhite_90'] > data['per_nonwhite_90'].median(), 1, 0)\n",
    "data['nonwhiteHigh00'] = np.where(data['per_nonwhite_00'] > data['per_nonwhite_00'].median(), 1, 0)\n",
    "data['nonwhiteHigh16'] = np.where(data['per_nonwhite_16'] > data['per_nonwhite_16'].median(), 1, 0)\n",
    "data.iloc[:,-5:].head(7)"
   ]
  },
  {
   "cell_type": "markdown",
   "metadata": {},
   "source": [
    "### Define Severe Rent Burden 2016 -- DIDN\"T WORK! CHECK AGAIN"
   ]
  },
  {
   "cell_type": "code",
   "execution_count": 90,
   "metadata": {},
   "outputs": [
    {
     "data": {
      "text/html": [
       "<div>\n",
       "<style scoped>\n",
       "    .dataframe tbody tr th:only-of-type {\n",
       "        vertical-align: middle;\n",
       "    }\n",
       "\n",
       "    .dataframe tbody tr th {\n",
       "        vertical-align: top;\n",
       "    }\n",
       "\n",
       "    .dataframe thead th {\n",
       "        text-align: right;\n",
       "    }\n",
       "</style>\n",
       "<table border=\"1\" class=\"dataframe\">\n",
       "  <thead>\n",
       "    <tr style=\"text-align: right;\">\n",
       "      <th></th>\n",
       "      <th>NAME</th>\n",
       "      <th>county</th>\n",
       "      <th>hh_00</th>\n",
       "      <th>hh_16</th>\n",
       "      <th>hh_16_moe</th>\n",
       "      <th>hh_90</th>\n",
       "      <th>hi_00</th>\n",
       "      <th>hi_16</th>\n",
       "      <th>hi_16_moe</th>\n",
       "      <th>hi_90</th>\n",
       "      <th>...</th>\n",
       "      <th>li_tract00</th>\n",
       "      <th>li_tract90</th>\n",
       "      <th>edulow90</th>\n",
       "      <th>edulow00</th>\n",
       "      <th>renters%90</th>\n",
       "      <th>renters%00</th>\n",
       "      <th>renters%16</th>\n",
       "      <th>nonwhiteHigh90</th>\n",
       "      <th>nonwhiteHigh00</th>\n",
       "      <th>nonwhiteHigh16</th>\n",
       "    </tr>\n",
       "  </thead>\n",
       "  <tbody>\n",
       "    <tr>\n",
       "      <th>34001001500</th>\n",
       "      <td>Census Tract 15, Atlantic County, New Jersey</td>\n",
       "      <td>1</td>\n",
       "      <td>905.0000</td>\n",
       "      <td>756.0</td>\n",
       "      <td>63.0</td>\n",
       "      <td>1100.000000</td>\n",
       "      <td>0.028655</td>\n",
       "      <td>0.015003</td>\n",
       "      <td>0.019253</td>\n",
       "      <td>0.025767</td>\n",
       "      <td>...</td>\n",
       "      <td>1</td>\n",
       "      <td>1</td>\n",
       "      <td>1</td>\n",
       "      <td>1</td>\n",
       "      <td>1</td>\n",
       "      <td>1</td>\n",
       "      <td>1</td>\n",
       "      <td>0</td>\n",
       "      <td>1</td>\n",
       "      <td>0</td>\n",
       "    </tr>\n",
       "    <tr>\n",
       "      <th>34001010101</th>\n",
       "      <td>Census Tract 101.01, Atlantic County, New Jersey</td>\n",
       "      <td>1</td>\n",
       "      <td>1775.9435</td>\n",
       "      <td>1447.0</td>\n",
       "      <td>126.0</td>\n",
       "      <td>1463.028167</td>\n",
       "      <td>0.133982</td>\n",
       "      <td>0.149099</td>\n",
       "      <td>0.074351</td>\n",
       "      <td>0.194003</td>\n",
       "      <td>...</td>\n",
       "      <td>0</td>\n",
       "      <td>0</td>\n",
       "      <td>0</td>\n",
       "      <td>0</td>\n",
       "      <td>0</td>\n",
       "      <td>0</td>\n",
       "      <td>0</td>\n",
       "      <td>0</td>\n",
       "      <td>0</td>\n",
       "      <td>0</td>\n",
       "    </tr>\n",
       "    <tr>\n",
       "      <th>34001010102</th>\n",
       "      <td>Census Tract 101.02, Atlantic County, New Jersey</td>\n",
       "      <td>1</td>\n",
       "      <td>1207.0565</td>\n",
       "      <td>960.0</td>\n",
       "      <td>90.0</td>\n",
       "      <td>1232.971833</td>\n",
       "      <td>0.103076</td>\n",
       "      <td>0.104324</td>\n",
       "      <td>0.058704</td>\n",
       "      <td>0.119610</td>\n",
       "      <td>...</td>\n",
       "      <td>1</td>\n",
       "      <td>1</td>\n",
       "      <td>1</td>\n",
       "      <td>1</td>\n",
       "      <td>0</td>\n",
       "      <td>0</td>\n",
       "      <td>0</td>\n",
       "      <td>0</td>\n",
       "      <td>0</td>\n",
       "      <td>0</td>\n",
       "    </tr>\n",
       "    <tr>\n",
       "      <th>34001010200</th>\n",
       "      <td>Census Tract 102, Atlantic County, New Jersey</td>\n",
       "      <td>1</td>\n",
       "      <td>2062.0000</td>\n",
       "      <td>2260.0</td>\n",
       "      <td>146.0</td>\n",
       "      <td>1942.000000</td>\n",
       "      <td>0.164282</td>\n",
       "      <td>0.139873</td>\n",
       "      <td>0.065387</td>\n",
       "      <td>0.189860</td>\n",
       "      <td>...</td>\n",
       "      <td>0</td>\n",
       "      <td>0</td>\n",
       "      <td>0</td>\n",
       "      <td>0</td>\n",
       "      <td>0</td>\n",
       "      <td>0</td>\n",
       "      <td>0</td>\n",
       "      <td>0</td>\n",
       "      <td>0</td>\n",
       "      <td>0</td>\n",
       "    </tr>\n",
       "    <tr>\n",
       "      <th>34001010501</th>\n",
       "      <td>Census Tract 105.01, Atlantic County, New Jersey</td>\n",
       "      <td>1</td>\n",
       "      <td>2584.0000</td>\n",
       "      <td>3006.0</td>\n",
       "      <td>193.0</td>\n",
       "      <td>1909.465780</td>\n",
       "      <td>0.170297</td>\n",
       "      <td>0.125992</td>\n",
       "      <td>0.046679</td>\n",
       "      <td>0.154425</td>\n",
       "      <td>...</td>\n",
       "      <td>0</td>\n",
       "      <td>0</td>\n",
       "      <td>0</td>\n",
       "      <td>0</td>\n",
       "      <td>0</td>\n",
       "      <td>0</td>\n",
       "      <td>0</td>\n",
       "      <td>1</td>\n",
       "      <td>0</td>\n",
       "      <td>0</td>\n",
       "    </tr>\n",
       "  </tbody>\n",
       "</table>\n",
       "<p>5 rows × 155 columns</p>\n",
       "</div>"
      ],
      "text/plain": [
       "                                                         NAME  county  \\\n",
       "34001001500      Census Tract 15, Atlantic County, New Jersey       1   \n",
       "34001010101  Census Tract 101.01, Atlantic County, New Jersey       1   \n",
       "34001010102  Census Tract 101.02, Atlantic County, New Jersey       1   \n",
       "34001010200     Census Tract 102, Atlantic County, New Jersey       1   \n",
       "34001010501  Census Tract 105.01, Atlantic County, New Jersey       1   \n",
       "\n",
       "                 hh_00   hh_16  hh_16_moe        hh_90     hi_00     hi_16  \\\n",
       "34001001500   905.0000   756.0       63.0  1100.000000  0.028655  0.015003   \n",
       "34001010101  1775.9435  1447.0      126.0  1463.028167  0.133982  0.149099   \n",
       "34001010102  1207.0565   960.0       90.0  1232.971833  0.103076  0.104324   \n",
       "34001010200  2062.0000  2260.0      146.0  1942.000000  0.164282  0.139873   \n",
       "34001010501  2584.0000  3006.0      193.0  1909.465780  0.170297  0.125992   \n",
       "\n",
       "             hi_16_moe     hi_90       ...        li_tract00  li_tract90  \\\n",
       "34001001500   0.019253  0.025767       ...                 1           1   \n",
       "34001010101   0.074351  0.194003       ...                 0           0   \n",
       "34001010102   0.058704  0.119610       ...                 1           1   \n",
       "34001010200   0.065387  0.189860       ...                 0           0   \n",
       "34001010501   0.046679  0.154425       ...                 0           0   \n",
       "\n",
       "             edulow90  edulow00  renters%90  renters%00  renters%16  \\\n",
       "34001001500         1         1           1           1           1   \n",
       "34001010101         0         0           0           0           0   \n",
       "34001010102         1         1           0           0           0   \n",
       "34001010200         0         0           0           0           0   \n",
       "34001010501         0         0           0           0           0   \n",
       "\n",
       "             nonwhiteHigh90  nonwhiteHigh00  nonwhiteHigh16  \n",
       "34001001500               0               1               0  \n",
       "34001010101               0               0               0  \n",
       "34001010102               0               0               0  \n",
       "34001010200               0               0               0  \n",
       "34001010501               1               0               0  \n",
       "\n",
       "[5 rows x 155 columns]"
      ]
     },
     "execution_count": 90,
     "metadata": {},
     "output_type": "execute_result"
    }
   ],
   "source": [
    "data[data['mrent_16']/(data['hinc_16']/12)<0.3].head()"
   ]
  },
  {
   "cell_type": "markdown",
   "metadata": {},
   "source": [
    "# Vulnerability 1990 / 2000 // 3 out of 4 of the above for each year\n",
    "- % low income households > regional median\n",
    "- college educated < regional median\n",
    "- renters > regional median\n",
    "- nonwhite > regional median"
   ]
  },
  {
   "cell_type": "code",
   "execution_count": 91,
   "metadata": {},
   "outputs": [],
   "source": [
    "# vulnerable 1990\n",
    "\n",
    "def volnurable90(df):\n",
    "    if df['li_tract90'] == 1 and df['edulow90'] == 1 and df['renters%90'] == 1:\n",
    "        val = 1\n",
    "    elif df['li_tract90'] == 1 and df['edulow90'] == 1 and df['nonwhiteHigh90'] == 1:\n",
    "        val = 1\n",
    "    elif df['li_tract90'] == 1 and df['renters%90'] == 1 and df['nonwhiteHigh90'] == 1:\n",
    "        val = 1\n",
    "    elif df['edulow90'] == 1 and df['renters%90'] == 1 and df['nonwhiteHigh90'] == 1:\n",
    "        val = 1\n",
    "    else:\n",
    "        val = 0\n",
    "    return val"
   ]
  },
  {
   "cell_type": "code",
   "execution_count": 92,
   "metadata": {},
   "outputs": [
    {
     "data": {
      "text/html": [
       "<div>\n",
       "<style scoped>\n",
       "    .dataframe tbody tr th:only-of-type {\n",
       "        vertical-align: middle;\n",
       "    }\n",
       "\n",
       "    .dataframe tbody tr th {\n",
       "        vertical-align: top;\n",
       "    }\n",
       "\n",
       "    .dataframe thead th {\n",
       "        text-align: right;\n",
       "    }\n",
       "</style>\n",
       "<table border=\"1\" class=\"dataframe\">\n",
       "  <thead>\n",
       "    <tr style=\"text-align: right;\">\n",
       "      <th></th>\n",
       "      <th>NAME</th>\n",
       "      <th>county</th>\n",
       "      <th>hh_00</th>\n",
       "      <th>hh_16</th>\n",
       "      <th>hh_16_moe</th>\n",
       "      <th>hh_90</th>\n",
       "      <th>hi_00</th>\n",
       "      <th>hi_16</th>\n",
       "      <th>hi_16_moe</th>\n",
       "      <th>hi_90</th>\n",
       "      <th>...</th>\n",
       "      <th>li_tract90</th>\n",
       "      <th>edulow90</th>\n",
       "      <th>edulow00</th>\n",
       "      <th>renters%90</th>\n",
       "      <th>renters%00</th>\n",
       "      <th>renters%16</th>\n",
       "      <th>nonwhiteHigh90</th>\n",
       "      <th>nonwhiteHigh00</th>\n",
       "      <th>nonwhiteHigh16</th>\n",
       "      <th>Volnurable90</th>\n",
       "    </tr>\n",
       "  </thead>\n",
       "  <tbody>\n",
       "    <tr>\n",
       "      <th>34001010501</th>\n",
       "      <td>Census Tract 105.01, Atlantic County, New Jersey</td>\n",
       "      <td>1</td>\n",
       "      <td>2584.0</td>\n",
       "      <td>3006.0</td>\n",
       "      <td>193.0</td>\n",
       "      <td>1909.465780</td>\n",
       "      <td>0.170297</td>\n",
       "      <td>0.125992</td>\n",
       "      <td>0.046679</td>\n",
       "      <td>0.154425</td>\n",
       "      <td>...</td>\n",
       "      <td>0</td>\n",
       "      <td>0</td>\n",
       "      <td>0</td>\n",
       "      <td>0</td>\n",
       "      <td>0</td>\n",
       "      <td>0</td>\n",
       "      <td>1</td>\n",
       "      <td>0</td>\n",
       "      <td>0</td>\n",
       "      <td>0</td>\n",
       "    </tr>\n",
       "    <tr>\n",
       "      <th>34001010401</th>\n",
       "      <td>Census Tract 104.01, Atlantic County, New Jersey</td>\n",
       "      <td>1</td>\n",
       "      <td>1751.0</td>\n",
       "      <td>2081.0</td>\n",
       "      <td>155.0</td>\n",
       "      <td>1546.967226</td>\n",
       "      <td>0.170828</td>\n",
       "      <td>0.143431</td>\n",
       "      <td>0.080781</td>\n",
       "      <td>0.191879</td>\n",
       "      <td>...</td>\n",
       "      <td>0</td>\n",
       "      <td>0</td>\n",
       "      <td>1</td>\n",
       "      <td>0</td>\n",
       "      <td>0</td>\n",
       "      <td>0</td>\n",
       "      <td>1</td>\n",
       "      <td>0</td>\n",
       "      <td>0</td>\n",
       "      <td>0</td>\n",
       "    </tr>\n",
       "    <tr>\n",
       "      <th>34001010403</th>\n",
       "      <td>Census Tract 104.03, Atlantic County, New Jersey</td>\n",
       "      <td>1</td>\n",
       "      <td>1269.0</td>\n",
       "      <td>2074.0</td>\n",
       "      <td>125.0</td>\n",
       "      <td>795.000000</td>\n",
       "      <td>0.166826</td>\n",
       "      <td>0.166098</td>\n",
       "      <td>0.086058</td>\n",
       "      <td>0.148148</td>\n",
       "      <td>...</td>\n",
       "      <td>0</td>\n",
       "      <td>1</td>\n",
       "      <td>1</td>\n",
       "      <td>0</td>\n",
       "      <td>0</td>\n",
       "      <td>0</td>\n",
       "      <td>1</td>\n",
       "      <td>1</td>\n",
       "      <td>0</td>\n",
       "      <td>0</td>\n",
       "    </tr>\n",
       "    <tr>\n",
       "      <th>34001010503</th>\n",
       "      <td>Census Tract 105.03, Atlantic County, New Jersey</td>\n",
       "      <td>1</td>\n",
       "      <td>2733.0</td>\n",
       "      <td>3022.0</td>\n",
       "      <td>179.0</td>\n",
       "      <td>1792.566801</td>\n",
       "      <td>0.132269</td>\n",
       "      <td>0.090868</td>\n",
       "      <td>0.048834</td>\n",
       "      <td>0.192639</td>\n",
       "      <td>...</td>\n",
       "      <td>0</td>\n",
       "      <td>0</td>\n",
       "      <td>0</td>\n",
       "      <td>1</td>\n",
       "      <td>1</td>\n",
       "      <td>1</td>\n",
       "      <td>1</td>\n",
       "      <td>1</td>\n",
       "      <td>0</td>\n",
       "      <td>0</td>\n",
       "    </tr>\n",
       "    <tr>\n",
       "      <th>34001010600</th>\n",
       "      <td>Census Tract 106, Atlantic County, New Jersey</td>\n",
       "      <td>1</td>\n",
       "      <td>1659.0</td>\n",
       "      <td>1415.0</td>\n",
       "      <td>139.0</td>\n",
       "      <td>1680.000000</td>\n",
       "      <td>0.089424</td>\n",
       "      <td>0.126702</td>\n",
       "      <td>0.059236</td>\n",
       "      <td>0.097338</td>\n",
       "      <td>...</td>\n",
       "      <td>1</td>\n",
       "      <td>1</td>\n",
       "      <td>1</td>\n",
       "      <td>0</td>\n",
       "      <td>0</td>\n",
       "      <td>1</td>\n",
       "      <td>1</td>\n",
       "      <td>1</td>\n",
       "      <td>0</td>\n",
       "      <td>1</td>\n",
       "    </tr>\n",
       "    <tr>\n",
       "      <th>34001010700</th>\n",
       "      <td>Census Tract 107, Atlantic County, New Jersey</td>\n",
       "      <td>1</td>\n",
       "      <td>2037.0</td>\n",
       "      <td>2254.0</td>\n",
       "      <td>166.0</td>\n",
       "      <td>1903.000000</td>\n",
       "      <td>0.162406</td>\n",
       "      <td>0.162869</td>\n",
       "      <td>0.069137</td>\n",
       "      <td>0.126118</td>\n",
       "      <td>...</td>\n",
       "      <td>0</td>\n",
       "      <td>1</td>\n",
       "      <td>1</td>\n",
       "      <td>0</td>\n",
       "      <td>0</td>\n",
       "      <td>0</td>\n",
       "      <td>1</td>\n",
       "      <td>0</td>\n",
       "      <td>0</td>\n",
       "      <td>0</td>\n",
       "    </tr>\n",
       "  </tbody>\n",
       "</table>\n",
       "<p>6 rows × 156 columns</p>\n",
       "</div>"
      ],
      "text/plain": [
       "                                                         NAME  county   hh_00  \\\n",
       "34001010501  Census Tract 105.01, Atlantic County, New Jersey       1  2584.0   \n",
       "34001010401  Census Tract 104.01, Atlantic County, New Jersey       1  1751.0   \n",
       "34001010403  Census Tract 104.03, Atlantic County, New Jersey       1  1269.0   \n",
       "34001010503  Census Tract 105.03, Atlantic County, New Jersey       1  2733.0   \n",
       "34001010600     Census Tract 106, Atlantic County, New Jersey       1  1659.0   \n",
       "34001010700     Census Tract 107, Atlantic County, New Jersey       1  2037.0   \n",
       "\n",
       "              hh_16  hh_16_moe        hh_90     hi_00     hi_16  hi_16_moe  \\\n",
       "34001010501  3006.0      193.0  1909.465780  0.170297  0.125992   0.046679   \n",
       "34001010401  2081.0      155.0  1546.967226  0.170828  0.143431   0.080781   \n",
       "34001010403  2074.0      125.0   795.000000  0.166826  0.166098   0.086058   \n",
       "34001010503  3022.0      179.0  1792.566801  0.132269  0.090868   0.048834   \n",
       "34001010600  1415.0      139.0  1680.000000  0.089424  0.126702   0.059236   \n",
       "34001010700  2254.0      166.0  1903.000000  0.162406  0.162869   0.069137   \n",
       "\n",
       "                hi_90      ...       li_tract90  edulow90  edulow00  \\\n",
       "34001010501  0.154425      ...                0         0         0   \n",
       "34001010401  0.191879      ...                0         0         1   \n",
       "34001010403  0.148148      ...                0         1         1   \n",
       "34001010503  0.192639      ...                0         0         0   \n",
       "34001010600  0.097338      ...                1         1         1   \n",
       "34001010700  0.126118      ...                0         1         1   \n",
       "\n",
       "             renters%90  renters%00  renters%16  nonwhiteHigh90  \\\n",
       "34001010501           0           0           0               1   \n",
       "34001010401           0           0           0               1   \n",
       "34001010403           0           0           0               1   \n",
       "34001010503           1           1           1               1   \n",
       "34001010600           0           0           1               1   \n",
       "34001010700           0           0           0               1   \n",
       "\n",
       "             nonwhiteHigh00  nonwhiteHigh16  Volnurable90  \n",
       "34001010501               0               0             0  \n",
       "34001010401               0               0             0  \n",
       "34001010403               1               0             0  \n",
       "34001010503               1               0             0  \n",
       "34001010600               1               0             1  \n",
       "34001010700               0               0             0  \n",
       "\n",
       "[6 rows x 156 columns]"
      ]
     },
     "execution_count": 92,
     "metadata": {},
     "output_type": "execute_result"
    }
   ],
   "source": [
    "data['Volnurable90'] = data.apply(volnurable90, axis=1)\n",
    "data[10:16]"
   ]
  },
  {
   "cell_type": "code",
   "execution_count": 93,
   "metadata": {},
   "outputs": [],
   "source": [
    "# Volnurable 2000\n",
    "\n",
    "def volnurable00(df):\n",
    "    if df['li_tract00'] == 1 and df['edulow00'] == 1 and df['renters%00'] == 1:\n",
    "        val = 1\n",
    "    elif df['li_tract00'] == 1 and df['edulow00'] == 1 and df['nonwhiteHigh00'] == 1:\n",
    "        val = 1\n",
    "    elif df['li_tract00'] == 1 and df['renters%00'] == 1 and df['nonwhiteHigh00'] == 1:\n",
    "        val = 1\n",
    "    elif df['edulow00'] == 1 and df['renters%00'] == 1 and df['nonwhiteHigh00'] == 1:\n",
    "        val = 1\n",
    "    else:\n",
    "        val = 0\n",
    "    return val"
   ]
  },
  {
   "cell_type": "code",
   "execution_count": 94,
   "metadata": {},
   "outputs": [
    {
     "data": {
      "text/html": [
       "<div>\n",
       "<style scoped>\n",
       "    .dataframe tbody tr th:only-of-type {\n",
       "        vertical-align: middle;\n",
       "    }\n",
       "\n",
       "    .dataframe tbody tr th {\n",
       "        vertical-align: top;\n",
       "    }\n",
       "\n",
       "    .dataframe thead th {\n",
       "        text-align: right;\n",
       "    }\n",
       "</style>\n",
       "<table border=\"1\" class=\"dataframe\">\n",
       "  <thead>\n",
       "    <tr style=\"text-align: right;\">\n",
       "      <th></th>\n",
       "      <th>NAME</th>\n",
       "      <th>county</th>\n",
       "      <th>hh_00</th>\n",
       "      <th>hh_16</th>\n",
       "      <th>hh_16_moe</th>\n",
       "      <th>hh_90</th>\n",
       "      <th>hi_00</th>\n",
       "      <th>hi_16</th>\n",
       "      <th>hi_16_moe</th>\n",
       "      <th>hi_90</th>\n",
       "      <th>...</th>\n",
       "      <th>edulow90</th>\n",
       "      <th>edulow00</th>\n",
       "      <th>renters%90</th>\n",
       "      <th>renters%00</th>\n",
       "      <th>renters%16</th>\n",
       "      <th>nonwhiteHigh90</th>\n",
       "      <th>nonwhiteHigh00</th>\n",
       "      <th>nonwhiteHigh16</th>\n",
       "      <th>Volnurable90</th>\n",
       "      <th>Volnurable00</th>\n",
       "    </tr>\n",
       "  </thead>\n",
       "  <tbody>\n",
       "    <tr>\n",
       "      <th>34001010501</th>\n",
       "      <td>Census Tract 105.01, Atlantic County, New Jersey</td>\n",
       "      <td>1</td>\n",
       "      <td>2584.0</td>\n",
       "      <td>3006.0</td>\n",
       "      <td>193.0</td>\n",
       "      <td>1909.465780</td>\n",
       "      <td>0.170297</td>\n",
       "      <td>0.125992</td>\n",
       "      <td>0.046679</td>\n",
       "      <td>0.154425</td>\n",
       "      <td>...</td>\n",
       "      <td>0</td>\n",
       "      <td>0</td>\n",
       "      <td>0</td>\n",
       "      <td>0</td>\n",
       "      <td>0</td>\n",
       "      <td>1</td>\n",
       "      <td>0</td>\n",
       "      <td>0</td>\n",
       "      <td>0</td>\n",
       "      <td>0</td>\n",
       "    </tr>\n",
       "    <tr>\n",
       "      <th>34001010401</th>\n",
       "      <td>Census Tract 104.01, Atlantic County, New Jersey</td>\n",
       "      <td>1</td>\n",
       "      <td>1751.0</td>\n",
       "      <td>2081.0</td>\n",
       "      <td>155.0</td>\n",
       "      <td>1546.967226</td>\n",
       "      <td>0.170828</td>\n",
       "      <td>0.143431</td>\n",
       "      <td>0.080781</td>\n",
       "      <td>0.191879</td>\n",
       "      <td>...</td>\n",
       "      <td>0</td>\n",
       "      <td>1</td>\n",
       "      <td>0</td>\n",
       "      <td>0</td>\n",
       "      <td>0</td>\n",
       "      <td>1</td>\n",
       "      <td>0</td>\n",
       "      <td>0</td>\n",
       "      <td>0</td>\n",
       "      <td>0</td>\n",
       "    </tr>\n",
       "    <tr>\n",
       "      <th>34001010403</th>\n",
       "      <td>Census Tract 104.03, Atlantic County, New Jersey</td>\n",
       "      <td>1</td>\n",
       "      <td>1269.0</td>\n",
       "      <td>2074.0</td>\n",
       "      <td>125.0</td>\n",
       "      <td>795.000000</td>\n",
       "      <td>0.166826</td>\n",
       "      <td>0.166098</td>\n",
       "      <td>0.086058</td>\n",
       "      <td>0.148148</td>\n",
       "      <td>...</td>\n",
       "      <td>1</td>\n",
       "      <td>1</td>\n",
       "      <td>0</td>\n",
       "      <td>0</td>\n",
       "      <td>0</td>\n",
       "      <td>1</td>\n",
       "      <td>1</td>\n",
       "      <td>0</td>\n",
       "      <td>0</td>\n",
       "      <td>0</td>\n",
       "    </tr>\n",
       "    <tr>\n",
       "      <th>34001010503</th>\n",
       "      <td>Census Tract 105.03, Atlantic County, New Jersey</td>\n",
       "      <td>1</td>\n",
       "      <td>2733.0</td>\n",
       "      <td>3022.0</td>\n",
       "      <td>179.0</td>\n",
       "      <td>1792.566801</td>\n",
       "      <td>0.132269</td>\n",
       "      <td>0.090868</td>\n",
       "      <td>0.048834</td>\n",
       "      <td>0.192639</td>\n",
       "      <td>...</td>\n",
       "      <td>0</td>\n",
       "      <td>0</td>\n",
       "      <td>1</td>\n",
       "      <td>1</td>\n",
       "      <td>1</td>\n",
       "      <td>1</td>\n",
       "      <td>1</td>\n",
       "      <td>0</td>\n",
       "      <td>0</td>\n",
       "      <td>0</td>\n",
       "    </tr>\n",
       "    <tr>\n",
       "      <th>34001010600</th>\n",
       "      <td>Census Tract 106, Atlantic County, New Jersey</td>\n",
       "      <td>1</td>\n",
       "      <td>1659.0</td>\n",
       "      <td>1415.0</td>\n",
       "      <td>139.0</td>\n",
       "      <td>1680.000000</td>\n",
       "      <td>0.089424</td>\n",
       "      <td>0.126702</td>\n",
       "      <td>0.059236</td>\n",
       "      <td>0.097338</td>\n",
       "      <td>...</td>\n",
       "      <td>1</td>\n",
       "      <td>1</td>\n",
       "      <td>0</td>\n",
       "      <td>0</td>\n",
       "      <td>1</td>\n",
       "      <td>1</td>\n",
       "      <td>1</td>\n",
       "      <td>0</td>\n",
       "      <td>1</td>\n",
       "      <td>1</td>\n",
       "    </tr>\n",
       "    <tr>\n",
       "      <th>34001010700</th>\n",
       "      <td>Census Tract 107, Atlantic County, New Jersey</td>\n",
       "      <td>1</td>\n",
       "      <td>2037.0</td>\n",
       "      <td>2254.0</td>\n",
       "      <td>166.0</td>\n",
       "      <td>1903.000000</td>\n",
       "      <td>0.162406</td>\n",
       "      <td>0.162869</td>\n",
       "      <td>0.069137</td>\n",
       "      <td>0.126118</td>\n",
       "      <td>...</td>\n",
       "      <td>1</td>\n",
       "      <td>1</td>\n",
       "      <td>0</td>\n",
       "      <td>0</td>\n",
       "      <td>0</td>\n",
       "      <td>1</td>\n",
       "      <td>0</td>\n",
       "      <td>0</td>\n",
       "      <td>0</td>\n",
       "      <td>0</td>\n",
       "    </tr>\n",
       "  </tbody>\n",
       "</table>\n",
       "<p>6 rows × 157 columns</p>\n",
       "</div>"
      ],
      "text/plain": [
       "                                                         NAME  county   hh_00  \\\n",
       "34001010501  Census Tract 105.01, Atlantic County, New Jersey       1  2584.0   \n",
       "34001010401  Census Tract 104.01, Atlantic County, New Jersey       1  1751.0   \n",
       "34001010403  Census Tract 104.03, Atlantic County, New Jersey       1  1269.0   \n",
       "34001010503  Census Tract 105.03, Atlantic County, New Jersey       1  2733.0   \n",
       "34001010600     Census Tract 106, Atlantic County, New Jersey       1  1659.0   \n",
       "34001010700     Census Tract 107, Atlantic County, New Jersey       1  2037.0   \n",
       "\n",
       "              hh_16  hh_16_moe        hh_90     hi_00     hi_16  hi_16_moe  \\\n",
       "34001010501  3006.0      193.0  1909.465780  0.170297  0.125992   0.046679   \n",
       "34001010401  2081.0      155.0  1546.967226  0.170828  0.143431   0.080781   \n",
       "34001010403  2074.0      125.0   795.000000  0.166826  0.166098   0.086058   \n",
       "34001010503  3022.0      179.0  1792.566801  0.132269  0.090868   0.048834   \n",
       "34001010600  1415.0      139.0  1680.000000  0.089424  0.126702   0.059236   \n",
       "34001010700  2254.0      166.0  1903.000000  0.162406  0.162869   0.069137   \n",
       "\n",
       "                hi_90      ...       edulow90  edulow00  renters%90  \\\n",
       "34001010501  0.154425      ...              0         0           0   \n",
       "34001010401  0.191879      ...              0         1           0   \n",
       "34001010403  0.148148      ...              1         1           0   \n",
       "34001010503  0.192639      ...              0         0           1   \n",
       "34001010600  0.097338      ...              1         1           0   \n",
       "34001010700  0.126118      ...              1         1           0   \n",
       "\n",
       "             renters%00  renters%16  nonwhiteHigh90  nonwhiteHigh00  \\\n",
       "34001010501           0           0               1               0   \n",
       "34001010401           0           0               1               0   \n",
       "34001010403           0           0               1               1   \n",
       "34001010503           1           1               1               1   \n",
       "34001010600           0           1               1               1   \n",
       "34001010700           0           0               1               0   \n",
       "\n",
       "             nonwhiteHigh16  Volnurable90  Volnurable00  \n",
       "34001010501               0             0             0  \n",
       "34001010401               0             0             0  \n",
       "34001010403               0             0             0  \n",
       "34001010503               0             0             0  \n",
       "34001010600               0             1             1  \n",
       "34001010700               0             0             0  \n",
       "\n",
       "[6 rows x 157 columns]"
      ]
     },
     "execution_count": 94,
     "metadata": {},
     "output_type": "execute_result"
    }
   ],
   "source": [
    "data['Volnurable00'] = data.apply(volnurable00, axis=1)\n",
    "data[10:16]"
   ]
  },
  {
   "cell_type": "code",
   "execution_count": 95,
   "metadata": {},
   "outputs": [
    {
     "data": {
      "text/plain": [
       "0    3101\n",
       "1    1430\n",
       "Name: Volnurable90, dtype: int64"
      ]
     },
     "execution_count": 95,
     "metadata": {},
     "output_type": "execute_result"
    }
   ],
   "source": [
    "data['Volnurable90'].value_counts()"
   ]
  },
  {
   "cell_type": "code",
   "execution_count": 96,
   "metadata": {},
   "outputs": [
    {
     "data": {
      "text/plain": [
       "0    2665\n",
       "1    1866\n",
       "Name: Volnurable00, dtype: int64"
      ]
     },
     "execution_count": 96,
     "metadata": {},
     "output_type": "execute_result"
    }
   ],
   "source": [
    "data['Volnurable00'].value_counts()"
   ]
  },
  {
   "cell_type": "markdown",
   "metadata": {},
   "source": [
    "### 2123 census tracts were found Volnurable in 1990, while 2159 were found Volnurable in 2000"
   ]
  },
  {
   "cell_type": "markdown",
   "metadata": {},
   "source": [
    "---\n",
    "\n",
    "### Rail station (TOD)"
   ]
  },
  {
   "cell_type": "code",
   "execution_count": 97,
   "metadata": {},
   "outputs": [
    {
     "data": {
      "text/plain": [
       "4531"
      ]
     },
     "execution_count": 97,
     "metadata": {},
     "output_type": "execute_result"
    }
   ],
   "source": [
    "len(data)"
   ]
  },
  {
   "cell_type": "code",
   "execution_count": 98,
   "metadata": {},
   "outputs": [
    {
     "data": {
      "text/plain": [
       "5306"
      ]
     },
     "execution_count": 98,
     "metadata": {},
     "output_type": "execute_result"
    }
   ],
   "source": [
    "len(df_aram)"
   ]
  },
  {
   "cell_type": "code",
   "execution_count": 99,
   "metadata": {},
   "outputs": [
    {
     "data": {
      "text/plain": [
       "3331"
      ]
     },
     "execution_count": 99,
     "metadata": {},
     "output_type": "execute_result"
    }
   ],
   "source": [
    "len(df_compare)"
   ]
  },
  {
   "cell_type": "code",
   "execution_count": 100,
   "metadata": {},
   "outputs": [
    {
     "data": {
      "text/html": [
       "<div>\n",
       "<style scoped>\n",
       "    .dataframe tbody tr th:only-of-type {\n",
       "        vertical-align: middle;\n",
       "    }\n",
       "\n",
       "    .dataframe tbody tr th {\n",
       "        vertical-align: top;\n",
       "    }\n",
       "\n",
       "    .dataframe thead th {\n",
       "        text-align: right;\n",
       "    }\n",
       "</style>\n",
       "<table border=\"1\" class=\"dataframe\">\n",
       "  <thead>\n",
       "    <tr style=\"text-align: right;\">\n",
       "      <th></th>\n",
       "      <th>GEOid2</th>\n",
       "      <th>hh16</th>\n",
       "      <th>moe_hh16</th>\n",
       "      <th>per_col00</th>\n",
       "      <th>per_nonwhite00</th>\n",
       "      <th>per_rent00</th>\n",
       "      <th>vli2000</th>\n",
       "      <th>li2000</th>\n",
       "      <th>mi2000</th>\n",
       "      <th>hmi2000</th>\n",
       "      <th>...</th>\n",
       "      <th>moe_professionals</th>\n",
       "      <th>doctorate</th>\n",
       "      <th>moe_doctorates</th>\n",
       "      <th>per_col_16</th>\n",
       "      <th>pop90</th>\n",
       "      <th>per_col90</th>\n",
       "      <th>moe_hu16</th>\n",
       "      <th>hinc16</th>\n",
       "      <th>moe_hinc16</th>\n",
       "      <th>popgrowth</th>\n",
       "    </tr>\n",
       "  </thead>\n",
       "  <tbody>\n",
       "    <tr>\n",
       "      <th>0</th>\n",
       "      <td>9001010101</td>\n",
       "      <td>1348.0</td>\n",
       "      <td>106.0</td>\n",
       "      <td>0.633120</td>\n",
       "      <td>0.066080</td>\n",
       "      <td>0.128119</td>\n",
       "      <td>0.097024</td>\n",
       "      <td>0.082058</td>\n",
       "      <td>5.861734e-02</td>\n",
       "      <td>0.036841</td>\n",
       "      <td>...</td>\n",
       "      <td>104.0</td>\n",
       "      <td>36.0</td>\n",
       "      <td>30.0</td>\n",
       "      <td>0.619597</td>\n",
       "      <td>4277.000000</td>\n",
       "      <td>0.516292</td>\n",
       "      <td>84.0</td>\n",
       "      <td>150655.0</td>\n",
       "      <td>21659.0</td>\n",
       "      <td>-529.000000</td>\n",
       "    </tr>\n",
       "    <tr>\n",
       "      <th>1</th>\n",
       "      <td>9001010102</td>\n",
       "      <td>1293.0</td>\n",
       "      <td>100.0</td>\n",
       "      <td>0.748477</td>\n",
       "      <td>0.098972</td>\n",
       "      <td>0.108108</td>\n",
       "      <td>0.097878</td>\n",
       "      <td>0.055028</td>\n",
       "      <td>5.778028e-02</td>\n",
       "      <td>0.040756</td>\n",
       "      <td>...</td>\n",
       "      <td>120.0</td>\n",
       "      <td>69.0</td>\n",
       "      <td>49.0</td>\n",
       "      <td>0.784978</td>\n",
       "      <td>4273.694824</td>\n",
       "      <td>0.619490</td>\n",
       "      <td>71.0</td>\n",
       "      <td>250000.0</td>\n",
       "      <td>NaN</td>\n",
       "      <td>-302.000000</td>\n",
       "    </tr>\n",
       "    <tr>\n",
       "      <th>2</th>\n",
       "      <td>9001010201</td>\n",
       "      <td>991.0</td>\n",
       "      <td>75.0</td>\n",
       "      <td>0.704225</td>\n",
       "      <td>0.088501</td>\n",
       "      <td>0.137864</td>\n",
       "      <td>0.055506</td>\n",
       "      <td>0.036763</td>\n",
       "      <td>2.729502e-02</td>\n",
       "      <td>0.033678</td>\n",
       "      <td>...</td>\n",
       "      <td>62.0</td>\n",
       "      <td>98.0</td>\n",
       "      <td>63.0</td>\n",
       "      <td>0.761389</td>\n",
       "      <td>3156.218236</td>\n",
       "      <td>0.602177</td>\n",
       "      <td>53.0</td>\n",
       "      <td>212448.0</td>\n",
       "      <td>58671.0</td>\n",
       "      <td>-158.000000</td>\n",
       "    </tr>\n",
       "    <tr>\n",
       "      <th>3</th>\n",
       "      <td>9001010202</td>\n",
       "      <td>1856.0</td>\n",
       "      <td>99.0</td>\n",
       "      <td>0.621305</td>\n",
       "      <td>0.130701</td>\n",
       "      <td>0.213789</td>\n",
       "      <td>0.127129</td>\n",
       "      <td>0.112302</td>\n",
       "      <td>7.260491e-02</td>\n",
       "      <td>0.062817</td>\n",
       "      <td>...</td>\n",
       "      <td>76.0</td>\n",
       "      <td>55.0</td>\n",
       "      <td>30.0</td>\n",
       "      <td>0.662879</td>\n",
       "      <td>4725.289978</td>\n",
       "      <td>0.597040</td>\n",
       "      <td>82.0</td>\n",
       "      <td>187875.0</td>\n",
       "      <td>31078.0</td>\n",
       "      <td>328.000000</td>\n",
       "    </tr>\n",
       "    <tr>\n",
       "      <th>4</th>\n",
       "      <td>9001010300</td>\n",
       "      <td>1435.0</td>\n",
       "      <td>111.0</td>\n",
       "      <td>0.716889</td>\n",
       "      <td>0.103641</td>\n",
       "      <td>0.273834</td>\n",
       "      <td>0.095201</td>\n",
       "      <td>0.074789</td>\n",
       "      <td>5.868396e-02</td>\n",
       "      <td>0.052763</td>\n",
       "      <td>...</td>\n",
       "      <td>100.0</td>\n",
       "      <td>82.0</td>\n",
       "      <td>43.0</td>\n",
       "      <td>0.805446</td>\n",
       "      <td>4036.000000</td>\n",
       "      <td>0.647751</td>\n",
       "      <td>85.0</td>\n",
       "      <td>221250.0</td>\n",
       "      <td>44939.0</td>\n",
       "      <td>-71.000000</td>\n",
       "    </tr>\n",
       "    <tr>\n",
       "      <th>5</th>\n",
       "      <td>9001010400</td>\n",
       "      <td>2031.0</td>\n",
       "      <td>131.0</td>\n",
       "      <td>0.386971</td>\n",
       "      <td>0.108092</td>\n",
       "      <td>0.284145</td>\n",
       "      <td>0.137449</td>\n",
       "      <td>0.164956</td>\n",
       "      <td>1.029238e-01</td>\n",
       "      <td>0.084831</td>\n",
       "      <td>...</td>\n",
       "      <td>113.0</td>\n",
       "      <td>65.0</td>\n",
       "      <td>53.0</td>\n",
       "      <td>0.560970</td>\n",
       "      <td>5008.000000</td>\n",
       "      <td>0.306302</td>\n",
       "      <td>78.0</td>\n",
       "      <td>107965.0</td>\n",
       "      <td>5325.0</td>\n",
       "      <td>731.000000</td>\n",
       "    </tr>\n",
       "    <tr>\n",
       "      <th>6</th>\n",
       "      <td>9001010500</td>\n",
       "      <td>2420.0</td>\n",
       "      <td>138.0</td>\n",
       "      <td>0.367483</td>\n",
       "      <td>0.305088</td>\n",
       "      <td>0.713533</td>\n",
       "      <td>0.287293</td>\n",
       "      <td>0.197065</td>\n",
       "      <td>9.789991e-02</td>\n",
       "      <td>0.060034</td>\n",
       "      <td>...</td>\n",
       "      <td>113.0</td>\n",
       "      <td>66.0</td>\n",
       "      <td>64.0</td>\n",
       "      <td>0.441980</td>\n",
       "      <td>5036.366920</td>\n",
       "      <td>0.326247</td>\n",
       "      <td>91.0</td>\n",
       "      <td>65593.0</td>\n",
       "      <td>18929.0</td>\n",
       "      <td>409.000000</td>\n",
       "    </tr>\n",
       "    <tr>\n",
       "      <th>7</th>\n",
       "      <td>9001010600</td>\n",
       "      <td>1014.0</td>\n",
       "      <td>68.0</td>\n",
       "      <td>0.641026</td>\n",
       "      <td>0.188206</td>\n",
       "      <td>0.634083</td>\n",
       "      <td>0.173468</td>\n",
       "      <td>0.143679</td>\n",
       "      <td>1.008366e-01</td>\n",
       "      <td>0.097035</td>\n",
       "      <td>...</td>\n",
       "      <td>42.0</td>\n",
       "      <td>43.0</td>\n",
       "      <td>43.0</td>\n",
       "      <td>0.692042</td>\n",
       "      <td>2278.000000</td>\n",
       "      <td>0.453947</td>\n",
       "      <td>46.0</td>\n",
       "      <td>93810.0</td>\n",
       "      <td>18659.0</td>\n",
       "      <td>-335.000000</td>\n",
       "    </tr>\n",
       "    <tr>\n",
       "      <th>8</th>\n",
       "      <td>9001010700</td>\n",
       "      <td>1696.0</td>\n",
       "      <td>99.0</td>\n",
       "      <td>0.454577</td>\n",
       "      <td>0.231968</td>\n",
       "      <td>0.448023</td>\n",
       "      <td>0.369338</td>\n",
       "      <td>0.132503</td>\n",
       "      <td>5.256808e-02</td>\n",
       "      <td>0.057491</td>\n",
       "      <td>...</td>\n",
       "      <td>90.0</td>\n",
       "      <td>30.0</td>\n",
       "      <td>22.0</td>\n",
       "      <td>0.532816</td>\n",
       "      <td>3506.000000</td>\n",
       "      <td>0.403734</td>\n",
       "      <td>59.0</td>\n",
       "      <td>73831.0</td>\n",
       "      <td>8917.0</td>\n",
       "      <td>-55.000000</td>\n",
       "    </tr>\n",
       "    <tr>\n",
       "      <th>9</th>\n",
       "      <td>9001010800</td>\n",
       "      <td>1257.0</td>\n",
       "      <td>83.0</td>\n",
       "      <td>0.575166</td>\n",
       "      <td>0.132900</td>\n",
       "      <td>0.294246</td>\n",
       "      <td>0.158756</td>\n",
       "      <td>0.140192</td>\n",
       "      <td>8.193216e-02</td>\n",
       "      <td>0.072376</td>\n",
       "      <td>...</td>\n",
       "      <td>38.0</td>\n",
       "      <td>91.0</td>\n",
       "      <td>52.0</td>\n",
       "      <td>0.734987</td>\n",
       "      <td>3662.373779</td>\n",
       "      <td>0.374056</td>\n",
       "      <td>60.0</td>\n",
       "      <td>128494.0</td>\n",
       "      <td>17201.0</td>\n",
       "      <td>-10.000000</td>\n",
       "    </tr>\n",
       "    <tr>\n",
       "      <th>10</th>\n",
       "      <td>9001010900</td>\n",
       "      <td>1821.0</td>\n",
       "      <td>67.0</td>\n",
       "      <td>0.529686</td>\n",
       "      <td>0.181421</td>\n",
       "      <td>0.235985</td>\n",
       "      <td>0.167765</td>\n",
       "      <td>0.130432</td>\n",
       "      <td>8.039996e-02</td>\n",
       "      <td>0.061698</td>\n",
       "      <td>...</td>\n",
       "      <td>54.0</td>\n",
       "      <td>169.0</td>\n",
       "      <td>77.0</td>\n",
       "      <td>0.623250</td>\n",
       "      <td>4798.250000</td>\n",
       "      <td>0.412742</td>\n",
       "      <td>62.0</td>\n",
       "      <td>132153.0</td>\n",
       "      <td>14392.0</td>\n",
       "      <td>535.000000</td>\n",
       "    </tr>\n",
       "    <tr>\n",
       "      <th>11</th>\n",
       "      <td>9001011000</td>\n",
       "      <td>1700.0</td>\n",
       "      <td>75.0</td>\n",
       "      <td>0.758813</td>\n",
       "      <td>0.091192</td>\n",
       "      <td>0.142779</td>\n",
       "      <td>0.092284</td>\n",
       "      <td>0.047745</td>\n",
       "      <td>6.440897e-02</td>\n",
       "      <td>0.068600</td>\n",
       "      <td>...</td>\n",
       "      <td>104.0</td>\n",
       "      <td>140.0</td>\n",
       "      <td>67.0</td>\n",
       "      <td>0.810595</td>\n",
       "      <td>4484.829590</td>\n",
       "      <td>0.641820</td>\n",
       "      <td>67.0</td>\n",
       "      <td>248171.0</td>\n",
       "      <td>33760.0</td>\n",
       "      <td>353.000000</td>\n",
       "    </tr>\n",
       "    <tr>\n",
       "      <th>12</th>\n",
       "      <td>9001011100</td>\n",
       "      <td>1395.0</td>\n",
       "      <td>81.0</td>\n",
       "      <td>0.783356</td>\n",
       "      <td>0.089807</td>\n",
       "      <td>0.124755</td>\n",
       "      <td>0.106314</td>\n",
       "      <td>0.064512</td>\n",
       "      <td>4.147375e-02</td>\n",
       "      <td>0.037628</td>\n",
       "      <td>...</td>\n",
       "      <td>89.0</td>\n",
       "      <td>77.0</td>\n",
       "      <td>44.0</td>\n",
       "      <td>0.818780</td>\n",
       "      <td>4537.000000</td>\n",
       "      <td>0.693653</td>\n",
       "      <td>42.0</td>\n",
       "      <td>250000.0</td>\n",
       "      <td>NaN</td>\n",
       "      <td>-175.000000</td>\n",
       "    </tr>\n",
       "    <tr>\n",
       "      <th>13</th>\n",
       "      <td>9001011200</td>\n",
       "      <td>608.0</td>\n",
       "      <td>59.0</td>\n",
       "      <td>0.649834</td>\n",
       "      <td>0.079196</td>\n",
       "      <td>0.244310</td>\n",
       "      <td>0.094337</td>\n",
       "      <td>0.050798</td>\n",
       "      <td>1.172027e-02</td>\n",
       "      <td>0.037556</td>\n",
       "      <td>...</td>\n",
       "      <td>33.0</td>\n",
       "      <td>37.0</td>\n",
       "      <td>26.0</td>\n",
       "      <td>0.735714</td>\n",
       "      <td>1762.546600</td>\n",
       "      <td>0.617725</td>\n",
       "      <td>36.0</td>\n",
       "      <td>220625.0</td>\n",
       "      <td>88987.0</td>\n",
       "      <td>-59.000000</td>\n",
       "    </tr>\n",
       "    <tr>\n",
       "      <th>14</th>\n",
       "      <td>9001011300</td>\n",
       "      <td>1248.0</td>\n",
       "      <td>70.0</td>\n",
       "      <td>0.411017</td>\n",
       "      <td>0.272297</td>\n",
       "      <td>0.516539</td>\n",
       "      <td>0.239309</td>\n",
       "      <td>0.210017</td>\n",
       "      <td>7.280484e-02</td>\n",
       "      <td>0.084888</td>\n",
       "      <td>...</td>\n",
       "      <td>51.0</td>\n",
       "      <td>8.0</td>\n",
       "      <td>11.0</td>\n",
       "      <td>0.426805</td>\n",
       "      <td>2854.086426</td>\n",
       "      <td>0.231986</td>\n",
       "      <td>62.0</td>\n",
       "      <td>85100.0</td>\n",
       "      <td>9244.0</td>\n",
       "      <td>655.000000</td>\n",
       "    </tr>\n",
       "    <tr>\n",
       "      <th>15</th>\n",
       "      <td>9001020100</td>\n",
       "      <td>2276.0</td>\n",
       "      <td>174.0</td>\n",
       "      <td>0.298220</td>\n",
       "      <td>0.627212</td>\n",
       "      <td>0.907773</td>\n",
       "      <td>0.551215</td>\n",
       "      <td>0.166446</td>\n",
       "      <td>7.372296e-02</td>\n",
       "      <td>0.055104</td>\n",
       "      <td>...</td>\n",
       "      <td>59.0</td>\n",
       "      <td>113.0</td>\n",
       "      <td>82.0</td>\n",
       "      <td>0.468776</td>\n",
       "      <td>3112.111725</td>\n",
       "      <td>0.133884</td>\n",
       "      <td>95.0</td>\n",
       "      <td>54038.0</td>\n",
       "      <td>16554.0</td>\n",
       "      <td>405.170746</td>\n",
       "    </tr>\n",
       "    <tr>\n",
       "      <th>16</th>\n",
       "      <td>9001020200</td>\n",
       "      <td>1203.0</td>\n",
       "      <td>82.0</td>\n",
       "      <td>0.688056</td>\n",
       "      <td>0.136474</td>\n",
       "      <td>0.029134</td>\n",
       "      <td>0.148549</td>\n",
       "      <td>0.101013</td>\n",
       "      <td>4.839678e-02</td>\n",
       "      <td>0.017881</td>\n",
       "      <td>...</td>\n",
       "      <td>96.0</td>\n",
       "      <td>99.0</td>\n",
       "      <td>52.0</td>\n",
       "      <td>0.748120</td>\n",
       "      <td>3702.305473</td>\n",
       "      <td>0.667596</td>\n",
       "      <td>43.0</td>\n",
       "      <td>226875.0</td>\n",
       "      <td>40271.0</td>\n",
       "      <td>-250.000000</td>\n",
       "    </tr>\n",
       "    <tr>\n",
       "      <th>17</th>\n",
       "      <td>9001020300</td>\n",
       "      <td>2433.0</td>\n",
       "      <td>75.0</td>\n",
       "      <td>0.702332</td>\n",
       "      <td>0.115189</td>\n",
       "      <td>0.044636</td>\n",
       "      <td>0.106542</td>\n",
       "      <td>0.083845</td>\n",
       "      <td>6.237808e-02</td>\n",
       "      <td>0.051262</td>\n",
       "      <td>...</td>\n",
       "      <td>133.0</td>\n",
       "      <td>263.0</td>\n",
       "      <td>125.0</td>\n",
       "      <td>0.776485</td>\n",
       "      <td>7090.000000</td>\n",
       "      <td>0.635642</td>\n",
       "      <td>53.0</td>\n",
       "      <td>207938.0</td>\n",
       "      <td>32524.0</td>\n",
       "      <td>-78.000000</td>\n",
       "    </tr>\n",
       "    <tr>\n",
       "      <th>18</th>\n",
       "      <td>9001020400</td>\n",
       "      <td>1225.0</td>\n",
       "      <td>55.0</td>\n",
       "      <td>0.655317</td>\n",
       "      <td>0.087515</td>\n",
       "      <td>0.031605</td>\n",
       "      <td>0.172491</td>\n",
       "      <td>0.085884</td>\n",
       "      <td>7.365927e-02</td>\n",
       "      <td>0.059815</td>\n",
       "      <td>...</td>\n",
       "      <td>77.0</td>\n",
       "      <td>47.0</td>\n",
       "      <td>34.0</td>\n",
       "      <td>0.614996</td>\n",
       "      <td>3437.000000</td>\n",
       "      <td>0.561044</td>\n",
       "      <td>27.0</td>\n",
       "      <td>177361.0</td>\n",
       "      <td>26924.0</td>\n",
       "      <td>589.000000</td>\n",
       "    </tr>\n",
       "    <tr>\n",
       "      <th>19</th>\n",
       "      <td>9001020500</td>\n",
       "      <td>1715.0</td>\n",
       "      <td>69.0</td>\n",
       "      <td>0.560989</td>\n",
       "      <td>0.112982</td>\n",
       "      <td>0.100000</td>\n",
       "      <td>0.111704</td>\n",
       "      <td>0.090183</td>\n",
       "      <td>7.890628e-02</td>\n",
       "      <td>0.065822</td>\n",
       "      <td>...</td>\n",
       "      <td>78.0</td>\n",
       "      <td>89.0</td>\n",
       "      <td>65.0</td>\n",
       "      <td>0.640223</td>\n",
       "      <td>4546.117957</td>\n",
       "      <td>0.530539</td>\n",
       "      <td>41.0</td>\n",
       "      <td>155208.0</td>\n",
       "      <td>28379.0</td>\n",
       "      <td>-135.000000</td>\n",
       "    </tr>\n",
       "    <tr>\n",
       "      <th>20</th>\n",
       "      <td>9001020600</td>\n",
       "      <td>1691.0</td>\n",
       "      <td>77.0</td>\n",
       "      <td>0.404769</td>\n",
       "      <td>0.165809</td>\n",
       "      <td>0.097722</td>\n",
       "      <td>0.196649</td>\n",
       "      <td>0.090011</td>\n",
       "      <td>7.950932e-02</td>\n",
       "      <td>0.112833</td>\n",
       "      <td>...</td>\n",
       "      <td>64.0</td>\n",
       "      <td>57.0</td>\n",
       "      <td>39.0</td>\n",
       "      <td>0.486155</td>\n",
       "      <td>4685.000000</td>\n",
       "      <td>0.316441</td>\n",
       "      <td>45.0</td>\n",
       "      <td>129360.0</td>\n",
       "      <td>11097.0</td>\n",
       "      <td>791.000000</td>\n",
       "    </tr>\n",
       "    <tr>\n",
       "      <th>21</th>\n",
       "      <td>9001020700</td>\n",
       "      <td>1597.0</td>\n",
       "      <td>60.0</td>\n",
       "      <td>0.432836</td>\n",
       "      <td>0.125184</td>\n",
       "      <td>0.138121</td>\n",
       "      <td>0.214971</td>\n",
       "      <td>0.099719</td>\n",
       "      <td>9.330595e-02</td>\n",
       "      <td>0.099693</td>\n",
       "      <td>...</td>\n",
       "      <td>78.0</td>\n",
       "      <td>56.0</td>\n",
       "      <td>46.0</td>\n",
       "      <td>0.548955</td>\n",
       "      <td>3805.428558</td>\n",
       "      <td>0.398681</td>\n",
       "      <td>38.0</td>\n",
       "      <td>136094.0</td>\n",
       "      <td>24287.0</td>\n",
       "      <td>-201.312424</td>\n",
       "    </tr>\n",
       "    <tr>\n",
       "      <th>22</th>\n",
       "      <td>9001020800</td>\n",
       "      <td>963.0</td>\n",
       "      <td>34.0</td>\n",
       "      <td>0.434267</td>\n",
       "      <td>0.081625</td>\n",
       "      <td>0.033473</td>\n",
       "      <td>0.130064</td>\n",
       "      <td>0.137648</td>\n",
       "      <td>4.987267e-02</td>\n",
       "      <td>0.099999</td>\n",
       "      <td>...</td>\n",
       "      <td>49.0</td>\n",
       "      <td>69.0</td>\n",
       "      <td>32.0</td>\n",
       "      <td>0.641103</td>\n",
       "      <td>2618.000000</td>\n",
       "      <td>0.374869</td>\n",
       "      <td>26.0</td>\n",
       "      <td>134934.0</td>\n",
       "      <td>15960.0</td>\n",
       "      <td>148.000000</td>\n",
       "    </tr>\n",
       "    <tr>\n",
       "      <th>23</th>\n",
       "      <td>9001020900</td>\n",
       "      <td>2103.0</td>\n",
       "      <td>73.0</td>\n",
       "      <td>0.428743</td>\n",
       "      <td>0.211177</td>\n",
       "      <td>0.371636</td>\n",
       "      <td>0.247000</td>\n",
       "      <td>0.175742</td>\n",
       "      <td>1.062529e-01</td>\n",
       "      <td>0.103783</td>\n",
       "      <td>...</td>\n",
       "      <td>98.0</td>\n",
       "      <td>38.0</td>\n",
       "      <td>60.0</td>\n",
       "      <td>0.428285</td>\n",
       "      <td>4389.905621</td>\n",
       "      <td>0.362800</td>\n",
       "      <td>49.0</td>\n",
       "      <td>72746.0</td>\n",
       "      <td>12773.0</td>\n",
       "      <td>780.000000</td>\n",
       "    </tr>\n",
       "    <tr>\n",
       "      <th>24</th>\n",
       "      <td>9001021000</td>\n",
       "      <td>1216.0</td>\n",
       "      <td>73.0</td>\n",
       "      <td>0.388982</td>\n",
       "      <td>0.199408</td>\n",
       "      <td>0.193836</td>\n",
       "      <td>0.263976</td>\n",
       "      <td>0.111757</td>\n",
       "      <td>1.011395e-01</td>\n",
       "      <td>0.074843</td>\n",
       "      <td>...</td>\n",
       "      <td>36.0</td>\n",
       "      <td>42.0</td>\n",
       "      <td>39.0</td>\n",
       "      <td>0.447379</td>\n",
       "      <td>3081.879013</td>\n",
       "      <td>0.275076</td>\n",
       "      <td>28.0</td>\n",
       "      <td>91667.0</td>\n",
       "      <td>15078.0</td>\n",
       "      <td>-88.000000</td>\n",
       "    </tr>\n",
       "    <tr>\n",
       "      <th>25</th>\n",
       "      <td>9001021100</td>\n",
       "      <td>2344.0</td>\n",
       "      <td>145.0</td>\n",
       "      <td>0.378007</td>\n",
       "      <td>0.256526</td>\n",
       "      <td>0.435908</td>\n",
       "      <td>0.249932</td>\n",
       "      <td>0.153613</td>\n",
       "      <td>1.159880e-01</td>\n",
       "      <td>0.106489</td>\n",
       "      <td>...</td>\n",
       "      <td>75.0</td>\n",
       "      <td>26.0</td>\n",
       "      <td>30.0</td>\n",
       "      <td>0.490220</td>\n",
       "      <td>5005.231641</td>\n",
       "      <td>0.420875</td>\n",
       "      <td>64.0</td>\n",
       "      <td>75723.0</td>\n",
       "      <td>15239.0</td>\n",
       "      <td>252.000000</td>\n",
       "    </tr>\n",
       "    <tr>\n",
       "      <th>26</th>\n",
       "      <td>9001021200</td>\n",
       "      <td>1673.0</td>\n",
       "      <td>72.0</td>\n",
       "      <td>0.510768</td>\n",
       "      <td>0.163103</td>\n",
       "      <td>0.122725</td>\n",
       "      <td>0.223529</td>\n",
       "      <td>0.123722</td>\n",
       "      <td>7.810491e-02</td>\n",
       "      <td>0.084827</td>\n",
       "      <td>...</td>\n",
       "      <td>79.0</td>\n",
       "      <td>93.0</td>\n",
       "      <td>54.0</td>\n",
       "      <td>0.591296</td>\n",
       "      <td>3842.000000</td>\n",
       "      <td>0.433665</td>\n",
       "      <td>39.0</td>\n",
       "      <td>115197.0</td>\n",
       "      <td>11205.0</td>\n",
       "      <td>283.000000</td>\n",
       "    </tr>\n",
       "    <tr>\n",
       "      <th>27</th>\n",
       "      <td>9001021300</td>\n",
       "      <td>1582.0</td>\n",
       "      <td>88.0</td>\n",
       "      <td>0.353846</td>\n",
       "      <td>0.402876</td>\n",
       "      <td>0.311878</td>\n",
       "      <td>0.270829</td>\n",
       "      <td>0.189521</td>\n",
       "      <td>1.044233e-01</td>\n",
       "      <td>0.092157</td>\n",
       "      <td>...</td>\n",
       "      <td>90.0</td>\n",
       "      <td>45.0</td>\n",
       "      <td>36.0</td>\n",
       "      <td>0.433799</td>\n",
       "      <td>3705.000000</td>\n",
       "      <td>0.307390</td>\n",
       "      <td>54.0</td>\n",
       "      <td>99948.0</td>\n",
       "      <td>8883.0</td>\n",
       "      <td>853.000000</td>\n",
       "    </tr>\n",
       "    <tr>\n",
       "      <th>28</th>\n",
       "      <td>9001021400</td>\n",
       "      <td>2403.0</td>\n",
       "      <td>155.0</td>\n",
       "      <td>0.159569</td>\n",
       "      <td>0.720623</td>\n",
       "      <td>0.732478</td>\n",
       "      <td>0.362675</td>\n",
       "      <td>0.252767</td>\n",
       "      <td>1.219001e-01</td>\n",
       "      <td>0.098563</td>\n",
       "      <td>...</td>\n",
       "      <td>97.0</td>\n",
       "      <td>48.0</td>\n",
       "      <td>55.0</td>\n",
       "      <td>0.243071</td>\n",
       "      <td>5668.749928</td>\n",
       "      <td>0.133011</td>\n",
       "      <td>119.0</td>\n",
       "      <td>55101.0</td>\n",
       "      <td>7886.0</td>\n",
       "      <td>599.000000</td>\n",
       "    </tr>\n",
       "    <tr>\n",
       "      <th>29</th>\n",
       "      <td>9001021500</td>\n",
       "      <td>1875.0</td>\n",
       "      <td>123.0</td>\n",
       "      <td>0.068957</td>\n",
       "      <td>0.885372</td>\n",
       "      <td>0.761641</td>\n",
       "      <td>0.440358</td>\n",
       "      <td>0.266567</td>\n",
       "      <td>9.274739e-02</td>\n",
       "      <td>0.055670</td>\n",
       "      <td>...</td>\n",
       "      <td>14.0</td>\n",
       "      <td>25.0</td>\n",
       "      <td>27.0</td>\n",
       "      <td>0.127161</td>\n",
       "      <td>5717.000000</td>\n",
       "      <td>0.091857</td>\n",
       "      <td>78.0</td>\n",
       "      <td>42423.0</td>\n",
       "      <td>8485.0</td>\n",
       "      <td>-1013.000000</td>\n",
       "    </tr>\n",
       "    <tr>\n",
       "      <th>...</th>\n",
       "      <td>...</td>\n",
       "      <td>...</td>\n",
       "      <td>...</td>\n",
       "      <td>...</td>\n",
       "      <td>...</td>\n",
       "      <td>...</td>\n",
       "      <td>...</td>\n",
       "      <td>...</td>\n",
       "      <td>...</td>\n",
       "      <td>...</td>\n",
       "      <td>...</td>\n",
       "      <td>...</td>\n",
       "      <td>...</td>\n",
       "      <td>...</td>\n",
       "      <td>...</td>\n",
       "      <td>...</td>\n",
       "      <td>...</td>\n",
       "      <td>...</td>\n",
       "      <td>...</td>\n",
       "      <td>...</td>\n",
       "      <td>...</td>\n",
       "    </tr>\n",
       "    <tr>\n",
       "      <th>5276</th>\n",
       "      <td>36119014100</td>\n",
       "      <td>2402.0</td>\n",
       "      <td>156.0</td>\n",
       "      <td>0.168866</td>\n",
       "      <td>0.471770</td>\n",
       "      <td>0.579022</td>\n",
       "      <td>0.403113</td>\n",
       "      <td>0.183690</td>\n",
       "      <td>1.060526e-01</td>\n",
       "      <td>0.055222</td>\n",
       "      <td>...</td>\n",
       "      <td>33.0</td>\n",
       "      <td>52.0</td>\n",
       "      <td>45.0</td>\n",
       "      <td>0.296474</td>\n",
       "      <td>4922.957592</td>\n",
       "      <td>0.196872</td>\n",
       "      <td>111.0</td>\n",
       "      <td>46884.0</td>\n",
       "      <td>3687.0</td>\n",
       "      <td>69.000000</td>\n",
       "    </tr>\n",
       "    <tr>\n",
       "      <th>5277</th>\n",
       "      <td>36119014200</td>\n",
       "      <td>1132.0</td>\n",
       "      <td>86.0</td>\n",
       "      <td>0.221004</td>\n",
       "      <td>0.540813</td>\n",
       "      <td>0.530292</td>\n",
       "      <td>0.355080</td>\n",
       "      <td>0.166147</td>\n",
       "      <td>1.245465e-01</td>\n",
       "      <td>0.125139</td>\n",
       "      <td>...</td>\n",
       "      <td>41.0</td>\n",
       "      <td>11.0</td>\n",
       "      <td>18.0</td>\n",
       "      <td>0.251836</td>\n",
       "      <td>3197.941328</td>\n",
       "      <td>0.217970</td>\n",
       "      <td>63.0</td>\n",
       "      <td>53854.0</td>\n",
       "      <td>13081.0</td>\n",
       "      <td>15.566404</td>\n",
       "    </tr>\n",
       "    <tr>\n",
       "      <th>5278</th>\n",
       "      <td>36119014300</td>\n",
       "      <td>1420.0</td>\n",
       "      <td>111.0</td>\n",
       "      <td>0.112580</td>\n",
       "      <td>0.770596</td>\n",
       "      <td>0.861111</td>\n",
       "      <td>0.609142</td>\n",
       "      <td>0.181693</td>\n",
       "      <td>5.018038e-02</td>\n",
       "      <td>0.057720</td>\n",
       "      <td>...</td>\n",
       "      <td>11.0</td>\n",
       "      <td>0.0</td>\n",
       "      <td>11.0</td>\n",
       "      <td>0.104022</td>\n",
       "      <td>3275.908789</td>\n",
       "      <td>0.079444</td>\n",
       "      <td>97.0</td>\n",
       "      <td>35813.0</td>\n",
       "      <td>6339.0</td>\n",
       "      <td>510.000000</td>\n",
       "    </tr>\n",
       "    <tr>\n",
       "      <th>5279</th>\n",
       "      <td>36119014400</td>\n",
       "      <td>2198.0</td>\n",
       "      <td>125.0</td>\n",
       "      <td>0.256224</td>\n",
       "      <td>0.541746</td>\n",
       "      <td>0.436985</td>\n",
       "      <td>0.203494</td>\n",
       "      <td>0.204019</td>\n",
       "      <td>1.337532e-01</td>\n",
       "      <td>0.105957</td>\n",
       "      <td>...</td>\n",
       "      <td>59.0</td>\n",
       "      <td>104.0</td>\n",
       "      <td>73.0</td>\n",
       "      <td>0.256573</td>\n",
       "      <td>4754.735640</td>\n",
       "      <td>0.297913</td>\n",
       "      <td>94.0</td>\n",
       "      <td>73354.0</td>\n",
       "      <td>18778.0</td>\n",
       "      <td>447.620300</td>\n",
       "    </tr>\n",
       "    <tr>\n",
       "      <th>5280</th>\n",
       "      <td>36119014500</td>\n",
       "      <td>2028.0</td>\n",
       "      <td>148.0</td>\n",
       "      <td>0.311291</td>\n",
       "      <td>0.301588</td>\n",
       "      <td>0.335465</td>\n",
       "      <td>0.185288</td>\n",
       "      <td>0.208009</td>\n",
       "      <td>1.419027e-01</td>\n",
       "      <td>0.123451</td>\n",
       "      <td>...</td>\n",
       "      <td>135.0</td>\n",
       "      <td>43.0</td>\n",
       "      <td>40.0</td>\n",
       "      <td>0.411920</td>\n",
       "      <td>3386.381163</td>\n",
       "      <td>0.292073</td>\n",
       "      <td>103.0</td>\n",
       "      <td>85755.0</td>\n",
       "      <td>6177.0</td>\n",
       "      <td>473.471344</td>\n",
       "    </tr>\n",
       "    <tr>\n",
       "      <th>5281</th>\n",
       "      <td>36119014604</td>\n",
       "      <td>1691.0</td>\n",
       "      <td>120.0</td>\n",
       "      <td>0.280558</td>\n",
       "      <td>0.094287</td>\n",
       "      <td>0.229557</td>\n",
       "      <td>0.262319</td>\n",
       "      <td>0.152630</td>\n",
       "      <td>9.209591e-02</td>\n",
       "      <td>0.092794</td>\n",
       "      <td>...</td>\n",
       "      <td>27.0</td>\n",
       "      <td>15.0</td>\n",
       "      <td>17.0</td>\n",
       "      <td>0.317707</td>\n",
       "      <td>4373.000000</td>\n",
       "      <td>0.213886</td>\n",
       "      <td>65.0</td>\n",
       "      <td>77854.0</td>\n",
       "      <td>6532.0</td>\n",
       "      <td>1051.000000</td>\n",
       "    </tr>\n",
       "    <tr>\n",
       "      <th>5282</th>\n",
       "      <td>36119014605</td>\n",
       "      <td>1635.0</td>\n",
       "      <td>100.0</td>\n",
       "      <td>0.340035</td>\n",
       "      <td>0.151079</td>\n",
       "      <td>0.642811</td>\n",
       "      <td>0.382445</td>\n",
       "      <td>0.189823</td>\n",
       "      <td>7.365066e-02</td>\n",
       "      <td>0.077112</td>\n",
       "      <td>...</td>\n",
       "      <td>34.0</td>\n",
       "      <td>69.0</td>\n",
       "      <td>57.0</td>\n",
       "      <td>0.506844</td>\n",
       "      <td>2961.159771</td>\n",
       "      <td>0.330541</td>\n",
       "      <td>53.0</td>\n",
       "      <td>61464.0</td>\n",
       "      <td>7419.0</td>\n",
       "      <td>53.209152</td>\n",
       "    </tr>\n",
       "    <tr>\n",
       "      <th>5283</th>\n",
       "      <td>36119014606</td>\n",
       "      <td>1980.0</td>\n",
       "      <td>112.0</td>\n",
       "      <td>0.673564</td>\n",
       "      <td>0.095088</td>\n",
       "      <td>0.067340</td>\n",
       "      <td>0.091683</td>\n",
       "      <td>0.117094</td>\n",
       "      <td>4.599217e-02</td>\n",
       "      <td>0.051995</td>\n",
       "      <td>...</td>\n",
       "      <td>126.0</td>\n",
       "      <td>196.0</td>\n",
       "      <td>85.0</td>\n",
       "      <td>0.733115</td>\n",
       "      <td>5398.227926</td>\n",
       "      <td>0.593127</td>\n",
       "      <td>83.0</td>\n",
       "      <td>170313.0</td>\n",
       "      <td>18244.0</td>\n",
       "      <td>308.313202</td>\n",
       "    </tr>\n",
       "    <tr>\n",
       "      <th>5284</th>\n",
       "      <td>36119014607</td>\n",
       "      <td>1375.0</td>\n",
       "      <td>95.0</td>\n",
       "      <td>0.434617</td>\n",
       "      <td>0.198987</td>\n",
       "      <td>0.076938</td>\n",
       "      <td>0.096374</td>\n",
       "      <td>0.093541</td>\n",
       "      <td>1.005330e-01</td>\n",
       "      <td>0.102815</td>\n",
       "      <td>...</td>\n",
       "      <td>66.0</td>\n",
       "      <td>59.0</td>\n",
       "      <td>34.0</td>\n",
       "      <td>0.607447</td>\n",
       "      <td>3171.505721</td>\n",
       "      <td>0.328165</td>\n",
       "      <td>40.0</td>\n",
       "      <td>138679.0</td>\n",
       "      <td>13759.0</td>\n",
       "      <td>178.560120</td>\n",
       "    </tr>\n",
       "    <tr>\n",
       "      <th>5285</th>\n",
       "      <td>36119014701</td>\n",
       "      <td>1686.0</td>\n",
       "      <td>89.0</td>\n",
       "      <td>0.278430</td>\n",
       "      <td>0.233875</td>\n",
       "      <td>0.098053</td>\n",
       "      <td>0.139661</td>\n",
       "      <td>0.113851</td>\n",
       "      <td>1.398381e-01</td>\n",
       "      <td>0.119513</td>\n",
       "      <td>...</td>\n",
       "      <td>42.0</td>\n",
       "      <td>58.0</td>\n",
       "      <td>37.0</td>\n",
       "      <td>0.310896</td>\n",
       "      <td>4429.661749</td>\n",
       "      <td>0.256275</td>\n",
       "      <td>56.0</td>\n",
       "      <td>82870.0</td>\n",
       "      <td>17802.0</td>\n",
       "      <td>332.391602</td>\n",
       "    </tr>\n",
       "    <tr>\n",
       "      <th>5286</th>\n",
       "      <td>36119014703</td>\n",
       "      <td>2144.0</td>\n",
       "      <td>84.0</td>\n",
       "      <td>0.306727</td>\n",
       "      <td>0.184002</td>\n",
       "      <td>0.131723</td>\n",
       "      <td>0.134667</td>\n",
       "      <td>0.124087</td>\n",
       "      <td>1.330442e-01</td>\n",
       "      <td>0.120042</td>\n",
       "      <td>...</td>\n",
       "      <td>68.0</td>\n",
       "      <td>36.0</td>\n",
       "      <td>35.0</td>\n",
       "      <td>0.415634</td>\n",
       "      <td>5445.680664</td>\n",
       "      <td>0.315360</td>\n",
       "      <td>71.0</td>\n",
       "      <td>99485.0</td>\n",
       "      <td>10972.0</td>\n",
       "      <td>882.317383</td>\n",
       "    </tr>\n",
       "    <tr>\n",
       "      <th>5287</th>\n",
       "      <td>36119014704</td>\n",
       "      <td>841.0</td>\n",
       "      <td>53.0</td>\n",
       "      <td>0.323549</td>\n",
       "      <td>0.276149</td>\n",
       "      <td>0.304416</td>\n",
       "      <td>0.219855</td>\n",
       "      <td>0.219118</td>\n",
       "      <td>8.556294e-02</td>\n",
       "      <td>0.091066</td>\n",
       "      <td>...</td>\n",
       "      <td>25.0</td>\n",
       "      <td>9.0</td>\n",
       "      <td>16.0</td>\n",
       "      <td>0.330155</td>\n",
       "      <td>1838.000000</td>\n",
       "      <td>0.271089</td>\n",
       "      <td>39.0</td>\n",
       "      <td>82649.0</td>\n",
       "      <td>19348.0</td>\n",
       "      <td>676.000000</td>\n",
       "    </tr>\n",
       "    <tr>\n",
       "      <th>5288</th>\n",
       "      <td>36119014804</td>\n",
       "      <td>2924.0</td>\n",
       "      <td>155.0</td>\n",
       "      <td>0.374896</td>\n",
       "      <td>0.189321</td>\n",
       "      <td>0.188662</td>\n",
       "      <td>0.143301</td>\n",
       "      <td>0.160188</td>\n",
       "      <td>9.298861e-02</td>\n",
       "      <td>0.074648</td>\n",
       "      <td>...</td>\n",
       "      <td>63.0</td>\n",
       "      <td>65.0</td>\n",
       "      <td>48.0</td>\n",
       "      <td>0.401439</td>\n",
       "      <td>6558.319375</td>\n",
       "      <td>0.322967</td>\n",
       "      <td>121.0</td>\n",
       "      <td>88519.0</td>\n",
       "      <td>16583.0</td>\n",
       "      <td>221.682556</td>\n",
       "    </tr>\n",
       "    <tr>\n",
       "      <th>5289</th>\n",
       "      <td>36119014805</td>\n",
       "      <td>1430.0</td>\n",
       "      <td>88.0</td>\n",
       "      <td>0.542723</td>\n",
       "      <td>0.101767</td>\n",
       "      <td>0.125585</td>\n",
       "      <td>0.133746</td>\n",
       "      <td>0.107759</td>\n",
       "      <td>6.173339e-02</td>\n",
       "      <td>0.063803</td>\n",
       "      <td>...</td>\n",
       "      <td>72.0</td>\n",
       "      <td>136.0</td>\n",
       "      <td>66.0</td>\n",
       "      <td>0.538022</td>\n",
       "      <td>3564.111816</td>\n",
       "      <td>0.475285</td>\n",
       "      <td>47.0</td>\n",
       "      <td>137143.0</td>\n",
       "      <td>20655.0</td>\n",
       "      <td>319.966064</td>\n",
       "    </tr>\n",
       "    <tr>\n",
       "      <th>5290</th>\n",
       "      <td>36119014806</td>\n",
       "      <td>2310.0</td>\n",
       "      <td>115.0</td>\n",
       "      <td>0.465490</td>\n",
       "      <td>0.107776</td>\n",
       "      <td>0.107517</td>\n",
       "      <td>0.145050</td>\n",
       "      <td>0.095227</td>\n",
       "      <td>8.678365e-02</td>\n",
       "      <td>0.061946</td>\n",
       "      <td>...</td>\n",
       "      <td>97.0</td>\n",
       "      <td>144.0</td>\n",
       "      <td>74.0</td>\n",
       "      <td>0.568388</td>\n",
       "      <td>6428.000000</td>\n",
       "      <td>0.388662</td>\n",
       "      <td>74.0</td>\n",
       "      <td>121689.0</td>\n",
       "      <td>10740.0</td>\n",
       "      <td>-85.000000</td>\n",
       "    </tr>\n",
       "    <tr>\n",
       "      <th>5291</th>\n",
       "      <td>36119014808</td>\n",
       "      <td>1162.0</td>\n",
       "      <td>62.0</td>\n",
       "      <td>0.486339</td>\n",
       "      <td>0.135976</td>\n",
       "      <td>0.089831</td>\n",
       "      <td>0.102262</td>\n",
       "      <td>0.123448</td>\n",
       "      <td>1.062443e-01</td>\n",
       "      <td>0.086076</td>\n",
       "      <td>...</td>\n",
       "      <td>62.0</td>\n",
       "      <td>89.0</td>\n",
       "      <td>53.0</td>\n",
       "      <td>0.641660</td>\n",
       "      <td>3296.371710</td>\n",
       "      <td>0.393932</td>\n",
       "      <td>52.0</td>\n",
       "      <td>129423.0</td>\n",
       "      <td>12484.0</td>\n",
       "      <td>-129.385696</td>\n",
       "    </tr>\n",
       "    <tr>\n",
       "      <th>5292</th>\n",
       "      <td>36119014809</td>\n",
       "      <td>2280.0</td>\n",
       "      <td>116.0</td>\n",
       "      <td>0.418229</td>\n",
       "      <td>0.130210</td>\n",
       "      <td>0.249993</td>\n",
       "      <td>0.192074</td>\n",
       "      <td>0.130429</td>\n",
       "      <td>8.156282e-02</td>\n",
       "      <td>0.066793</td>\n",
       "      <td>...</td>\n",
       "      <td>56.0</td>\n",
       "      <td>90.0</td>\n",
       "      <td>68.0</td>\n",
       "      <td>0.541025</td>\n",
       "      <td>5893.219662</td>\n",
       "      <td>0.364547</td>\n",
       "      <td>79.0</td>\n",
       "      <td>96477.0</td>\n",
       "      <td>11249.0</td>\n",
       "      <td>519.716248</td>\n",
       "    </tr>\n",
       "    <tr>\n",
       "      <th>5293</th>\n",
       "      <td>36119014810</td>\n",
       "      <td>1102.0</td>\n",
       "      <td>90.0</td>\n",
       "      <td>0.369576</td>\n",
       "      <td>0.110496</td>\n",
       "      <td>0.070243</td>\n",
       "      <td>0.261560</td>\n",
       "      <td>0.127014</td>\n",
       "      <td>6.193781e-02</td>\n",
       "      <td>0.067488</td>\n",
       "      <td>...</td>\n",
       "      <td>23.0</td>\n",
       "      <td>0.0</td>\n",
       "      <td>11.0</td>\n",
       "      <td>0.226161</td>\n",
       "      <td>2154.562500</td>\n",
       "      <td>0.081608</td>\n",
       "      <td>38.0</td>\n",
       "      <td>38323.0</td>\n",
       "      <td>2338.0</td>\n",
       "      <td>-245.000000</td>\n",
       "    </tr>\n",
       "    <tr>\n",
       "      <th>5294</th>\n",
       "      <td>36119014811</td>\n",
       "      <td>1806.0</td>\n",
       "      <td>86.0</td>\n",
       "      <td>0.369577</td>\n",
       "      <td>0.110496</td>\n",
       "      <td>0.070243</td>\n",
       "      <td>0.261560</td>\n",
       "      <td>0.127014</td>\n",
       "      <td>6.193781e-02</td>\n",
       "      <td>0.067488</td>\n",
       "      <td>...</td>\n",
       "      <td>65.0</td>\n",
       "      <td>96.0</td>\n",
       "      <td>48.0</td>\n",
       "      <td>0.496189</td>\n",
       "      <td>5535.437500</td>\n",
       "      <td>0.209665</td>\n",
       "      <td>60.0</td>\n",
       "      <td>134773.0</td>\n",
       "      <td>19504.0</td>\n",
       "      <td>-77.000000</td>\n",
       "    </tr>\n",
       "    <tr>\n",
       "      <th>5295</th>\n",
       "      <td>36119014901</td>\n",
       "      <td>1996.0</td>\n",
       "      <td>85.0</td>\n",
       "      <td>0.475105</td>\n",
       "      <td>0.102214</td>\n",
       "      <td>0.045034</td>\n",
       "      <td>0.074988</td>\n",
       "      <td>0.089318</td>\n",
       "      <td>7.459491e-02</td>\n",
       "      <td>0.076714</td>\n",
       "      <td>...</td>\n",
       "      <td>99.0</td>\n",
       "      <td>87.0</td>\n",
       "      <td>62.0</td>\n",
       "      <td>0.552392</td>\n",
       "      <td>4938.645874</td>\n",
       "      <td>0.863842</td>\n",
       "      <td>63.0</td>\n",
       "      <td>134797.0</td>\n",
       "      <td>29404.0</td>\n",
       "      <td>791.283691</td>\n",
       "    </tr>\n",
       "    <tr>\n",
       "      <th>5296</th>\n",
       "      <td>36119014903</td>\n",
       "      <td>2209.0</td>\n",
       "      <td>106.0</td>\n",
       "      <td>0.531846</td>\n",
       "      <td>0.054144</td>\n",
       "      <td>0.073757</td>\n",
       "      <td>0.181157</td>\n",
       "      <td>0.167697</td>\n",
       "      <td>9.533569e-02</td>\n",
       "      <td>0.087011</td>\n",
       "      <td>...</td>\n",
       "      <td>109.0</td>\n",
       "      <td>93.0</td>\n",
       "      <td>59.0</td>\n",
       "      <td>0.542408</td>\n",
       "      <td>1891.888771</td>\n",
       "      <td>0.179487</td>\n",
       "      <td>88.0</td>\n",
       "      <td>87746.0</td>\n",
       "      <td>11006.0</td>\n",
       "      <td>2234.000000</td>\n",
       "    </tr>\n",
       "    <tr>\n",
       "      <th>5297</th>\n",
       "      <td>36119014907</td>\n",
       "      <td>1363.0</td>\n",
       "      <td>80.0</td>\n",
       "      <td>0.417178</td>\n",
       "      <td>0.082774</td>\n",
       "      <td>0.076023</td>\n",
       "      <td>0.122677</td>\n",
       "      <td>0.119659</td>\n",
       "      <td>1.170429e-01</td>\n",
       "      <td>0.083965</td>\n",
       "      <td>...</td>\n",
       "      <td>73.0</td>\n",
       "      <td>23.0</td>\n",
       "      <td>26.0</td>\n",
       "      <td>0.458103</td>\n",
       "      <td>3444.000000</td>\n",
       "      <td>0.284412</td>\n",
       "      <td>62.0</td>\n",
       "      <td>110610.0</td>\n",
       "      <td>13690.0</td>\n",
       "      <td>679.000000</td>\n",
       "    </tr>\n",
       "    <tr>\n",
       "      <th>5298</th>\n",
       "      <td>36119014908</td>\n",
       "      <td>918.0</td>\n",
       "      <td>44.0</td>\n",
       "      <td>0.598964</td>\n",
       "      <td>0.057365</td>\n",
       "      <td>0.038278</td>\n",
       "      <td>0.090212</td>\n",
       "      <td>0.068253</td>\n",
       "      <td>6.323929e-02</td>\n",
       "      <td>0.061122</td>\n",
       "      <td>...</td>\n",
       "      <td>48.0</td>\n",
       "      <td>42.0</td>\n",
       "      <td>22.0</td>\n",
       "      <td>0.520121</td>\n",
       "      <td>2603.628174</td>\n",
       "      <td>0.341507</td>\n",
       "      <td>32.0</td>\n",
       "      <td>138571.0</td>\n",
       "      <td>18559.0</td>\n",
       "      <td>216.385742</td>\n",
       "    </tr>\n",
       "    <tr>\n",
       "      <th>5299</th>\n",
       "      <td>36119014909</td>\n",
       "      <td>1186.0</td>\n",
       "      <td>85.0</td>\n",
       "      <td>0.531846</td>\n",
       "      <td>0.054144</td>\n",
       "      <td>0.073757</td>\n",
       "      <td>0.181157</td>\n",
       "      <td>0.167697</td>\n",
       "      <td>9.533569e-02</td>\n",
       "      <td>0.087011</td>\n",
       "      <td>...</td>\n",
       "      <td>63.0</td>\n",
       "      <td>78.0</td>\n",
       "      <td>43.0</td>\n",
       "      <td>0.680927</td>\n",
       "      <td>3337.219057</td>\n",
       "      <td>0.316609</td>\n",
       "      <td>37.0</td>\n",
       "      <td>104286.0</td>\n",
       "      <td>16651.0</td>\n",
       "      <td>-1136.000000</td>\n",
       "    </tr>\n",
       "    <tr>\n",
       "      <th>5300</th>\n",
       "      <td>36119015000</td>\n",
       "      <td>1842.0</td>\n",
       "      <td>123.0</td>\n",
       "      <td>0.485083</td>\n",
       "      <td>0.069785</td>\n",
       "      <td>0.137755</td>\n",
       "      <td>0.128249</td>\n",
       "      <td>0.091615</td>\n",
       "      <td>6.387709e-02</td>\n",
       "      <td>0.072335</td>\n",
       "      <td>...</td>\n",
       "      <td>109.0</td>\n",
       "      <td>52.0</td>\n",
       "      <td>41.0</td>\n",
       "      <td>0.600913</td>\n",
       "      <td>4725.000000</td>\n",
       "      <td>0.395591</td>\n",
       "      <td>128.0</td>\n",
       "      <td>126724.0</td>\n",
       "      <td>20051.0</td>\n",
       "      <td>5.000000</td>\n",
       "    </tr>\n",
       "    <tr>\n",
       "      <th>5301</th>\n",
       "      <td>36119981000</td>\n",
       "      <td>286.0</td>\n",
       "      <td>70.0</td>\n",
       "      <td>0.266195</td>\n",
       "      <td>0.524826</td>\n",
       "      <td>0.893204</td>\n",
       "      <td>0.655472</td>\n",
       "      <td>0.240851</td>\n",
       "      <td>3.734112e-02</td>\n",
       "      <td>0.026111</td>\n",
       "      <td>...</td>\n",
       "      <td>89.0</td>\n",
       "      <td>0.0</td>\n",
       "      <td>11.0</td>\n",
       "      <td>0.278102</td>\n",
       "      <td>2835.041504</td>\n",
       "      <td>0.209298</td>\n",
       "      <td>68.0</td>\n",
       "      <td>57353.0</td>\n",
       "      <td>19091.0</td>\n",
       "      <td>-516.000000</td>\n",
       "    </tr>\n",
       "    <tr>\n",
       "      <th>5302</th>\n",
       "      <td>36119982000</td>\n",
       "      <td>0.0</td>\n",
       "      <td>11.0</td>\n",
       "      <td>NaN</td>\n",
       "      <td>NaN</td>\n",
       "      <td>NaN</td>\n",
       "      <td>NaN</td>\n",
       "      <td>NaN</td>\n",
       "      <td>NaN</td>\n",
       "      <td>NaN</td>\n",
       "      <td>...</td>\n",
       "      <td>11.0</td>\n",
       "      <td>0.0</td>\n",
       "      <td>11.0</td>\n",
       "      <td>0.030790</td>\n",
       "      <td>NaN</td>\n",
       "      <td>NaN</td>\n",
       "      <td>11.0</td>\n",
       "      <td>NaN</td>\n",
       "      <td>NaN</td>\n",
       "      <td>NaN</td>\n",
       "    </tr>\n",
       "    <tr>\n",
       "      <th>5303</th>\n",
       "      <td>36119983000</td>\n",
       "      <td>0.0</td>\n",
       "      <td>11.0</td>\n",
       "      <td>0.404343</td>\n",
       "      <td>0.265601</td>\n",
       "      <td>0.360562</td>\n",
       "      <td>0.194520</td>\n",
       "      <td>0.126942</td>\n",
       "      <td>7.533091e-02</td>\n",
       "      <td>0.086844</td>\n",
       "      <td>...</td>\n",
       "      <td>11.0</td>\n",
       "      <td>0.0</td>\n",
       "      <td>11.0</td>\n",
       "      <td>0.091803</td>\n",
       "      <td>1194.203003</td>\n",
       "      <td>0.050719</td>\n",
       "      <td>11.0</td>\n",
       "      <td>NaN</td>\n",
       "      <td>NaN</td>\n",
       "      <td>-58.000000</td>\n",
       "    </tr>\n",
       "    <tr>\n",
       "      <th>5304</th>\n",
       "      <td>36119984000</td>\n",
       "      <td>92.0</td>\n",
       "      <td>37.0</td>\n",
       "      <td>0.121495</td>\n",
       "      <td>0.517544</td>\n",
       "      <td>0.000000</td>\n",
       "      <td>0.220431</td>\n",
       "      <td>0.394953</td>\n",
       "      <td>-1.490116e-08</td>\n",
       "      <td>0.019975</td>\n",
       "      <td>...</td>\n",
       "      <td>6.0</td>\n",
       "      <td>7.0</td>\n",
       "      <td>9.0</td>\n",
       "      <td>0.208000</td>\n",
       "      <td>749.000000</td>\n",
       "      <td>0.255689</td>\n",
       "      <td>48.0</td>\n",
       "      <td>38929.0</td>\n",
       "      <td>16474.0</td>\n",
       "      <td>-54.000000</td>\n",
       "    </tr>\n",
       "    <tr>\n",
       "      <th>5305</th>\n",
       "      <td>36119985000</td>\n",
       "      <td>0.0</td>\n",
       "      <td>11.0</td>\n",
       "      <td>NaN</td>\n",
       "      <td>NaN</td>\n",
       "      <td>NaN</td>\n",
       "      <td>NaN</td>\n",
       "      <td>NaN</td>\n",
       "      <td>NaN</td>\n",
       "      <td>NaN</td>\n",
       "      <td>...</td>\n",
       "      <td>11.0</td>\n",
       "      <td>0.0</td>\n",
       "      <td>11.0</td>\n",
       "      <td>0.681818</td>\n",
       "      <td>NaN</td>\n",
       "      <td>NaN</td>\n",
       "      <td>11.0</td>\n",
       "      <td>NaN</td>\n",
       "      <td>NaN</td>\n",
       "      <td>NaN</td>\n",
       "    </tr>\n",
       "  </tbody>\n",
       "</table>\n",
       "<p>5306 rows × 85 columns</p>\n",
       "</div>"
      ],
      "text/plain": [
       "           GEOid2    hh16  moe_hh16  per_col00  per_nonwhite00  per_rent00  \\\n",
       "0      9001010101  1348.0     106.0   0.633120        0.066080    0.128119   \n",
       "1      9001010102  1293.0     100.0   0.748477        0.098972    0.108108   \n",
       "2      9001010201   991.0      75.0   0.704225        0.088501    0.137864   \n",
       "3      9001010202  1856.0      99.0   0.621305        0.130701    0.213789   \n",
       "4      9001010300  1435.0     111.0   0.716889        0.103641    0.273834   \n",
       "5      9001010400  2031.0     131.0   0.386971        0.108092    0.284145   \n",
       "6      9001010500  2420.0     138.0   0.367483        0.305088    0.713533   \n",
       "7      9001010600  1014.0      68.0   0.641026        0.188206    0.634083   \n",
       "8      9001010700  1696.0      99.0   0.454577        0.231968    0.448023   \n",
       "9      9001010800  1257.0      83.0   0.575166        0.132900    0.294246   \n",
       "10     9001010900  1821.0      67.0   0.529686        0.181421    0.235985   \n",
       "11     9001011000  1700.0      75.0   0.758813        0.091192    0.142779   \n",
       "12     9001011100  1395.0      81.0   0.783356        0.089807    0.124755   \n",
       "13     9001011200   608.0      59.0   0.649834        0.079196    0.244310   \n",
       "14     9001011300  1248.0      70.0   0.411017        0.272297    0.516539   \n",
       "15     9001020100  2276.0     174.0   0.298220        0.627212    0.907773   \n",
       "16     9001020200  1203.0      82.0   0.688056        0.136474    0.029134   \n",
       "17     9001020300  2433.0      75.0   0.702332        0.115189    0.044636   \n",
       "18     9001020400  1225.0      55.0   0.655317        0.087515    0.031605   \n",
       "19     9001020500  1715.0      69.0   0.560989        0.112982    0.100000   \n",
       "20     9001020600  1691.0      77.0   0.404769        0.165809    0.097722   \n",
       "21     9001020700  1597.0      60.0   0.432836        0.125184    0.138121   \n",
       "22     9001020800   963.0      34.0   0.434267        0.081625    0.033473   \n",
       "23     9001020900  2103.0      73.0   0.428743        0.211177    0.371636   \n",
       "24     9001021000  1216.0      73.0   0.388982        0.199408    0.193836   \n",
       "25     9001021100  2344.0     145.0   0.378007        0.256526    0.435908   \n",
       "26     9001021200  1673.0      72.0   0.510768        0.163103    0.122725   \n",
       "27     9001021300  1582.0      88.0   0.353846        0.402876    0.311878   \n",
       "28     9001021400  2403.0     155.0   0.159569        0.720623    0.732478   \n",
       "29     9001021500  1875.0     123.0   0.068957        0.885372    0.761641   \n",
       "...           ...     ...       ...        ...             ...         ...   \n",
       "5276  36119014100  2402.0     156.0   0.168866        0.471770    0.579022   \n",
       "5277  36119014200  1132.0      86.0   0.221004        0.540813    0.530292   \n",
       "5278  36119014300  1420.0     111.0   0.112580        0.770596    0.861111   \n",
       "5279  36119014400  2198.0     125.0   0.256224        0.541746    0.436985   \n",
       "5280  36119014500  2028.0     148.0   0.311291        0.301588    0.335465   \n",
       "5281  36119014604  1691.0     120.0   0.280558        0.094287    0.229557   \n",
       "5282  36119014605  1635.0     100.0   0.340035        0.151079    0.642811   \n",
       "5283  36119014606  1980.0     112.0   0.673564        0.095088    0.067340   \n",
       "5284  36119014607  1375.0      95.0   0.434617        0.198987    0.076938   \n",
       "5285  36119014701  1686.0      89.0   0.278430        0.233875    0.098053   \n",
       "5286  36119014703  2144.0      84.0   0.306727        0.184002    0.131723   \n",
       "5287  36119014704   841.0      53.0   0.323549        0.276149    0.304416   \n",
       "5288  36119014804  2924.0     155.0   0.374896        0.189321    0.188662   \n",
       "5289  36119014805  1430.0      88.0   0.542723        0.101767    0.125585   \n",
       "5290  36119014806  2310.0     115.0   0.465490        0.107776    0.107517   \n",
       "5291  36119014808  1162.0      62.0   0.486339        0.135976    0.089831   \n",
       "5292  36119014809  2280.0     116.0   0.418229        0.130210    0.249993   \n",
       "5293  36119014810  1102.0      90.0   0.369576        0.110496    0.070243   \n",
       "5294  36119014811  1806.0      86.0   0.369577        0.110496    0.070243   \n",
       "5295  36119014901  1996.0      85.0   0.475105        0.102214    0.045034   \n",
       "5296  36119014903  2209.0     106.0   0.531846        0.054144    0.073757   \n",
       "5297  36119014907  1363.0      80.0   0.417178        0.082774    0.076023   \n",
       "5298  36119014908   918.0      44.0   0.598964        0.057365    0.038278   \n",
       "5299  36119014909  1186.0      85.0   0.531846        0.054144    0.073757   \n",
       "5300  36119015000  1842.0     123.0   0.485083        0.069785    0.137755   \n",
       "5301  36119981000   286.0      70.0   0.266195        0.524826    0.893204   \n",
       "5302  36119982000     0.0      11.0        NaN             NaN         NaN   \n",
       "5303  36119983000     0.0      11.0   0.404343        0.265601    0.360562   \n",
       "5304  36119984000    92.0      37.0   0.121495        0.517544    0.000000   \n",
       "5305  36119985000     0.0      11.0        NaN             NaN         NaN   \n",
       "\n",
       "       vli2000    li2000        mi2000   hmi2000     ...       \\\n",
       "0     0.097024  0.082058  5.861734e-02  0.036841     ...        \n",
       "1     0.097878  0.055028  5.778028e-02  0.040756     ...        \n",
       "2     0.055506  0.036763  2.729502e-02  0.033678     ...        \n",
       "3     0.127129  0.112302  7.260491e-02  0.062817     ...        \n",
       "4     0.095201  0.074789  5.868396e-02  0.052763     ...        \n",
       "5     0.137449  0.164956  1.029238e-01  0.084831     ...        \n",
       "6     0.287293  0.197065  9.789991e-02  0.060034     ...        \n",
       "7     0.173468  0.143679  1.008366e-01  0.097035     ...        \n",
       "8     0.369338  0.132503  5.256808e-02  0.057491     ...        \n",
       "9     0.158756  0.140192  8.193216e-02  0.072376     ...        \n",
       "10    0.167765  0.130432  8.039996e-02  0.061698     ...        \n",
       "11    0.092284  0.047745  6.440897e-02  0.068600     ...        \n",
       "12    0.106314  0.064512  4.147375e-02  0.037628     ...        \n",
       "13    0.094337  0.050798  1.172027e-02  0.037556     ...        \n",
       "14    0.239309  0.210017  7.280484e-02  0.084888     ...        \n",
       "15    0.551215  0.166446  7.372296e-02  0.055104     ...        \n",
       "16    0.148549  0.101013  4.839678e-02  0.017881     ...        \n",
       "17    0.106542  0.083845  6.237808e-02  0.051262     ...        \n",
       "18    0.172491  0.085884  7.365927e-02  0.059815     ...        \n",
       "19    0.111704  0.090183  7.890628e-02  0.065822     ...        \n",
       "20    0.196649  0.090011  7.950932e-02  0.112833     ...        \n",
       "21    0.214971  0.099719  9.330595e-02  0.099693     ...        \n",
       "22    0.130064  0.137648  4.987267e-02  0.099999     ...        \n",
       "23    0.247000  0.175742  1.062529e-01  0.103783     ...        \n",
       "24    0.263976  0.111757  1.011395e-01  0.074843     ...        \n",
       "25    0.249932  0.153613  1.159880e-01  0.106489     ...        \n",
       "26    0.223529  0.123722  7.810491e-02  0.084827     ...        \n",
       "27    0.270829  0.189521  1.044233e-01  0.092157     ...        \n",
       "28    0.362675  0.252767  1.219001e-01  0.098563     ...        \n",
       "29    0.440358  0.266567  9.274739e-02  0.055670     ...        \n",
       "...        ...       ...           ...       ...     ...        \n",
       "5276  0.403113  0.183690  1.060526e-01  0.055222     ...        \n",
       "5277  0.355080  0.166147  1.245465e-01  0.125139     ...        \n",
       "5278  0.609142  0.181693  5.018038e-02  0.057720     ...        \n",
       "5279  0.203494  0.204019  1.337532e-01  0.105957     ...        \n",
       "5280  0.185288  0.208009  1.419027e-01  0.123451     ...        \n",
       "5281  0.262319  0.152630  9.209591e-02  0.092794     ...        \n",
       "5282  0.382445  0.189823  7.365066e-02  0.077112     ...        \n",
       "5283  0.091683  0.117094  4.599217e-02  0.051995     ...        \n",
       "5284  0.096374  0.093541  1.005330e-01  0.102815     ...        \n",
       "5285  0.139661  0.113851  1.398381e-01  0.119513     ...        \n",
       "5286  0.134667  0.124087  1.330442e-01  0.120042     ...        \n",
       "5287  0.219855  0.219118  8.556294e-02  0.091066     ...        \n",
       "5288  0.143301  0.160188  9.298861e-02  0.074648     ...        \n",
       "5289  0.133746  0.107759  6.173339e-02  0.063803     ...        \n",
       "5290  0.145050  0.095227  8.678365e-02  0.061946     ...        \n",
       "5291  0.102262  0.123448  1.062443e-01  0.086076     ...        \n",
       "5292  0.192074  0.130429  8.156282e-02  0.066793     ...        \n",
       "5293  0.261560  0.127014  6.193781e-02  0.067488     ...        \n",
       "5294  0.261560  0.127014  6.193781e-02  0.067488     ...        \n",
       "5295  0.074988  0.089318  7.459491e-02  0.076714     ...        \n",
       "5296  0.181157  0.167697  9.533569e-02  0.087011     ...        \n",
       "5297  0.122677  0.119659  1.170429e-01  0.083965     ...        \n",
       "5298  0.090212  0.068253  6.323929e-02  0.061122     ...        \n",
       "5299  0.181157  0.167697  9.533569e-02  0.087011     ...        \n",
       "5300  0.128249  0.091615  6.387709e-02  0.072335     ...        \n",
       "5301  0.655472  0.240851  3.734112e-02  0.026111     ...        \n",
       "5302       NaN       NaN           NaN       NaN     ...        \n",
       "5303  0.194520  0.126942  7.533091e-02  0.086844     ...        \n",
       "5304  0.220431  0.394953 -1.490116e-08  0.019975     ...        \n",
       "5305       NaN       NaN           NaN       NaN     ...        \n",
       "\n",
       "      moe_professionals  doctorate  moe_doctorates  per_col_16        pop90  \\\n",
       "0                 104.0       36.0            30.0    0.619597  4277.000000   \n",
       "1                 120.0       69.0            49.0    0.784978  4273.694824   \n",
       "2                  62.0       98.0            63.0    0.761389  3156.218236   \n",
       "3                  76.0       55.0            30.0    0.662879  4725.289978   \n",
       "4                 100.0       82.0            43.0    0.805446  4036.000000   \n",
       "5                 113.0       65.0            53.0    0.560970  5008.000000   \n",
       "6                 113.0       66.0            64.0    0.441980  5036.366920   \n",
       "7                  42.0       43.0            43.0    0.692042  2278.000000   \n",
       "8                  90.0       30.0            22.0    0.532816  3506.000000   \n",
       "9                  38.0       91.0            52.0    0.734987  3662.373779   \n",
       "10                 54.0      169.0            77.0    0.623250  4798.250000   \n",
       "11                104.0      140.0            67.0    0.810595  4484.829590   \n",
       "12                 89.0       77.0            44.0    0.818780  4537.000000   \n",
       "13                 33.0       37.0            26.0    0.735714  1762.546600   \n",
       "14                 51.0        8.0            11.0    0.426805  2854.086426   \n",
       "15                 59.0      113.0            82.0    0.468776  3112.111725   \n",
       "16                 96.0       99.0            52.0    0.748120  3702.305473   \n",
       "17                133.0      263.0           125.0    0.776485  7090.000000   \n",
       "18                 77.0       47.0            34.0    0.614996  3437.000000   \n",
       "19                 78.0       89.0            65.0    0.640223  4546.117957   \n",
       "20                 64.0       57.0            39.0    0.486155  4685.000000   \n",
       "21                 78.0       56.0            46.0    0.548955  3805.428558   \n",
       "22                 49.0       69.0            32.0    0.641103  2618.000000   \n",
       "23                 98.0       38.0            60.0    0.428285  4389.905621   \n",
       "24                 36.0       42.0            39.0    0.447379  3081.879013   \n",
       "25                 75.0       26.0            30.0    0.490220  5005.231641   \n",
       "26                 79.0       93.0            54.0    0.591296  3842.000000   \n",
       "27                 90.0       45.0            36.0    0.433799  3705.000000   \n",
       "28                 97.0       48.0            55.0    0.243071  5668.749928   \n",
       "29                 14.0       25.0            27.0    0.127161  5717.000000   \n",
       "...                 ...        ...             ...         ...          ...   \n",
       "5276               33.0       52.0            45.0    0.296474  4922.957592   \n",
       "5277               41.0       11.0            18.0    0.251836  3197.941328   \n",
       "5278               11.0        0.0            11.0    0.104022  3275.908789   \n",
       "5279               59.0      104.0            73.0    0.256573  4754.735640   \n",
       "5280              135.0       43.0            40.0    0.411920  3386.381163   \n",
       "5281               27.0       15.0            17.0    0.317707  4373.000000   \n",
       "5282               34.0       69.0            57.0    0.506844  2961.159771   \n",
       "5283              126.0      196.0            85.0    0.733115  5398.227926   \n",
       "5284               66.0       59.0            34.0    0.607447  3171.505721   \n",
       "5285               42.0       58.0            37.0    0.310896  4429.661749   \n",
       "5286               68.0       36.0            35.0    0.415634  5445.680664   \n",
       "5287               25.0        9.0            16.0    0.330155  1838.000000   \n",
       "5288               63.0       65.0            48.0    0.401439  6558.319375   \n",
       "5289               72.0      136.0            66.0    0.538022  3564.111816   \n",
       "5290               97.0      144.0            74.0    0.568388  6428.000000   \n",
       "5291               62.0       89.0            53.0    0.641660  3296.371710   \n",
       "5292               56.0       90.0            68.0    0.541025  5893.219662   \n",
       "5293               23.0        0.0            11.0    0.226161  2154.562500   \n",
       "5294               65.0       96.0            48.0    0.496189  5535.437500   \n",
       "5295               99.0       87.0            62.0    0.552392  4938.645874   \n",
       "5296              109.0       93.0            59.0    0.542408  1891.888771   \n",
       "5297               73.0       23.0            26.0    0.458103  3444.000000   \n",
       "5298               48.0       42.0            22.0    0.520121  2603.628174   \n",
       "5299               63.0       78.0            43.0    0.680927  3337.219057   \n",
       "5300              109.0       52.0            41.0    0.600913  4725.000000   \n",
       "5301               89.0        0.0            11.0    0.278102  2835.041504   \n",
       "5302               11.0        0.0            11.0    0.030790          NaN   \n",
       "5303               11.0        0.0            11.0    0.091803  1194.203003   \n",
       "5304                6.0        7.0             9.0    0.208000   749.000000   \n",
       "5305               11.0        0.0            11.0    0.681818          NaN   \n",
       "\n",
       "      per_col90  moe_hu16    hinc16  moe_hinc16    popgrowth  \n",
       "0      0.516292      84.0  150655.0     21659.0  -529.000000  \n",
       "1      0.619490      71.0  250000.0         NaN  -302.000000  \n",
       "2      0.602177      53.0  212448.0     58671.0  -158.000000  \n",
       "3      0.597040      82.0  187875.0     31078.0   328.000000  \n",
       "4      0.647751      85.0  221250.0     44939.0   -71.000000  \n",
       "5      0.306302      78.0  107965.0      5325.0   731.000000  \n",
       "6      0.326247      91.0   65593.0     18929.0   409.000000  \n",
       "7      0.453947      46.0   93810.0     18659.0  -335.000000  \n",
       "8      0.403734      59.0   73831.0      8917.0   -55.000000  \n",
       "9      0.374056      60.0  128494.0     17201.0   -10.000000  \n",
       "10     0.412742      62.0  132153.0     14392.0   535.000000  \n",
       "11     0.641820      67.0  248171.0     33760.0   353.000000  \n",
       "12     0.693653      42.0  250000.0         NaN  -175.000000  \n",
       "13     0.617725      36.0  220625.0     88987.0   -59.000000  \n",
       "14     0.231986      62.0   85100.0      9244.0   655.000000  \n",
       "15     0.133884      95.0   54038.0     16554.0   405.170746  \n",
       "16     0.667596      43.0  226875.0     40271.0  -250.000000  \n",
       "17     0.635642      53.0  207938.0     32524.0   -78.000000  \n",
       "18     0.561044      27.0  177361.0     26924.0   589.000000  \n",
       "19     0.530539      41.0  155208.0     28379.0  -135.000000  \n",
       "20     0.316441      45.0  129360.0     11097.0   791.000000  \n",
       "21     0.398681      38.0  136094.0     24287.0  -201.312424  \n",
       "22     0.374869      26.0  134934.0     15960.0   148.000000  \n",
       "23     0.362800      49.0   72746.0     12773.0   780.000000  \n",
       "24     0.275076      28.0   91667.0     15078.0   -88.000000  \n",
       "25     0.420875      64.0   75723.0     15239.0   252.000000  \n",
       "26     0.433665      39.0  115197.0     11205.0   283.000000  \n",
       "27     0.307390      54.0   99948.0      8883.0   853.000000  \n",
       "28     0.133011     119.0   55101.0      7886.0   599.000000  \n",
       "29     0.091857      78.0   42423.0      8485.0 -1013.000000  \n",
       "...         ...       ...       ...         ...          ...  \n",
       "5276   0.196872     111.0   46884.0      3687.0    69.000000  \n",
       "5277   0.217970      63.0   53854.0     13081.0    15.566404  \n",
       "5278   0.079444      97.0   35813.0      6339.0   510.000000  \n",
       "5279   0.297913      94.0   73354.0     18778.0   447.620300  \n",
       "5280   0.292073     103.0   85755.0      6177.0   473.471344  \n",
       "5281   0.213886      65.0   77854.0      6532.0  1051.000000  \n",
       "5282   0.330541      53.0   61464.0      7419.0    53.209152  \n",
       "5283   0.593127      83.0  170313.0     18244.0   308.313202  \n",
       "5284   0.328165      40.0  138679.0     13759.0   178.560120  \n",
       "5285   0.256275      56.0   82870.0     17802.0   332.391602  \n",
       "5286   0.315360      71.0   99485.0     10972.0   882.317383  \n",
       "5287   0.271089      39.0   82649.0     19348.0   676.000000  \n",
       "5288   0.322967     121.0   88519.0     16583.0   221.682556  \n",
       "5289   0.475285      47.0  137143.0     20655.0   319.966064  \n",
       "5290   0.388662      74.0  121689.0     10740.0   -85.000000  \n",
       "5291   0.393932      52.0  129423.0     12484.0  -129.385696  \n",
       "5292   0.364547      79.0   96477.0     11249.0   519.716248  \n",
       "5293   0.081608      38.0   38323.0      2338.0  -245.000000  \n",
       "5294   0.209665      60.0  134773.0     19504.0   -77.000000  \n",
       "5295   0.863842      63.0  134797.0     29404.0   791.283691  \n",
       "5296   0.179487      88.0   87746.0     11006.0  2234.000000  \n",
       "5297   0.284412      62.0  110610.0     13690.0   679.000000  \n",
       "5298   0.341507      32.0  138571.0     18559.0   216.385742  \n",
       "5299   0.316609      37.0  104286.0     16651.0 -1136.000000  \n",
       "5300   0.395591     128.0  126724.0     20051.0     5.000000  \n",
       "5301   0.209298      68.0   57353.0     19091.0  -516.000000  \n",
       "5302        NaN      11.0       NaN         NaN          NaN  \n",
       "5303   0.050719      11.0       NaN         NaN   -58.000000  \n",
       "5304   0.255689      48.0   38929.0     16474.0   -54.000000  \n",
       "5305        NaN      11.0       NaN         NaN          NaN  \n",
       "\n",
       "[5306 rows x 85 columns]"
      ]
     },
     "execution_count": 100,
     "metadata": {},
     "output_type": "execute_result"
    }
   ],
   "source": [
    "df_aram"
   ]
  },
  {
   "cell_type": "markdown",
   "metadata": {},
   "source": [
    "ct=[]\n",
    "for i in df_aram.GEOid2:\n",
    "    flag=0\n",
    "    for j in df_compare.GEOid2:\n",
    "        if i == j:\n",
    "            flag=1\n",
    "            ct.append(1)\n",
    "            break\n",
    "    if flag==0:\n",
    "        ct.append(0)"
   ]
  },
  {
   "cell_type": "markdown",
   "metadata": {},
   "source": [
    "## Define % of units in pre-1950 buildings > regional median"
   ]
  },
  {
   "cell_type": "code",
   "execution_count": 101,
   "metadata": {},
   "outputs": [
    {
     "data": {
      "text/html": [
       "<div>\n",
       "<style scoped>\n",
       "    .dataframe tbody tr th:only-of-type {\n",
       "        vertical-align: middle;\n",
       "    }\n",
       "\n",
       "    .dataframe tbody tr th {\n",
       "        vertical-align: top;\n",
       "    }\n",
       "\n",
       "    .dataframe thead th {\n",
       "        text-align: right;\n",
       "    }\n",
       "</style>\n",
       "<table border=\"1\" class=\"dataframe\">\n",
       "  <thead>\n",
       "    <tr style=\"text-align: right;\">\n",
       "      <th></th>\n",
       "      <th>Volnurable90</th>\n",
       "      <th>Volnurable00</th>\n",
       "      <th>units_pre50_High</th>\n",
       "    </tr>\n",
       "  </thead>\n",
       "  <tbody>\n",
       "    <tr>\n",
       "      <th>34001000100</th>\n",
       "      <td>1</td>\n",
       "      <td>1</td>\n",
       "      <td>1</td>\n",
       "    </tr>\n",
       "    <tr>\n",
       "      <th>34001000200</th>\n",
       "      <td>0</td>\n",
       "      <td>1</td>\n",
       "      <td>0</td>\n",
       "    </tr>\n",
       "    <tr>\n",
       "      <th>34001000300</th>\n",
       "      <td>1</td>\n",
       "      <td>1</td>\n",
       "      <td>1</td>\n",
       "    </tr>\n",
       "    <tr>\n",
       "      <th>34001000500</th>\n",
       "      <td>1</td>\n",
       "      <td>1</td>\n",
       "      <td>1</td>\n",
       "    </tr>\n",
       "    <tr>\n",
       "      <th>34001001500</th>\n",
       "      <td>1</td>\n",
       "      <td>1</td>\n",
       "      <td>0</td>\n",
       "    </tr>\n",
       "    <tr>\n",
       "      <th>34001001900</th>\n",
       "      <td>1</td>\n",
       "      <td>1</td>\n",
       "      <td>0</td>\n",
       "    </tr>\n",
       "    <tr>\n",
       "      <th>34001010101</th>\n",
       "      <td>0</td>\n",
       "      <td>0</td>\n",
       "      <td>0</td>\n",
       "    </tr>\n",
       "  </tbody>\n",
       "</table>\n",
       "</div>"
      ],
      "text/plain": [
       "             Volnurable90  Volnurable00  units_pre50_High\n",
       "34001000100             1             1                 1\n",
       "34001000200             0             1                 0\n",
       "34001000300             1             1                 1\n",
       "34001000500             1             1                 1\n",
       "34001001500             1             1                 0\n",
       "34001001900             1             1                 0\n",
       "34001010101             0             0                 0"
      ]
     },
     "execution_count": 101,
     "metadata": {},
     "output_type": "execute_result"
    }
   ],
   "source": [
    "data['units_pre50_High'] = np.where(data['per_units_pre50_16'] > data['per_units_pre50_16'].median(), 1, 0)\n",
    "data.iloc[:,-3:].head(7)"
   ]
  },
  {
   "cell_type": "markdown",
   "metadata": {},
   "source": [
    "## Define Employment density (2015) > regional median"
   ]
  },
  {
   "cell_type": "code",
   "execution_count": 102,
   "metadata": {},
   "outputs": [
    {
     "data": {
      "text/html": [
       "<div>\n",
       "<style scoped>\n",
       "    .dataframe tbody tr th:only-of-type {\n",
       "        vertical-align: middle;\n",
       "    }\n",
       "\n",
       "    .dataframe tbody tr th {\n",
       "        vertical-align: top;\n",
       "    }\n",
       "\n",
       "    .dataframe thead th {\n",
       "        text-align: right;\n",
       "    }\n",
       "</style>\n",
       "<table border=\"1\" class=\"dataframe\">\n",
       "  <thead>\n",
       "    <tr style=\"text-align: right;\">\n",
       "      <th></th>\n",
       "      <th>Volnurable00</th>\n",
       "      <th>units_pre50_High</th>\n",
       "      <th>empdens14_High</th>\n",
       "    </tr>\n",
       "  </thead>\n",
       "  <tbody>\n",
       "    <tr>\n",
       "      <th>34001000100</th>\n",
       "      <td>1</td>\n",
       "      <td>1</td>\n",
       "      <td>0</td>\n",
       "    </tr>\n",
       "    <tr>\n",
       "      <th>34001000200</th>\n",
       "      <td>1</td>\n",
       "      <td>0</td>\n",
       "      <td>0</td>\n",
       "    </tr>\n",
       "    <tr>\n",
       "      <th>34001000300</th>\n",
       "      <td>1</td>\n",
       "      <td>1</td>\n",
       "      <td>0</td>\n",
       "    </tr>\n",
       "    <tr>\n",
       "      <th>34001000500</th>\n",
       "      <td>1</td>\n",
       "      <td>1</td>\n",
       "      <td>0</td>\n",
       "    </tr>\n",
       "    <tr>\n",
       "      <th>34001001500</th>\n",
       "      <td>1</td>\n",
       "      <td>0</td>\n",
       "      <td>0</td>\n",
       "    </tr>\n",
       "    <tr>\n",
       "      <th>34001001900</th>\n",
       "      <td>1</td>\n",
       "      <td>0</td>\n",
       "      <td>0</td>\n",
       "    </tr>\n",
       "    <tr>\n",
       "      <th>34001010101</th>\n",
       "      <td>0</td>\n",
       "      <td>0</td>\n",
       "      <td>0</td>\n",
       "    </tr>\n",
       "  </tbody>\n",
       "</table>\n",
       "</div>"
      ],
      "text/plain": [
       "             Volnurable00  units_pre50_High  empdens14_High\n",
       "34001000100             1                 1               0\n",
       "34001000200             1                 0               0\n",
       "34001000300             1                 1               0\n",
       "34001000500             1                 1               0\n",
       "34001001500             1                 0               0\n",
       "34001001900             1                 0               0\n",
       "34001010101             0                 0               0"
      ]
     },
     "execution_count": 102,
     "metadata": {},
     "output_type": "execute_result"
    }
   ],
   "source": [
    "data['empdens14_High'] = np.where(data['empd15'] > data['empd15'].median(), 1, 0)\n",
    "data.iloc[:,-3:].head(7)"
   ]
  },
  {
   "cell_type": "markdown",
   "metadata": {},
   "source": [
    "## Define rent change 00-16 and home value change 00-16 > regional median"
   ]
  },
  {
   "cell_type": "code",
   "execution_count": 103,
   "metadata": {},
   "outputs": [],
   "source": [
    "data['mrent90_00'] = data['mrent_00'] - data['mrent_90']"
   ]
  },
  {
   "cell_type": "code",
   "execution_count": 104,
   "metadata": {},
   "outputs": [],
   "source": [
    "data['mrent00_16'] = data['mrent_16'] - data['mrent_00']"
   ]
  },
  {
   "cell_type": "code",
   "execution_count": 105,
   "metadata": {},
   "outputs": [],
   "source": [
    "data['mhval90_00'] = data['mhval_00'] - data['mhval_90']"
   ]
  },
  {
   "cell_type": "code",
   "execution_count": 106,
   "metadata": {},
   "outputs": [],
   "source": [
    "data['mhval00_16'] = data['mhval_16'] - data['mhval_00']"
   ]
  },
  {
   "cell_type": "code",
   "execution_count": 107,
   "metadata": {},
   "outputs": [
    {
     "data": {
      "text/html": [
       "<div>\n",
       "<style scoped>\n",
       "    .dataframe tbody tr th:only-of-type {\n",
       "        vertical-align: middle;\n",
       "    }\n",
       "\n",
       "    .dataframe tbody tr th {\n",
       "        vertical-align: top;\n",
       "    }\n",
       "\n",
       "    .dataframe thead th {\n",
       "        text-align: right;\n",
       "    }\n",
       "</style>\n",
       "<table border=\"1\" class=\"dataframe\">\n",
       "  <thead>\n",
       "    <tr style=\"text-align: right;\">\n",
       "      <th></th>\n",
       "      <th>mhval00_16</th>\n",
       "      <th>rentchange_High90</th>\n",
       "      <th>rhomeValchange_High90</th>\n",
       "      <th>rentchange_High00</th>\n",
       "      <th>rhomeValchange_High00</th>\n",
       "    </tr>\n",
       "  </thead>\n",
       "  <tbody>\n",
       "    <tr>\n",
       "      <th>34001000100</th>\n",
       "      <td>95300.00000</td>\n",
       "      <td>0</td>\n",
       "      <td>0</td>\n",
       "      <td>0</td>\n",
       "      <td>0</td>\n",
       "    </tr>\n",
       "    <tr>\n",
       "      <th>34001000200</th>\n",
       "      <td>104500.00000</td>\n",
       "      <td>0</td>\n",
       "      <td>0</td>\n",
       "      <td>0</td>\n",
       "      <td>0</td>\n",
       "    </tr>\n",
       "    <tr>\n",
       "      <th>34001000300</th>\n",
       "      <td>81000.00000</td>\n",
       "      <td>1</td>\n",
       "      <td>1</td>\n",
       "      <td>0</td>\n",
       "      <td>0</td>\n",
       "    </tr>\n",
       "    <tr>\n",
       "      <th>34001000500</th>\n",
       "      <td>80400.00000</td>\n",
       "      <td>0</td>\n",
       "      <td>0</td>\n",
       "      <td>0</td>\n",
       "      <td>0</td>\n",
       "    </tr>\n",
       "    <tr>\n",
       "      <th>34001001500</th>\n",
       "      <td>93400.00000</td>\n",
       "      <td>0</td>\n",
       "      <td>0</td>\n",
       "      <td>0</td>\n",
       "      <td>0</td>\n",
       "    </tr>\n",
       "    <tr>\n",
       "      <th>34001001900</th>\n",
       "      <td>-143200.00000</td>\n",
       "      <td>0</td>\n",
       "      <td>1</td>\n",
       "      <td>0</td>\n",
       "      <td>0</td>\n",
       "    </tr>\n",
       "    <tr>\n",
       "      <th>34001010101</th>\n",
       "      <td>188509.26052</td>\n",
       "      <td>0</td>\n",
       "      <td>1</td>\n",
       "      <td>1</td>\n",
       "      <td>1</td>\n",
       "    </tr>\n",
       "  </tbody>\n",
       "</table>\n",
       "</div>"
      ],
      "text/plain": [
       "               mhval00_16  rentchange_High90  rhomeValchange_High90  \\\n",
       "34001000100   95300.00000                  0                      0   \n",
       "34001000200  104500.00000                  0                      0   \n",
       "34001000300   81000.00000                  1                      1   \n",
       "34001000500   80400.00000                  0                      0   \n",
       "34001001500   93400.00000                  0                      0   \n",
       "34001001900 -143200.00000                  0                      1   \n",
       "34001010101  188509.26052                  0                      1   \n",
       "\n",
       "             rentchange_High00  rhomeValchange_High00  \n",
       "34001000100                  0                      0  \n",
       "34001000200                  0                      0  \n",
       "34001000300                  0                      0  \n",
       "34001000500                  0                      0  \n",
       "34001001500                  0                      0  \n",
       "34001001900                  0                      0  \n",
       "34001010101                  1                      1  "
      ]
     },
     "execution_count": 107,
     "metadata": {},
     "output_type": "execute_result"
    }
   ],
   "source": [
    "# 1990 base\n",
    "data['rentchange_High90'] = np.where(data['mrent90_00'] > data['mrent90_00'].median(), 1, 0)\n",
    "data['rhomeValchange_High90'] = np.where(data['mhval90_00'] > data['mhval90_00'].median(), 1, 0)\n",
    "\n",
    "# 2000 base\n",
    "data['rentchange_High00'] = np.where(data['mrent00_16'] > data['mrent00_16'].median(), 1, 0)\n",
    "data['rhomeValchange_High00'] = np.where(data['mhval00_16'] > data['mhval00_16'].median(), 1, 0)\n",
    "\n",
    "data.iloc[:,-5:].head(7)"
   ]
  },
  {
   "cell_type": "markdown",
   "metadata": {},
   "source": [
    "## Define \"Hot Market\"\n",
    "one out of two options of changing market (rent / home value)"
   ]
  },
  {
   "cell_type": "code",
   "execution_count": 108,
   "metadata": {},
   "outputs": [],
   "source": [
    "def hotmarket90(df):\n",
    "    if df['rentchange_High90'] == 1 or df['rhomeValchange_High90'] == 1 and df['rentchange_High90'] == 1:\n",
    "        val = 1\n",
    "    else:\n",
    "        val = 0\n",
    "    return val"
   ]
  },
  {
   "cell_type": "code",
   "execution_count": 109,
   "metadata": {},
   "outputs": [],
   "source": [
    "def hotmarket00(df):\n",
    "    if df['rentchange_High00'] == 1 or df['rhomeValchange_High00'] == 1 and df['rentchange_High00'] == 1:\n",
    "        val = 1\n",
    "    else:\n",
    "        val = 0\n",
    "    return val"
   ]
  },
  {
   "cell_type": "code",
   "execution_count": 110,
   "metadata": {},
   "outputs": [
    {
     "data": {
      "text/html": [
       "<div>\n",
       "<style scoped>\n",
       "    .dataframe tbody tr th:only-of-type {\n",
       "        vertical-align: middle;\n",
       "    }\n",
       "\n",
       "    .dataframe tbody tr th {\n",
       "        vertical-align: top;\n",
       "    }\n",
       "\n",
       "    .dataframe thead th {\n",
       "        text-align: right;\n",
       "    }\n",
       "</style>\n",
       "<table border=\"1\" class=\"dataframe\">\n",
       "  <thead>\n",
       "    <tr style=\"text-align: right;\">\n",
       "      <th></th>\n",
       "      <th>rentchange_High90</th>\n",
       "      <th>rhomeValchange_High90</th>\n",
       "      <th>rentchange_High00</th>\n",
       "      <th>rhomeValchange_High00</th>\n",
       "      <th>hotmarket90</th>\n",
       "      <th>hotmarket00</th>\n",
       "    </tr>\n",
       "  </thead>\n",
       "  <tbody>\n",
       "    <tr>\n",
       "      <th>34001000100</th>\n",
       "      <td>0</td>\n",
       "      <td>0</td>\n",
       "      <td>0</td>\n",
       "      <td>0</td>\n",
       "      <td>0</td>\n",
       "      <td>0</td>\n",
       "    </tr>\n",
       "    <tr>\n",
       "      <th>34001000200</th>\n",
       "      <td>0</td>\n",
       "      <td>0</td>\n",
       "      <td>0</td>\n",
       "      <td>0</td>\n",
       "      <td>0</td>\n",
       "      <td>0</td>\n",
       "    </tr>\n",
       "    <tr>\n",
       "      <th>34001000300</th>\n",
       "      <td>1</td>\n",
       "      <td>1</td>\n",
       "      <td>0</td>\n",
       "      <td>0</td>\n",
       "      <td>1</td>\n",
       "      <td>0</td>\n",
       "    </tr>\n",
       "    <tr>\n",
       "      <th>34001000500</th>\n",
       "      <td>0</td>\n",
       "      <td>0</td>\n",
       "      <td>0</td>\n",
       "      <td>0</td>\n",
       "      <td>0</td>\n",
       "      <td>0</td>\n",
       "    </tr>\n",
       "    <tr>\n",
       "      <th>34001001500</th>\n",
       "      <td>0</td>\n",
       "      <td>0</td>\n",
       "      <td>0</td>\n",
       "      <td>0</td>\n",
       "      <td>0</td>\n",
       "      <td>0</td>\n",
       "    </tr>\n",
       "    <tr>\n",
       "      <th>34001001900</th>\n",
       "      <td>0</td>\n",
       "      <td>1</td>\n",
       "      <td>0</td>\n",
       "      <td>0</td>\n",
       "      <td>0</td>\n",
       "      <td>0</td>\n",
       "    </tr>\n",
       "    <tr>\n",
       "      <th>34001010101</th>\n",
       "      <td>0</td>\n",
       "      <td>1</td>\n",
       "      <td>1</td>\n",
       "      <td>1</td>\n",
       "      <td>0</td>\n",
       "      <td>1</td>\n",
       "    </tr>\n",
       "  </tbody>\n",
       "</table>\n",
       "</div>"
      ],
      "text/plain": [
       "             rentchange_High90  rhomeValchange_High90  rentchange_High00  \\\n",
       "34001000100                  0                      0                  0   \n",
       "34001000200                  0                      0                  0   \n",
       "34001000300                  1                      1                  0   \n",
       "34001000500                  0                      0                  0   \n",
       "34001001500                  0                      0                  0   \n",
       "34001001900                  0                      1                  0   \n",
       "34001010101                  0                      1                  1   \n",
       "\n",
       "             rhomeValchange_High00  hotmarket90  hotmarket00  \n",
       "34001000100                      0            0            0  \n",
       "34001000200                      0            0            0  \n",
       "34001000300                      0            1            0  \n",
       "34001000500                      0            0            0  \n",
       "34001001500                      0            0            0  \n",
       "34001001900                      0            0            0  \n",
       "34001010101                      1            0            1  "
      ]
     },
     "execution_count": 110,
     "metadata": {},
     "output_type": "execute_result"
    }
   ],
   "source": [
    "data['hotmarket90'] = data.apply(hotmarket90, axis=1)\n",
    "data['hotmarket00'] = data.apply(hotmarket00, axis=1)\n",
    "data.iloc[:,-6:].head(7)"
   ]
  },
  {
   "cell_type": "markdown",
   "metadata": {},
   "source": [
    "## Define risk0\n",
    "2 out of the 4 of the following is true in 2016 (select only one 'hot market' from the 2 'hot market' option)\n",
    "- Has rail station in tract\n",
    "- % of units in pre-1950 buildings > regional median\n",
    "- Employment density (2014)> regional median\n",
    "- “Hot market”"
   ]
  },
  {
   "cell_type": "code",
   "execution_count": 111,
   "metadata": {},
   "outputs": [],
   "source": [
    "# risk 1990\n",
    "\n",
    "def risk90(df):\n",
    "    if df['TOD'] == 1 and df['units_pre50_High'] == 1 and df['empdens14_High'] == 1:\n",
    "        val = 1\n",
    "    elif df['TOD'] == 1 and df['units_pre50_High'] == 1 and df['hotmarket90'] == 1:\n",
    "        val = 1\n",
    "    elif df['TOD'] == 1 and df['empdens14_High'] == 1 and df['hotmarket90'] == 1:\n",
    "        val = 1\n",
    "    elif df['units_pre50_High'] == 1 and df['empdens14_High'] == 1 and df['hotmarket90'] == 1:\n",
    "        val = 1\n",
    "    else:\n",
    "        val = 0\n",
    "    return val"
   ]
  },
  {
   "cell_type": "code",
   "execution_count": 112,
   "metadata": {},
   "outputs": [],
   "source": [
    "# risk 2000\n",
    "\n",
    "def risk00(df):\n",
    "    if df['TOD'] == 1 and df['units_pre50_High'] == 1 and df['empdens14_High'] == 1:\n",
    "        val = 1\n",
    "    elif df['TOD'] == 1 and df['units_pre50_High'] == 1 and df['hotmarket00'] == 1:\n",
    "        val = 1\n",
    "    elif df['TOD'] == 1 and df['empdens14_High'] == 1 and df['hotmarket00'] == 1:\n",
    "        val = 1\n",
    "    elif df['units_pre50_High'] == 1 and df['empdens14_High'] == 1 and df['hotmarket00'] == 1:\n",
    "        val = 1\n",
    "    else:\n",
    "        val = 0\n",
    "    return val"
   ]
  },
  {
   "cell_type": "code",
   "execution_count": 113,
   "metadata": {},
   "outputs": [
    {
     "data": {
      "text/plain": [
       "0       0.0\n",
       "1       0.0\n",
       "2       0.0\n",
       "3       0.0\n",
       "4       0.0\n",
       "5       0.0\n",
       "6       0.0\n",
       "7       1.0\n",
       "8       0.0\n",
       "9       1.0\n",
       "10      0.0\n",
       "11      1.0\n",
       "12      1.0\n",
       "13      0.0\n",
       "14      0.0\n",
       "15      0.0\n",
       "16      0.0\n",
       "17      0.0\n",
       "18      0.0\n",
       "19      0.0\n",
       "20      0.0\n",
       "21      0.0\n",
       "22      0.0\n",
       "23      0.0\n",
       "24      1.0\n",
       "25      1.0\n",
       "26      0.0\n",
       "27      0.0\n",
       "28      0.0\n",
       "29      0.0\n",
       "       ... \n",
       "5276    1.0\n",
       "5277    0.0\n",
       "5278    0.0\n",
       "5279    0.0\n",
       "5280    0.0\n",
       "5281    0.0\n",
       "5282    1.0\n",
       "5283    0.0\n",
       "5284    0.0\n",
       "5285    0.0\n",
       "5286    0.0\n",
       "5287    0.0\n",
       "5288    0.0\n",
       "5289    0.0\n",
       "5290    0.0\n",
       "5291    0.0\n",
       "5292    0.0\n",
       "5293    0.0\n",
       "5294    0.0\n",
       "5295    0.0\n",
       "5296    0.0\n",
       "5297    0.0\n",
       "5298    0.0\n",
       "5299    0.0\n",
       "5300    1.0\n",
       "5301    0.0\n",
       "5302    0.0\n",
       "5303    0.0\n",
       "5304    0.0\n",
       "5305    0.0\n",
       "Name: TOD, Length: 5306, dtype: float64"
      ]
     },
     "execution_count": 113,
     "metadata": {},
     "output_type": "execute_result"
    }
   ],
   "source": [
    "df_aram['TOD']"
   ]
  },
  {
   "cell_type": "code",
   "execution_count": 114,
   "metadata": {},
   "outputs": [
    {
     "data": {
      "text/plain": [
       "0    3354\n",
       "1    1177\n",
       "Name: risk90, dtype: int64"
      ]
     },
     "execution_count": 114,
     "metadata": {},
     "output_type": "execute_result"
    }
   ],
   "source": [
    "data['risk90'] = data.apply(risk90, axis=1)\n",
    "data['risk90'].value_counts()"
   ]
  },
  {
   "cell_type": "code",
   "execution_count": 115,
   "metadata": {},
   "outputs": [
    {
     "data": {
      "text/plain": [
       "0    3363\n",
       "1    1168\n",
       "Name: risk00, dtype: int64"
      ]
     },
     "execution_count": 115,
     "metadata": {},
     "output_type": "execute_result"
    }
   ],
   "source": [
    "data['risk00'] = data.apply(risk00, axis=1)\n",
    "data['risk00'].value_counts()"
   ]
  },
  {
   "cell_type": "code",
   "execution_count": 116,
   "metadata": {},
   "outputs": [
    {
     "data": {
      "text/plain": [
       "(2410, 171)"
      ]
     },
     "execution_count": 116,
     "metadata": {},
     "output_type": "execute_result"
    }
   ],
   "source": [
    "# create a df with only low income tracts\n",
    "\n",
    "df_LI = data[data['li_tract16'] == 1]\n",
    "df_LI.shape"
   ]
  },
  {
   "cell_type": "markdown",
   "metadata": {},
   "source": [
    "### There are 2760 LI tracts in the NY region in 2016"
   ]
  },
  {
   "cell_type": "markdown",
   "metadata": {},
   "source": [
    "## recalculating popgrowth 90-00; 00-16"
   ]
  },
  {
   "cell_type": "code",
   "execution_count": 117,
   "metadata": {},
   "outputs": [
    {
     "data": {
      "text/html": [
       "<div>\n",
       "<style scoped>\n",
       "    .dataframe tbody tr th:only-of-type {\n",
       "        vertical-align: middle;\n",
       "    }\n",
       "\n",
       "    .dataframe tbody tr th {\n",
       "        vertical-align: top;\n",
       "    }\n",
       "\n",
       "    .dataframe thead th {\n",
       "        text-align: right;\n",
       "    }\n",
       "</style>\n",
       "<table border=\"1\" class=\"dataframe\">\n",
       "  <thead>\n",
       "    <tr style=\"text-align: right;\">\n",
       "      <th></th>\n",
       "      <th>risk00</th>\n",
       "      <th>popgrowth90-00</th>\n",
       "      <th>popgrowth00-16</th>\n",
       "    </tr>\n",
       "  </thead>\n",
       "  <tbody>\n",
       "    <tr>\n",
       "      <th>34001000100</th>\n",
       "      <td>0</td>\n",
       "      <td>231.0</td>\n",
       "      <td>141.0</td>\n",
       "    </tr>\n",
       "    <tr>\n",
       "      <th>34001000200</th>\n",
       "      <td>0</td>\n",
       "      <td>628.0</td>\n",
       "      <td>-165.0</td>\n",
       "    </tr>\n",
       "    <tr>\n",
       "      <th>34001000300</th>\n",
       "      <td>0</td>\n",
       "      <td>842.0</td>\n",
       "      <td>789.0</td>\n",
       "    </tr>\n",
       "  </tbody>\n",
       "</table>\n",
       "</div>"
      ],
      "text/plain": [
       "             risk00  popgrowth90-00  popgrowth00-16\n",
       "34001000100       0           231.0           141.0\n",
       "34001000200       0           628.0          -165.0\n",
       "34001000300       0           842.0           789.0"
      ]
     },
     "execution_count": 117,
     "metadata": {},
     "output_type": "execute_result"
    }
   ],
   "source": [
    "# recalculating popgrowth 90-00; 00-16\n",
    "data['popgrowth90-00'] = data['pop_00'] - data['pop_90']\n",
    "data['popgrowth00-16'] = data['pop_16'] - data['pop_00']\n",
    "\n",
    "data.iloc[:,-3:].head(3)"
   ]
  },
  {
   "cell_type": "markdown",
   "metadata": {},
   "source": [
    "## Define Population stable or growing 1990-2000; 2000-2016  ( >= 0 )"
   ]
  },
  {
   "cell_type": "code",
   "execution_count": 118,
   "metadata": {},
   "outputs": [
    {
     "data": {
      "text/html": [
       "<div>\n",
       "<style scoped>\n",
       "    .dataframe tbody tr th:only-of-type {\n",
       "        vertical-align: middle;\n",
       "    }\n",
       "\n",
       "    .dataframe tbody tr th {\n",
       "        vertical-align: top;\n",
       "    }\n",
       "\n",
       "    .dataframe thead th {\n",
       "        text-align: right;\n",
       "    }\n",
       "</style>\n",
       "<table border=\"1\" class=\"dataframe\">\n",
       "  <thead>\n",
       "    <tr style=\"text-align: right;\">\n",
       "      <th></th>\n",
       "      <th>popgrowth90-00</th>\n",
       "      <th>popgrowth00-16</th>\n",
       "      <th>pgrowth90-00_High</th>\n",
       "      <th>pgrowth00-16_High</th>\n",
       "    </tr>\n",
       "  </thead>\n",
       "  <tbody>\n",
       "    <tr>\n",
       "      <th>34001000100</th>\n",
       "      <td>231.0</td>\n",
       "      <td>141.0</td>\n",
       "      <td>1</td>\n",
       "      <td>1</td>\n",
       "    </tr>\n",
       "    <tr>\n",
       "      <th>34001000200</th>\n",
       "      <td>628.0</td>\n",
       "      <td>-165.0</td>\n",
       "      <td>1</td>\n",
       "      <td>0</td>\n",
       "    </tr>\n",
       "    <tr>\n",
       "      <th>34001000300</th>\n",
       "      <td>842.0</td>\n",
       "      <td>789.0</td>\n",
       "      <td>1</td>\n",
       "      <td>1</td>\n",
       "    </tr>\n",
       "    <tr>\n",
       "      <th>34001000500</th>\n",
       "      <td>565.0</td>\n",
       "      <td>440.0</td>\n",
       "      <td>1</td>\n",
       "      <td>1</td>\n",
       "    </tr>\n",
       "    <tr>\n",
       "      <th>34001001500</th>\n",
       "      <td>-512.0</td>\n",
       "      <td>-148.0</td>\n",
       "      <td>0</td>\n",
       "      <td>0</td>\n",
       "    </tr>\n",
       "  </tbody>\n",
       "</table>\n",
       "</div>"
      ],
      "text/plain": [
       "             popgrowth90-00  popgrowth00-16  pgrowth90-00_High  \\\n",
       "34001000100           231.0           141.0                  1   \n",
       "34001000200           628.0          -165.0                  1   \n",
       "34001000300           842.0           789.0                  1   \n",
       "34001000500           565.0           440.0                  1   \n",
       "34001001500          -512.0          -148.0                  0   \n",
       "\n",
       "             pgrowth00-16_High  \n",
       "34001000100                  1  \n",
       "34001000200                  0  \n",
       "34001000300                  1  \n",
       "34001000500                  1  \n",
       "34001001500                  0  "
      ]
     },
     "execution_count": 118,
     "metadata": {},
     "output_type": "execute_result"
    }
   ],
   "source": [
    "data['pgrowth90-00_High'] = np.where(data['popgrowth90-00'] >= 0, 1, 0)\n",
    "data['pgrowth00-16_High'] = np.where(data['popgrowth00-16'] >= 0, 1, 0)\n",
    "data.iloc[:,-4:].head()"
   ]
  },
  {
   "cell_type": "markdown",
   "metadata": {},
   "source": [
    "## Define Loss of LI households 1990-2000; 2000-2016 (absolute loss)\n",
    "- ch_all_li_count90_00 < 0\n",
    "- ch_all_li_count00_16 < 0"
   ]
  },
  {
   "cell_type": "code",
   "execution_count": 119,
   "metadata": {},
   "outputs": [],
   "source": [
    "data['ch_all_li_count90_00'] = data['vli_00'] + data['li_00'] - data['vli_90'] - data['li_90']"
   ]
  },
  {
   "cell_type": "code",
   "execution_count": 120,
   "metadata": {},
   "outputs": [],
   "source": [
    "data['ch_all_li_count00_16'] = data['vli_16'] + data['li_16'] - data['vli_00'] - data['li_00']"
   ]
  },
  {
   "cell_type": "code",
   "execution_count": 121,
   "metadata": {},
   "outputs": [
    {
     "data": {
      "text/html": [
       "<div>\n",
       "<style scoped>\n",
       "    .dataframe tbody tr th:only-of-type {\n",
       "        vertical-align: middle;\n",
       "    }\n",
       "\n",
       "    .dataframe tbody tr th {\n",
       "        vertical-align: top;\n",
       "    }\n",
       "\n",
       "    .dataframe thead th {\n",
       "        text-align: right;\n",
       "    }\n",
       "</style>\n",
       "<table border=\"1\" class=\"dataframe\">\n",
       "  <thead>\n",
       "    <tr style=\"text-align: right;\">\n",
       "      <th></th>\n",
       "      <th>ch_all_li_count00_16</th>\n",
       "      <th>lossLI90-00</th>\n",
       "      <th>lossLI00-16</th>\n",
       "    </tr>\n",
       "  </thead>\n",
       "  <tbody>\n",
       "    <tr>\n",
       "      <th>34001000100</th>\n",
       "      <td>0.072775</td>\n",
       "      <td>0</td>\n",
       "      <td>0</td>\n",
       "    </tr>\n",
       "    <tr>\n",
       "      <th>34001000200</th>\n",
       "      <td>0.089685</td>\n",
       "      <td>0</td>\n",
       "      <td>0</td>\n",
       "    </tr>\n",
       "    <tr>\n",
       "      <th>34001000300</th>\n",
       "      <td>0.119947</td>\n",
       "      <td>1</td>\n",
       "      <td>0</td>\n",
       "    </tr>\n",
       "    <tr>\n",
       "      <th>34001000500</th>\n",
       "      <td>0.160070</td>\n",
       "      <td>1</td>\n",
       "      <td>0</td>\n",
       "    </tr>\n",
       "    <tr>\n",
       "      <th>34001001500</th>\n",
       "      <td>-0.005158</td>\n",
       "      <td>0</td>\n",
       "      <td>1</td>\n",
       "    </tr>\n",
       "  </tbody>\n",
       "</table>\n",
       "</div>"
      ],
      "text/plain": [
       "             ch_all_li_count00_16  lossLI90-00  lossLI00-16\n",
       "34001000100              0.072775            0            0\n",
       "34001000200              0.089685            0            0\n",
       "34001000300              0.119947            1            0\n",
       "34001000500              0.160070            1            0\n",
       "34001001500             -0.005158            0            1"
      ]
     },
     "execution_count": 121,
     "metadata": {},
     "output_type": "execute_result"
    }
   ],
   "source": [
    "data['lossLI90-00'] = np.where(data['ch_all_li_count90_00'] < 0, 1, 0)\n",
    "data['lossLI00-16'] = np.where(data['ch_all_li_count00_16'] < 0, 1, 0)\n",
    "\n",
    "data.iloc[:,-3:].head()"
   ]
  },
  {
   "cell_type": "markdown",
   "metadata": {},
   "source": [
    "## Define LI migration rate in 2015 < in 2009\n",
    "\n",
    "per_limove09 > per_limove16"
   ]
  },
  {
   "cell_type": "code",
   "execution_count": 122,
   "metadata": {},
   "outputs": [
    {
     "data": {
      "text/plain": [
       "array(['GEOid2', 'TOD', 'ag25up', 'all_li_count00', 'all_li_count16',\n",
       "       'all_li_count90', 'bachelors', 'ch_all_li_count00_16',\n",
       "       'ch_all_li_count90_00', 'co_med_indinc16', 'denominator',\n",
       "       'doctorate', 'empd15', 'hh00', 'hh16', 'hi1990', 'hi2000',\n",
       "       'hi2016', 'hinc16', 'hmi1990', 'hmi2000', 'hmi2016', 'hu16',\n",
       "       'li1990', 'li2000', 'li2016', 'masters', 'mhval00', 'mhval00_16',\n",
       "       'mhval16', 'mhval90', 'mhval90_00', 'mi1990', 'mi2000', 'mi2016',\n",
       "       'moe_bachelors', 'moe_doctorates', 'moe_hh16', 'moe_hinc16',\n",
       "       'moe_hu16', 'moe_masters', 'moe_mhval16', 'moe_mrent16',\n",
       "       'moe_owner16', 'moe_pop16', 'moe_professionals', 'moe_renter16',\n",
       "       'moveinincd16', 'mrent00', 'mrent00_16', 'mrent16', 'mrent90',\n",
       "       'mrent90_00', 'ohu00', 'ohu16', 'ohu90', 'per_all_li00',\n",
       "       'per_all_li16', 'per_all_li90', 'per_col00', 'per_col90',\n",
       "       'per_col_16', 'per_limove09', 'per_limove16', 'per_nonwhite00',\n",
       "       'per_nonwhite16', 'per_nonwhite90', 'per_rent00', 'per_rent16',\n",
       "       'per_rent90', 'per_units_pre50', 'pop00', 'pop16', 'pop90',\n",
       "       'popgrowth', 'professional', 'rhu16', 'rou00', 'rou90', 'vhi1990',\n",
       "       'vhi2000', 'vhi2016', 'vli1990', 'vli2000', 'vli2016'],\n",
       "      dtype=object)"
      ]
     },
     "execution_count": 122,
     "metadata": {},
     "output_type": "execute_result"
    }
   ],
   "source": [
    "np.sort(df_aram.columns)"
   ]
  },
  {
   "cell_type": "code",
   "execution_count": 123,
   "metadata": {},
   "outputs": [
    {
     "data": {
      "text/html": [
       "<div>\n",
       "<style scoped>\n",
       "    .dataframe tbody tr th:only-of-type {\n",
       "        vertical-align: middle;\n",
       "    }\n",
       "\n",
       "    .dataframe tbody tr th {\n",
       "        vertical-align: top;\n",
       "    }\n",
       "\n",
       "    .dataframe thead th {\n",
       "        text-align: right;\n",
       "    }\n",
       "</style>\n",
       "<table border=\"1\" class=\"dataframe\">\n",
       "  <thead>\n",
       "    <tr style=\"text-align: right;\">\n",
       "      <th></th>\n",
       "      <th>lossLI90-00</th>\n",
       "      <th>lossLI00-16</th>\n",
       "      <th>moveinLI_decrease00</th>\n",
       "    </tr>\n",
       "  </thead>\n",
       "  <tbody>\n",
       "    <tr>\n",
       "      <th>34001000100</th>\n",
       "      <td>0</td>\n",
       "      <td>0</td>\n",
       "      <td>0</td>\n",
       "    </tr>\n",
       "    <tr>\n",
       "      <th>34001000200</th>\n",
       "      <td>0</td>\n",
       "      <td>0</td>\n",
       "      <td>0</td>\n",
       "    </tr>\n",
       "    <tr>\n",
       "      <th>34001000300</th>\n",
       "      <td>1</td>\n",
       "      <td>0</td>\n",
       "      <td>0</td>\n",
       "    </tr>\n",
       "    <tr>\n",
       "      <th>34001000500</th>\n",
       "      <td>1</td>\n",
       "      <td>0</td>\n",
       "      <td>0</td>\n",
       "    </tr>\n",
       "    <tr>\n",
       "      <th>34001001500</th>\n",
       "      <td>0</td>\n",
       "      <td>1</td>\n",
       "      <td>0</td>\n",
       "    </tr>\n",
       "  </tbody>\n",
       "</table>\n",
       "</div>"
      ],
      "text/plain": [
       "             lossLI90-00  lossLI00-16  moveinLI_decrease00\n",
       "34001000100            0            0                    0\n",
       "34001000200            0            0                    0\n",
       "34001000300            1            0                    0\n",
       "34001000500            1            0                    0\n",
       "34001001500            0            1                    0"
      ]
     },
     "execution_count": 123,
     "metadata": {},
     "output_type": "execute_result"
    }
   ],
   "source": [
    "data['moveinLI_decrease00'] = np.where(data['per_all_li_mig_16'] < data['per_all_li_mig_10'], 1, 0)\n",
    "data.iloc[:,-3:].head()"
   ]
  },
  {
   "cell_type": "markdown",
   "metadata": {},
   "source": [
    "## Change in college educators % 90-00, 00-16"
   ]
  },
  {
   "cell_type": "code",
   "execution_count": 124,
   "metadata": {},
   "outputs": [
    {
     "data": {
      "text/html": [
       "<div>\n",
       "<style scoped>\n",
       "    .dataframe tbody tr th:only-of-type {\n",
       "        vertical-align: middle;\n",
       "    }\n",
       "\n",
       "    .dataframe tbody tr th {\n",
       "        vertical-align: top;\n",
       "    }\n",
       "\n",
       "    .dataframe thead th {\n",
       "        text-align: right;\n",
       "    }\n",
       "</style>\n",
       "<table border=\"1\" class=\"dataframe\">\n",
       "  <thead>\n",
       "    <tr style=\"text-align: right;\">\n",
       "      <th></th>\n",
       "      <th>moveinLI_decrease00</th>\n",
       "      <th>edu_change90-00</th>\n",
       "      <th>edu_change00-16</th>\n",
       "    </tr>\n",
       "  </thead>\n",
       "  <tbody>\n",
       "    <tr>\n",
       "      <th>34001000100</th>\n",
       "      <td>0</td>\n",
       "      <td>0.026653</td>\n",
       "      <td>0.501151</td>\n",
       "    </tr>\n",
       "    <tr>\n",
       "      <th>34001000200</th>\n",
       "      <td>0</td>\n",
       "      <td>-0.073290</td>\n",
       "      <td>0.630765</td>\n",
       "    </tr>\n",
       "    <tr>\n",
       "      <th>34001000300</th>\n",
       "      <td>0</td>\n",
       "      <td>0.046627</td>\n",
       "      <td>0.530168</td>\n",
       "    </tr>\n",
       "    <tr>\n",
       "      <th>34001000500</th>\n",
       "      <td>0</td>\n",
       "      <td>-0.001909</td>\n",
       "      <td>0.535628</td>\n",
       "    </tr>\n",
       "    <tr>\n",
       "      <th>34001001500</th>\n",
       "      <td>0</td>\n",
       "      <td>0.020533</td>\n",
       "      <td>0.568357</td>\n",
       "    </tr>\n",
       "  </tbody>\n",
       "</table>\n",
       "</div>"
      ],
      "text/plain": [
       "             moveinLI_decrease00  edu_change90-00  edu_change00-16\n",
       "34001000100                    0         0.026653         0.501151\n",
       "34001000200                    0        -0.073290         0.630765\n",
       "34001000300                    0         0.046627         0.530168\n",
       "34001000500                    0        -0.001909         0.535628\n",
       "34001001500                    0         0.020533         0.568357"
      ]
     },
     "execution_count": 124,
     "metadata": {},
     "output_type": "execute_result"
    }
   ],
   "source": [
    "data['edu_change90-00'] = data['per_col_00'] - data['per_col_90']\n",
    "data['edu_change00-16'] = data['per_col_16'] - data['per_col_00']\n",
    "\n",
    "data.iloc[:,-3:].head()"
   ]
  },
  {
   "cell_type": "markdown",
   "metadata": {},
   "source": [
    "## Define Educated growth > region median"
   ]
  },
  {
   "cell_type": "code",
   "execution_count": 125,
   "metadata": {},
   "outputs": [
    {
     "data": {
      "text/html": [
       "<div>\n",
       "<style scoped>\n",
       "    .dataframe tbody tr th:only-of-type {\n",
       "        vertical-align: middle;\n",
       "    }\n",
       "\n",
       "    .dataframe tbody tr th {\n",
       "        vertical-align: top;\n",
       "    }\n",
       "\n",
       "    .dataframe thead th {\n",
       "        text-align: right;\n",
       "    }\n",
       "</style>\n",
       "<table border=\"1\" class=\"dataframe\">\n",
       "  <thead>\n",
       "    <tr style=\"text-align: right;\">\n",
       "      <th></th>\n",
       "      <th>edu_change00-16</th>\n",
       "      <th>edugrowth_High90</th>\n",
       "      <th>edugrowth_High00</th>\n",
       "    </tr>\n",
       "  </thead>\n",
       "  <tbody>\n",
       "    <tr>\n",
       "      <th>34001000100</th>\n",
       "      <td>0.501151</td>\n",
       "      <td>1</td>\n",
       "      <td>0</td>\n",
       "    </tr>\n",
       "    <tr>\n",
       "      <th>34001000200</th>\n",
       "      <td>0.630765</td>\n",
       "      <td>0</td>\n",
       "      <td>1</td>\n",
       "    </tr>\n",
       "    <tr>\n",
       "      <th>34001000300</th>\n",
       "      <td>0.530168</td>\n",
       "      <td>1</td>\n",
       "      <td>0</td>\n",
       "    </tr>\n",
       "    <tr>\n",
       "      <th>34001000500</th>\n",
       "      <td>0.535628</td>\n",
       "      <td>0</td>\n",
       "      <td>0</td>\n",
       "    </tr>\n",
       "    <tr>\n",
       "      <th>34001001500</th>\n",
       "      <td>0.568357</td>\n",
       "      <td>0</td>\n",
       "      <td>1</td>\n",
       "    </tr>\n",
       "  </tbody>\n",
       "</table>\n",
       "</div>"
      ],
      "text/plain": [
       "             edu_change00-16  edugrowth_High90  edugrowth_High00\n",
       "34001000100         0.501151                 1                 0\n",
       "34001000200         0.630765                 0                 1\n",
       "34001000300         0.530168                 1                 0\n",
       "34001000500         0.535628                 0                 0\n",
       "34001001500         0.568357                 0                 1"
      ]
     },
     "execution_count": 125,
     "metadata": {},
     "output_type": "execute_result"
    }
   ],
   "source": [
    "data['edugrowth_High90'] = np.where(data['edu_change90-00'] > data['edu_change90-00'].median(), 1, 0)\n",
    "data['edugrowth_High00'] = np.where(data['edu_change00-16'] > data['edu_change00-16'].median(), 1, 0)\n",
    "\n",
    "data.iloc[:,-3:].head()"
   ]
  },
  {
   "cell_type": "markdown",
   "metadata": {
    "collapsed": true
   },
   "source": [
    "## Define Growth in real median household income (percent change) > regional median (90 and 00)"
   ]
  },
  {
   "cell_type": "code",
   "execution_count": 126,
   "metadata": {},
   "outputs": [
    {
     "data": {
      "text/plain": [
       "array(['NAME', 'TOD', 'TOD_00_10', 'TOD_10', 'TOD_pre_00', 'Volnurable00',\n",
       "       'Volnurable90', 'ch_all_li_count00_16', 'ch_all_li_count90_00',\n",
       "       'county', 'downtown', 'edu_change00-16', 'edu_change90-00',\n",
       "       'edugrowth_High00', 'edugrowth_High90', 'edulow00', 'edulow90',\n",
       "       'empd02', 'empd15', 'empdens14_High', 'hh_00', 'hh_16',\n",
       "       'hh_16_moe', 'hh_90', 'hi_00', 'hi_16', 'hi_16_moe', 'hi_90',\n",
       "       'hi_mig_10', 'hi_mig_10_moe', 'hi_mig_16', 'hi_mig_16_moe',\n",
       "       'hinc_00', 'hinc_16', 'hinc_16_moe', 'hinc_90', 'hotmarket00',\n",
       "       'hotmarket90', 'hu_00', 'hu_16', 'hu_16_moe', 'hu_90', 'li_00',\n",
       "       'li_16', 'li_16_moe', 'li_90', 'li_mig_10', 'li_mig_10_moe',\n",
       "       'li_mig_16', 'li_mig_16_moe', 'li_tract00', 'li_tract16',\n",
       "       'li_tract90', 'lossLI00-16', 'lossLI90-00', 'mhi_00', 'mhi_16',\n",
       "       'mhi_16_moe', 'mhi_90', 'mhi_mig_10', 'mhi_mig_10_moe',\n",
       "       'mhi_mig_16', 'mhi_mig_16_moe', 'mhval00_16', 'mhval90_00',\n",
       "       'mhval_00', 'mhval_16', 'mhval_16_moe', 'mhval_90', 'mi_00',\n",
       "       'mi_16', 'mi_16_moe', 'mi_90', 'mi_mig_10', 'mi_mig_10_moe',\n",
       "       'mi_mig_16', 'mi_mig_16_moe', 'moveinLI_decrease00', 'mrent00_16',\n",
       "       'mrent90_00', 'mrent_00', 'mrent_16', 'mrent_16_moe', 'mrent_90',\n",
       "       'nonwhiteHigh00', 'nonwhiteHigh16', 'nonwhiteHigh90',\n",
       "       'per_all_li_mig_10', 'per_all_li_mig_16', 'per_asian_00',\n",
       "       'per_asian_16', 'per_asian_16_moe', 'per_asian_90', 'per_black_00',\n",
       "       'per_black_16', 'per_black_16_moe', 'per_black_90',\n",
       "       'per_built_00_16', 'per_built_80_90', 'per_built_90_00',\n",
       "       'per_burden_00', 'per_burden_16', 'per_car_commute_90',\n",
       "       'per_col_00', 'per_col_16', 'per_col_16_moe', 'per_col_90',\n",
       "       'per_commute_high_00', 'per_commute_high_16',\n",
       "       'per_commute_high_16_moe', 'per_commute_high_90',\n",
       "       'per_commute_low_00', 'per_commute_low_16',\n",
       "       'per_commute_low_16_moe', 'per_commute_low_90',\n",
       "       'per_commute_med_00', 'per_commute_med_16',\n",
       "       'per_commute_med_16_moe', 'per_commute_med_90', 'per_foreign_00',\n",
       "       'per_foreign_16', 'per_foreign_16_moe', 'per_foreign_90',\n",
       "       'per_hhwchild_00', 'per_hhwchild_16', 'per_hhwchild_16_moe',\n",
       "       'per_hhwchild_90', 'per_latino_00', 'per_latino_16',\n",
       "       'per_latino_16_moe', 'per_latino_90', 'per_nonwhite_00',\n",
       "       'per_nonwhite_16', 'per_nonwhite_16_moe', 'per_nonwhite_90',\n",
       "       'per_owners_00', 'per_owners_16', 'per_owners_16_moe',\n",
       "       'per_owners_90', 'per_rent_00', 'per_rent_16', 'per_rent_16_moe',\n",
       "       'per_rent_90', 'per_units_post80', 'per_units_pre50',\n",
       "       'per_units_pre50_16', 'pgrowth00-16_High', 'pgrowth90-00_High',\n",
       "       'pop_00', 'pop_16', 'pop_16_moe', 'pop_90', 'popgrowth00-16',\n",
       "       'popgrowth90-00', 'rentchange_High00', 'rentchange_High90',\n",
       "       'renters%00', 'renters%16', 'renters%90', 'renters_pre_1979_16',\n",
       "       'rhomeValchange_High00', 'rhomeValchange_High90', 'risk00',\n",
       "       'risk90', 'state', 'tract', 'units_pre50_High', 'vhi_00', 'vhi_16',\n",
       "       'vhi_16_moe', 'vhi_90', 'vhi_mig_10', 'vhi_mig_10_moe',\n",
       "       'vhi_mig_16', 'vhi_mig_16_moe', 'vli_00', 'vli_16', 'vli_16_moe',\n",
       "       'vli_90', 'vli_mig_10', 'vli_mig_10_moe', 'vli_mig_16',\n",
       "       'vli_mig_16_moe', 'vli_tract16'], dtype='<U23')"
      ]
     },
     "execution_count": 126,
     "metadata": {},
     "output_type": "execute_result"
    }
   ],
   "source": [
    "np.sort(list(data.columns))"
   ]
  },
  {
   "cell_type": "code",
   "execution_count": 127,
   "metadata": {},
   "outputs": [],
   "source": [
    "data['pct_ch_hinc90_00'] = data['hinc_00'] - data['hinc_90']"
   ]
  },
  {
   "cell_type": "code",
   "execution_count": 128,
   "metadata": {},
   "outputs": [],
   "source": [
    "data['pct_ch_hinc00_16'] = data['hinc_16'] - data['hinc_00']"
   ]
  },
  {
   "cell_type": "code",
   "execution_count": 129,
   "metadata": {},
   "outputs": [
    {
     "data": {
      "text/html": [
       "<div>\n",
       "<style scoped>\n",
       "    .dataframe tbody tr th:only-of-type {\n",
       "        vertical-align: middle;\n",
       "    }\n",
       "\n",
       "    .dataframe tbody tr th {\n",
       "        vertical-align: top;\n",
       "    }\n",
       "\n",
       "    .dataframe thead th {\n",
       "        text-align: right;\n",
       "    }\n",
       "</style>\n",
       "<table border=\"1\" class=\"dataframe\">\n",
       "  <thead>\n",
       "    <tr style=\"text-align: right;\">\n",
       "      <th></th>\n",
       "      <th>pct_ch_hinc90_00</th>\n",
       "      <th>pct_ch_hinc00_16</th>\n",
       "      <th>hhIncomeGrowthHigh90</th>\n",
       "      <th>hhIncomeGrowthHigh00</th>\n",
       "    </tr>\n",
       "  </thead>\n",
       "  <tbody>\n",
       "    <tr>\n",
       "      <th>34001000100</th>\n",
       "      <td>225.0</td>\n",
       "      <td>3029.0</td>\n",
       "      <td>0</td>\n",
       "      <td>0</td>\n",
       "    </tr>\n",
       "    <tr>\n",
       "      <th>34001000200</th>\n",
       "      <td>3538.0</td>\n",
       "      <td>3118.0</td>\n",
       "      <td>0</td>\n",
       "      <td>0</td>\n",
       "    </tr>\n",
       "    <tr>\n",
       "      <th>34001000300</th>\n",
       "      <td>12997.0</td>\n",
       "      <td>-288.0</td>\n",
       "      <td>1</td>\n",
       "      <td>0</td>\n",
       "    </tr>\n",
       "    <tr>\n",
       "      <th>34001000500</th>\n",
       "      <td>10685.0</td>\n",
       "      <td>-1982.0</td>\n",
       "      <td>0</td>\n",
       "      <td>0</td>\n",
       "    </tr>\n",
       "    <tr>\n",
       "      <th>34001001500</th>\n",
       "      <td>846.0</td>\n",
       "      <td>7198.0</td>\n",
       "      <td>0</td>\n",
       "      <td>0</td>\n",
       "    </tr>\n",
       "  </tbody>\n",
       "</table>\n",
       "</div>"
      ],
      "text/plain": [
       "             pct_ch_hinc90_00  pct_ch_hinc00_16  hhIncomeGrowthHigh90  \\\n",
       "34001000100             225.0            3029.0                     0   \n",
       "34001000200            3538.0            3118.0                     0   \n",
       "34001000300           12997.0            -288.0                     1   \n",
       "34001000500           10685.0           -1982.0                     0   \n",
       "34001001500             846.0            7198.0                     0   \n",
       "\n",
       "             hhIncomeGrowthHigh00  \n",
       "34001000100                     0  \n",
       "34001000200                     0  \n",
       "34001000300                     0  \n",
       "34001000500                     0  \n",
       "34001001500                     0  "
      ]
     },
     "execution_count": 129,
     "metadata": {},
     "output_type": "execute_result"
    }
   ],
   "source": [
    "data['hhIncomeGrowthHigh90'] = np.where(data['pct_ch_hinc90_00'] > data['pct_ch_hinc90_00'].median(), 1, 0)\n",
    "data['hhIncomeGrowthHigh00'] = np.where(data['pct_ch_hinc00_16'] > data['pct_ch_hinc00_16'].median(), 1, 0)\n",
    "\n",
    "data.iloc[:,-4:].head()"
   ]
  },
  {
   "cell_type": "markdown",
   "metadata": {},
   "source": [
    "## Define  Demographic change 90-00, 00-16 (2 out of 3 factors)"
   ]
  },
  {
   "cell_type": "code",
   "execution_count": 130,
   "metadata": {},
   "outputs": [],
   "source": [
    "# Demographic change 90-00\n",
    "\n",
    "def Dchange90(df):\n",
    "    if df['edugrowth_High90'] == 1 and df['hhIncomeGrowthHigh90'] == 1:\n",
    "        val = 1\n",
    "    elif df['edugrowth_High90'] == 1 and df['lossLI90-00'] == 1:\n",
    "        val = 1\n",
    "    elif df['hhIncomeGrowthHigh90'] == 1 and df['lossLI90-00'] == 1:\n",
    "        val = 1\n",
    "    else:\n",
    "        val = 0\n",
    "    return val"
   ]
  },
  {
   "cell_type": "code",
   "execution_count": 131,
   "metadata": {},
   "outputs": [],
   "source": [
    "# Demographic change 00-16\n",
    "\n",
    "def Dchange00(df):\n",
    "    if df['edugrowth_High00'] == 1 and df['hhIncomeGrowthHigh00'] == 1:\n",
    "        val = 1\n",
    "    elif df['edugrowth_High00'] == 1 and df['lossLI00-16'] == 1:\n",
    "        val = 1\n",
    "    elif df['hhIncomeGrowthHigh00'] == 1 and df['lossLI00-16'] == 1:\n",
    "        val = 1\n",
    "    else:\n",
    "        val = 0\n",
    "    return val"
   ]
  },
  {
   "cell_type": "code",
   "execution_count": 132,
   "metadata": {},
   "outputs": [
    {
     "data": {
      "text/html": [
       "<div>\n",
       "<style scoped>\n",
       "    .dataframe tbody tr th:only-of-type {\n",
       "        vertical-align: middle;\n",
       "    }\n",
       "\n",
       "    .dataframe tbody tr th {\n",
       "        vertical-align: top;\n",
       "    }\n",
       "\n",
       "    .dataframe thead th {\n",
       "        text-align: right;\n",
       "    }\n",
       "</style>\n",
       "<table border=\"1\" class=\"dataframe\">\n",
       "  <thead>\n",
       "    <tr style=\"text-align: right;\">\n",
       "      <th></th>\n",
       "      <th>hhIncomeGrowthHigh00</th>\n",
       "      <th>Dchange90</th>\n",
       "      <th>Dchange00</th>\n",
       "    </tr>\n",
       "  </thead>\n",
       "  <tbody>\n",
       "    <tr>\n",
       "      <th>34001000100</th>\n",
       "      <td>0</td>\n",
       "      <td>0</td>\n",
       "      <td>0</td>\n",
       "    </tr>\n",
       "    <tr>\n",
       "      <th>34001000200</th>\n",
       "      <td>0</td>\n",
       "      <td>0</td>\n",
       "      <td>0</td>\n",
       "    </tr>\n",
       "    <tr>\n",
       "      <th>34001000300</th>\n",
       "      <td>0</td>\n",
       "      <td>1</td>\n",
       "      <td>0</td>\n",
       "    </tr>\n",
       "    <tr>\n",
       "      <th>34001000500</th>\n",
       "      <td>0</td>\n",
       "      <td>0</td>\n",
       "      <td>0</td>\n",
       "    </tr>\n",
       "    <tr>\n",
       "      <th>34001001500</th>\n",
       "      <td>0</td>\n",
       "      <td>0</td>\n",
       "      <td>1</td>\n",
       "    </tr>\n",
       "  </tbody>\n",
       "</table>\n",
       "</div>"
      ],
      "text/plain": [
       "             hhIncomeGrowthHigh00  Dchange90  Dchange00\n",
       "34001000100                     0          0          0\n",
       "34001000200                     0          0          0\n",
       "34001000300                     0          1          0\n",
       "34001000500                     0          0          0\n",
       "34001001500                     0          0          1"
      ]
     },
     "execution_count": 132,
     "metadata": {},
     "output_type": "execute_result"
    }
   ],
   "source": [
    "data['Dchange90'] = data.apply(Dchange90, axis=1)\n",
    "data['Dchange00'] = data.apply(Dchange00, axis=1)\n",
    "\n",
    "data.iloc[:,-3:].head()"
   ]
  },
  {
   "cell_type": "markdown",
   "metadata": {},
   "source": [
    "# Gentrified 90 + Gentrified 00"
   ]
  },
  {
   "cell_type": "code",
   "execution_count": 133,
   "metadata": {},
   "outputs": [
    {
     "data": {
      "text/html": [
       "<div>\n",
       "<style scoped>\n",
       "    .dataframe tbody tr th:only-of-type {\n",
       "        vertical-align: middle;\n",
       "    }\n",
       "\n",
       "    .dataframe tbody tr th {\n",
       "        vertical-align: top;\n",
       "    }\n",
       "\n",
       "    .dataframe thead th {\n",
       "        text-align: right;\n",
       "    }\n",
       "</style>\n",
       "<table border=\"1\" class=\"dataframe\">\n",
       "  <thead>\n",
       "    <tr style=\"text-align: right;\">\n",
       "      <th></th>\n",
       "      <th>Dchange00</th>\n",
       "      <th>Gentrified90</th>\n",
       "      <th>Gentrified00</th>\n",
       "    </tr>\n",
       "  </thead>\n",
       "  <tbody>\n",
       "    <tr>\n",
       "      <th>34001010501</th>\n",
       "      <td>0</td>\n",
       "      <td>0</td>\n",
       "      <td>0</td>\n",
       "    </tr>\n",
       "    <tr>\n",
       "      <th>34001010401</th>\n",
       "      <td>1</td>\n",
       "      <td>0</td>\n",
       "      <td>0</td>\n",
       "    </tr>\n",
       "    <tr>\n",
       "      <th>34001010403</th>\n",
       "      <td>0</td>\n",
       "      <td>0</td>\n",
       "      <td>0</td>\n",
       "    </tr>\n",
       "    <tr>\n",
       "      <th>34001010503</th>\n",
       "      <td>0</td>\n",
       "      <td>0</td>\n",
       "      <td>0</td>\n",
       "    </tr>\n",
       "    <tr>\n",
       "      <th>34001010600</th>\n",
       "      <td>1</td>\n",
       "      <td>0</td>\n",
       "      <td>0</td>\n",
       "    </tr>\n",
       "    <tr>\n",
       "      <th>34001010700</th>\n",
       "      <td>1</td>\n",
       "      <td>0</td>\n",
       "      <td>0</td>\n",
       "    </tr>\n",
       "  </tbody>\n",
       "</table>\n",
       "</div>"
      ],
      "text/plain": [
       "             Dchange00  Gentrified90  Gentrified00\n",
       "34001010501          0             0             0\n",
       "34001010401          1             0             0\n",
       "34001010403          0             0             0\n",
       "34001010503          0             0             0\n",
       "34001010600          1             0             0\n",
       "34001010700          1             0             0"
      ]
     },
     "execution_count": 133,
     "metadata": {},
     "output_type": "execute_result"
    }
   ],
   "source": [
    "data['Gentrified90'] = np.where((data['Volnurable90'] == 1) & (data['Dchange90'] == 1) &\n",
    "                                (data['hotmarket90'] == 1), 1, 0)\n",
    "data['Gentrified00'] = np.where((data['Volnurable00'] == 1) & (data['Dchange00'] == 1) &\n",
    "                                (data['hotmarket00'] == 1) & (data['moveinLI_decrease00'] == 1), 1, 0)\n",
    "\n",
    "data.iloc[10:16,-3:]"
   ]
  },
  {
   "cell_type": "code",
   "execution_count": 134,
   "metadata": {},
   "outputs": [
    {
     "data": {
      "text/plain": [
       "Index(['edulow00', 'renters%90', 'renters%00', 'renters%16', 'nonwhiteHigh90',\n",
       "       'nonwhiteHigh00', 'nonwhiteHigh16', 'Volnurable90', 'Volnurable00',\n",
       "       'units_pre50_High', 'empdens14_High', 'mrent90_00', 'mrent00_16',\n",
       "       'mhval90_00', 'mhval00_16', 'rentchange_High90',\n",
       "       'rhomeValchange_High90', 'rentchange_High00', 'rhomeValchange_High00',\n",
       "       'hotmarket90', 'hotmarket00', 'risk90', 'risk00', 'popgrowth90-00',\n",
       "       'popgrowth00-16', 'pgrowth90-00_High', 'pgrowth00-16_High',\n",
       "       'ch_all_li_count90_00', 'ch_all_li_count00_16', 'lossLI90-00',\n",
       "       'lossLI00-16', 'moveinLI_decrease00', 'edu_change90-00',\n",
       "       'edu_change00-16', 'edugrowth_High90', 'edugrowth_High00',\n",
       "       'pct_ch_hinc90_00', 'pct_ch_hinc00_16', 'hhIncomeGrowthHigh90',\n",
       "       'hhIncomeGrowthHigh00', 'Dchange90', 'Dchange00', 'Gentrified90',\n",
       "       'Gentrified00'],\n",
       "      dtype='object')"
      ]
     },
     "execution_count": 134,
     "metadata": {},
     "output_type": "execute_result"
    }
   ],
   "source": [
    "data.iloc[:,-44:].columns"
   ]
  },
  {
   "cell_type": "markdown",
   "metadata": {},
   "source": [
    "---\n",
    "\n",
    "# Assign typologies to census tracts\n",
    "\n",
    "----\n",
    "# 1. _VLI - Highly Vulnerable_"
   ]
  },
  {
   "cell_type": "code",
   "execution_count": 135,
   "metadata": {},
   "outputs": [
    {
     "data": {
      "text/plain": [
       "0    4231\n",
       "1     300\n",
       "Name: VLI, dtype: int64"
      ]
     },
     "execution_count": 135,
     "metadata": {},
     "output_type": "execute_result"
    }
   ],
   "source": [
    "data['VLI'] = np.where((data['vli_tract16'] == 1) & (data['renters%16'] == 1), 1, 0) \n",
    "data['VLI'].value_counts()"
   ]
  },
  {
   "cell_type": "markdown",
   "metadata": {},
   "source": [
    "# _5. MHI - Advanced / Completed Gentrification_\n",
    "    - Pop in 2000>500\n",
    "    - Moderate to High Income Tract in 2015\n",
    "    - Gentrified in in 1990-2000 or 2000-2015 (Defined in Appendix)"
   ]
  },
  {
   "cell_type": "code",
   "execution_count": 136,
   "metadata": {},
   "outputs": [],
   "source": [
    "# Advanced Gentrification (Moderate to High Income)\n",
    "\n",
    "def AdvancedGen(df):\n",
    "    if df['li_tract16'] == 0 and df['Gentrified90'] == 1 and df['VLI'] == 0:\n",
    "        val = 1\n",
    "    elif df['li_tract16'] == 0 and df['Gentrified00'] == 1 and df['VLI'] == 0:\n",
    "        val = 1\n",
    "    else:\n",
    "        val = 0\n",
    "    return val"
   ]
  },
  {
   "cell_type": "code",
   "execution_count": 137,
   "metadata": {},
   "outputs": [
    {
     "data": {
      "text/plain": [
       "0    4459\n",
       "1      72\n",
       "Name: AdvancedGen, dtype: int64"
      ]
     },
     "execution_count": 137,
     "metadata": {},
     "output_type": "execute_result"
    }
   ],
   "source": [
    "data['AdvancedGen'] = data.apply(AdvancedGen, axis=1)\n",
    "data['AdvancedGen'].value_counts()"
   ]
  },
  {
   "cell_type": "markdown",
   "metadata": {},
   "source": [
    "# _4. LI - Ongoing Gentrification_\n",
    "\n",
    "    - Pop in 2000 > 500\n",
    "    - Low Income Tract in 2016\n",
    "    - Vulnerable in 2000 (Defined in Appendix)\n",
    "    - Population stable or growing 2000-2016\n",
    "    - Loss of LI households 2000-2016 (absolute loss)\n",
    "    - Either:\n",
    "        o “Hot market” (Defined in Appendix)\n",
    "        o LI migration rate (percent of all migration to tract that was LI)\n",
    "    in 2016 < in 2009\n",
    "    - Gentrified in 1990-2000 or 2000-2016 (Defined in Appendix)"
   ]
  },
  {
   "cell_type": "code",
   "execution_count": 138,
   "metadata": {},
   "outputs": [],
   "source": [
    "# Displacement of LowIncome Households/Ongoing Gentrification (Low Income)\n",
    "\n",
    "def OngoingGenLI(df):\n",
    "    # gentrified in 90, LI tract in 2015\n",
    "    if df['li_tract16'] == 1 and df['Gentrified90'] == 1 and df['AdvancedGen'] == 0:\n",
    "        val = 1\n",
    "    # gentrified in 00, LI tract in 2015\n",
    "    elif df['li_tract16'] == 1 and df['Gentrified00'] == 1 and df['AdvancedGen'] == 0:\n",
    "        val = 1\n",
    "    # LI tract in 2016; Vulnerable in 2000; pop growth; Loss of LI households; hot market in 90\n",
    "    elif df['li_tract16'] == 1 and df['Volnurable00'] == 1 and df['popgrowth00-16'] == 1\\\n",
    "        and df['lossLI00-16'] == 1  and df['hotmarket90'] == 1 and df['AdvancedGen'] == 0:\n",
    "        val = 1\n",
    "    # LI tract in 2016; Vulnerable in 2000; pop growth; Loss of LI households; hot market in 00\n",
    "    elif df['li_tract16'] == 1 and df['Volnurable00'] == 1 and df['popgrowth00-16'] == 1\\\n",
    "        and df['lossLI00-16'] == 1 and df['hotmarket00'] == 1 and df['AdvancedGen'] == 0:\n",
    "        val = 1\n",
    "    #     # LI tract in 2016; Vulnerable in 2000; pop growth; Loss of LI households; LI migration rate\n",
    "    elif df['li_tract16'] == 1 and df['Volnurable00'] == 1 and df['popgrowth00-16'] == 1\\\n",
    "        and df['lossLI00-16'] == 1 and df['moveinLI_decrease00'] == 1 and df['AdvancedGen'] == 0:\n",
    "        val = 1\n",
    "    else:\n",
    "        val = 0\n",
    "    return val"
   ]
  },
  {
   "cell_type": "code",
   "execution_count": 139,
   "metadata": {},
   "outputs": [
    {
     "data": {
      "text/plain": [
       "0    4357\n",
       "1     174\n",
       "Name: OngoingGenLI, dtype: int64"
      ]
     },
     "execution_count": 139,
     "metadata": {},
     "output_type": "execute_result"
    }
   ],
   "source": [
    "data['OngoingGenLI'] = data.apply(OngoingGenLI, axis=1)\n",
    "data['OngoingGenLI'].value_counts()"
   ]
  },
  {
   "cell_type": "markdown",
   "metadata": {
    "collapsed": true
   },
   "source": [
    "# _3. LI - At Risk of Gentrification _\n",
    "    - Volnurable in 2000 (3 out of 4 variables)\n",
    "    - Not currently undergoing displacement or ongoing gentrification\n",
    "    - 2 out of the 4 of the following is true in 2015( select only one 'hot market' from the 2 'hot market' option)\n",
    "    - Not currently undergoing displacement or ongoing gentrification"
   ]
  },
  {
   "cell_type": "code",
   "execution_count": 140,
   "metadata": {},
   "outputs": [
    {
     "data": {
      "text/plain": [
       "0    4088\n",
       "1     443\n",
       "Name: AtRiskGen, dtype: int64"
      ]
     },
     "execution_count": 140,
     "metadata": {},
     "output_type": "execute_result"
    }
   ],
   "source": [
    "data['AtRiskGen'] = np.where((data['li_tract16'] == 1) & (data['Volnurable00'] == 1) &\n",
    "                            (data['risk00'] == 1) & (data['OngoingGenLI'] == 0), 1, 0)\n",
    "\n",
    "data['AtRiskGen'].value_counts()"
   ]
  },
  {
   "cell_type": "markdown",
   "metadata": {},
   "source": [
    "# 2. _LI - Stable (Not losing LI hh)_\n",
    "   -  _'pop00'_ (>500)\n",
    "   - Low Income tract in 2015\n",
    "   - Not classified as At Risk of, Ongoing, or Advanced Gentrification"
   ]
  },
  {
   "cell_type": "code",
   "execution_count": 141,
   "metadata": {},
   "outputs": [
    {
     "data": {
      "text/plain": [
       "0    2738\n",
       "1    1793\n",
       "Name: NotloseLI, dtype: int64"
      ]
     },
     "execution_count": 141,
     "metadata": {},
     "output_type": "execute_result"
    }
   ],
   "source": [
    "data['NotloseLI'] = np.where((data['li_tract16'] == 1) & (data['AtRiskGen'] == 0) &\n",
    "                             (data['OngoingGenLI'] == 0) & (data['AdvancedGen'] == 0), 1, 0)\n",
    "\n",
    "data['NotloseLI'].value_counts()"
   ]
  },
  {
   "cell_type": "markdown",
   "metadata": {
    "collapsed": true
   },
   "source": [
    "---"
   ]
  },
  {
   "cell_type": "markdown",
   "metadata": {},
   "source": [
    "# _8. MHI - Exclusion_\n",
    "    - Pop in 2000 > 500\n",
    "    - Moderate to High Income Tract in 2015\n",
    "    - <20% LI in 2000 \n",
    "    - % LI in 2016 < % LI in 2000\n",
    "    - LI migration < regional median in 2015"
   ]
  },
  {
   "cell_type": "code",
   "execution_count": 142,
   "metadata": {},
   "outputs": [
    {
     "data": {
      "text/html": [
       "<div>\n",
       "<style scoped>\n",
       "    .dataframe tbody tr th:only-of-type {\n",
       "        vertical-align: middle;\n",
       "    }\n",
       "\n",
       "    .dataframe tbody tr th {\n",
       "        vertical-align: top;\n",
       "    }\n",
       "\n",
       "    .dataframe thead th {\n",
       "        text-align: right;\n",
       "    }\n",
       "</style>\n",
       "<table border=\"1\" class=\"dataframe\">\n",
       "  <thead>\n",
       "    <tr style=\"text-align: right;\">\n",
       "      <th></th>\n",
       "      <th>LI&lt;20%</th>\n",
       "      <th>%LIdecrease</th>\n",
       "      <th>migLI_low</th>\n",
       "    </tr>\n",
       "  </thead>\n",
       "  <tbody>\n",
       "    <tr>\n",
       "      <th>34001000100</th>\n",
       "      <td>0</td>\n",
       "      <td>1</td>\n",
       "      <td>0</td>\n",
       "    </tr>\n",
       "    <tr>\n",
       "      <th>34001000200</th>\n",
       "      <td>0</td>\n",
       "      <td>0</td>\n",
       "      <td>0</td>\n",
       "    </tr>\n",
       "    <tr>\n",
       "      <th>34001000300</th>\n",
       "      <td>0</td>\n",
       "      <td>1</td>\n",
       "      <td>0</td>\n",
       "    </tr>\n",
       "    <tr>\n",
       "      <th>34001000500</th>\n",
       "      <td>0</td>\n",
       "      <td>0</td>\n",
       "      <td>0</td>\n",
       "    </tr>\n",
       "  </tbody>\n",
       "</table>\n",
       "</div>"
      ],
      "text/plain": [
       "             LI<20%  %LIdecrease  migLI_low\n",
       "34001000100       0            1          0\n",
       "34001000200       0            0          0\n",
       "34001000300       0            1          0\n",
       "34001000500       0            0          0"
      ]
     },
     "execution_count": 142,
     "metadata": {},
     "output_type": "execute_result"
    }
   ],
   "source": [
    "data['LI<20%'] = np.where(data['li_16']+data['vli_16'] < 0.2, 1, 0)\n",
    "data['%LIdecrease'] = np.where(data['li_16'] < data['li_00'], 1, 0)\n",
    "data['migLI_low'] = np.where(data['per_all_li_mig_16'] < data['per_all_li_mig_10'].median(), 1, 0)\n",
    "\n",
    "data.iloc[:,-3:].head(4)"
   ]
  },
  {
   "cell_type": "code",
   "execution_count": 143,
   "metadata": {},
   "outputs": [],
   "source": [
    "# Advanced Exclusion\n",
    "\n",
    "def Exclusion(df):\n",
    "    if df['li_tract16'] == 0 and df['LI<20%'] == 1 and df['%LIdecrease'] == 1 and df['migLI_low'] == 1:\n",
    "        val = 1\n",
    "    else:\n",
    "        val = 0\n",
    "    return val"
   ]
  },
  {
   "cell_type": "code",
   "execution_count": 144,
   "metadata": {},
   "outputs": [
    {
     "data": {
      "text/plain": [
       "0    4333\n",
       "1     198\n",
       "Name: Exclusion, dtype: int64"
      ]
     },
     "execution_count": 144,
     "metadata": {},
     "output_type": "execute_result"
    }
   ],
   "source": [
    "data['Exclusion'] = data.apply(Exclusion, axis=1)\n",
    "data['Exclusion'].value_counts()"
   ]
  },
  {
   "cell_type": "markdown",
   "metadata": {},
   "source": [
    "# _7. MHI - At Risk of Exclusion_\n",
    "\n",
    "    - Pop in 2000 > 500\n",
    "    - Moderate to High Income Tract in 2015\n",
    "    - 2 out of the 4 of the following is true in 2015:\n",
    "        o Has rail station in tract\n",
    "        o % of units in prewar buildings (1950) > regional median\n",
    "        o Employment density> regional median\n",
    "        o “Hot market” (options defined below table)\n",
    "    - Not currently undergoing exclusion – none of the below classifications are met"
   ]
  },
  {
   "cell_type": "code",
   "execution_count": 145,
   "metadata": {},
   "outputs": [
    {
     "data": {
      "text/plain": [
       "0    4061\n",
       "1     470\n",
       "Name: AtRiskExc, dtype: int64"
      ]
     },
     "execution_count": 145,
     "metadata": {},
     "output_type": "execute_result"
    }
   ],
   "source": [
    "data['AtRiskExc'] = np.where((data['li_tract16'] == 0) & (data['risk00'] == 1) &\n",
    "                            (data['Exclusion'] == 0), 1, 0)\n",
    "\n",
    "data['AtRiskExc'].value_counts()"
   ]
  },
  {
   "cell_type": "markdown",
   "metadata": {},
   "source": [
    "# _6. MHI - Stable (Not Losing Low-Income Households)_\n",
    "    - Pop in 2000>500\n",
    "    - Moderate to High Income Tract in 2015\n",
    "    - Not classified as At Risk of, Ongoing, or Advanced Exclusion"
   ]
  },
  {
   "cell_type": "code",
   "execution_count": 146,
   "metadata": {},
   "outputs": [
    {
     "data": {
      "text/plain": [
       "0    3078\n",
       "1    1453\n",
       "Name: NotloseHigh, dtype: int64"
      ]
     },
     "execution_count": 146,
     "metadata": {},
     "output_type": "execute_result"
    }
   ],
   "source": [
    "data['NotloseHigh'] = np.where((data['li_tract16'] == 0) & (data['AtRiskExc'] == 0) &\n",
    "                            (data['Exclusion'] == 0), 1, 0)\n",
    "\n",
    "data['NotloseHigh'].value_counts()"
   ]
  },
  {
   "cell_type": "markdown",
   "metadata": {},
   "source": [
    "#  << TYPOLOGY >>"
   ]
  },
  {
   "cell_type": "code",
   "execution_count": 147,
   "metadata": {},
   "outputs": [],
   "source": [
    "# Advanced Gentrification (Moderate to High Income)\n",
    "\n",
    "def Typology(df):\n",
    "    if df['VLI'] == 1:\n",
    "        val = 'VLI - Highly Vulnerable for Displacement'\n",
    "    elif df['AdvancedGen'] == 1:\n",
    "        val = 'MHI - Advanced Gentrification'\n",
    "    elif df['Exclusion'] == 1:\n",
    "        val = 'MHI - Exclusion' \n",
    "    elif df['AtRiskExc'] == 1:\n",
    "        val = 'MHI - At Risk of Exclusion'\n",
    "    elif df['NotloseHigh'] == 1:\n",
    "        val = 'MHI - Stable, Not Losing Low Income Households'\n",
    "    elif df['OngoingGenLI'] == 1:\n",
    "        val = 'LI - Ongoing Gentrification and/or Displacement'\n",
    "    elif df['AtRiskGen'] == 1:\n",
    "        val = 'LI - At Risk of Gentrification and/or Displacement'\n",
    "    elif df['NotloseLI'] == 1:\n",
    "        val = 'LI - Stable, Not Losing Low Income Households'\n",
    "    else:\n",
    "        val = 0\n",
    "    return val"
   ]
  },
  {
   "cell_type": "code",
   "execution_count": 148,
   "metadata": {},
   "outputs": [
    {
     "data": {
      "text/plain": [
       "LI - Stable, Not Losing Low Income Households         1556\n",
       "MHI - Stable, Not Losing Low Income Households        1429\n",
       "MHI - At Risk of Exclusion                             426\n",
       "LI - At Risk of Gentrification and/or Displacement     389\n",
       "VLI - Highly Vulnerable for Displacement               300\n",
       "MHI - Exclusion                                        194\n",
       "LI - Ongoing Gentrification and/or Displacement        165\n",
       "MHI - Advanced Gentrification                           72\n",
       "Name: Typology, dtype: int64"
      ]
     },
     "execution_count": 148,
     "metadata": {},
     "output_type": "execute_result"
    }
   ],
   "source": [
    "data['Typology'] = data.apply(Typology, axis=1)\n",
    "data['Typology'].value_counts()"
   ]
  },
  {
   "cell_type": "code",
   "execution_count": 149,
   "metadata": {},
   "outputs": [
    {
     "data": {
      "text/plain": [
       "4531"
      ]
     },
     "execution_count": 149,
     "metadata": {},
     "output_type": "execute_result"
    }
   ],
   "source": [
    "len(pd.DataFrame(data['Typology']))#.value_counts()))"
   ]
  },
  {
   "cell_type": "code",
   "execution_count": 150,
   "metadata": {},
   "outputs": [
    {
     "data": {
      "text/html": [
       "<div>\n",
       "<style scoped>\n",
       "    .dataframe tbody tr th:only-of-type {\n",
       "        vertical-align: middle;\n",
       "    }\n",
       "\n",
       "    .dataframe tbody tr th {\n",
       "        vertical-align: top;\n",
       "    }\n",
       "\n",
       "    .dataframe thead th {\n",
       "        text-align: right;\n",
       "    }\n",
       "</style>\n",
       "<table border=\"1\" class=\"dataframe\">\n",
       "  <thead>\n",
       "    <tr style=\"text-align: right;\">\n",
       "      <th></th>\n",
       "      <th>tractCounts</th>\n",
       "      <th>Typology%</th>\n",
       "    </tr>\n",
       "  </thead>\n",
       "  <tbody>\n",
       "    <tr>\n",
       "      <th>LI - Stable, Not Losing Low Income Households</th>\n",
       "      <td>1556</td>\n",
       "      <td>34.341205</td>\n",
       "    </tr>\n",
       "    <tr>\n",
       "      <th>MHI - Stable, Not Losing Low Income Households</th>\n",
       "      <td>1429</td>\n",
       "      <td>31.538292</td>\n",
       "    </tr>\n",
       "    <tr>\n",
       "      <th>MHI - At Risk of Exclusion</th>\n",
       "      <td>426</td>\n",
       "      <td>9.401898</td>\n",
       "    </tr>\n",
       "    <tr>\n",
       "      <th>LI - At Risk of Gentrification and/or Displacement</th>\n",
       "      <td>389</td>\n",
       "      <td>8.585301</td>\n",
       "    </tr>\n",
       "    <tr>\n",
       "      <th>VLI - Highly Vulnerable for Displacement</th>\n",
       "      <td>300</td>\n",
       "      <td>6.621055</td>\n",
       "    </tr>\n",
       "    <tr>\n",
       "      <th>MHI - Exclusion</th>\n",
       "      <td>194</td>\n",
       "      <td>4.281616</td>\n",
       "    </tr>\n",
       "    <tr>\n",
       "      <th>LI - Ongoing Gentrification and/or Displacement</th>\n",
       "      <td>165</td>\n",
       "      <td>3.641580</td>\n",
       "    </tr>\n",
       "    <tr>\n",
       "      <th>MHI - Advanced Gentrification</th>\n",
       "      <td>72</td>\n",
       "      <td>1.589053</td>\n",
       "    </tr>\n",
       "  </tbody>\n",
       "</table>\n",
       "</div>"
      ],
      "text/plain": [
       "                                                    tractCounts  Typology%\n",
       "LI - Stable, Not Losing Low Income Households              1556  34.341205\n",
       "MHI - Stable, Not Losing Low Income Households             1429  31.538292\n",
       "MHI - At Risk of Exclusion                                  426   9.401898\n",
       "LI - At Risk of Gentrification and/or Displacement          389   8.585301\n",
       "VLI - Highly Vulnerable for Displacement                    300   6.621055\n",
       "MHI - Exclusion                                             194   4.281616\n",
       "LI - Ongoing Gentrification and/or Displacement             165   3.641580\n",
       "MHI - Advanced Gentrification                                72   1.589053"
      ]
     },
     "execution_count": 150,
     "metadata": {},
     "output_type": "execute_result"
    }
   ],
   "source": [
    "resultsTyp = pd.DataFrame(data['Typology'].value_counts())\n",
    "resultsTyp.columns = ['tractCounts']\n",
    "resultsTyp['Typology%'] = resultsTyp['tractCounts'] / resultsTyp['tractCounts'].sum() *100\n",
    "\n",
    "resultsTyp"
   ]
  },
  {
   "cell_type": "code",
   "execution_count": 151,
   "metadata": {},
   "outputs": [
    {
     "data": {
      "text/plain": [
       "tractCounts      int64\n",
       "Typology%      float64\n",
       "dtype: object"
      ]
     },
     "execution_count": 151,
     "metadata": {},
     "output_type": "execute_result"
    }
   ],
   "source": [
    "resultsTyp.dtypes"
   ]
  },
  {
   "cell_type": "code",
   "execution_count": 152,
   "metadata": {},
   "outputs": [
    {
     "data": {
      "text/plain": [
       "(4531, 204)"
      ]
     },
     "execution_count": 152,
     "metadata": {},
     "output_type": "execute_result"
    }
   ],
   "source": [
    "data.shape"
   ]
  },
  {
   "cell_type": "code",
   "execution_count": 153,
   "metadata": {},
   "outputs": [
    {
     "data": {
      "text/plain": [
       "4531"
      ]
     },
     "execution_count": 153,
     "metadata": {},
     "output_type": "execute_result"
    }
   ],
   "source": [
    "len(data)"
   ]
  },
  {
   "cell_type": "markdown",
   "metadata": {},
   "source": [
    "data[['GEOid2', 'Typology']].set_index('GEOid2').to_csv('UDPNY_revisedTypologies2.csv')"
   ]
  },
  {
   "cell_type": "code",
   "execution_count": 154,
   "metadata": {},
   "outputs": [],
   "source": [
    "data.to_csv('UDPNY_crosswalk_gerardo.csv')"
   ]
  },
  {
   "cell_type": "code",
   "execution_count": 155,
   "metadata": {},
   "outputs": [],
   "source": [
    "df__=pd.read_csv('UDPNY_crosswalk_gerardo.csv')"
   ]
  },
  {
   "cell_type": "code",
   "execution_count": 156,
   "metadata": {},
   "outputs": [
    {
     "data": {
      "text/plain": [
       "array(['LI - Stable, Not Losing Low Income Households',\n",
       "       'LI - Ongoing Gentrification and/or Displacement',\n",
       "       'VLI - Highly Vulnerable for Displacement',\n",
       "       'MHI - Stable, Not Losing Low Income Households',\n",
       "       'MHI - Advanced Gentrification', 'MHI - At Risk of Exclusion',\n",
       "       'MHI - Exclusion',\n",
       "       'LI - At Risk of Gentrification and/or Displacement'], dtype=object)"
      ]
     },
     "execution_count": 156,
     "metadata": {},
     "output_type": "execute_result"
    }
   ],
   "source": [
    "data.Typology.unique()"
   ]
  },
  {
   "cell_type": "code",
   "execution_count": 157,
   "metadata": {},
   "outputs": [
    {
     "data": {
      "text/plain": [
       "Typology\n",
       "LI - At Risk of Gentrification and/or Displacement     389\n",
       "LI - Ongoing Gentrification and/or Displacement        165\n",
       "LI - Stable, Not Losing Low Income Households         1556\n",
       "MHI - Advanced Gentrification                           72\n",
       "MHI - At Risk of Exclusion                             426\n",
       "MHI - Exclusion                                        194\n",
       "MHI - Stable, Not Losing Low Income Households        1429\n",
       "VLI - Highly Vulnerable for Displacement               300\n",
       "dtype: int64"
      ]
     },
     "execution_count": 157,
     "metadata": {},
     "output_type": "execute_result"
    }
   ],
   "source": [
    "data.groupby('Typology').size()"
   ]
  },
  {
   "cell_type": "code",
   "execution_count": 158,
   "metadata": {},
   "outputs": [
    {
     "data": {
      "text/plain": [
       "4531"
      ]
     },
     "execution_count": 158,
     "metadata": {},
     "output_type": "execute_result"
    }
   ],
   "source": [
    "len(data)"
   ]
  },
  {
   "cell_type": "code",
   "execution_count": null,
   "metadata": {},
   "outputs": [],
   "source": []
  }
 ],
 "metadata": {
  "kernelspec": {
   "display_name": "Python 3",
   "language": "python",
   "name": "python3"
  },
  "language_info": {
   "codemirror_mode": {
    "name": "ipython",
    "version": 3
   },
   "file_extension": ".py",
   "mimetype": "text/x-python",
   "name": "python",
   "nbconvert_exporter": "python",
   "pygments_lexer": "ipython3",
   "version": "3.6.5"
  }
 },
 "nbformat": 4,
 "nbformat_minor": 2
}

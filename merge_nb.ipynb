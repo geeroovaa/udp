{
 "cells": [
  {
   "cell_type": "code",
   "execution_count": 1,
   "metadata": {},
   "outputs": [
    {
     "name": "stdout",
     "output_type": "stream",
     "text": [
      "Populating the interactive namespace from numpy and matplotlib\n"
     ]
    }
   ],
   "source": [
    "import pandas as pd\n",
    "import numpy as np\n",
    "import matplotlib.pylab as pl\n",
    "import seaborn as sns\n",
    "\n",
    "%pylab inline"
   ]
  },
  {
   "cell_type": "code",
   "execution_count": 2,
   "metadata": {},
   "outputs": [],
   "source": [
    "df_pop_dens = pd.read_csv('data_shp.csv')"
   ]
  },
  {
   "cell_type": "code",
   "execution_count": 4,
   "metadata": {},
   "outputs": [],
   "source": [
    "df_empd02 = pd.read_csv('empd02.csv')"
   ]
  },
  {
   "cell_type": "code",
   "execution_count": 5,
   "metadata": {},
   "outputs": [],
   "source": [
    "df_empd15 = pd.read_csv('empd15.csv')"
   ]
  },
  {
   "cell_type": "code",
   "execution_count": 6,
   "metadata": {},
   "outputs": [],
   "source": [
    "df_tod = pd.read_csv('TOD.csv')"
   ]
  },
  {
   "cell_type": "code",
   "execution_count": 65,
   "metadata": {},
   "outputs": [],
   "source": [
    "df_aram = pd.read_stata(\"UDP_NYC_Variables.dta\")"
   ]
  },
  {
   "cell_type": "code",
   "execution_count": 9,
   "metadata": {},
   "outputs": [
    {
     "data": {
      "text/plain": [
       "Index(['GEOid2', 'hh16', 'moe_hh16', 'per_col00', 'per_nonwhite00',\n",
       "       'per_rent00', 'vli2000', 'li2000', 'mi2000', 'hmi2000', 'hi2000',\n",
       "       'vhi2000', 'per_all_li00', 'hh00', 'all_li_count00', 'per_nonwhite90',\n",
       "       'per_rent90', 'vli1990', 'li1990', 'mi1990', 'hmi1990', 'hi1990',\n",
       "       'vhi1990', 'denominator', 'per_all_li90', 'all_li_count90', 'pop00',\n",
       "       'pop16', 'moe_pop16', 'ch_all_li_count90_00', 'ch_all_li_count00_16',\n",
       "       'moveinincd16', 'co_med_indinc16', 'per_limove16', 'per_limove09',\n",
       "       'TOD', 'empd15', 'mrent90', 'rou90', 'mrent00', 'rou00', 'mrent16',\n",
       "       'moe_mrent16', 'mhval90', 'ohu90', 'mhval00', 'ohu00', 'mhval16',\n",
       "       'moe_mhval16', 'mhval90_00', 'mhval00_16', 'mrent90_00', 'mrent00_16',\n",
       "       'hu16', 'per_units_pre50', 'ohu16', 'moe_owner16', 'rhu16',\n",
       "       'moe_renter16', 'per_rent16', 'per_nonwhite16', 'vli2016', 'li2016',\n",
       "       'mi2016', 'hmi2016', 'hi2016', 'vhi2016', 'per_all_li16',\n",
       "       'all_li_count16', 'ag25up', 'bachelors', 'moe_bachelors', 'masters',\n",
       "       'moe_masters', 'professional', 'moe_professionals', 'doctorate',\n",
       "       'moe_doctorates', 'per_col_16', 'pop90', 'per_col90', 'moe_hu16',\n",
       "       'hinc16', 'moe_hinc16', 'popgrowth'],\n",
       "      dtype='object')"
      ]
     },
     "execution_count": 9,
     "metadata": {},
     "output_type": "execute_result"
    }
   ],
   "source": [
    "df_aram.columns"
   ]
  },
  {
   "cell_type": "code",
   "execution_count": 10,
   "metadata": {},
   "outputs": [],
   "source": [
    "df_ct_90 = pd.read_csv('09_1990_variables.csv')"
   ]
  },
  {
   "cell_type": "code",
   "execution_count": 11,
   "metadata": {},
   "outputs": [],
   "source": [
    "df_ct_00 = pd.read_csv('09_2000_variables.csv')"
   ]
  },
  {
   "cell_type": "code",
   "execution_count": 12,
   "metadata": {},
   "outputs": [],
   "source": [
    "df_ct_10 = pd.read_csv('09_2010_variables.csv')"
   ]
  },
  {
   "cell_type": "code",
   "execution_count": 13,
   "metadata": {},
   "outputs": [],
   "source": [
    "df_ct_16 = pd.read_csv('09_2016_variables.csv')"
   ]
  },
  {
   "cell_type": "code",
   "execution_count": 14,
   "metadata": {},
   "outputs": [],
   "source": [
    "df_ny_90 = pd.read_csv('36_1990_variables.csv')"
   ]
  },
  {
   "cell_type": "code",
   "execution_count": 15,
   "metadata": {},
   "outputs": [],
   "source": [
    "df_ny_00 = pd.read_csv('36_2000_variables.csv')"
   ]
  },
  {
   "cell_type": "code",
   "execution_count": 16,
   "metadata": {},
   "outputs": [],
   "source": [
    "df_ny_10 = pd.read_csv('36_2010_variables.csv')"
   ]
  },
  {
   "cell_type": "code",
   "execution_count": 17,
   "metadata": {},
   "outputs": [],
   "source": [
    "df_ny_16 = pd.read_csv('36_2016_variables.csv')"
   ]
  },
  {
   "cell_type": "code",
   "execution_count": 18,
   "metadata": {},
   "outputs": [],
   "source": [
    "df_nj_90 = pd.read_csv('34_1990_variables.csv')"
   ]
  },
  {
   "cell_type": "code",
   "execution_count": 19,
   "metadata": {},
   "outputs": [],
   "source": [
    "df_nj_10 = pd.read_csv('34_2010_variables.csv')"
   ]
  },
  {
   "cell_type": "code",
   "execution_count": 20,
   "metadata": {},
   "outputs": [],
   "source": [
    "df_nj_00 = pd.read_csv('34_2000_variables.csv')"
   ]
  },
  {
   "cell_type": "code",
   "execution_count": 21,
   "metadata": {},
   "outputs": [],
   "source": [
    "df_nj_16 = pd.read_csv('34_2016_variables.csv')"
   ]
  },
  {
   "cell_type": "markdown",
   "metadata": {},
   "source": [
    "#### Merging data sets"
   ]
  },
  {
   "cell_type": "code",
   "execution_count": 22,
   "metadata": {},
   "outputs": [],
   "source": [
    "df_pop_dens = df_pop_dens.set_index('GEOID')"
   ]
  },
  {
   "cell_type": "code",
   "execution_count": 23,
   "metadata": {},
   "outputs": [],
   "source": [
    "df_ct_90 = df_ct_90.set_index('GEOid2')\n",
    "df_ct_00 = df_ct_00.set_index('GEOid2')\n",
    "df_ct_10 = df_ct_10.set_index('GEOid2')\n",
    "df_ct_16 = df_ct_16.set_index('GEOid2')"
   ]
  },
  {
   "cell_type": "code",
   "execution_count": 24,
   "metadata": {},
   "outputs": [],
   "source": [
    "df_nj_90 = df_nj_90.set_index('GEOid2')\n",
    "df_nj_00 = df_nj_00.set_index('GEOid2')\n",
    "df_nj_10 = df_nj_10.set_index('GEOid2')\n",
    "df_nj_16 = df_nj_16.set_index('GEOid2')"
   ]
  },
  {
   "cell_type": "code",
   "execution_count": 25,
   "metadata": {},
   "outputs": [],
   "source": [
    "df_ny_90 = df_ny_90.set_index('GEOid2')\n",
    "df_ny_00 = df_ny_00.set_index('GEOid2')\n",
    "df_ny_10 = df_ny_10.set_index('GEOid2')\n",
    "df_ny_16 = df_ny_16.set_index('GEOid2')"
   ]
  },
  {
   "cell_type": "code",
   "execution_count": 26,
   "metadata": {},
   "outputs": [],
   "source": [
    "df_ct_90 = df_ct_90.drop(columns=['state','county','tract'])\n",
    "df_ct_00 = df_ct_00.drop(columns=['state','county','tract'])\n",
    "df_ct_10 = df_ct_10.drop(columns=['state','county','tract'])"
   ]
  },
  {
   "cell_type": "code",
   "execution_count": 27,
   "metadata": {},
   "outputs": [],
   "source": [
    "df_nj_90 = df_nj_90.drop(columns=['state','county','tract'])\n",
    "df_nj_00 = df_nj_00.drop(columns=['state','county','tract'])\n",
    "df_nj_10 = df_nj_10.drop(columns=['state','county','tract'])"
   ]
  },
  {
   "cell_type": "code",
   "execution_count": 28,
   "metadata": {},
   "outputs": [],
   "source": [
    "df_ny_90 = df_ny_90.drop(columns=['state','county','tract'])\n",
    "df_ny_00 = df_ny_00.drop(columns=['state','county','tract'])\n",
    "df_ny_10 = df_ny_10.drop(columns=['state','county','tract'])"
   ]
  },
  {
   "cell_type": "code",
   "execution_count": 29,
   "metadata": {},
   "outputs": [],
   "source": [
    "df_ct = df_ct_90.merge(df_ct_00, on = 'GEOid2')"
   ]
  },
  {
   "cell_type": "code",
   "execution_count": 30,
   "metadata": {},
   "outputs": [],
   "source": [
    "df_ct = df_ct.merge(df_ct_10, on = 'GEOid2')"
   ]
  },
  {
   "cell_type": "code",
   "execution_count": 31,
   "metadata": {},
   "outputs": [],
   "source": [
    "df_ct = df_ct.merge(df_ct_16, on = 'GEOid2')"
   ]
  },
  {
   "cell_type": "code",
   "execution_count": 32,
   "metadata": {},
   "outputs": [],
   "source": [
    "df_ny = df_ny_90.merge(df_ny_00, on = 'GEOid2')"
   ]
  },
  {
   "cell_type": "code",
   "execution_count": 33,
   "metadata": {},
   "outputs": [],
   "source": [
    "df_ny = df_ny.merge(df_ny_10, on = 'GEOid2')"
   ]
  },
  {
   "cell_type": "code",
   "execution_count": 34,
   "metadata": {},
   "outputs": [],
   "source": [
    "df_ny = df_ny.merge(df_ny_16, on = 'GEOid2')"
   ]
  },
  {
   "cell_type": "code",
   "execution_count": 35,
   "metadata": {},
   "outputs": [],
   "source": [
    "df_nj = df_nj_90.merge(df_nj_00, on = 'GEOid2')"
   ]
  },
  {
   "cell_type": "code",
   "execution_count": 36,
   "metadata": {},
   "outputs": [],
   "source": [
    "df_nj = df_nj.merge(df_nj_10, on = 'GEOid2')"
   ]
  },
  {
   "cell_type": "code",
   "execution_count": 37,
   "metadata": {},
   "outputs": [],
   "source": [
    "df_nj = df_nj.merge(df_nj_16, on = 'GEOid2')"
   ]
  },
  {
   "cell_type": "code",
   "execution_count": 38,
   "metadata": {},
   "outputs": [],
   "source": [
    "df_ct['hi_mig_16'] = 0\n",
    "df_ct['vhi_mig_16'] = 0\n",
    "df_ct['hi_mig_16_moe'] = 0\n",
    "df_ct['vhi_mig_16_moe'] = 0\n",
    "df_ct['hi_mig_10'] = 0\n",
    "df_ct['vhi_mig_10'] = 0\n",
    "df_ct['hi_mig_10_moe'] = 0\n",
    "df_ct['vhi_mig_10_moe'] = 0"
   ]
  },
  {
   "cell_type": "code",
   "execution_count": 39,
   "metadata": {},
   "outputs": [],
   "source": [
    "df_ny = df_ny.sort_index(axis=1)\n",
    "df_ct = df_ct.sort_index(axis=1)\n",
    "df_nj = df_nj.sort_index(axis=1)"
   ]
  },
  {
   "cell_type": "code",
   "execution_count": 40,
   "metadata": {},
   "outputs": [],
   "source": [
    "data = pd.concat([df_nj, df_ny, df_ct], axis=0)"
   ]
  },
  {
   "cell_type": "code",
   "execution_count": 41,
   "metadata": {},
   "outputs": [
    {
     "data": {
      "text/plain": [
       "3829"
      ]
     },
     "execution_count": 41,
     "metadata": {},
     "output_type": "execute_result"
    }
   ],
   "source": [
    "len(df_ny)"
   ]
  },
  {
   "cell_type": "code",
   "execution_count": 42,
   "metadata": {},
   "outputs": [
    {
     "data": {
      "text/plain": [
       "714"
      ]
     },
     "execution_count": 42,
     "metadata": {},
     "output_type": "execute_result"
    }
   ],
   "source": [
    "len(df_ct)"
   ]
  },
  {
   "cell_type": "code",
   "execution_count": 43,
   "metadata": {},
   "outputs": [
    {
     "data": {
      "text/plain": [
       "1425"
      ]
     },
     "execution_count": 43,
     "metadata": {},
     "output_type": "execute_result"
    }
   ],
   "source": [
    "len(df_nj)"
   ]
  },
  {
   "cell_type": "code",
   "execution_count": 44,
   "metadata": {},
   "outputs": [
    {
     "data": {
      "text/plain": [
       "5968"
      ]
     },
     "execution_count": 44,
     "metadata": {},
     "output_type": "execute_result"
    }
   ],
   "source": [
    "len(data)"
   ]
  },
  {
   "cell_type": "code",
   "execution_count": 45,
   "metadata": {},
   "outputs": [
    {
     "data": {
      "text/plain": [
       "5306"
      ]
     },
     "execution_count": 45,
     "metadata": {},
     "output_type": "execute_result"
    }
   ],
   "source": [
    "len(df_aram)"
   ]
  },
  {
   "cell_type": "code",
   "execution_count": 66,
   "metadata": {},
   "outputs": [],
   "source": [
    "df_aram.columns=['GEOid2', 'hh_16', 'hh_16_moe', 'per_col_00', 'per_nonwhite_00',\n",
    "       'per_rent_00', 'vli_00', 'li_00', 'mi_00', 'hmi_00', 'hi_00',\n",
    "       'vhi_00', 'per_all_li_00', 'hh_00', 'all_li_count_00', 'per_nonwhite_90',\n",
    "       'per_rent_90', 'vli_90', 'li_90', 'mi_90', 'hmi_90', 'hi_90',\n",
    "       'vhi_90', 'denominator', 'per_all_li_90', 'all_li_count_90', 'pop_00',\n",
    "       'pop_16', 'pop_16_moe', 'ch_all_li_count_90_00', 'ch_all_li_count_00_16',\n",
    "       'moveinincd_16', 'co_med_indinc_16', 'per_limove_16', 'per_limove_09',\n",
    "       'TOD', 'empd_15', 'mrent_90', 'rou_90', 'mrent_00', 'rou_00', 'mrent_16',\n",
    "       'mrent_16_moe', 'mhval_90', 'ohu_90', 'mhval_00', 'ohu_00', 'mhval_16',\n",
    "       'mhval_16_moe', 'mhval_90_00', 'mhval_00_16', 'mrent_90_00', 'mrent_00_16',\n",
    "       'hu_16', 'per_units_pre50', 'ohu_16', 'moe_owner_16', 'rhu_16',\n",
    "       'renter_16_moe', 'per_rent_16', 'per_nonwhite_16', 'vli_16', 'li_16',\n",
    "       'mi_16', 'hmi_16', 'hi_16', 'vhi_16', 'per_all_li_16',\n",
    "       'all_li_count_16', 'ag25up', 'bachelors', 'moe_bachelors', 'masters',\n",
    "       'moe_masters', 'professional', 'moe_professionals', 'doctorate',\n",
    "       'moe_doctorates', 'per_col_16', 'pop_90', 'per_col_90', 'moe_hu_16',\n",
    "       'hinc_16', 'moe_hinc_16', 'popgrowth']"
   ]
  },
  {
   "cell_type": "code",
   "execution_count": 71,
   "metadata": {},
   "outputs": [],
   "source": [
    "df_aram['GEOid2'] = df_aram.GEOid2.apply(lambda x: int(x))"
   ]
  },
  {
   "cell_type": "code",
   "execution_count": 72,
   "metadata": {},
   "outputs": [],
   "source": [
    "df_aram = df_aram.set_index('GEOid2')"
   ]
  },
  {
   "cell_type": "code",
   "execution_count": 78,
   "metadata": {},
   "outputs": [
    {
     "data": {
      "text/html": [
       "<div>\n",
       "<style scoped>\n",
       "    .dataframe tbody tr th:only-of-type {\n",
       "        vertical-align: middle;\n",
       "    }\n",
       "\n",
       "    .dataframe tbody tr th {\n",
       "        vertical-align: top;\n",
       "    }\n",
       "\n",
       "    .dataframe thead th {\n",
       "        text-align: right;\n",
       "    }\n",
       "</style>\n",
       "<table border=\"1\" class=\"dataframe\">\n",
       "  <thead>\n",
       "    <tr style=\"text-align: right;\">\n",
       "      <th></th>\n",
       "      <th>hh_16</th>\n",
       "      <th>hh_16_moe</th>\n",
       "      <th>per_col_00</th>\n",
       "      <th>per_nonwhite_00</th>\n",
       "      <th>per_rent_00</th>\n",
       "      <th>vli_00</th>\n",
       "      <th>li_00</th>\n",
       "      <th>mi_00</th>\n",
       "      <th>hmi_00</th>\n",
       "      <th>hi_00</th>\n",
       "      <th>...</th>\n",
       "      <th>moe_professionals</th>\n",
       "      <th>doctorate</th>\n",
       "      <th>moe_doctorates</th>\n",
       "      <th>per_col_16</th>\n",
       "      <th>pop_90</th>\n",
       "      <th>per_col_90</th>\n",
       "      <th>moe_hu_16</th>\n",
       "      <th>hinc_16</th>\n",
       "      <th>moe_hinc_16</th>\n",
       "      <th>popgrowth</th>\n",
       "    </tr>\n",
       "    <tr>\n",
       "      <th>GEOid2</th>\n",
       "      <th></th>\n",
       "      <th></th>\n",
       "      <th></th>\n",
       "      <th></th>\n",
       "      <th></th>\n",
       "      <th></th>\n",
       "      <th></th>\n",
       "      <th></th>\n",
       "      <th></th>\n",
       "      <th></th>\n",
       "      <th></th>\n",
       "      <th></th>\n",
       "      <th></th>\n",
       "      <th></th>\n",
       "      <th></th>\n",
       "      <th></th>\n",
       "      <th></th>\n",
       "      <th></th>\n",
       "      <th></th>\n",
       "      <th></th>\n",
       "      <th></th>\n",
       "    </tr>\n",
       "  </thead>\n",
       "  <tbody>\n",
       "    <tr>\n",
       "      <th>36119981000</th>\n",
       "      <td>286.0</td>\n",
       "      <td>70.0</td>\n",
       "      <td>0.266195</td>\n",
       "      <td>0.524826</td>\n",
       "      <td>0.893204</td>\n",
       "      <td>0.655472</td>\n",
       "      <td>0.240851</td>\n",
       "      <td>3.734112e-02</td>\n",
       "      <td>0.026111</td>\n",
       "      <td>0.021194</td>\n",
       "      <td>...</td>\n",
       "      <td>89.0</td>\n",
       "      <td>0.0</td>\n",
       "      <td>11.0</td>\n",
       "      <td>0.278102</td>\n",
       "      <td>2835.041504</td>\n",
       "      <td>0.209298</td>\n",
       "      <td>68.0</td>\n",
       "      <td>57353.0</td>\n",
       "      <td>19091.0</td>\n",
       "      <td>-516.0</td>\n",
       "    </tr>\n",
       "    <tr>\n",
       "      <th>36119982000</th>\n",
       "      <td>0.0</td>\n",
       "      <td>11.0</td>\n",
       "      <td>NaN</td>\n",
       "      <td>NaN</td>\n",
       "      <td>NaN</td>\n",
       "      <td>NaN</td>\n",
       "      <td>NaN</td>\n",
       "      <td>NaN</td>\n",
       "      <td>NaN</td>\n",
       "      <td>NaN</td>\n",
       "      <td>...</td>\n",
       "      <td>11.0</td>\n",
       "      <td>0.0</td>\n",
       "      <td>11.0</td>\n",
       "      <td>0.030790</td>\n",
       "      <td>NaN</td>\n",
       "      <td>NaN</td>\n",
       "      <td>11.0</td>\n",
       "      <td>NaN</td>\n",
       "      <td>NaN</td>\n",
       "      <td>NaN</td>\n",
       "    </tr>\n",
       "    <tr>\n",
       "      <th>36119983000</th>\n",
       "      <td>0.0</td>\n",
       "      <td>11.0</td>\n",
       "      <td>0.404343</td>\n",
       "      <td>0.265601</td>\n",
       "      <td>0.360562</td>\n",
       "      <td>0.194520</td>\n",
       "      <td>0.126942</td>\n",
       "      <td>7.533091e-02</td>\n",
       "      <td>0.086844</td>\n",
       "      <td>0.089576</td>\n",
       "      <td>...</td>\n",
       "      <td>11.0</td>\n",
       "      <td>0.0</td>\n",
       "      <td>11.0</td>\n",
       "      <td>0.091803</td>\n",
       "      <td>1194.203003</td>\n",
       "      <td>0.050719</td>\n",
       "      <td>11.0</td>\n",
       "      <td>NaN</td>\n",
       "      <td>NaN</td>\n",
       "      <td>-58.0</td>\n",
       "    </tr>\n",
       "    <tr>\n",
       "      <th>36119984000</th>\n",
       "      <td>92.0</td>\n",
       "      <td>37.0</td>\n",
       "      <td>0.121495</td>\n",
       "      <td>0.517544</td>\n",
       "      <td>0.000000</td>\n",
       "      <td>0.220431</td>\n",
       "      <td>0.394953</td>\n",
       "      <td>-1.490116e-08</td>\n",
       "      <td>0.019975</td>\n",
       "      <td>0.293456</td>\n",
       "      <td>...</td>\n",
       "      <td>6.0</td>\n",
       "      <td>7.0</td>\n",
       "      <td>9.0</td>\n",
       "      <td>0.208000</td>\n",
       "      <td>749.000000</td>\n",
       "      <td>0.255689</td>\n",
       "      <td>48.0</td>\n",
       "      <td>38929.0</td>\n",
       "      <td>16474.0</td>\n",
       "      <td>-54.0</td>\n",
       "    </tr>\n",
       "    <tr>\n",
       "      <th>36119985000</th>\n",
       "      <td>0.0</td>\n",
       "      <td>11.0</td>\n",
       "      <td>NaN</td>\n",
       "      <td>NaN</td>\n",
       "      <td>NaN</td>\n",
       "      <td>NaN</td>\n",
       "      <td>NaN</td>\n",
       "      <td>NaN</td>\n",
       "      <td>NaN</td>\n",
       "      <td>NaN</td>\n",
       "      <td>...</td>\n",
       "      <td>11.0</td>\n",
       "      <td>0.0</td>\n",
       "      <td>11.0</td>\n",
       "      <td>0.681818</td>\n",
       "      <td>NaN</td>\n",
       "      <td>NaN</td>\n",
       "      <td>11.0</td>\n",
       "      <td>NaN</td>\n",
       "      <td>NaN</td>\n",
       "      <td>NaN</td>\n",
       "    </tr>\n",
       "  </tbody>\n",
       "</table>\n",
       "<p>5 rows × 84 columns</p>\n",
       "</div>"
      ],
      "text/plain": [
       "             hh_16  hh_16_moe  per_col_00  per_nonwhite_00  per_rent_00  \\\n",
       "GEOid2                                                                    \n",
       "36119981000  286.0       70.0    0.266195         0.524826     0.893204   \n",
       "36119982000    0.0       11.0         NaN              NaN          NaN   \n",
       "36119983000    0.0       11.0    0.404343         0.265601     0.360562   \n",
       "36119984000   92.0       37.0    0.121495         0.517544     0.000000   \n",
       "36119985000    0.0       11.0         NaN              NaN          NaN   \n",
       "\n",
       "               vli_00     li_00         mi_00    hmi_00     hi_00    ...      \\\n",
       "GEOid2                                                               ...       \n",
       "36119981000  0.655472  0.240851  3.734112e-02  0.026111  0.021194    ...       \n",
       "36119982000       NaN       NaN           NaN       NaN       NaN    ...       \n",
       "36119983000  0.194520  0.126942  7.533091e-02  0.086844  0.089576    ...       \n",
       "36119984000  0.220431  0.394953 -1.490116e-08  0.019975  0.293456    ...       \n",
       "36119985000       NaN       NaN           NaN       NaN       NaN    ...       \n",
       "\n",
       "             moe_professionals  doctorate  moe_doctorates  per_col_16  \\\n",
       "GEOid2                                                                  \n",
       "36119981000               89.0        0.0            11.0    0.278102   \n",
       "36119982000               11.0        0.0            11.0    0.030790   \n",
       "36119983000               11.0        0.0            11.0    0.091803   \n",
       "36119984000                6.0        7.0             9.0    0.208000   \n",
       "36119985000               11.0        0.0            11.0    0.681818   \n",
       "\n",
       "                  pop_90  per_col_90  moe_hu_16  hinc_16  moe_hinc_16  \\\n",
       "GEOid2                                                                  \n",
       "36119981000  2835.041504    0.209298       68.0  57353.0      19091.0   \n",
       "36119982000          NaN         NaN       11.0      NaN          NaN   \n",
       "36119983000  1194.203003    0.050719       11.0      NaN          NaN   \n",
       "36119984000   749.000000    0.255689       48.0  38929.0      16474.0   \n",
       "36119985000          NaN         NaN       11.0      NaN          NaN   \n",
       "\n",
       "             popgrowth  \n",
       "GEOid2                  \n",
       "36119981000     -516.0  \n",
       "36119982000        NaN  \n",
       "36119983000      -58.0  \n",
       "36119984000      -54.0  \n",
       "36119985000        NaN  \n",
       "\n",
       "[5 rows x 84 columns]"
      ]
     },
     "execution_count": 78,
     "metadata": {},
     "output_type": "execute_result"
    }
   ],
   "source": [
    "df_aram.tail()"
   ]
  },
  {
   "cell_type": "code",
   "execution_count": 80,
   "metadata": {},
   "outputs": [],
   "source": [
    "data = data.merge(df_aram, on='GEOid2', how='outer')"
   ]
  },
  {
   "cell_type": "code",
   "execution_count": 42,
   "metadata": {},
   "outputs": [],
   "source": [
    "#data = data.dropna(axis = 0, how = 'any')"
   ]
  },
  {
   "cell_type": "code",
   "execution_count": 43,
   "metadata": {
    "scrolled": true
   },
   "outputs": [],
   "source": [
    "#data = data.merge(df_pop_dens[['pop_density16']], left_index = True, right_index = True)"
   ]
  },
  {
   "cell_type": "code",
   "execution_count": 44,
   "metadata": {},
   "outputs": [],
   "source": [
    "#data['pop_density16_norm'] = data.pop_density16 / np.max(data.pop_density16)"
   ]
  },
  {
   "cell_type": "markdown",
   "metadata": {},
   "source": [
    "#### Adding downtown dummy variable"
   ]
  },
  {
   "cell_type": "code",
   "execution_count": 81,
   "metadata": {},
   "outputs": [],
   "source": [
    "downtown = [5, 47, 59, 81, 85, 119, 13, 17, 31, 39, 1, 9]"
   ]
  },
  {
   "cell_type": "code",
   "execution_count": 82,
   "metadata": {},
   "outputs": [],
   "source": [
    "data['downtown'] = data.county.apply(lambda x: x in downtown)"
   ]
  },
  {
   "cell_type": "code",
   "execution_count": 83,
   "metadata": {},
   "outputs": [],
   "source": [
    "df_tod = df_tod.set_index('GEOID')"
   ]
  },
  {
   "cell_type": "code",
   "execution_count": 48,
   "metadata": {},
   "outputs": [],
   "source": [
    "#df_aram = df_aram.set_index('GEOid2')"
   ]
  },
  {
   "cell_type": "code",
   "execution_count": 84,
   "metadata": {},
   "outputs": [],
   "source": [
    "df_empd15 = df_empd15.set_index('GEOid2')\n",
    "df_empd02 = df_empd02.set_index('GEOid2')"
   ]
  },
  {
   "cell_type": "code",
   "execution_count": 85,
   "metadata": {},
   "outputs": [],
   "source": [
    "data = data.merge(df_empd15, left_index = True, right_index = True)\n",
    "data = data.merge(df_empd02, left_index = True, right_index = True)"
   ]
  },
  {
   "cell_type": "code",
   "execution_count": 86,
   "metadata": {},
   "outputs": [
    {
     "data": {
      "text/plain": [
       "7065"
      ]
     },
     "execution_count": 86,
     "metadata": {},
     "output_type": "execute_result"
    }
   ],
   "source": [
    "len(data)"
   ]
  },
  {
   "cell_type": "code",
   "execution_count": 87,
   "metadata": {},
   "outputs": [],
   "source": [
    "data = data.merge(df_tod[['TOD','TOD_pre_00','TOD_00_10','TOD_10']],left_index=True, right_index=True)"
   ]
  },
  {
   "cell_type": "code",
   "execution_count": 90,
   "metadata": {},
   "outputs": [],
   "source": [
    "data = data.drop(columns=['Unnamed: 0_x','Unnamed: 0_y'])"
   ]
  },
  {
   "cell_type": "code",
   "execution_count": 54,
   "metadata": {},
   "outputs": [],
   "source": [
    "columns = data.columns"
   ]
  },
  {
   "cell_type": "code",
   "execution_count": 55,
   "metadata": {},
   "outputs": [
    {
     "name": "stdout",
     "output_type": "stream",
     "text": [
      "county 0\n",
      "hh_00 0\n",
      "hh_16 0\n",
      "hh_16_moe 0\n",
      "hh_90 0\n",
      "hi_00 0\n",
      "hi_16 1\n",
      "hi_16_moe 0\n",
      "hi_90 0\n",
      "hi_mig_10 0\n",
      "hi_mig_10_moe 0\n",
      "hi_mig_16 0\n",
      "hi_mig_16_moe 0\n",
      "hinc_00 0\n",
      "hinc_16 0\n",
      "hinc_16_moe 0\n",
      "hinc_90 0\n",
      "hu_00 0\n",
      "hu_16 0\n",
      "hu_16_moe 0\n",
      "hu_90 0\n",
      "li_00 0\n",
      "li_16 1\n",
      "li_16_moe 0\n",
      "li_90 0\n",
      "li_mig_10 0\n",
      "li_mig_10_moe 0\n",
      "li_mig_16 0\n",
      "li_mig_16_moe 0\n",
      "mhi_00 0\n",
      "mhi_16 1\n",
      "mhi_16_moe 0\n",
      "mhi_90 0\n",
      "mhi_mig_10 0\n",
      "mhi_mig_10_moe 0\n",
      "mhi_mig_16 0\n",
      "mhi_mig_16_moe 0\n",
      "mhval_00 0\n",
      "mhval_16 0\n",
      "mhval_16_moe 0\n",
      "mhval_90 0\n",
      "mi_00 0\n",
      "mi_16 1\n",
      "mi_16_moe 0\n",
      "mi_90 0\n",
      "mi_mig_10 0\n",
      "mi_mig_10_moe 0\n",
      "mi_mig_16 0\n",
      "mi_mig_16_moe 0\n",
      "mrent_00 0\n",
      "mrent_16 0\n",
      "mrent_16_moe 0\n",
      "mrent_90 0\n",
      "per_all_li_mig_10 0\n",
      "per_all_li_mig_16 0\n",
      "per_asian_00 0\n",
      "per_asian_16 0\n",
      "per_asian_16_moe 560\n",
      "per_asian_90 0\n",
      "per_black_00 0\n",
      "per_black_16 0\n",
      "per_black_16_moe 315\n",
      "per_black_90 0\n",
      "per_built_00_16 1\n",
      "per_built_80_90 1\n",
      "per_built_90_00 1\n",
      "per_burden_00 0\n",
      "per_burden_16 9\n",
      "per_car_commute_00 0\n",
      "per_car_commute_90 0\n",
      "per_col_00 0\n",
      "per_col_16 0\n",
      "per_col_16_moe 2\n",
      "per_col_90 0\n",
      "per_commute_high_00 0\n",
      "per_commute_high_16 0\n",
      "per_commute_high_16_moe 50\n",
      "per_commute_high_90 0\n",
      "per_commute_low_00 0\n",
      "per_commute_low_16 0\n",
      "per_commute_low_16_moe 0\n",
      "per_commute_low_90 0\n",
      "per_commute_med_00 0\n",
      "per_commute_med_16 0\n",
      "per_commute_med_16_moe 2\n",
      "per_commute_med_90 0\n",
      "per_foreign_00 0\n",
      "per_foreign_16 0\n",
      "per_foreign_16_moe 5\n",
      "per_foreign_90 0\n",
      "per_hhwchild_00 0\n",
      "per_hhwchild_16 1\n",
      "per_hhwchild_16_moe 10\n",
      "per_hhwchild_90 0\n",
      "per_latino_00 0\n",
      "per_latino_16 0\n",
      "per_latino_16_moe 32\n",
      "per_latino_90 0\n",
      "per_nonwhite_00 0\n",
      "per_nonwhite_16 0\n",
      "per_nonwhite_16_moe 0\n",
      "per_nonwhite_90 0\n",
      "per_owners_00 0\n",
      "per_owners_16 1\n",
      "per_owners_16_moe 37\n",
      "per_owners_90 0\n",
      "per_rent_00 0\n",
      "per_rent_16 1\n",
      "per_rent_16_moe 7\n",
      "per_rent_90 0\n",
      "per_units_post80 0\n",
      "per_units_pre50 0\n",
      "per_units_pre50_00 0\n",
      "per_units_pre50_16 1\n",
      "pop_00 0\n",
      "pop_16 0\n",
      "pop_16_moe 0\n",
      "pop_90 0\n",
      "renters_pre_1979_16 7\n",
      "state 0\n",
      "tract 0\n",
      "vhi_00 0\n",
      "vhi_16 1\n",
      "vhi_16_moe 0\n",
      "vhi_90 0\n",
      "vhi_mig_10 0\n",
      "vhi_mig_10_moe 0\n",
      "vhi_mig_16 0\n",
      "vhi_mig_16_moe 0\n",
      "vli_00 0\n",
      "vli_16 0\n",
      "vli_16_moe 0\n",
      "vli_90 0\n",
      "vli_mig_10 0\n",
      "vli_mig_10_moe 0\n",
      "vli_mig_16 0\n",
      "vli_mig_16_moe 0\n",
      "downtown 0\n",
      "empd15 0\n",
      "empd02 0\n",
      "TOD 0\n",
      "TOD_pre_00 0\n",
      "TOD_00_10 0\n",
      "TOD_10 0\n"
     ]
    }
   ],
   "source": [
    "for i in range(1,len(columns)):\n",
    "    print(columns[i], np.isnan(data.iloc[:,i].values).sum())"
   ]
  },
  {
   "cell_type": "code",
   "execution_count": 91,
   "metadata": {},
   "outputs": [],
   "source": [
    "data.to_csv('UDPNY_gerardo_aram.csv')"
   ]
  },
  {
   "cell_type": "code",
   "execution_count": 94,
   "metadata": {},
   "outputs": [
    {
     "data": {
      "text/plain": [
       "array(['TOD', 'ag25up', 'all_li_count_00', 'all_li_count_16',\n",
       "       'all_li_count_90', 'bachelors', 'ch_all_li_count_00_16',\n",
       "       'ch_all_li_count_90_00', 'co_med_indinc_16', 'denominator',\n",
       "       'doctorate', 'empd_15', 'hh_00', 'hh_16', 'hh_16_moe', 'hi_00',\n",
       "       'hi_16', 'hi_90', 'hinc_16', 'hmi_00', 'hmi_16', 'hmi_90', 'hu_16',\n",
       "       'li_00', 'li_16', 'li_90', 'masters', 'mhval_00', 'mhval_00_16',\n",
       "       'mhval_16', 'mhval_16_moe', 'mhval_90', 'mhval_90_00', 'mi_00',\n",
       "       'mi_16', 'mi_90', 'moe_bachelors', 'moe_doctorates', 'moe_hinc_16',\n",
       "       'moe_hu_16', 'moe_masters', 'moe_owner_16', 'moe_professionals',\n",
       "       'moveinincd_16', 'mrent_00', 'mrent_00_16', 'mrent_16',\n",
       "       'mrent_16_moe', 'mrent_90', 'mrent_90_00', 'ohu_00', 'ohu_16',\n",
       "       'ohu_90', 'per_all_li_00', 'per_all_li_16', 'per_all_li_90',\n",
       "       'per_col_00', 'per_col_16', 'per_col_90', 'per_limove_09',\n",
       "       'per_limove_16', 'per_nonwhite_00', 'per_nonwhite_16',\n",
       "       'per_nonwhite_90', 'per_rent_00', 'per_rent_16', 'per_rent_90',\n",
       "       'per_units_pre50', 'pop_00', 'pop_16', 'pop_16_moe', 'pop_90',\n",
       "       'popgrowth', 'professional', 'renter_16_moe', 'rhu_16', 'rou_00',\n",
       "       'rou_90', 'vhi_00', 'vhi_16', 'vhi_90', 'vli_00', 'vli_16',\n",
       "       'vli_90'], dtype=object)"
      ]
     },
     "execution_count": 94,
     "metadata": {},
     "output_type": "execute_result"
    }
   ],
   "source": [
    "np.sort(df_aram.columns)"
   ]
  },
  {
   "cell_type": "code",
   "execution_count": 57,
   "metadata": {},
   "outputs": [],
   "source": [
    "data['all_li_mig_10'] = data['li_mig_10'] + data['vli_mig_10']"
   ]
  },
  {
   "cell_type": "code",
   "execution_count": 58,
   "metadata": {},
   "outputs": [],
   "source": [
    "data['all_li_mig_16'] = data['li_mig_16'] + data['vli_mig_16']"
   ]
  },
  {
   "cell_type": "code",
   "execution_count": 59,
   "metadata": {},
   "outputs": [
    {
     "data": {
      "text/plain": [
       "array([[<matplotlib.axes._subplots.AxesSubplot object at 0x11320e860>]],\n",
       "      dtype=object)"
      ]
     },
     "execution_count": 59,
     "metadata": {},
     "output_type": "execute_result"
    },
    {
     "data": {
      "image/png": "[encoded data removed]",
      "text/plain": [
       "<Figure size 432x288 with 1 Axes>"
      ]
     },
     "metadata": {},
     "output_type": "display_data"
    }
   ],
   "source": [
    "pd.DataFrame((data['all_li_mig_16'] - data['all_li_mig_10']).values).hist()"
   ]
  },
  {
   "cell_type": "code",
   "execution_count": 60,
   "metadata": {},
   "outputs": [
    {
     "data": {
      "text/plain": [
       "['NAME',\n",
       " 'county',\n",
       " 'hh_00',\n",
       " 'hh_16',\n",
       " 'hh_16_moe',\n",
       " 'hh_90',\n",
       " 'hi_00',\n",
       " 'hi_16',\n",
       " 'hi_16_moe',\n",
       " 'hi_90',\n",
       " 'hi_mig_10',\n",
       " 'hi_mig_10_moe',\n",
       " 'hi_mig_16',\n",
       " 'hi_mig_16_moe',\n",
       " 'hinc_00',\n",
       " 'hinc_16',\n",
       " 'hinc_16_moe',\n",
       " 'hinc_90',\n",
       " 'hu_00',\n",
       " 'hu_16',\n",
       " 'hu_16_moe',\n",
       " 'hu_90',\n",
       " 'li_00',\n",
       " 'li_16',\n",
       " 'li_16_moe',\n",
       " 'li_90',\n",
       " 'li_mig_10',\n",
       " 'li_mig_10_moe',\n",
       " 'li_mig_16',\n",
       " 'li_mig_16_moe',\n",
       " 'mhi_00',\n",
       " 'mhi_16',\n",
       " 'mhi_16_moe',\n",
       " 'mhi_90',\n",
       " 'mhi_mig_10',\n",
       " 'mhi_mig_10_moe',\n",
       " 'mhi_mig_16',\n",
       " 'mhi_mig_16_moe',\n",
       " 'mhval_00',\n",
       " 'mhval_16',\n",
       " 'mhval_16_moe',\n",
       " 'mhval_90',\n",
       " 'mi_00',\n",
       " 'mi_16',\n",
       " 'mi_16_moe',\n",
       " 'mi_90',\n",
       " 'mi_mig_10',\n",
       " 'mi_mig_10_moe',\n",
       " 'mi_mig_16',\n",
       " 'mi_mig_16_moe',\n",
       " 'mrent_00',\n",
       " 'mrent_16',\n",
       " 'mrent_16_moe',\n",
       " 'mrent_90',\n",
       " 'per_all_li_mig_10',\n",
       " 'per_all_li_mig_16',\n",
       " 'per_asian_00',\n",
       " 'per_asian_16',\n",
       " 'per_asian_16_moe',\n",
       " 'per_asian_90',\n",
       " 'per_black_00',\n",
       " 'per_black_16',\n",
       " 'per_black_16_moe',\n",
       " 'per_black_90',\n",
       " 'per_built_00_16',\n",
       " 'per_built_80_90',\n",
       " 'per_built_90_00',\n",
       " 'per_burden_00',\n",
       " 'per_burden_16',\n",
       " 'per_car_commute_00',\n",
       " 'per_car_commute_90',\n",
       " 'per_col_00',\n",
       " 'per_col_16',\n",
       " 'per_col_16_moe',\n",
       " 'per_col_90',\n",
       " 'per_commute_high_00',\n",
       " 'per_commute_high_16',\n",
       " 'per_commute_high_16_moe',\n",
       " 'per_commute_high_90',\n",
       " 'per_commute_low_00',\n",
       " 'per_commute_low_16',\n",
       " 'per_commute_low_16_moe',\n",
       " 'per_commute_low_90',\n",
       " 'per_commute_med_00',\n",
       " 'per_commute_med_16',\n",
       " 'per_commute_med_16_moe',\n",
       " 'per_commute_med_90',\n",
       " 'per_foreign_00',\n",
       " 'per_foreign_16',\n",
       " 'per_foreign_16_moe',\n",
       " 'per_foreign_90',\n",
       " 'per_hhwchild_00',\n",
       " 'per_hhwchild_16',\n",
       " 'per_hhwchild_16_moe',\n",
       " 'per_hhwchild_90',\n",
       " 'per_latino_00',\n",
       " 'per_latino_16',\n",
       " 'per_latino_16_moe',\n",
       " 'per_latino_90',\n",
       " 'per_nonwhite_00',\n",
       " 'per_nonwhite_16',\n",
       " 'per_nonwhite_16_moe',\n",
       " 'per_nonwhite_90',\n",
       " 'per_owners_00',\n",
       " 'per_owners_16',\n",
       " 'per_owners_16_moe',\n",
       " 'per_owners_90',\n",
       " 'per_rent_00',\n",
       " 'per_rent_16',\n",
       " 'per_rent_16_moe',\n",
       " 'per_rent_90',\n",
       " 'per_units_post80',\n",
       " 'per_units_pre50',\n",
       " 'per_units_pre50_00',\n",
       " 'per_units_pre50_16',\n",
       " 'pop_00',\n",
       " 'pop_16',\n",
       " 'pop_16_moe',\n",
       " 'pop_90',\n",
       " 'renters_pre_1979_16',\n",
       " 'state',\n",
       " 'tract',\n",
       " 'vhi_00',\n",
       " 'vhi_16',\n",
       " 'vhi_16_moe',\n",
       " 'vhi_90',\n",
       " 'vhi_mig_10',\n",
       " 'vhi_mig_10_moe',\n",
       " 'vhi_mig_16',\n",
       " 'vhi_mig_16_moe',\n",
       " 'vli_00',\n",
       " 'vli_16',\n",
       " 'vli_16_moe',\n",
       " 'vli_90',\n",
       " 'vli_mig_10',\n",
       " 'vli_mig_10_moe',\n",
       " 'vli_mig_16',\n",
       " 'vli_mig_16_moe',\n",
       " 'downtown',\n",
       " 'empd15',\n",
       " 'empd02',\n",
       " 'TOD',\n",
       " 'TOD_pre_00',\n",
       " 'TOD_00_10',\n",
       " 'TOD_10',\n",
       " 'all_li_mig_10',\n",
       " 'all_li_mig_16']"
      ]
     },
     "execution_count": 60,
     "metadata": {},
     "output_type": "execute_result"
    }
   ],
   "source": [
    "list(data.columns)"
   ]
  },
  {
   "cell_type": "code",
   "execution_count": 64,
   "metadata": {},
   "outputs": [
    {
     "data": {
      "text/plain": [
       "34001000100    1.0\n",
       "34001000200    1.0\n",
       "34001000300    1.0\n",
       "34001000400    1.0\n",
       "34001000500    1.0\n",
       "dtype: float64"
      ]
     },
     "execution_count": 64,
     "metadata": {},
     "output_type": "execute_result"
    }
   ],
   "source": [
    "data[['vli_90','li_90','mi_90','mhi_90','hi_90','vhi_90']].sum(axis=1).head()"
   ]
  },
  {
   "cell_type": "code",
   "execution_count": 65,
   "metadata": {},
   "outputs": [
    {
     "data": {
      "text/plain": [
       "34001000100    1.0\n",
       "34001000200    1.0\n",
       "34001000300    1.0\n",
       "34001000400    1.0\n",
       "34001000500    1.0\n",
       "dtype: float64"
      ]
     },
     "execution_count": 65,
     "metadata": {},
     "output_type": "execute_result"
    }
   ],
   "source": [
    "data[['vli_00','li_00','mi_00','mhi_00','hi_00','vhi_00']].sum(axis=1).head()"
   ]
  },
  {
   "cell_type": "code",
   "execution_count": 66,
   "metadata": {},
   "outputs": [
    {
     "data": {
      "text/plain": [
       "34001000100    1.0\n",
       "34001000200    1.0\n",
       "34001000300    1.0\n",
       "34001000400    1.0\n",
       "34001000500    1.0\n",
       "dtype: float64"
      ]
     },
     "execution_count": 66,
     "metadata": {},
     "output_type": "execute_result"
    }
   ],
   "source": [
    "data[['vli_16','li_16','mi_16','mhi_16','hi_16','vhi_16']].sum(axis=1).head()"
   ]
  },
  {
   "cell_type": "code",
   "execution_count": 53,
   "metadata": {},
   "outputs": [],
   "source": [
    "l=[]\n",
    "for i in list(data.columns):\n",
    "    if i[-3:]=='moe':\n",
    "       l.append(i) "
   ]
  },
  {
   "cell_type": "code",
   "execution_count": 92,
   "metadata": {},
   "outputs": [
    {
     "data": {
      "text/plain": [
       "'hh_16_moe'"
      ]
     },
     "execution_count": 92,
     "metadata": {},
     "output_type": "execute_result"
    }
   ],
   "source": [
    "l[0]"
   ]
  },
  {
   "cell_type": "code",
   "execution_count": 117,
   "metadata": {},
   "outputs": [
    {
     "data": {
      "text/plain": [
       "'hh_16'"
      ]
     },
     "execution_count": 117,
     "metadata": {},
     "output_type": "execute_result"
    }
   ],
   "source": [
    "l[0][:-4]"
   ]
  },
  {
   "cell_type": "code",
   "execution_count": 146,
   "metadata": {},
   "outputs": [
    {
     "data": {
      "image/png": "[encoded data removed]",
      "text/plain": [
       "<Figure size 432x288 with 1 Axes>"
      ]
     },
     "metadata": {},
     "output_type": "display_data"
    }
   ],
   "source": [
    "lim=(-1,2)\n",
    "for i in range(0,10):\n",
    "    (data[l[i][:-4]]+.000001-data[l[i]]+.0000001).divide(data[l[i][:-4]]+0.0000001).hist(range=lim, alpha=0.5)"
   ]
  },
  {
   "cell_type": "code",
   "execution_count": 144,
   "metadata": {},
   "outputs": [
    {
     "data": {
      "text/plain": [
       "36"
      ]
     },
     "execution_count": 144,
     "metadata": {},
     "output_type": "execute_result"
    }
   ],
   "source": [
    "len(l)"
   ]
  },
  {
   "cell_type": "code",
   "execution_count": 70,
   "metadata": {},
   "outputs": [
    {
     "data": {
      "text/plain": [
       "<matplotlib.axes._subplots.AxesSubplot at 0x1a11d3b630>"
      ]
     },
     "execution_count": 70,
     "metadata": {},
     "output_type": "execute_result"
    },
    {
     "data": {
      "image/png": "[encoded data removed]",
      "text/plain": [
       "<Figure size 432x288 with 1 Axes>"
      ]
     },
     "metadata": {},
     "output_type": "display_data"
    }
   ],
   "source": [
    "data[l[2]].hist()"
   ]
  },
  {
   "cell_type": "code",
   "execution_count": 91,
   "metadata": {},
   "outputs": [
    {
     "data": {
      "text/plain": [
       "GEOid2\n",
       "34001000100    0.024949\n",
       "34001000200    0.078308\n",
       "34001000300    0.024079\n",
       "34001000400    0.047312\n",
       "34001000500    0.021373\n",
       "34001001100    0.066204\n",
       "34001001200    0.019599\n",
       "34001001300    0.032153\n",
       "34001001400    0.030972\n",
       "34001001500    0.028552\n",
       "34001001900    0.063676\n",
       "34001002300    0.023169\n",
       "34001002400    0.088382\n",
       "34001002500    0.029848\n",
       "34001010101    0.061743\n",
       "34001010102    0.062745\n",
       "34001010200    0.048304\n",
       "34001010300    0.034997\n",
       "34001010401    0.056084\n",
       "34001010403    0.043514\n",
       "34001010501    0.040478\n",
       "34001010503    0.038206\n",
       "34001010600    0.042731\n",
       "34001010700    0.066556\n",
       "34001010800    0.046007\n",
       "34001010900    0.053899\n",
       "34001011000    0.055971\n",
       "34001011100    0.043037\n",
       "34001011201    0.041868\n",
       "34001011202    0.044808\n",
       "                 ...   \n",
       "9013528100     0.000000\n",
       "9013529100     0.000000\n",
       "9013530100     0.000000\n",
       "9013530200     0.000000\n",
       "9013530301     0.000000\n",
       "9013530302     0.000000\n",
       "9013530400     0.000000\n",
       "9013530500     0.000000\n",
       "9013530600     0.000000\n",
       "9013533101     0.000000\n",
       "9013533102     0.000000\n",
       "9013535100     0.000000\n",
       "9013535200     0.000000\n",
       "9013538201     0.000000\n",
       "9013538202     0.000000\n",
       "9013840100     0.000000\n",
       "9013850100     0.000000\n",
       "9013850200     0.000000\n",
       "9013860100     0.000000\n",
       "9013881100     0.000000\n",
       "9013881300     0.000000\n",
       "9013881500     0.000000\n",
       "9013890100     0.000000\n",
       "9015800300     0.000000\n",
       "9015800400     0.000000\n",
       "9015800500     0.000000\n",
       "9015815000     0.000000\n",
       "9015820000     0.000000\n",
       "9015825000     0.000000\n",
       "9015830100     0.000000\n",
       "Name: hi_mig_16_moe, Length: 5968, dtype: float64"
      ]
     },
     "execution_count": 91,
     "metadata": {},
     "output_type": "execute_result"
    }
   ],
   "source": [
    "data[l[3]]"
   ]
  },
  {
   "cell_type": "code",
   "execution_count": 73,
   "metadata": {},
   "outputs": [
    {
     "data": {
      "text/plain": [
       "<matplotlib.axes._subplots.AxesSubplot at 0x1a1d9d4128>"
      ]
     },
     "execution_count": 73,
     "metadata": {},
     "output_type": "execute_result"
    },
    {
     "data": {
      "image/png": "[encoded data removed]",
      "text/plain": [
       "<Figure size 432x288 with 1 Axes>"
      ]
     },
     "metadata": {},
     "output_type": "display_data"
    }
   ],
   "source": [
    "data[l[3]].hist()"
   ]
  },
  {
   "cell_type": "code",
   "execution_count": 88,
   "metadata": {},
   "outputs": [
    {
     "data": {
      "text/plain": [
       "<matplotlib.axes._subplots.AxesSubplot at 0x1a10a0cc18>"
      ]
     },
     "execution_count": 88,
     "metadata": {},
     "output_type": "execute_result"
    },
    {
     "data": {
      "image/png": "[encoded data removed]",
      "text/plain": [
       "<Figure size 432x288 with 1 Axes>"
      ]
     },
     "metadata": {},
     "output_type": "display_data"
    }
   ],
   "source": [
    "data[l[4]].hist()"
   ]
  },
  {
   "cell_type": "code",
   "execution_count": 90,
   "metadata": {},
   "outputs": [
    {
     "data": {
      "text/plain": [
       "<matplotlib.axes._subplots.AxesSubplot at 0x1a1dcbae10>"
      ]
     },
     "execution_count": 90,
     "metadata": {},
     "output_type": "execute_result"
    },
    {
     "data": {
      "image/png": "[encoded data removed]",
      "text/plain": [
       "<Figure size 432x288 with 1 Axes>"
      ]
     },
     "metadata": {},
     "output_type": "display_data"
    }
   ],
   "source": [
    "data[l[5]].hist()"
   ]
  },
  {
   "cell_type": "code",
   "execution_count": null,
   "metadata": {},
   "outputs": [],
   "source": [
    "data[l[4]].hist"
   ]
  },
  {
   "cell_type": "code",
   "execution_count": null,
   "metadata": {},
   "outputs": [],
   "source": []
  }
 ],
 "metadata": {
  "kernelspec": {
   "display_name": "Python 3",
   "language": "python",
   "name": "python3"
  },
  "language_info": {
   "codemirror_mode": {
    "name": "ipython",
    "version": 3
   },
   "file_extension": ".py",
   "mimetype": "text/x-python",
   "name": "python",
   "nbconvert_exporter": "python",
   "pygments_lexer": "ipython3",
   "version": "3.6.5"
  }
 },
 "nbformat": 4,
 "nbformat_minor": 2
}

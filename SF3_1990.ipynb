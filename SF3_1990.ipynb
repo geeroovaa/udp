{
 "cells": [
  {
   "cell_type": "markdown",
   "metadata": {},
   "source": [
    "!pip install census"
   ]
  },
  {
   "cell_type": "markdown",
   "metadata": {},
   "source": [
    "!pip install us"
   ]
  },
  {
   "cell_type": "code",
   "execution_count": 1,
   "metadata": {},
   "outputs": [
    {
     "name": "stdout",
     "output_type": "stream",
     "text": [
      "Populating the interactive namespace from numpy and matplotlib\n"
     ]
    }
   ],
   "source": [
    "from census import Census\n",
    "from us import states\n",
    "import pandas as pd\n",
    "import numpy as np\n",
    "import pylab as pl\n",
    "import csv\n",
    "%pylab inline"
   ]
  },
  {
   "cell_type": "markdown",
   "metadata": {},
   "source": [
    "#### Insert your census api key her below"
   ]
  },
  {
   "cell_type": "code",
   "execution_count": 2,
   "metadata": {},
   "outputs": [],
   "source": [
    "c = Census(\"4c26aa6ebbaef54a55d3903212eabbb506ade381\")"
   ]
  },
  {
   "cell_type": "markdown",
   "metadata": {},
   "source": [
    "#### This is the data dictionary"
   ]
  },
  {
   "cell_type": "markdown",
   "metadata": {},
   "source": [
    "#### 1990 SF1 Variables"
   ]
  },
  {
   "cell_type": "raw",
   "metadata": {},
   "source": [
    "P0010001 - Total Population\n",
    "P0060001 - Total White Population\n",
    "\n",
    "H043A001 - Median Gross Rent\n",
    "\n",
    "H0040001 - Median value of owner occupied house\n",
    "\n",
    "H0010001 - Total Occupied Housing Units\n",
    "H0080001 - Owner Occupied Housing Units\n",
    "H0080002 - Renter Occupied Housing Units\n",
    "\n",
    "P0800001 - Less than 5k\n",
    "P0800002 - Between 5k - 10k\n",
    "P0800003 - Between 10k - 12.5k\n",
    "P0800004 - Between 12.5k - 15k\n",
    "P0800005 - Between 15k - 17.5k\n",
    "P0800006 - Between 17.5k - 20k\n",
    "P0800007 - Between 20k - 22.5k\n",
    "P0800008 - Between 22.5k - 25k\n",
    "P0800009 - Between 25k - 27.5k\n",
    "P0800010 - Between 27.5k - 30k\n",
    "P0800011 - Between 30k - 32.5k\n",
    "P0800012 - Between 32.5k - 35k\n",
    "P0800013 - Between 35k - 37.5k\n",
    "P0800014 - Between 37.5k - 40k\n",
    "P0800015 - Between 40k - 42.5k\n",
    "P0800016 - Between 42.5k - 45k\n",
    "P0800017 - Between 45k - 47.5k\n",
    "P0800018 - Between 47.5k - 50k\n",
    "P0800019 - Between 50k - 55k\n",
    "P0800020 - Between 55k - 60k\n",
    "P0800021 - Between 60k - 75k\n",
    "P0800022 - Between 75k - 100k\n",
    "P0800023 - Between 100k - 125k\n",
    "P0800024 - Between 125k - 150k\n",
    "P0800025 - 150k or more\n",
    "\n",
    "P080A001 - Median Household Income\n",
    "\n",
    "P0130018 - Age 25 to 29 years\n",
    "P0130019 - Age 30 to 34 years\n",
    "P0130020 - Age 35 to 39 years\n",
    "P0130021 - Age 40 to 44 years\n",
    "P0130022 - Age 45 to 49 years\n",
    "P0130023 - Age 50 to 54 years\n",
    "P0130024 - Age 55 to 59 years\n",
    "P0130025 - Age 60 to 61 years\n",
    "P0130026 - Age 62 to 64 years\n",
    "P0130027 - Age 65 to 69 years\n",
    "P0130028 - Age 70 to 74 years\n",
    "P0130029 - Age 75 to 79 years\n",
    "P0130030 - Age 80 to 84 years\n",
    "P0130031 - Age 85 to 29 years\n",
    "\n",
    "P0570006 - Total Population with a bachelor's Degree"
   ]
  },
  {
   "cell_type": "markdown",
   "metadata": {},
   "source": [
    "#### Creating the buckets for variables that are separeted into bins like income"
   ]
  },
  {
   "cell_type": "code",
   "execution_count": 3,
   "metadata": {},
   "outputs": [],
   "source": [
    "buckets = [0, 5000, 10000, 12500, 15000, 17500, 20000, 22500, 25000, 27500, 30000, 32500, 35000, 37500, 40000, \n",
    "           42500, 45000, 47500, 50000, 55000, 60000, 75000, 100000, 125000, 150000, 1000000]"
   ]
  },
  {
   "cell_type": "markdown",
   "metadata": {},
   "source": [
    "#### Insert the variables you want to download. The second part is just so it is automated."
   ]
  },
  {
   "cell_type": "code",
   "execution_count": 4,
   "metadata": {},
   "outputs": [],
   "source": [
    "variables = ['H0040001', 'H0080001', 'H0080002', 'H043A001', 'H061A001', 'P0010001',\n",
    "             'P0060001', 'P0130018', 'P0130019', 'P0130020', 'P0130021', 'P0130022',\n",
    "             'P0130023', 'P0130024', 'P0130025', 'P0130026', 'P0130027', 'P0130028',\n",
    "             'P0130029', 'P0130030', 'P0130031', 'P0570006', 'P0800001', 'P0800002',\n",
    "             'P0800003', 'P0800004', 'P0800005', 'P0800006', 'P0800007', 'P0800008',\n",
    "             'P0800009', 'P0800010', 'P0800011', 'P0800012', 'P0800013', 'P0800014',\n",
    "             'P0800015', 'P0800016', 'P0800017', 'P0800018', 'P0800019', 'P0800020',\n",
    "             'P0800021', 'P0800022', 'P0800023', 'P0800024', 'P0800025', 'P080A001']"
   ]
  },
  {
   "cell_type": "code",
   "execution_count": 5,
   "metadata": {},
   "outputs": [],
   "source": [
    "var = variables"
   ]
  },
  {
   "cell_type": "markdown",
   "metadata": {},
   "source": [
    "#### Choose the state and insert its code (as a string number)"
   ]
  },
  {
   "cell_type": "raw",
   "metadata": {},
   "source": [
    "Alabama\t        01  AL\n",
    "Alaska\t        02  AK\n",
    "Arizona\t        04  AZ\n",
    "Arkansas\t    05  AR\n",
    "California\t    06  CA\n",
    "Colorado\t    08  CO\n",
    "Connecticut\t    09\tCT\n",
    "Delaware\t    10\tDE\n",
    "D.C.         \t11\tDC\n",
    "Florida\t        12\tFL\n",
    "Georgia\t        13\tGA\n",
    "Hawaii\t        15\tHI\n",
    "Idaho\t        16\tID\n",
    "Illinois\t    17\tIL\n",
    "Indiana\t        18\tIN\n",
    "Iowa\t        19\tIA\n",
    "Kansas\t        20\tKS\n",
    "Kentucky\t    21\tKY\n",
    "Louisiana\t    22\tLA\n",
    "Maine\t        23\tME\n",
    "Maryland\t    24\tMD\n",
    "Massachusetts\t25\tMA\n",
    "Michigan\t    26\tMI\n",
    "Minnesota\t    27\tMN\n",
    "Mississippi\t    28\tMS\n",
    "Missouri\t    29\tMO\n",
    "Montana\t        30\tMT\n",
    "Nebraska\t    31\tNE\n",
    "Nevada\t        32\tNV\n",
    "New Hampshire\t33\tNH\n",
    "New Jersey\t    34\tNJ\n",
    "New Mexico\t    35\tNM\n",
    "New York\t    36\tNY\n",
    "North Carolina\t37  NC\n",
    "North Dakota\t38  ND\n",
    "Ohio\t        39  OH \n",
    "Oklahoma\t    40  OK\n",
    "Oregon\t        41  OR\n",
    "Pennsylvania\t42  PA\n",
    "Rhode Island\t44  RI\n",
    "South Carolina\t45  SC\n",
    "South Dakota\t46  SD\n",
    "Tennessee\t    47  TN\n",
    "Texas\t        48  TX\n",
    "Utah\t        49  UT\n",
    "Vermont\t        50  VT\n",
    "Virginia\t    51  VA\n",
    "Washington\t    53  WA\n",
    "West Virginia\t54  WV\n",
    "Wisconsin\t    55  WI\n",
    "Wyoming\t        56  WY"
   ]
  },
  {
   "cell_type": "code",
   "execution_count": 6,
   "metadata": {},
   "outputs": [],
   "source": [
    "state = '36'"
   ]
  },
  {
   "cell_type": "code",
   "execution_count": 7,
   "metadata": {},
   "outputs": [],
   "source": [
    "sql_query='state:{} county:*'.format(state)"
   ]
  },
  {
   "cell_type": "code",
   "execution_count": 8,
   "metadata": {},
   "outputs": [],
   "source": [
    "dic = c.sf3.get(var, geo = {'for': 'tract:*',\n",
    "                       'in': sql_query}, year = 1990)"
   ]
  },
  {
   "cell_type": "code",
   "execution_count": 9,
   "metadata": {},
   "outputs": [],
   "source": [
    "df = pd.DataFrame.from_dict(dic)"
   ]
  },
  {
   "cell_type": "code",
   "execution_count": 10,
   "metadata": {},
   "outputs": [],
   "source": [
    "df = df.reset_index()"
   ]
  },
  {
   "cell_type": "code",
   "execution_count": 11,
   "metadata": {},
   "outputs": [],
   "source": [
    "df = df.drop(columns = 'index')"
   ]
  },
  {
   "cell_type": "code",
   "execution_count": 12,
   "metadata": {},
   "outputs": [],
   "source": [
    "df['hh_90'] = np.sum(df.iloc[:,22:47],axis=1)\n",
    "df['pop_over_25'] = np.sum(df.iloc[:,7:20],axis=1)"
   ]
  },
  {
   "cell_type": "markdown",
   "metadata": {},
   "source": [
    "#### Exporting the raw file"
   ]
  },
  {
   "cell_type": "code",
   "execution_count": 13,
   "metadata": {},
   "outputs": [],
   "source": [
    "df.to_csv('variables_' + state + '.csv', index = None)"
   ]
  },
  {
   "cell_type": "markdown",
   "metadata": {},
   "source": [
    "#### Calculating the thresholds for each of the counties"
   ]
  },
  {
   "cell_type": "code",
   "execution_count": 14,
   "metadata": {},
   "outputs": [],
   "source": [
    "county = df.county.unique()"
   ]
  },
  {
   "cell_type": "code",
   "execution_count": 15,
   "metadata": {},
   "outputs": [],
   "source": [
    "counties = {}\n",
    "counties = counties.fromkeys(county)"
   ]
  },
  {
   "cell_type": "code",
   "execution_count": 16,
   "metadata": {},
   "outputs": [],
   "source": [
    "columns = df.columns"
   ]
  },
  {
   "cell_type": "code",
   "execution_count": 17,
   "metadata": {},
   "outputs": [],
   "source": [
    "for i in range(0,len(columns)-5):\n",
    "    df[columns[i]] = df[columns[i]].astype(float)"
   ]
  },
  {
   "cell_type": "code",
   "execution_count": 18,
   "metadata": {},
   "outputs": [],
   "source": [
    "for i in county:\n",
    "    counties[i] = np.median(df[df.county == i].P080A001)"
   ]
  },
  {
   "cell_type": "code",
   "execution_count": 19,
   "metadata": {},
   "outputs": [],
   "source": [
    "df_threshold = pd.DataFrame.from_dict(counties, orient='index')"
   ]
  },
  {
   "cell_type": "code",
   "execution_count": 20,
   "metadata": {},
   "outputs": [],
   "source": [
    "df_threshold = df_threshold.rename(columns={0:'median'})"
   ]
  },
  {
   "cell_type": "code",
   "execution_count": 21,
   "metadata": {},
   "outputs": [],
   "source": [
    "#df_typo['vvli_threshold']=0.3*df_typo['median']\n",
    "df_threshold['vli_threshold'] = 0.5*df_threshold['median']\n",
    "df_threshold['li_threshold'] = 0.8*df_threshold['median']\n",
    "df_threshold['mi_threshold'] = 1.2*df_threshold['median']\n",
    "df_threshold['mhi_threshold'] = 1.5*df_threshold['median']\n",
    "df_threshold['hi_threshold'] = 2*df_threshold['median']\n",
    "df_threshold['vhi_threshold'] = 1000000"
   ]
  },
  {
   "cell_type": "markdown",
   "metadata": {},
   "source": [
    "#### Creating the different typologies based on each county's median income"
   ]
  },
  {
   "cell_type": "code",
   "execution_count": 22,
   "metadata": {},
   "outputs": [],
   "source": [
    "table = np.zeros((len(county),len(buckets)-1))\n",
    "for j in range(0, len(counties)):\n",
    "    col = 1\n",
    "    for i in range(0, len(buckets)-1):\n",
    "        if buckets[i+1] < df_threshold.iloc[j, col]:\n",
    "            table[j, i] = True\n",
    "        else:\n",
    "            table[j, i] = (df_threshold.iloc[j, col] - buckets[i]) / (buckets[i+1] - buckets[i])\n",
    "            col = col+1"
   ]
  },
  {
   "cell_type": "code",
   "execution_count": 23,
   "metadata": {
    "scrolled": true
   },
   "outputs": [],
   "source": [
    "values=[]\n",
    "for i in county:\n",
    "    with open('variables_'+state+'.csv', 'r') as fi:\n",
    "        reader = csv.DictReader(fi)\n",
    "        def creator(reader, c):\n",
    "            bt = filter(lambda x: x['county'] == c, reader)\n",
    "            return (list(bt))\n",
    "        value = creator(reader, i)\n",
    "    values.append(value)"
   ]
  },
  {
   "cell_type": "code",
   "execution_count": 24,
   "metadata": {},
   "outputs": [],
   "source": [
    "income_typo = []\n",
    "for j in range(0, len(county)):\n",
    "    for i in range(0, len(values[j])):\n",
    "        typo = []\n",
    "        summ = 0\n",
    "        for col in range(0,len(buckets)-1):\n",
    "            if ((table[j, col] == 1) & (values[j][i]['hh_90']!='0.0')):\n",
    "                summ = summ + float(values[j][i][var[22+col]])/float(values[j][i]['hh_90'])\n",
    "            else:\n",
    "                if values[j][i]['hh_90']!='0.0':\n",
    "                    summ = summ + float(values[j][i][var[22+col]])*table[j, col]/float(values[j][i]['hh_90'])\n",
    "                    typo.append(summ)\n",
    "                    summ = float(values[j][i][var[22+col]])*(1-table[j, col])/float(values[j][i]['hh_90'])\n",
    "        typo.append(summ)\n",
    "        income_typo.append(typo)"
   ]
  },
  {
   "cell_type": "code",
   "execution_count": 25,
   "metadata": {},
   "outputs": [],
   "source": [
    "df_final = pd.DataFrame(income_typo)"
   ]
  },
  {
   "cell_type": "code",
   "execution_count": 26,
   "metadata": {},
   "outputs": [],
   "source": [
    "df_final = df_final.rename(columns={0:'vli_90', 1:'li_90', 2:'mi_90', 3:'mhi_90', 4:'hi_90', 5:'vhi_90'})"
   ]
  },
  {
   "cell_type": "code",
   "execution_count": 27,
   "metadata": {},
   "outputs": [],
   "source": [
    "moe_names = ['per_col_90', 'per_rent_90', 'per_owners_90', 'per_nonwhite_90']\n",
    "moe_dividend = ['P0570006', 'H0080002', 'H0080001', 'P0060001']\n",
    "moe_divisor = ['pop_over_25', 'H0040001', 'H0040001', 'P0010001']"
   ]
  },
  {
   "cell_type": "code",
   "execution_count": 28,
   "metadata": {},
   "outputs": [],
   "source": [
    "for i in range(0,len(moe_names)):\n",
    "    if i!=3:\n",
    "        df_final[moe_names[i]] = df[moe_dividend[i]]/df[moe_divisor[i]]\n",
    "    else:\n",
    "        df_final[moe_names[i]] = 1 - df[moe_dividend[i]]/df[moe_divisor[i]]"
   ]
  },
  {
   "cell_type": "code",
   "execution_count": 29,
   "metadata": {},
   "outputs": [],
   "source": [
    "df = df.rename(columns={'H043A001':'mrent_90', 'P080A001':'hinc_90', \n",
    "                        'H061A001':'mhval_90', 'H0040001':'hu_90', 'P0010001':'pop_90'})"
   ]
  },
  {
   "cell_type": "code",
   "execution_count": 30,
   "metadata": {},
   "outputs": [],
   "source": [
    "df_final = df_final.join(df[['hh_90', 'mrent_90', 'hinc_90', 'mhval_90', 'hu_90', 'pop_90', 'state', 'county',\n",
    "                             'tract']])"
   ]
  },
  {
   "cell_type": "markdown",
   "metadata": {},
   "source": [
    "#### Droping null values"
   ]
  },
  {
   "cell_type": "code",
   "execution_count": 31,
   "metadata": {},
   "outputs": [],
   "source": [
    "prev_len = len(df_final)"
   ]
  },
  {
   "cell_type": "code",
   "execution_count": 32,
   "metadata": {},
   "outputs": [],
   "source": [
    "df_final = df_final.dropna(axis = 0, how = 'any')"
   ]
  },
  {
   "cell_type": "code",
   "execution_count": 33,
   "metadata": {},
   "outputs": [],
   "source": [
    "final_len = len(df_final)"
   ]
  },
  {
   "cell_type": "code",
   "execution_count": 34,
   "metadata": {},
   "outputs": [
    {
     "name": "stdout",
     "output_type": "stream",
     "text": [
      "The percentage of information lost is: 2.881844380403458\n"
     ]
    }
   ],
   "source": [
    "print('The percentage of information lost is: {}'.format((prev_len-final_len)*100/prev_len))"
   ]
  },
  {
   "cell_type": "markdown",
   "metadata": {},
   "source": [
    "#### Exporting the final file"
   ]
  },
  {
   "cell_type": "code",
   "execution_count": 37,
   "metadata": {},
   "outputs": [],
   "source": [
    "df_final['GEOid2'] = df_final['state'] + df_final['county'] + df_final['tract']"
   ]
  },
  {
   "cell_type": "code",
   "execution_count": 38,
   "metadata": {},
   "outputs": [],
   "source": [
    "df_final.to_csv(state+'_1990_variables.csv', index = None)"
   ]
  }
 ],
 "metadata": {
  "kernelspec": {
   "display_name": "Python 3",
   "language": "python",
   "name": "python3"
  },
  "language_info": {
   "codemirror_mode": {
    "name": "ipython",
    "version": 3
   },
   "file_extension": ".py",
   "mimetype": "text/x-python",
   "name": "python",
   "nbconvert_exporter": "python",
   "pygments_lexer": "ipython3",
   "version": "3.6.5"
  }
 },
 "nbformat": 4,
 "nbformat_minor": 2
}

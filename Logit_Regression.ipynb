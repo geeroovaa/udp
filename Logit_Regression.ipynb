{
 "cells": [
  {
   "cell_type": "code",
   "execution_count": 1,
   "metadata": {},
   "outputs": [
    {
     "name": "stdout",
     "output_type": "stream",
     "text": [
      "Populating the interactive namespace from numpy and matplotlib\n"
     ]
    }
   ],
   "source": [
    "import pandas as pd\n",
    "import numpy as np\n",
    "#logistics regression\n",
    "from sklearn.linear_model import LogisticRegression\n",
    "from sklearn.metrics import confusion_matrix, accuracy_score, precision_score, classification_report\n",
    "\n",
    "import matplotlib.pylab\n",
    "%pylab inline"
   ]
  },
  {
   "cell_type": "code",
   "execution_count": 2,
   "metadata": {},
   "outputs": [],
   "source": [
    "from sklearn import linear_model\n",
    "import scipy.stats as stat\n",
    "\n",
    "class LogisticReg:\n",
    "    \"\"\"\n",
    "    Wrapper Class for Logistic Regression which has the usual sklearn instance \n",
    "    in an attribute self.model, and pvalues, z scores and estimated \n",
    "    errors for each coefficient in \n",
    "    \n",
    "    self.z_scores\n",
    "    self.p_values\n",
    "    self.sigma_estimates\n",
    "    \n",
    "    as well as the negative hessian of the log Likelihood (Fisher information)\n",
    "    \n",
    "    self.F_ij\n",
    "    \"\"\"\n",
    "    \n",
    "    def __init__(self,*args,**kwargs):#,**kwargs):\n",
    "        self.model = linear_model.LogisticRegression(*args,**kwargs)#,**args)\n",
    "\n",
    "    def fit(self,X,y):\n",
    "        self.model.fit(X,y)\n",
    "        #### Get p-values for the fitted model ####\n",
    "        denom = (2.0*(1.0+np.cosh(self.model.decision_function(X))))\n",
    "        denom = np.tile(denom,(X.shape[1],1)).T\n",
    "        F_ij = np.dot((X/denom).T,X) ## Fisher Information Matrix\n",
    "        Cramer_Rao = np.linalg.inv(F_ij) ## Inverse Information Matrix\n",
    "        sigma_estimates = np.array([np.sqrt(Cramer_Rao[i,i]) for i in range(Cramer_Rao.shape[0])]) # sigma for each coefficient\n",
    "        z_scores = self.model.coef_[0]/sigma_estimates # z-score for eaach model coefficient\n",
    "        p_values = [stat.norm.sf(abs(x))*2 for x in z_scores] ### two tailed test for p-values\n",
    "        \n",
    "        self.z_scores = z_scores\n",
    "        self.p_values = p_values\n",
    "        self.sigma_estimates = sigma_estimates\n",
    "        self.F_ij = F_ij"
   ]
  },
  {
   "cell_type": "code",
   "execution_count": 3,
   "metadata": {},
   "outputs": [],
   "source": [
    "def summary(X,logit,logit1):\n",
    "    names = list(X.columns)\n",
    "    summary_90 = pd.DataFrame(index=names,columns=['Coefficient','p-value','<.10','<.05','<.01'])\n",
    "    summary_90['Coefficient']=logit1.coef_[0]\n",
    "    summary_90['p-value']=logit.p_values\n",
    "    summary_90['Coefficient']=summary_90['Coefficient'].apply(lambda x: float('{:.2e}'.format(x)))\n",
    "    summary_90['p-value']=summary_90['p-value'].apply(lambda x: float('{:.2e}'.format(x)))\n",
    "    ten=[]\n",
    "    five=[]\n",
    "    one=[]\n",
    "    for i in range(0,len(X.columns)):\n",
    "        if summary_90['p-value'][i]<0.1:\n",
    "            ten.append('*')\n",
    "        else:\n",
    "            ten.append('')\n",
    "        if summary_90['p-value'][i]<0.05:\n",
    "            five.append('*')\n",
    "        else:\n",
    "            five.append('')\n",
    "        if summary_90['p-value'][i]<0.01:\n",
    "            one.append('*')\n",
    "        else:\n",
    "            one.append('')\n",
    "    summary_90['<.10']=ten\n",
    "    summary_90['<.05']=five\n",
    "    summary_90['<.01']=one\n",
    "    intercept = float('{:.2e}'.format(logit1.intercept_[0]))\n",
    "    inter=pd.DataFrame({'Coefficient': [intercept],'p-value':'','<.10':'','<.05':'','<.01':''},index=['Intercept'])\n",
    "    summary_90 = pd.concat([inter,summary_90])\n",
    "    return summary_90"
   ]
  },
  {
   "cell_type": "code",
   "execution_count": 4,
   "metadata": {},
   "outputs": [],
   "source": [
    "data = pd.read_csv('UDPNY_gerardo.csv')"
   ]
  },
  {
   "cell_type": "code",
   "execution_count": 5,
   "metadata": {},
   "outputs": [],
   "source": [
    "data['all_li_90'] = data['vli_90']+data['li_90']\n",
    "data['all_li_00'] = data['vli_00']+data['li_00']\n",
    "data['all_li_16'] = data['vli_16']+data['li_16']"
   ]
  },
  {
   "cell_type": "code",
   "execution_count": 6,
   "metadata": {},
   "outputs": [],
   "source": [
    "data_aram = pd.read_csv('final_typology9.csv')"
   ]
  },
  {
   "cell_type": "code",
   "execution_count": 8,
   "metadata": {},
   "outputs": [
    {
     "data": {
      "text/plain": [
       "5374"
      ]
     },
     "execution_count": 8,
     "metadata": {},
     "output_type": "execute_result"
    }
   ],
   "source": [
    "len(data_aram)"
   ]
  },
  {
   "cell_type": "code",
   "execution_count": 7,
   "metadata": {},
   "outputs": [],
   "source": [
    "data = data.rename(columns={'Unnamed: 0':'geoid2'})"
   ]
  },
  {
   "cell_type": "code",
   "execution_count": 53,
   "metadata": {},
   "outputs": [],
   "source": [
    "data = data.merge(data_aram[['geoid2','typology_2']], on='geoid2')"
   ]
  },
  {
   "cell_type": "code",
   "execution_count": 54,
   "metadata": {},
   "outputs": [],
   "source": [
    "data = data.dropna(how='any', axis=0)"
   ]
  },
  {
   "cell_type": "code",
   "execution_count": 56,
   "metadata": {},
   "outputs": [],
   "source": [
    "data = data.reset_index().drop(columns='index')"
   ]
  },
  {
   "cell_type": "markdown",
   "metadata": {},
   "source": [
    "l=[]\n",
    "for i in range(0,len(data)):\n",
    "    if ((data.typology_2[i]=='LI - Ongoing Gentrification') | \n",
    "        (data.typology_2[i]=='MHI - Exclusion')):\n",
    "        l.append(1)\n",
    "    else :\n",
    "        l.append(0)"
   ]
  },
  {
   "cell_type": "markdown",
   "metadata": {},
   "source": [
    "l=[]\n",
    "for i in range(0,len(data)):\n",
    "    if ((data.typology_2[i]=='MHI - Exclusion')|(data.typology_2[i]=='MHI - Exclusion')):\n",
    "        l.append(1)\n",
    "    else :\n",
    "        l.append(0)"
   ]
  },
  {
   "cell_type": "code",
   "execution_count": 57,
   "metadata": {},
   "outputs": [],
   "source": [
    "l=[]\n",
    "for i in range(0,len(data)):\n",
    "    if ((data.typology_2[i]=='LI - Ongoing Gentrification and/or Displacement') | \n",
    "        (data.typology_2[i]=='MHI - Advanced Gentrification')):\n",
    "        l.append(1)\n",
    "    else :\n",
    "        l.append(0)"
   ]
  },
  {
   "cell_type": "code",
   "execution_count": 58,
   "metadata": {},
   "outputs": [],
   "source": [
    "data['gen'] = l"
   ]
  },
  {
   "cell_type": "code",
   "execution_count": 59,
   "metadata": {},
   "outputs": [
    {
     "data": {
      "text/plain": [
       "192"
      ]
     },
     "execution_count": 59,
     "metadata": {},
     "output_type": "execute_result"
    }
   ],
   "source": [
    "data['gen'].sum()"
   ]
  },
  {
   "cell_type": "code",
   "execution_count": 60,
   "metadata": {},
   "outputs": [],
   "source": [
    "data['TOD_pre_00'] = data['TOD_pre_00'].apply(lambda x: float(x))\n",
    "data['TOD_00_10'] = data['TOD_00_10'].apply(lambda x: float(x))\n",
    "data['TOD_10'] = data['TOD_10'].apply(lambda x: float(x))\n",
    "data['TOD'] = data['TOD'].apply(lambda x: float(x))"
   ]
  },
  {
   "cell_type": "code",
   "execution_count": 61,
   "metadata": {},
   "outputs": [],
   "source": [
    "logit_90 = LogisticReg(C = 10000)\n",
    "logit1_90 = LogisticRegression(C = 10000)\n",
    "logit_00 = LogisticReg(C = 10000)\n",
    "logit1_00 = LogisticRegression(C = 10000)\n",
    "logit_16 = LogisticReg(C = 10000)\n",
    "logit1_16 = LogisticRegression(C = 10000)\n",
    "logit = LogisticReg(C = 10000)\n",
    "logit1 = LogisticRegression(C = 10000)"
   ]
  },
  {
   "cell_type": "code",
   "execution_count": 62,
   "metadata": {},
   "outputs": [],
   "source": [
    "data['hinc_90_norm'] = data['hinc_90']/np.max(data['hinc_90'])\n",
    "data['hinc_00_norm'] = data['hinc_00']/np.max(data['hinc_00'])\n",
    "data['hinc_16_norm'] = data['hinc_16']/np.max(data['hinc_16'])\n",
    "data['empd02_norm'] = data['empd02']/np.max(data['empd02'])\n",
    "data['empd15_norm'] = data['empd15']/np.max(data['empd15'])"
   ]
  },
  {
   "cell_type": "code",
   "execution_count": 63,
   "metadata": {},
   "outputs": [],
   "source": [
    "data['downtown'] = data['downtown'].apply(lambda x: int(x))"
   ]
  },
  {
   "cell_type": "code",
   "execution_count": 64,
   "metadata": {},
   "outputs": [],
   "source": [
    "X_90 = data[['hinc_90_norm', 'per_rent_90', 'per_black_90', 'per_asian_90', 'per_latino_90', 'per_hhwchild_90',\n",
    "             'per_commute_low_90', 'per_commute_med_90', 'per_commute_high_90', 'per_built_80_90',\n",
    "             'TOD_pre_00', 'per_units_pre50','per_units_post80', 'per_car_commute_90', 'downtown',\n",
    "            'empd02_norm']]\n",
    "\n",
    "X_00 = data[['hinc_00_norm', 'per_rent_00', 'per_black_00', 'per_asian_00', 'per_latino_00', 'per_hhwchild_00',\n",
    "             'per_commute_low_00', 'per_commute_med_00', 'per_commute_high_00', 'per_built_90_00',\n",
    "             'TOD_pre_00', 'per_units_pre50_16', 'per_burden_00','downtown','empd02_norm', 'per_units_pre50_00',\n",
    "            'per_car_commute_00']]\n",
    "\n",
    "X_16 = data[['hinc_16_norm', 'per_rent_16','per_asian_16', 'per_black_16',\n",
    "             'per_hhwchild_16', 'per_commute_low_16', 'per_commute_med_16', 'per_commute_high_16', 'per_built_00_16',\n",
    "             'TOD', 'per_units_pre50_16', 'per_latino_16', 'per_burden_16','empd15_norm']]"
   ]
  },
  {
   "cell_type": "code",
   "execution_count": 65,
   "metadata": {},
   "outputs": [],
   "source": [
    "X_90 = X_90.reset_index().drop('index',axis=1)\n",
    "X_00 = X_00.reset_index().drop('index',axis=1)\n",
    "X_16 = X_16.reset_index().drop('index',axis=1)"
   ]
  },
  {
   "cell_type": "code",
   "execution_count": 66,
   "metadata": {},
   "outputs": [],
   "source": [
    "Y_90_00 = data.gen"
   ]
  },
  {
   "cell_type": "code",
   "execution_count": 67,
   "metadata": {},
   "outputs": [],
   "source": [
    "Y_16 = data.gen"
   ]
  },
  {
   "cell_type": "code",
   "execution_count": 68,
   "metadata": {},
   "outputs": [],
   "source": [
    "Y_90_00 = Y_90_00.reset_index().drop('index',axis=1)"
   ]
  },
  {
   "cell_type": "code",
   "execution_count": 69,
   "metadata": {},
   "outputs": [],
   "source": [
    "Y_16 = Y_16.reset_index().drop('index',axis=1)"
   ]
  },
  {
   "cell_type": "code",
   "execution_count": 70,
   "metadata": {},
   "outputs": [
    {
     "data": {
      "text/plain": [
       "3681"
      ]
     },
     "execution_count": 70,
     "metadata": {},
     "output_type": "execute_result"
    }
   ],
   "source": [
    "len(Y_16)"
   ]
  },
  {
   "cell_type": "code",
   "execution_count": 71,
   "metadata": {},
   "outputs": [
    {
     "data": {
      "text/plain": [
       "3681"
      ]
     },
     "execution_count": 71,
     "metadata": {},
     "output_type": "execute_result"
    }
   ],
   "source": [
    "len(Y_90_00)"
   ]
  },
  {
   "cell_type": "code",
   "execution_count": 72,
   "metadata": {},
   "outputs": [
    {
     "data": {
      "text/plain": [
       "LogisticRegression(C=10000, class_weight=None, dual=False, fit_intercept=True,\n",
       "          intercept_scaling=1, max_iter=100, multi_class='ovr', n_jobs=1,\n",
       "          penalty='l2', random_state=None, solver='liblinear', tol=0.0001,\n",
       "          verbose=0, warm_start=False)"
      ]
     },
     "execution_count": 72,
     "metadata": {},
     "output_type": "execute_result"
    }
   ],
   "source": [
    "logit_90.fit(X_90, Y_16.values.ravel())\n",
    "logit1_90.fit(X_90, Y_16.values.ravel())"
   ]
  },
  {
   "cell_type": "code",
   "execution_count": 73,
   "metadata": {},
   "outputs": [
    {
     "data": {
      "text/plain": [
       "LogisticRegression(C=10000, class_weight=None, dual=False, fit_intercept=True,\n",
       "          intercept_scaling=1, max_iter=100, multi_class='ovr', n_jobs=1,\n",
       "          penalty='l2', random_state=None, solver='liblinear', tol=0.0001,\n",
       "          verbose=0, warm_start=False)"
      ]
     },
     "execution_count": 73,
     "metadata": {},
     "output_type": "execute_result"
    }
   ],
   "source": [
    "logit_00.fit(X_00, Y_90_00.values.ravel())\n",
    "logit1_00.fit(X_00, Y_90_00.values.ravel())"
   ]
  },
  {
   "cell_type": "code",
   "execution_count": 74,
   "metadata": {},
   "outputs": [
    {
     "data": {
      "text/plain": [
       "LogisticRegression(C=10000, class_weight=None, dual=False, fit_intercept=True,\n",
       "          intercept_scaling=1, max_iter=100, multi_class='ovr', n_jobs=1,\n",
       "          penalty='l2', random_state=None, solver='liblinear', tol=0.0001,\n",
       "          verbose=0, warm_start=False)"
      ]
     },
     "execution_count": 74,
     "metadata": {},
     "output_type": "execute_result"
    }
   ],
   "source": [
    "logit_16.fit(X_16, Y_16.values.ravel())\n",
    "logit1_16.fit(X_16, Y_16.values.ravel())"
   ]
  },
  {
   "cell_type": "code",
   "execution_count": 75,
   "metadata": {},
   "outputs": [],
   "source": [
    "summary_90 = summary(X_90,logit_90,logit1_90)\n",
    "summary_00 = summary(X_00,logit_00,logit1_00)\n",
    "summary_16 = summary(X_16,logit_16,logit1_16)"
   ]
  },
  {
   "cell_type": "code",
   "execution_count": 76,
   "metadata": {},
   "outputs": [
    {
     "data": {
      "text/html": [
       "<div>\n",
       "<style scoped>\n",
       "    .dataframe tbody tr th:only-of-type {\n",
       "        vertical-align: middle;\n",
       "    }\n",
       "\n",
       "    .dataframe tbody tr th {\n",
       "        vertical-align: top;\n",
       "    }\n",
       "\n",
       "    .dataframe thead th {\n",
       "        text-align: right;\n",
       "    }\n",
       "</style>\n",
       "<table border=\"1\" class=\"dataframe\">\n",
       "  <thead>\n",
       "    <tr style=\"text-align: right;\">\n",
       "      <th></th>\n",
       "      <th>Coefficient</th>\n",
       "      <th>p-value</th>\n",
       "      <th>&lt;.10</th>\n",
       "      <th>&lt;.05</th>\n",
       "      <th>&lt;.01</th>\n",
       "    </tr>\n",
       "  </thead>\n",
       "  <tbody>\n",
       "    <tr>\n",
       "      <th>Intercept</th>\n",
       "      <td>2.8900</td>\n",
       "      <td></td>\n",
       "      <td></td>\n",
       "      <td></td>\n",
       "      <td></td>\n",
       "    </tr>\n",
       "    <tr>\n",
       "      <th>hinc_90_norm</th>\n",
       "      <td>-8.1600</td>\n",
       "      <td>8.74e-06</td>\n",
       "      <td>*</td>\n",
       "      <td>*</td>\n",
       "      <td>*</td>\n",
       "    </tr>\n",
       "    <tr>\n",
       "      <th>per_rent_90</th>\n",
       "      <td>-1.7000</td>\n",
       "      <td>0.0198</td>\n",
       "      <td>*</td>\n",
       "      <td>*</td>\n",
       "      <td></td>\n",
       "    </tr>\n",
       "    <tr>\n",
       "      <th>per_black_90</th>\n",
       "      <td>-2.1900</td>\n",
       "      <td>0.00409</td>\n",
       "      <td>*</td>\n",
       "      <td>*</td>\n",
       "      <td>*</td>\n",
       "    </tr>\n",
       "    <tr>\n",
       "      <th>per_asian_90</th>\n",
       "      <td>-4.4000</td>\n",
       "      <td>0.00168</td>\n",
       "      <td>*</td>\n",
       "      <td>*</td>\n",
       "      <td>*</td>\n",
       "    </tr>\n",
       "    <tr>\n",
       "      <th>per_latino_90</th>\n",
       "      <td>-2.1700</td>\n",
       "      <td>0.0109</td>\n",
       "      <td>*</td>\n",
       "      <td>*</td>\n",
       "      <td></td>\n",
       "    </tr>\n",
       "    <tr>\n",
       "      <th>per_hhwchild_90</th>\n",
       "      <td>-3.0600</td>\n",
       "      <td>2.82e-13</td>\n",
       "      <td>*</td>\n",
       "      <td>*</td>\n",
       "      <td>*</td>\n",
       "    </tr>\n",
       "    <tr>\n",
       "      <th>per_commute_low_90</th>\n",
       "      <td>-0.1130</td>\n",
       "      <td>0.936</td>\n",
       "      <td></td>\n",
       "      <td></td>\n",
       "      <td></td>\n",
       "    </tr>\n",
       "    <tr>\n",
       "      <th>per_commute_med_90</th>\n",
       "      <td>2.0100</td>\n",
       "      <td>0.139</td>\n",
       "      <td></td>\n",
       "      <td></td>\n",
       "      <td></td>\n",
       "    </tr>\n",
       "    <tr>\n",
       "      <th>per_commute_high_90</th>\n",
       "      <td>0.9960</td>\n",
       "      <td>0.511</td>\n",
       "      <td></td>\n",
       "      <td></td>\n",
       "      <td></td>\n",
       "    </tr>\n",
       "    <tr>\n",
       "      <th>per_built_80_90</th>\n",
       "      <td>-0.3100</td>\n",
       "      <td>0.875</td>\n",
       "      <td></td>\n",
       "      <td></td>\n",
       "      <td></td>\n",
       "    </tr>\n",
       "    <tr>\n",
       "      <th>TOD_pre_00</th>\n",
       "      <td>-0.0946</td>\n",
       "      <td>0.689</td>\n",
       "      <td></td>\n",
       "      <td></td>\n",
       "      <td></td>\n",
       "    </tr>\n",
       "    <tr>\n",
       "      <th>per_units_pre50</th>\n",
       "      <td>1.4500</td>\n",
       "      <td>0.000455</td>\n",
       "      <td>*</td>\n",
       "      <td>*</td>\n",
       "      <td>*</td>\n",
       "    </tr>\n",
       "    <tr>\n",
       "      <th>per_units_post80</th>\n",
       "      <td>0.8630</td>\n",
       "      <td>0.803</td>\n",
       "      <td></td>\n",
       "      <td></td>\n",
       "      <td></td>\n",
       "    </tr>\n",
       "    <tr>\n",
       "      <th>per_car_commute_90</th>\n",
       "      <td>-2.5000</td>\n",
       "      <td>0.00244</td>\n",
       "      <td>*</td>\n",
       "      <td>*</td>\n",
       "      <td>*</td>\n",
       "    </tr>\n",
       "    <tr>\n",
       "      <th>downtown</th>\n",
       "      <td>1.0300</td>\n",
       "      <td>0.000133</td>\n",
       "      <td>*</td>\n",
       "      <td>*</td>\n",
       "      <td>*</td>\n",
       "    </tr>\n",
       "    <tr>\n",
       "      <th>empd02_norm</th>\n",
       "      <td>1.3400</td>\n",
       "      <td>0.325</td>\n",
       "      <td></td>\n",
       "      <td></td>\n",
       "      <td></td>\n",
       "    </tr>\n",
       "  </tbody>\n",
       "</table>\n",
       "</div>"
      ],
      "text/plain": [
       "                     Coefficient   p-value <.10 <.05 <.01\n",
       "Intercept                 2.8900                         \n",
       "hinc_90_norm             -8.1600  8.74e-06    *    *    *\n",
       "per_rent_90              -1.7000    0.0198    *    *     \n",
       "per_black_90             -2.1900   0.00409    *    *    *\n",
       "per_asian_90             -4.4000   0.00168    *    *    *\n",
       "per_latino_90            -2.1700    0.0109    *    *     \n",
       "per_hhwchild_90          -3.0600  2.82e-13    *    *    *\n",
       "per_commute_low_90       -0.1130     0.936               \n",
       "per_commute_med_90        2.0100     0.139               \n",
       "per_commute_high_90       0.9960     0.511               \n",
       "per_built_80_90          -0.3100     0.875               \n",
       "TOD_pre_00               -0.0946     0.689               \n",
       "per_units_pre50           1.4500  0.000455    *    *    *\n",
       "per_units_post80          0.8630     0.803               \n",
       "per_car_commute_90       -2.5000   0.00244    *    *    *\n",
       "downtown                  1.0300  0.000133    *    *    *\n",
       "empd02_norm               1.3400     0.325               "
      ]
     },
     "execution_count": 76,
     "metadata": {},
     "output_type": "execute_result"
    }
   ],
   "source": [
    "summary_90"
   ]
  },
  {
   "cell_type": "code",
   "execution_count": 77,
   "metadata": {},
   "outputs": [
    {
     "data": {
      "text/html": [
       "<div>\n",
       "<style scoped>\n",
       "    .dataframe tbody tr th:only-of-type {\n",
       "        vertical-align: middle;\n",
       "    }\n",
       "\n",
       "    .dataframe tbody tr th {\n",
       "        vertical-align: top;\n",
       "    }\n",
       "\n",
       "    .dataframe thead th {\n",
       "        text-align: right;\n",
       "    }\n",
       "</style>\n",
       "<table border=\"1\" class=\"dataframe\">\n",
       "  <thead>\n",
       "    <tr style=\"text-align: right;\">\n",
       "      <th></th>\n",
       "      <th>Coefficient</th>\n",
       "      <th>p-value</th>\n",
       "      <th>&lt;.10</th>\n",
       "      <th>&lt;.05</th>\n",
       "      <th>&lt;.01</th>\n",
       "    </tr>\n",
       "  </thead>\n",
       "  <tbody>\n",
       "    <tr>\n",
       "      <th>Intercept</th>\n",
       "      <td>-1.8000</td>\n",
       "      <td></td>\n",
       "      <td></td>\n",
       "      <td></td>\n",
       "      <td></td>\n",
       "    </tr>\n",
       "    <tr>\n",
       "      <th>hinc_00_norm</th>\n",
       "      <td>0.6960</td>\n",
       "      <td>0.639</td>\n",
       "      <td></td>\n",
       "      <td></td>\n",
       "      <td></td>\n",
       "    </tr>\n",
       "    <tr>\n",
       "      <th>per_rent_00</th>\n",
       "      <td>0.8940</td>\n",
       "      <td>0.216</td>\n",
       "      <td></td>\n",
       "      <td></td>\n",
       "      <td></td>\n",
       "    </tr>\n",
       "    <tr>\n",
       "      <th>per_black_00</th>\n",
       "      <td>0.5950</td>\n",
       "      <td>0.153</td>\n",
       "      <td></td>\n",
       "      <td></td>\n",
       "      <td></td>\n",
       "    </tr>\n",
       "    <tr>\n",
       "      <th>per_asian_00</th>\n",
       "      <td>0.3870</td>\n",
       "      <td>0.655</td>\n",
       "      <td></td>\n",
       "      <td></td>\n",
       "      <td></td>\n",
       "    </tr>\n",
       "    <tr>\n",
       "      <th>per_latino_00</th>\n",
       "      <td>1.6200</td>\n",
       "      <td>0.00748</td>\n",
       "      <td>*</td>\n",
       "      <td>*</td>\n",
       "      <td>*</td>\n",
       "    </tr>\n",
       "    <tr>\n",
       "      <th>per_hhwchild_00</th>\n",
       "      <td>-6.6100</td>\n",
       "      <td>5.99e-08</td>\n",
       "      <td>*</td>\n",
       "      <td>*</td>\n",
       "      <td>*</td>\n",
       "    </tr>\n",
       "    <tr>\n",
       "      <th>per_commute_low_00</th>\n",
       "      <td>-2.3700</td>\n",
       "      <td>0.0683</td>\n",
       "      <td>*</td>\n",
       "      <td></td>\n",
       "      <td></td>\n",
       "    </tr>\n",
       "    <tr>\n",
       "      <th>per_commute_med_00</th>\n",
       "      <td>0.1540</td>\n",
       "      <td>0.9</td>\n",
       "      <td></td>\n",
       "      <td></td>\n",
       "      <td></td>\n",
       "    </tr>\n",
       "    <tr>\n",
       "      <th>per_commute_high_00</th>\n",
       "      <td>0.4130</td>\n",
       "      <td>0.747</td>\n",
       "      <td></td>\n",
       "      <td></td>\n",
       "      <td></td>\n",
       "    </tr>\n",
       "    <tr>\n",
       "      <th>per_built_90_00</th>\n",
       "      <td>4.5400</td>\n",
       "      <td>0.00679</td>\n",
       "      <td>*</td>\n",
       "      <td>*</td>\n",
       "      <td>*</td>\n",
       "    </tr>\n",
       "    <tr>\n",
       "      <th>TOD_pre_00</th>\n",
       "      <td>0.0122</td>\n",
       "      <td>0.958</td>\n",
       "      <td></td>\n",
       "      <td></td>\n",
       "      <td></td>\n",
       "    </tr>\n",
       "    <tr>\n",
       "      <th>per_units_pre50_16</th>\n",
       "      <td>-1.0700</td>\n",
       "      <td>0.121</td>\n",
       "      <td></td>\n",
       "      <td></td>\n",
       "      <td></td>\n",
       "    </tr>\n",
       "    <tr>\n",
       "      <th>per_burden_00</th>\n",
       "      <td>-1.2300</td>\n",
       "      <td>0.263</td>\n",
       "      <td></td>\n",
       "      <td></td>\n",
       "      <td></td>\n",
       "    </tr>\n",
       "    <tr>\n",
       "      <th>downtown</th>\n",
       "      <td>0.8460</td>\n",
       "      <td>0.00171</td>\n",
       "      <td>*</td>\n",
       "      <td>*</td>\n",
       "      <td>*</td>\n",
       "    </tr>\n",
       "    <tr>\n",
       "      <th>empd02_norm</th>\n",
       "      <td>0.8640</td>\n",
       "      <td>0.54</td>\n",
       "      <td></td>\n",
       "      <td></td>\n",
       "      <td></td>\n",
       "    </tr>\n",
       "    <tr>\n",
       "      <th>per_units_pre50_00</th>\n",
       "      <td>2.6300</td>\n",
       "      <td>0.000344</td>\n",
       "      <td>*</td>\n",
       "      <td>*</td>\n",
       "      <td>*</td>\n",
       "    </tr>\n",
       "    <tr>\n",
       "      <th>per_car_commute_00</th>\n",
       "      <td>-1.8200</td>\n",
       "      <td>0.0259</td>\n",
       "      <td>*</td>\n",
       "      <td>*</td>\n",
       "      <td></td>\n",
       "    </tr>\n",
       "  </tbody>\n",
       "</table>\n",
       "</div>"
      ],
      "text/plain": [
       "                     Coefficient   p-value <.10 <.05 <.01\n",
       "Intercept                -1.8000                         \n",
       "hinc_00_norm              0.6960     0.639               \n",
       "per_rent_00               0.8940     0.216               \n",
       "per_black_00              0.5950     0.153               \n",
       "per_asian_00              0.3870     0.655               \n",
       "per_latino_00             1.6200   0.00748    *    *    *\n",
       "per_hhwchild_00          -6.6100  5.99e-08    *    *    *\n",
       "per_commute_low_00       -2.3700    0.0683    *          \n",
       "per_commute_med_00        0.1540       0.9               \n",
       "per_commute_high_00       0.4130     0.747               \n",
       "per_built_90_00           4.5400   0.00679    *    *    *\n",
       "TOD_pre_00                0.0122     0.958               \n",
       "per_units_pre50_16       -1.0700     0.121               \n",
       "per_burden_00            -1.2300     0.263               \n",
       "downtown                  0.8460   0.00171    *    *    *\n",
       "empd02_norm               0.8640      0.54               \n",
       "per_units_pre50_00        2.6300  0.000344    *    *    *\n",
       "per_car_commute_00       -1.8200    0.0259    *    *     "
      ]
     },
     "execution_count": 77,
     "metadata": {},
     "output_type": "execute_result"
    }
   ],
   "source": [
    "summary_00"
   ]
  },
  {
   "cell_type": "code",
   "execution_count": 78,
   "metadata": {},
   "outputs": [
    {
     "data": {
      "text/html": [
       "<div>\n",
       "<style scoped>\n",
       "    .dataframe tbody tr th:only-of-type {\n",
       "        vertical-align: middle;\n",
       "    }\n",
       "\n",
       "    .dataframe tbody tr th {\n",
       "        vertical-align: top;\n",
       "    }\n",
       "\n",
       "    .dataframe thead th {\n",
       "        text-align: right;\n",
       "    }\n",
       "</style>\n",
       "<table border=\"1\" class=\"dataframe\">\n",
       "  <thead>\n",
       "    <tr style=\"text-align: right;\">\n",
       "      <th></th>\n",
       "      <th>Coefficient</th>\n",
       "      <th>p-value</th>\n",
       "      <th>&lt;.10</th>\n",
       "      <th>&lt;.05</th>\n",
       "      <th>&lt;.01</th>\n",
       "    </tr>\n",
       "  </thead>\n",
       "  <tbody>\n",
       "    <tr>\n",
       "      <th>Intercept</th>\n",
       "      <td>-3.4500</td>\n",
       "      <td></td>\n",
       "      <td></td>\n",
       "      <td></td>\n",
       "      <td></td>\n",
       "    </tr>\n",
       "    <tr>\n",
       "      <th>hinc_16_norm</th>\n",
       "      <td>4.0900</td>\n",
       "      <td>0.000165</td>\n",
       "      <td>*</td>\n",
       "      <td>*</td>\n",
       "      <td>*</td>\n",
       "    </tr>\n",
       "    <tr>\n",
       "      <th>per_rent_16</th>\n",
       "      <td>2.3000</td>\n",
       "      <td>0.000104</td>\n",
       "      <td>*</td>\n",
       "      <td>*</td>\n",
       "      <td>*</td>\n",
       "    </tr>\n",
       "    <tr>\n",
       "      <th>per_asian_16</th>\n",
       "      <td>1.2900</td>\n",
       "      <td>0.0651</td>\n",
       "      <td>*</td>\n",
       "      <td></td>\n",
       "      <td></td>\n",
       "    </tr>\n",
       "    <tr>\n",
       "      <th>per_black_16</th>\n",
       "      <td>0.6470</td>\n",
       "      <td>0.165</td>\n",
       "      <td></td>\n",
       "      <td></td>\n",
       "      <td></td>\n",
       "    </tr>\n",
       "    <tr>\n",
       "      <th>per_hhwchild_16</th>\n",
       "      <td>-2.9000</td>\n",
       "      <td>9.64e-08</td>\n",
       "      <td>*</td>\n",
       "      <td>*</td>\n",
       "      <td>*</td>\n",
       "    </tr>\n",
       "    <tr>\n",
       "      <th>per_commute_low_16</th>\n",
       "      <td>-4.4100</td>\n",
       "      <td>1.96e-06</td>\n",
       "      <td>*</td>\n",
       "      <td>*</td>\n",
       "      <td>*</td>\n",
       "    </tr>\n",
       "    <tr>\n",
       "      <th>per_commute_med_16</th>\n",
       "      <td>-0.2300</td>\n",
       "      <td>0.814</td>\n",
       "      <td></td>\n",
       "      <td></td>\n",
       "      <td></td>\n",
       "    </tr>\n",
       "    <tr>\n",
       "      <th>per_commute_high_16</th>\n",
       "      <td>1.1900</td>\n",
       "      <td>0.259</td>\n",
       "      <td></td>\n",
       "      <td></td>\n",
       "      <td></td>\n",
       "    </tr>\n",
       "    <tr>\n",
       "      <th>per_built_00_16</th>\n",
       "      <td>4.3800</td>\n",
       "      <td>3.84e-08</td>\n",
       "      <td>*</td>\n",
       "      <td>*</td>\n",
       "      <td>*</td>\n",
       "    </tr>\n",
       "    <tr>\n",
       "      <th>TOD</th>\n",
       "      <td>0.0186</td>\n",
       "      <td>0.937</td>\n",
       "      <td></td>\n",
       "      <td></td>\n",
       "      <td></td>\n",
       "    </tr>\n",
       "    <tr>\n",
       "      <th>per_units_pre50_16</th>\n",
       "      <td>1.9900</td>\n",
       "      <td>2.92e-05</td>\n",
       "      <td>*</td>\n",
       "      <td>*</td>\n",
       "      <td>*</td>\n",
       "    </tr>\n",
       "    <tr>\n",
       "      <th>per_latino_16</th>\n",
       "      <td>1.0600</td>\n",
       "      <td>0.084</td>\n",
       "      <td>*</td>\n",
       "      <td></td>\n",
       "      <td></td>\n",
       "    </tr>\n",
       "    <tr>\n",
       "      <th>per_burden_16</th>\n",
       "      <td>-2.0800</td>\n",
       "      <td>0.014</td>\n",
       "      <td>*</td>\n",
       "      <td>*</td>\n",
       "      <td></td>\n",
       "    </tr>\n",
       "    <tr>\n",
       "      <th>empd15_norm</th>\n",
       "      <td>-0.1540</td>\n",
       "      <td>0.879</td>\n",
       "      <td></td>\n",
       "      <td></td>\n",
       "      <td></td>\n",
       "    </tr>\n",
       "  </tbody>\n",
       "</table>\n",
       "</div>"
      ],
      "text/plain": [
       "                     Coefficient   p-value <.10 <.05 <.01\n",
       "Intercept                -3.4500                         \n",
       "hinc_16_norm              4.0900  0.000165    *    *    *\n",
       "per_rent_16               2.3000  0.000104    *    *    *\n",
       "per_asian_16              1.2900    0.0651    *          \n",
       "per_black_16              0.6470     0.165               \n",
       "per_hhwchild_16          -2.9000  9.64e-08    *    *    *\n",
       "per_commute_low_16       -4.4100  1.96e-06    *    *    *\n",
       "per_commute_med_16       -0.2300     0.814               \n",
       "per_commute_high_16       1.1900     0.259               \n",
       "per_built_00_16           4.3800  3.84e-08    *    *    *\n",
       "TOD                       0.0186     0.937               \n",
       "per_units_pre50_16        1.9900  2.92e-05    *    *    *\n",
       "per_latino_16             1.0600     0.084    *          \n",
       "per_burden_16            -2.0800     0.014    *    *     \n",
       "empd15_norm              -0.1540     0.879               "
      ]
     },
     "execution_count": 78,
     "metadata": {},
     "output_type": "execute_result"
    }
   ],
   "source": [
    "summary_16"
   ]
  },
  {
   "cell_type": "code",
   "execution_count": null,
   "metadata": {},
   "outputs": [],
   "source": [
    "pred_val_90 = logit1_90.predict(X_90)\n",
    "pred_val_00 = logit1_00.predict(X_00)\n",
    "pred_val_16 = logit1_16.predict(X_16)"
   ]
  },
  {
   "cell_type": "code",
   "execution_count": null,
   "metadata": {},
   "outputs": [],
   "source": [
    "print(accuracy_score(Y_90_00, pred_val_90),\n",
    "accuracy_score(Y_90_00, pred_val_00),\n",
    "accuracy_score(Y_16, pred_val_16))"
   ]
  },
  {
   "cell_type": "code",
   "execution_count": null,
   "metadata": {},
   "outputs": [],
   "source": []
  }
 ],
 "metadata": {
  "kernelspec": {
   "display_name": "Python 3",
   "language": "python",
   "name": "python3"
  },
  "language_info": {
   "codemirror_mode": {
    "name": "ipython",
    "version": 3
   },
   "file_extension": ".py",
   "mimetype": "text/x-python",
   "name": "python",
   "nbconvert_exporter": "python",
   "pygments_lexer": "ipython3",
   "version": "3.6.5"
  }
 },
 "nbformat": 4,
 "nbformat_minor": 2
}
